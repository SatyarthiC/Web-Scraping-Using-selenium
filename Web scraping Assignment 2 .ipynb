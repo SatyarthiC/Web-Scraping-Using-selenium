{
 "cells": [
  {
   "cell_type": "markdown",
   "metadata": {},
   "source": [
    "# Q1"
   ]
  },
  {
   "cell_type": "code",
   "execution_count": 66,
   "metadata": {},
   "outputs": [],
   "source": [
    "import selenium\n",
    "import pandas as ps\n",
    "from selenium import webdriver"
   ]
  },
  {
   "cell_type": "code",
   "execution_count": 3,
   "metadata": {},
   "outputs": [],
   "source": [
    " driver = webdriver.Chrome(\"C:/Users/CHITRAK/Downloads/chromedriver.exe\")"
   ]
  },
  {
   "cell_type": "code",
   "execution_count": 39,
   "metadata": {},
   "outputs": [],
   "source": [
    "driver.get('https://www.naukri.com/')"
   ]
  },
  {
   "cell_type": "code",
   "execution_count": 40,
   "metadata": {},
   "outputs": [],
   "source": [
    "search_job = driver.find_element_by_id('qsb-keyword-sugg')\n",
    "search_job.send_keys(\"Data Analyst\")\n",
    "search_loc= driver.find_element_by_xpath(\"//input[@id='qsb-location-sugg']\")\n",
    "search_loc.send_keys(\"Bangalore\")"
   ]
  },
  {
   "cell_type": "code",
   "execution_count": 41,
   "metadata": {},
   "outputs": [],
   "source": [
    "search_btn = driver.find_element_by_xpath(\"//div[@class='search-btn']/button\")\n",
    "search_btn.click()"
   ]
  },
  {
   "cell_type": "code",
   "execution_count": 42,
   "metadata": {},
   "outputs": [],
   "source": [
    "url=\"https://www.naukri.com/data-analyst-jobs-in-bangalore?k=data%20analyst&l=bangalore\""
   ]
  },
  {
   "cell_type": "code",
   "execution_count": 43,
   "metadata": {},
   "outputs": [],
   "source": [
    "driver.get(url)"
   ]
  },
  {
   "cell_type": "code",
   "execution_count": 44,
   "metadata": {},
   "outputs": [],
   "source": [
    "job_titles=[]\n",
    "job_loc=[]\n",
    "company_name=[]\n",
    "experience_required=[]"
   ]
  },
  {
   "cell_type": "code",
   "execution_count": 45,
   "metadata": {},
   "outputs": [
    {
     "data": {
      "text/plain": [
       "[<selenium.webdriver.remote.webelement.WebElement (session=\"1849dbdfb0c7e04f6b30bc279388c639\", element=\"63130f21-f311-491d-8f74-11c7a026b1a5\")>,\n",
       " <selenium.webdriver.remote.webelement.WebElement (session=\"1849dbdfb0c7e04f6b30bc279388c639\", element=\"83e7dce4-1d8a-4c8a-82a2-38d6736886b7\")>,\n",
       " <selenium.webdriver.remote.webelement.WebElement (session=\"1849dbdfb0c7e04f6b30bc279388c639\", element=\"8ec6c1e6-c9e6-4989-8826-454577ad2c43\")>,\n",
       " <selenium.webdriver.remote.webelement.WebElement (session=\"1849dbdfb0c7e04f6b30bc279388c639\", element=\"cfa5b3d7-5e79-4e23-8469-76e93582012e\")>,\n",
       " <selenium.webdriver.remote.webelement.WebElement (session=\"1849dbdfb0c7e04f6b30bc279388c639\", element=\"b115ccf0-eef0-4c2a-8134-e1fc7532d3d7\")>,\n",
       " <selenium.webdriver.remote.webelement.WebElement (session=\"1849dbdfb0c7e04f6b30bc279388c639\", element=\"bfd8ee53-fcc5-4df8-875c-ab46049697b9\")>,\n",
       " <selenium.webdriver.remote.webelement.WebElement (session=\"1849dbdfb0c7e04f6b30bc279388c639\", element=\"d6d7a51c-eaa0-4bdb-b451-19f1d72f5492\")>,\n",
       " <selenium.webdriver.remote.webelement.WebElement (session=\"1849dbdfb0c7e04f6b30bc279388c639\", element=\"eb367b3d-812b-4e79-8871-23f0f828dcf7\")>,\n",
       " <selenium.webdriver.remote.webelement.WebElement (session=\"1849dbdfb0c7e04f6b30bc279388c639\", element=\"f727bd05-dc8d-41f7-a3d5-1386162aac78\")>,\n",
       " <selenium.webdriver.remote.webelement.WebElement (session=\"1849dbdfb0c7e04f6b30bc279388c639\", element=\"00691c62-043a-4133-92c4-1bebd32de22e\")>]"
      ]
     },
     "execution_count": 45,
     "metadata": {},
     "output_type": "execute_result"
    }
   ],
   "source": [
    "titles_tag = driver.find_elements_by_xpath(\"//a[@class='title fw500 ellipsis']\")\n",
    "titles_tag[0:10]"
   ]
  },
  {
   "cell_type": "code",
   "execution_count": 46,
   "metadata": {},
   "outputs": [
    {
     "data": {
      "text/plain": [
       "['MIS/ Data Analyst-(SQL,Automation,Excel/PowerBI,Dashboards) - Contract',\n",
       " 'Data Analyst - SAP',\n",
       " 'Hiring Data Analysts on Contract',\n",
       " 'Senior Data Analyst',\n",
       " 'Security Data Analyst',\n",
       " 'Data Analyst -Azure Data lake, Azure Data factory',\n",
       " 'Business / Data Analyst',\n",
       " 'Data Analyst - O2C - Bangalore',\n",
       " 'Intern Data Analyst',\n",
       " 'NiFi Data Analyst']"
      ]
     },
     "execution_count": 46,
     "metadata": {},
     "output_type": "execute_result"
    }
   ],
   "source": [
    "for i in titles_tag:\n",
    "    title=i.text\n",
    "    job_titles.append(title)\n",
    "job_titles[0:10]\n"
   ]
  },
  {
   "cell_type": "code",
   "execution_count": 47,
   "metadata": {},
   "outputs": [
    {
     "data": {
      "text/plain": [
       "[<selenium.webdriver.remote.webelement.WebElement (session=\"1849dbdfb0c7e04f6b30bc279388c639\", element=\"9008c3c3-a576-4e6c-9654-89e2eabea333\")>,\n",
       " <selenium.webdriver.remote.webelement.WebElement (session=\"1849dbdfb0c7e04f6b30bc279388c639\", element=\"6001f65d-baf5-4f4b-92f6-f6c01d5b5de1\")>,\n",
       " <selenium.webdriver.remote.webelement.WebElement (session=\"1849dbdfb0c7e04f6b30bc279388c639\", element=\"ceb89556-a6f4-435a-aea3-9ab30a52ed49\")>,\n",
       " <selenium.webdriver.remote.webelement.WebElement (session=\"1849dbdfb0c7e04f6b30bc279388c639\", element=\"02130991-0410-4fe4-a7f7-31a16db10a8e\")>,\n",
       " <selenium.webdriver.remote.webelement.WebElement (session=\"1849dbdfb0c7e04f6b30bc279388c639\", element=\"ec82e197-bbf4-4b50-9761-4bc2742c0e00\")>,\n",
       " <selenium.webdriver.remote.webelement.WebElement (session=\"1849dbdfb0c7e04f6b30bc279388c639\", element=\"6dfc7444-8778-4a3f-ad6d-b1fada720475\")>,\n",
       " <selenium.webdriver.remote.webelement.WebElement (session=\"1849dbdfb0c7e04f6b30bc279388c639\", element=\"88935aa6-d921-4a3c-8321-63059a25dc66\")>,\n",
       " <selenium.webdriver.remote.webelement.WebElement (session=\"1849dbdfb0c7e04f6b30bc279388c639\", element=\"f0ed1ad1-36e0-4167-a93c-2cf4d085becf\")>,\n",
       " <selenium.webdriver.remote.webelement.WebElement (session=\"1849dbdfb0c7e04f6b30bc279388c639\", element=\"ac4a608e-2dd7-47fa-b647-93f8c05c0329\")>,\n",
       " <selenium.webdriver.remote.webelement.WebElement (session=\"1849dbdfb0c7e04f6b30bc279388c639\", element=\"0fdf9261-b993-4562-b813-ee015e1defd5\")>]"
      ]
     },
     "execution_count": 47,
     "metadata": {},
     "output_type": "execute_result"
    }
   ],
   "source": [
    "l = driver.find_elements_by_xpath(\"//li[@class='fleft grey-text br2 placeHolderLi location']\")\n",
    "l[0:10]"
   ]
  },
  {
   "cell_type": "code",
   "execution_count": 48,
   "metadata": {},
   "outputs": [
    {
     "data": {
      "text/plain": [
       "['Bengaluru',\n",
       " 'Pune, Delhi, Bengaluru, Gurgaon',\n",
       " 'Bengaluru',\n",
       " 'Bengaluru / Bangalore',\n",
       " 'Bengaluru',\n",
       " 'Chennai, Pune, Bengaluru, Hyderabad',\n",
       " 'Bengaluru',\n",
       " 'Bengaluru',\n",
       " 'Bengaluru',\n",
       " 'Bengaluru']"
      ]
     },
     "execution_count": 48,
     "metadata": {},
     "output_type": "execute_result"
    }
   ],
   "source": [
    "for i in l:\n",
    "    title=i.text\n",
    "    job_loc.append(title)\n",
    "job_loc[0:10]"
   ]
  },
  {
   "cell_type": "code",
   "execution_count": 49,
   "metadata": {},
   "outputs": [
    {
     "data": {
      "text/plain": [
       "[<selenium.webdriver.remote.webelement.WebElement (session=\"1849dbdfb0c7e04f6b30bc279388c639\", element=\"1052d457-98e1-46c4-8fd2-676c2df166bd\")>,\n",
       " <selenium.webdriver.remote.webelement.WebElement (session=\"1849dbdfb0c7e04f6b30bc279388c639\", element=\"367ba548-e225-4549-aabf-979ec570bba4\")>,\n",
       " <selenium.webdriver.remote.webelement.WebElement (session=\"1849dbdfb0c7e04f6b30bc279388c639\", element=\"0ad0baf4-faf7-4cb1-85e7-9c87a5a964ca\")>,\n",
       " <selenium.webdriver.remote.webelement.WebElement (session=\"1849dbdfb0c7e04f6b30bc279388c639\", element=\"f1195b13-9ca4-407f-a819-e099368a9371\")>,\n",
       " <selenium.webdriver.remote.webelement.WebElement (session=\"1849dbdfb0c7e04f6b30bc279388c639\", element=\"6f4f5ba4-38ac-42ce-be78-b08bd5ab1195\")>,\n",
       " <selenium.webdriver.remote.webelement.WebElement (session=\"1849dbdfb0c7e04f6b30bc279388c639\", element=\"28bc037b-986b-4913-9ad8-20f104357387\")>,\n",
       " <selenium.webdriver.remote.webelement.WebElement (session=\"1849dbdfb0c7e04f6b30bc279388c639\", element=\"ee46e73d-3517-4e62-a4f8-e24ad8d85bd9\")>,\n",
       " <selenium.webdriver.remote.webelement.WebElement (session=\"1849dbdfb0c7e04f6b30bc279388c639\", element=\"5ea35ffd-2b82-43ff-b39f-b4e861ce2bdf\")>,\n",
       " <selenium.webdriver.remote.webelement.WebElement (session=\"1849dbdfb0c7e04f6b30bc279388c639\", element=\"60c44289-49fc-4304-84a8-cc542c60335e\")>,\n",
       " <selenium.webdriver.remote.webelement.WebElement (session=\"1849dbdfb0c7e04f6b30bc279388c639\", element=\"48801029-8b3a-4fdb-8e12-99f19db78439\")>]"
      ]
     },
     "execution_count": 49,
     "metadata": {},
     "output_type": "execute_result"
    }
   ],
   "source": [
    "c = driver.find_elements_by_xpath(\"//div[@class='mt-7 companyInfo subheading lh16']\")\n",
    "c[0:10]"
   ]
  },
  {
   "cell_type": "code",
   "execution_count": 50,
   "metadata": {},
   "outputs": [
    {
     "data": {
      "text/plain": [
       "['Flipkart Internet Private Limited\\n4.2\\n(2705 Reviews)',\n",
       " 'Boston Scientific Corporation',\n",
       " 'Flipkart Internet Private Limited\\n4.2\\n(2705 Reviews)',\n",
       " 'Schneider Electric\\n4.2\\n(1219 Reviews)',\n",
       " 'Philips India Limited\\n3.9\\n(493 Reviews)',\n",
       " 'Mindtree Limited\\n3.9\\n(1383 Reviews)',\n",
       " 'IBM India Pvt. Limited\\n4.1\\n(8802 Reviews)',\n",
       " 'RANDSTAD INDIA PVT LTD\\n4.0\\n(942 Reviews)',\n",
       " 'Outsource Big Data',\n",
       " 'Capgemini Technology Services India Limited\\n3.5\\n(10478 Reviews)']"
      ]
     },
     "execution_count": 50,
     "metadata": {},
     "output_type": "execute_result"
    }
   ],
   "source": [
    "for i in c:\n",
    "    title=i.text\n",
    "    company_name.append(title)\n",
    "company_name[0:10]\n"
   ]
  },
  {
   "cell_type": "code",
   "execution_count": 51,
   "metadata": {},
   "outputs": [
    {
     "data": {
      "text/plain": [
       "[<selenium.webdriver.remote.webelement.WebElement (session=\"1849dbdfb0c7e04f6b30bc279388c639\", element=\"70d3dd13-e6de-4585-8f92-86f59f4f8ef1\")>,\n",
       " <selenium.webdriver.remote.webelement.WebElement (session=\"1849dbdfb0c7e04f6b30bc279388c639\", element=\"a28279e8-dd7b-48e1-9403-bda3d5c09a73\")>,\n",
       " <selenium.webdriver.remote.webelement.WebElement (session=\"1849dbdfb0c7e04f6b30bc279388c639\", element=\"9fe5f31c-d8cf-4c7b-9ada-e5da6767ca4b\")>,\n",
       " <selenium.webdriver.remote.webelement.WebElement (session=\"1849dbdfb0c7e04f6b30bc279388c639\", element=\"ad810448-e952-4362-831c-ffea482f2308\")>,\n",
       " <selenium.webdriver.remote.webelement.WebElement (session=\"1849dbdfb0c7e04f6b30bc279388c639\", element=\"734f8aa9-f8b6-4a06-9b19-e3e49b7a4eb8\")>,\n",
       " <selenium.webdriver.remote.webelement.WebElement (session=\"1849dbdfb0c7e04f6b30bc279388c639\", element=\"53ece662-26a7-4b7c-b040-c5565c4b91f3\")>,\n",
       " <selenium.webdriver.remote.webelement.WebElement (session=\"1849dbdfb0c7e04f6b30bc279388c639\", element=\"42146827-6a56-4597-a055-ff3cfb108ffa\")>,\n",
       " <selenium.webdriver.remote.webelement.WebElement (session=\"1849dbdfb0c7e04f6b30bc279388c639\", element=\"93bc8dc4-b365-49f3-8659-459190580d7b\")>,\n",
       " <selenium.webdriver.remote.webelement.WebElement (session=\"1849dbdfb0c7e04f6b30bc279388c639\", element=\"4f252e66-4bde-4758-b4d9-05ff177d6ec0\")>,\n",
       " <selenium.webdriver.remote.webelement.WebElement (session=\"1849dbdfb0c7e04f6b30bc279388c639\", element=\"6e6403b3-81f4-4b81-9931-95b96be0523b\")>]"
      ]
     },
     "execution_count": 51,
     "metadata": {},
     "output_type": "execute_result"
    }
   ],
   "source": [
    "e = driver.find_elements_by_xpath(\"//li[@class='fleft grey-text br2 placeHolderLi experience']\")\n",
    "e[0:10]"
   ]
  },
  {
   "cell_type": "code",
   "execution_count": 52,
   "metadata": {},
   "outputs": [
    {
     "data": {
      "text/plain": [
       "['1-4 Yrs',\n",
       " '3-5 Yrs',\n",
       " '2-5 Yrs',\n",
       " '2-5 Yrs',\n",
       " '2-4 Yrs',\n",
       " '5-9 Yrs',\n",
       " '2-4 Yrs',\n",
       " '2-4 Yrs',\n",
       " '0-1 Yrs',\n",
       " '4-6 Yrs']"
      ]
     },
     "execution_count": 52,
     "metadata": {},
     "output_type": "execute_result"
    }
   ],
   "source": [
    "for i in e:\n",
    "    title=i.text\n",
    "    experience_required.append(title)\n",
    "experience_required[0:10]\n"
   ]
  },
  {
   "cell_type": "code",
   "execution_count": 54,
   "metadata": {},
   "outputs": [],
   "source": [
    "import pandas as pd\n",
    "table=pd.DataFrame({})\n",
    "\n",
    "table['JOB TITLE']=job_titles[:10]\n",
    "table['LOCATION']=job_loc[:10]\n",
    "table['COMPANY']=company_name[:10]\n",
    "table['EXPERIENCE']=experience_required[0:10]"
   ]
  },
  {
   "cell_type": "code",
   "execution_count": 55,
   "metadata": {},
   "outputs": [
    {
     "data": {
      "text/html": [
       "<div>\n",
       "<style scoped>\n",
       "    .dataframe tbody tr th:only-of-type {\n",
       "        vertical-align: middle;\n",
       "    }\n",
       "\n",
       "    .dataframe tbody tr th {\n",
       "        vertical-align: top;\n",
       "    }\n",
       "\n",
       "    .dataframe thead th {\n",
       "        text-align: right;\n",
       "    }\n",
       "</style>\n",
       "<table border=\"1\" class=\"dataframe\">\n",
       "  <thead>\n",
       "    <tr style=\"text-align: right;\">\n",
       "      <th></th>\n",
       "      <th>JOB TITLE</th>\n",
       "      <th>LOCATION</th>\n",
       "      <th>COMPANY</th>\n",
       "      <th>EXPERIENCE</th>\n",
       "    </tr>\n",
       "  </thead>\n",
       "  <tbody>\n",
       "    <tr>\n",
       "      <th>0</th>\n",
       "      <td>MIS/ Data Analyst-(SQL,Automation,Excel/PowerB...</td>\n",
       "      <td>Bengaluru</td>\n",
       "      <td>Flipkart Internet Private Limited\\n4.2\\n(2705 ...</td>\n",
       "      <td>1-4 Yrs</td>\n",
       "    </tr>\n",
       "    <tr>\n",
       "      <th>1</th>\n",
       "      <td>Data Analyst - SAP</td>\n",
       "      <td>Pune, Delhi, Bengaluru, Gurgaon</td>\n",
       "      <td>Boston Scientific Corporation</td>\n",
       "      <td>3-5 Yrs</td>\n",
       "    </tr>\n",
       "    <tr>\n",
       "      <th>2</th>\n",
       "      <td>Hiring Data Analysts on Contract</td>\n",
       "      <td>Bengaluru</td>\n",
       "      <td>Flipkart Internet Private Limited\\n4.2\\n(2705 ...</td>\n",
       "      <td>2-5 Yrs</td>\n",
       "    </tr>\n",
       "    <tr>\n",
       "      <th>3</th>\n",
       "      <td>Senior Data Analyst</td>\n",
       "      <td>Bengaluru / Bangalore</td>\n",
       "      <td>Schneider Electric\\n4.2\\n(1219 Reviews)</td>\n",
       "      <td>2-5 Yrs</td>\n",
       "    </tr>\n",
       "    <tr>\n",
       "      <th>4</th>\n",
       "      <td>Security Data Analyst</td>\n",
       "      <td>Bengaluru</td>\n",
       "      <td>Philips India Limited\\n3.9\\n(493 Reviews)</td>\n",
       "      <td>2-4 Yrs</td>\n",
       "    </tr>\n",
       "    <tr>\n",
       "      <th>5</th>\n",
       "      <td>Data Analyst -Azure Data lake, Azure Data factory</td>\n",
       "      <td>Chennai, Pune, Bengaluru, Hyderabad</td>\n",
       "      <td>Mindtree Limited\\n3.9\\n(1383 Reviews)</td>\n",
       "      <td>5-9 Yrs</td>\n",
       "    </tr>\n",
       "    <tr>\n",
       "      <th>6</th>\n",
       "      <td>Business / Data Analyst</td>\n",
       "      <td>Bengaluru</td>\n",
       "      <td>IBM India Pvt. Limited\\n4.1\\n(8802 Reviews)</td>\n",
       "      <td>2-4 Yrs</td>\n",
       "    </tr>\n",
       "    <tr>\n",
       "      <th>7</th>\n",
       "      <td>Data Analyst - O2C - Bangalore</td>\n",
       "      <td>Bengaluru</td>\n",
       "      <td>RANDSTAD INDIA PVT LTD\\n4.0\\n(942 Reviews)</td>\n",
       "      <td>2-4 Yrs</td>\n",
       "    </tr>\n",
       "    <tr>\n",
       "      <th>8</th>\n",
       "      <td>Intern Data Analyst</td>\n",
       "      <td>Bengaluru</td>\n",
       "      <td>Outsource Big Data</td>\n",
       "      <td>0-1 Yrs</td>\n",
       "    </tr>\n",
       "    <tr>\n",
       "      <th>9</th>\n",
       "      <td>NiFi Data Analyst</td>\n",
       "      <td>Bengaluru</td>\n",
       "      <td>Capgemini Technology Services India Limited\\n3...</td>\n",
       "      <td>4-6 Yrs</td>\n",
       "    </tr>\n",
       "  </tbody>\n",
       "</table>\n",
       "</div>"
      ],
      "text/plain": [
       "                                           JOB TITLE  \\\n",
       "0  MIS/ Data Analyst-(SQL,Automation,Excel/PowerB...   \n",
       "1                                 Data Analyst - SAP   \n",
       "2                   Hiring Data Analysts on Contract   \n",
       "3                                Senior Data Analyst   \n",
       "4                              Security Data Analyst   \n",
       "5  Data Analyst -Azure Data lake, Azure Data factory   \n",
       "6                            Business / Data Analyst   \n",
       "7                     Data Analyst - O2C - Bangalore   \n",
       "8                                Intern Data Analyst   \n",
       "9                                  NiFi Data Analyst   \n",
       "\n",
       "                              LOCATION  \\\n",
       "0                            Bengaluru   \n",
       "1      Pune, Delhi, Bengaluru, Gurgaon   \n",
       "2                            Bengaluru   \n",
       "3                Bengaluru / Bangalore   \n",
       "4                            Bengaluru   \n",
       "5  Chennai, Pune, Bengaluru, Hyderabad   \n",
       "6                            Bengaluru   \n",
       "7                            Bengaluru   \n",
       "8                            Bengaluru   \n",
       "9                            Bengaluru   \n",
       "\n",
       "                                             COMPANY EXPERIENCE  \n",
       "0  Flipkart Internet Private Limited\\n4.2\\n(2705 ...    1-4 Yrs  \n",
       "1                      Boston Scientific Corporation    3-5 Yrs  \n",
       "2  Flipkart Internet Private Limited\\n4.2\\n(2705 ...    2-5 Yrs  \n",
       "3            Schneider Electric\\n4.2\\n(1219 Reviews)    2-5 Yrs  \n",
       "4          Philips India Limited\\n3.9\\n(493 Reviews)    2-4 Yrs  \n",
       "5              Mindtree Limited\\n3.9\\n(1383 Reviews)    5-9 Yrs  \n",
       "6        IBM India Pvt. Limited\\n4.1\\n(8802 Reviews)    2-4 Yrs  \n",
       "7         RANDSTAD INDIA PVT LTD\\n4.0\\n(942 Reviews)    2-4 Yrs  \n",
       "8                                 Outsource Big Data    0-1 Yrs  \n",
       "9  Capgemini Technology Services India Limited\\n3...    4-6 Yrs  "
      ]
     },
     "execution_count": 55,
     "metadata": {},
     "output_type": "execute_result"
    }
   ],
   "source": [
    "table"
   ]
  },
  {
   "cell_type": "markdown",
   "metadata": {},
   "source": [
    "# Q2"
   ]
  },
  {
   "cell_type": "code",
   "execution_count": 288,
   "metadata": {},
   "outputs": [],
   "source": [
    " driver = webdriver.Chrome(\"C:/Users/CHITRAK/Downloads/chromedriver.exe\")"
   ]
  },
  {
   "cell_type": "code",
   "execution_count": 289,
   "metadata": {},
   "outputs": [],
   "source": [
    "driver.get('https://www.naukri.com/')"
   ]
  },
  {
   "cell_type": "code",
   "execution_count": 290,
   "metadata": {},
   "outputs": [],
   "source": [
    "search_job = driver.find_element_by_id('qsb-keyword-sugg')\n",
    "search_job.send_keys(\"Data Scientist\")\n",
    "search_loc= driver.find_element_by_xpath(\"//input[@id='qsb-location-sugg']\")\n",
    "search_loc.send_keys(\"Bangalore\")"
   ]
  },
  {
   "cell_type": "code",
   "execution_count": 291,
   "metadata": {},
   "outputs": [],
   "source": [
    "search_btn = driver.find_element_by_xpath(\"//div[@class='search-btn']/button\")\n",
    "search_btn.click()"
   ]
  },
  {
   "cell_type": "code",
   "execution_count": 292,
   "metadata": {},
   "outputs": [],
   "source": [
    "url=\"https://www.naukri.com/data-scientist-jobs-in-bangalore?k=data%20scientist&l=bangalore\""
   ]
  },
  {
   "cell_type": "code",
   "execution_count": 293,
   "metadata": {},
   "outputs": [],
   "source": [
    "driver.get(url)"
   ]
  },
  {
   "cell_type": "code",
   "execution_count": 294,
   "metadata": {},
   "outputs": [],
   "source": [
    "job_titles=[]\n",
    "job_loc=[]\n",
    "company_name=[]\n",
    "experience_required=[]"
   ]
  },
  {
   "cell_type": "code",
   "execution_count": 295,
   "metadata": {},
   "outputs": [
    {
     "data": {
      "text/plain": [
       "[<selenium.webdriver.remote.webelement.WebElement (session=\"f0bd4cdcf833211fcbe9f6a957b9fa9b\", element=\"342c6df7-2e10-4ebb-ad9b-552e69350177\")>,\n",
       " <selenium.webdriver.remote.webelement.WebElement (session=\"f0bd4cdcf833211fcbe9f6a957b9fa9b\", element=\"80459299-836f-4d23-85ff-17d2ea4b1a3e\")>,\n",
       " <selenium.webdriver.remote.webelement.WebElement (session=\"f0bd4cdcf833211fcbe9f6a957b9fa9b\", element=\"478a7298-924d-4dc8-928b-f1dcb1df6827\")>,\n",
       " <selenium.webdriver.remote.webelement.WebElement (session=\"f0bd4cdcf833211fcbe9f6a957b9fa9b\", element=\"802e0098-4e8a-49a7-bf1a-b161b029a69c\")>,\n",
       " <selenium.webdriver.remote.webelement.WebElement (session=\"f0bd4cdcf833211fcbe9f6a957b9fa9b\", element=\"9a5abd0f-5030-4492-86fd-67eb1369d0ed\")>,\n",
       " <selenium.webdriver.remote.webelement.WebElement (session=\"f0bd4cdcf833211fcbe9f6a957b9fa9b\", element=\"c294622d-7d42-4e0e-bf34-61ca0148ca31\")>,\n",
       " <selenium.webdriver.remote.webelement.WebElement (session=\"f0bd4cdcf833211fcbe9f6a957b9fa9b\", element=\"781a4211-6372-4cc8-8002-f0e7414ea860\")>,\n",
       " <selenium.webdriver.remote.webelement.WebElement (session=\"f0bd4cdcf833211fcbe9f6a957b9fa9b\", element=\"610306e7-16c0-48d1-895e-fd99ffe8e678\")>,\n",
       " <selenium.webdriver.remote.webelement.WebElement (session=\"f0bd4cdcf833211fcbe9f6a957b9fa9b\", element=\"f805fc77-cfd6-4a1c-803f-27f987ce23e4\")>,\n",
       " <selenium.webdriver.remote.webelement.WebElement (session=\"f0bd4cdcf833211fcbe9f6a957b9fa9b\", element=\"13e6dc63-12e8-499b-91e5-673fcf8f649a\")>]"
      ]
     },
     "execution_count": 295,
     "metadata": {},
     "output_type": "execute_result"
    }
   ],
   "source": [
    "titles_tag = driver.find_elements_by_xpath(\"//a[@class='title fw500 ellipsis']\")\n",
    "titles_tag[0:10]"
   ]
  },
  {
   "cell_type": "code",
   "execution_count": 296,
   "metadata": {},
   "outputs": [
    {
     "data": {
      "text/plain": [
       "['Data Scientist/Data Analyst-immediate',\n",
       " 'Data Scientist - Python/ MATLAB/ Machine Learning Algorithms',\n",
       " 'Lead Data Scientist - Machine Learning/ Data Mining',\n",
       " 'Data Scientist - Machine Learning (Commerce BU)',\n",
       " 'Data Scientist',\n",
       " 'Opening For Sr. Data Scientist @ Tech Mahindra',\n",
       " 'Opening For Sr. Data Scientist @ Tech Mahindra',\n",
       " 'Senior Data Scientist - NLP/ Python/ R',\n",
       " 'Senior Data Scientist | CES IT LTD | CMMI Level 5',\n",
       " 'Data Scientist and Senior Data Scientist Academic Operations']"
      ]
     },
     "execution_count": 296,
     "metadata": {},
     "output_type": "execute_result"
    }
   ],
   "source": [
    "for i in titles_tag:\n",
    "    title=i.text\n",
    "    job_titles.append(title)\n",
    "job_titles[0:10]"
   ]
  },
  {
   "cell_type": "code",
   "execution_count": 297,
   "metadata": {},
   "outputs": [
    {
     "data": {
      "text/plain": [
       "[<selenium.webdriver.remote.webelement.WebElement (session=\"f0bd4cdcf833211fcbe9f6a957b9fa9b\", element=\"3d7ecadd-8b68-4b6d-87d3-6b137bac7f7e\")>,\n",
       " <selenium.webdriver.remote.webelement.WebElement (session=\"f0bd4cdcf833211fcbe9f6a957b9fa9b\", element=\"01884d3d-957e-48e1-a9cb-c631c1f5c744\")>,\n",
       " <selenium.webdriver.remote.webelement.WebElement (session=\"f0bd4cdcf833211fcbe9f6a957b9fa9b\", element=\"63744c63-50da-4215-a172-2a117a553078\")>,\n",
       " <selenium.webdriver.remote.webelement.WebElement (session=\"f0bd4cdcf833211fcbe9f6a957b9fa9b\", element=\"f86e93cb-c349-48d6-9b95-25c820b5d2a8\")>,\n",
       " <selenium.webdriver.remote.webelement.WebElement (session=\"f0bd4cdcf833211fcbe9f6a957b9fa9b\", element=\"08b63bf9-26c7-47a1-997e-e456babdd1a7\")>,\n",
       " <selenium.webdriver.remote.webelement.WebElement (session=\"f0bd4cdcf833211fcbe9f6a957b9fa9b\", element=\"1a1cdcf8-afcf-47ec-b2fb-889e5dd81998\")>,\n",
       " <selenium.webdriver.remote.webelement.WebElement (session=\"f0bd4cdcf833211fcbe9f6a957b9fa9b\", element=\"45ce8556-1724-453f-af72-d81053ac525c\")>,\n",
       " <selenium.webdriver.remote.webelement.WebElement (session=\"f0bd4cdcf833211fcbe9f6a957b9fa9b\", element=\"71554224-0a1e-4876-a586-d9119b62a218\")>,\n",
       " <selenium.webdriver.remote.webelement.WebElement (session=\"f0bd4cdcf833211fcbe9f6a957b9fa9b\", element=\"92bed785-5ac4-4403-9cbc-92c5eb0b477e\")>,\n",
       " <selenium.webdriver.remote.webelement.WebElement (session=\"f0bd4cdcf833211fcbe9f6a957b9fa9b\", element=\"df4f3daa-0a6f-4c52-8d30-7a14dda2a112\")>]"
      ]
     },
     "execution_count": 297,
     "metadata": {},
     "output_type": "execute_result"
    }
   ],
   "source": [
    "l = driver.find_elements_by_xpath(\"//li[@class='fleft grey-text br2 placeHolderLi location']\")\n",
    "l[0:10]"
   ]
  },
  {
   "cell_type": "code",
   "execution_count": 298,
   "metadata": {},
   "outputs": [
    {
     "data": {
      "text/plain": [
       "['Chennai, Pune, Bengaluru, Hyderabad',\n",
       " 'Bengaluru',\n",
       " 'Bengaluru',\n",
       " 'Bengaluru',\n",
       " 'Chennai, Pune, Mumbai, Bengaluru',\n",
       " 'Pune, Bengaluru',\n",
       " 'Pune, Bengaluru',\n",
       " 'Bengaluru, Hyderabad',\n",
       " 'Chennai, Pune, Delhi NCR, Mumbai, Bengaluru, Hyderabad, Kolkata',\n",
       " 'Bengaluru']"
      ]
     },
     "execution_count": 298,
     "metadata": {},
     "output_type": "execute_result"
    }
   ],
   "source": [
    "for i in l:\n",
    "    title=i.text\n",
    "    job_loc.append(title)\n",
    "job_loc[0:10]"
   ]
  },
  {
   "cell_type": "code",
   "execution_count": 299,
   "metadata": {},
   "outputs": [
    {
     "data": {
      "text/plain": [
       "[<selenium.webdriver.remote.webelement.WebElement (session=\"f0bd4cdcf833211fcbe9f6a957b9fa9b\", element=\"c6b52661-744e-4463-bdde-3e4a1a0f3d70\")>,\n",
       " <selenium.webdriver.remote.webelement.WebElement (session=\"f0bd4cdcf833211fcbe9f6a957b9fa9b\", element=\"44e0b053-a0c8-4227-8307-a8a43afb730b\")>,\n",
       " <selenium.webdriver.remote.webelement.WebElement (session=\"f0bd4cdcf833211fcbe9f6a957b9fa9b\", element=\"bc7b7234-757d-4704-b401-b3f69782aa1e\")>,\n",
       " <selenium.webdriver.remote.webelement.WebElement (session=\"f0bd4cdcf833211fcbe9f6a957b9fa9b\", element=\"5875daae-24f7-4955-9cef-b6a06e9b75e5\")>,\n",
       " <selenium.webdriver.remote.webelement.WebElement (session=\"f0bd4cdcf833211fcbe9f6a957b9fa9b\", element=\"7212f882-010a-43b0-84e6-84da5c030f7f\")>,\n",
       " <selenium.webdriver.remote.webelement.WebElement (session=\"f0bd4cdcf833211fcbe9f6a957b9fa9b\", element=\"223b2897-dafc-4597-affa-ddeb6af093d0\")>,\n",
       " <selenium.webdriver.remote.webelement.WebElement (session=\"f0bd4cdcf833211fcbe9f6a957b9fa9b\", element=\"1b25a895-3b98-45ff-92a5-307006e9eb7a\")>,\n",
       " <selenium.webdriver.remote.webelement.WebElement (session=\"f0bd4cdcf833211fcbe9f6a957b9fa9b\", element=\"8fcec474-7b73-44e8-b194-72bceba2e98e\")>,\n",
       " <selenium.webdriver.remote.webelement.WebElement (session=\"f0bd4cdcf833211fcbe9f6a957b9fa9b\", element=\"4bb50e92-08c9-423d-b6be-38f1d3d960fb\")>,\n",
       " <selenium.webdriver.remote.webelement.WebElement (session=\"f0bd4cdcf833211fcbe9f6a957b9fa9b\", element=\"ea54fd89-650c-41a9-9691-ac76e7951d4e\")>]"
      ]
     },
     "execution_count": 299,
     "metadata": {},
     "output_type": "execute_result"
    }
   ],
   "source": [
    "c = driver.find_elements_by_xpath(\"//div[@class='mt-7 companyInfo subheading lh16']\")\n",
    "c[0:10]"
   ]
  },
  {
   "cell_type": "code",
   "execution_count": 300,
   "metadata": {},
   "outputs": [
    {
     "data": {
      "text/plain": [
       "['Inflexion Analytix Private Limited',\n",
       " 'Wrackle Technologies Pvt Ltd',\n",
       " 'Wrackle Technologies Pvt Ltd',\n",
       " 'BLUE YONDER INDIA PRIVATE LIMITED\\n3.9\\n(119 Reviews)',\n",
       " 'Atos Syntel Private Limited\\n3.6\\n(1786 Reviews)',\n",
       " 'Tech Mahindra Ltd.\\n3.6\\n(10444 Reviews)',\n",
       " 'Tech Mahindra Ltd.\\n3.6\\n(10444 Reviews)',\n",
       " 'AVI Consulting LLP',\n",
       " 'CES Ltd.\\n3.1\\n(73 Reviews)',\n",
       " 'RANDSTAD INDIA PVT LTD\\n4.0\\n(944 Reviews)']"
      ]
     },
     "execution_count": 300,
     "metadata": {},
     "output_type": "execute_result"
    }
   ],
   "source": [
    "for i in c:\n",
    "    title=i.text\n",
    "    company_name.append(title)\n",
    "company_name[0:10]\n"
   ]
  },
  {
   "cell_type": "code",
   "execution_count": 301,
   "metadata": {},
   "outputs": [
    {
     "data": {
      "text/plain": [
       "[<selenium.webdriver.remote.webelement.WebElement (session=\"f0bd4cdcf833211fcbe9f6a957b9fa9b\", element=\"264421d1-392b-48ff-92be-1f507881d764\")>,\n",
       " <selenium.webdriver.remote.webelement.WebElement (session=\"f0bd4cdcf833211fcbe9f6a957b9fa9b\", element=\"69b44438-3f56-457c-a11a-a0d1f6878c43\")>,\n",
       " <selenium.webdriver.remote.webelement.WebElement (session=\"f0bd4cdcf833211fcbe9f6a957b9fa9b\", element=\"db806396-5796-4ddb-98a8-51f64f107770\")>,\n",
       " <selenium.webdriver.remote.webelement.WebElement (session=\"f0bd4cdcf833211fcbe9f6a957b9fa9b\", element=\"c5fd368c-c644-40da-bd84-34c2293379f0\")>,\n",
       " <selenium.webdriver.remote.webelement.WebElement (session=\"f0bd4cdcf833211fcbe9f6a957b9fa9b\", element=\"49fc71f3-22d2-46e0-99e1-de66afe14e8d\")>,\n",
       " <selenium.webdriver.remote.webelement.WebElement (session=\"f0bd4cdcf833211fcbe9f6a957b9fa9b\", element=\"00b4583b-aead-48d1-9475-6bf8a121f99c\")>,\n",
       " <selenium.webdriver.remote.webelement.WebElement (session=\"f0bd4cdcf833211fcbe9f6a957b9fa9b\", element=\"85fc95a7-717a-418d-aa66-b4d711713fff\")>,\n",
       " <selenium.webdriver.remote.webelement.WebElement (session=\"f0bd4cdcf833211fcbe9f6a957b9fa9b\", element=\"cd23ae44-ef6e-4247-aec4-487464dd39f6\")>,\n",
       " <selenium.webdriver.remote.webelement.WebElement (session=\"f0bd4cdcf833211fcbe9f6a957b9fa9b\", element=\"d6ad1570-bdff-4f1c-857b-31dece5e045b\")>,\n",
       " <selenium.webdriver.remote.webelement.WebElement (session=\"f0bd4cdcf833211fcbe9f6a957b9fa9b\", element=\"fcacc512-3d9b-41f7-9ef0-57f11b67c893\")>]"
      ]
     },
     "execution_count": 301,
     "metadata": {},
     "output_type": "execute_result"
    }
   ],
   "source": [
    "e = driver.find_elements_by_xpath(\"//li[@class='fleft grey-text br2 placeHolderLi experience']\")\n",
    "e[0:10]"
   ]
  },
  {
   "cell_type": "code",
   "execution_count": 302,
   "metadata": {},
   "outputs": [
    {
     "data": {
      "text/plain": [
       "['1-2 Yrs',\n",
       " '3-8 Yrs',\n",
       " '6-11 Yrs',\n",
       " '4-6 Yrs',\n",
       " '12-18 Yrs',\n",
       " '12-20 Yrs',\n",
       " '12-20 Yrs',\n",
       " '4-9 Yrs',\n",
       " '2-7 Yrs',\n",
       " '2-5 Yrs']"
      ]
     },
     "execution_count": 302,
     "metadata": {},
     "output_type": "execute_result"
    }
   ],
   "source": [
    "for i in e:\n",
    "    title=i.text\n",
    "    experience_required.append(title)\n",
    "experience_required[0:10]\n"
   ]
  },
  {
   "cell_type": "code",
   "execution_count": 303,
   "metadata": {},
   "outputs": [],
   "source": [
    "import pandas as pd\n",
    "table=pd.DataFrame({})\n",
    "\n",
    "table['JOB TITLE']=job_titles[:10]\n",
    "table['LOCATION']=job_loc[:10]\n",
    "table['COMPANY']=company_name[:10]\n",
    "table['EXPERIENCE']=experience_required[0:10]"
   ]
  },
  {
   "cell_type": "code",
   "execution_count": 304,
   "metadata": {},
   "outputs": [
    {
     "data": {
      "text/html": [
       "<div>\n",
       "<style scoped>\n",
       "    .dataframe tbody tr th:only-of-type {\n",
       "        vertical-align: middle;\n",
       "    }\n",
       "\n",
       "    .dataframe tbody tr th {\n",
       "        vertical-align: top;\n",
       "    }\n",
       "\n",
       "    .dataframe thead th {\n",
       "        text-align: right;\n",
       "    }\n",
       "</style>\n",
       "<table border=\"1\" class=\"dataframe\">\n",
       "  <thead>\n",
       "    <tr style=\"text-align: right;\">\n",
       "      <th></th>\n",
       "      <th>JOB TITLE</th>\n",
       "      <th>LOCATION</th>\n",
       "      <th>COMPANY</th>\n",
       "      <th>EXPERIENCE</th>\n",
       "    </tr>\n",
       "  </thead>\n",
       "  <tbody>\n",
       "    <tr>\n",
       "      <th>0</th>\n",
       "      <td>Data Scientist/Data Analyst-immediate</td>\n",
       "      <td>Chennai, Pune, Bengaluru, Hyderabad</td>\n",
       "      <td>Inflexion Analytix Private Limited</td>\n",
       "      <td>1-2 Yrs</td>\n",
       "    </tr>\n",
       "    <tr>\n",
       "      <th>1</th>\n",
       "      <td>Data Scientist - Python/ MATLAB/ Machine Learn...</td>\n",
       "      <td>Bengaluru</td>\n",
       "      <td>Wrackle Technologies Pvt Ltd</td>\n",
       "      <td>3-8 Yrs</td>\n",
       "    </tr>\n",
       "    <tr>\n",
       "      <th>2</th>\n",
       "      <td>Lead Data Scientist - Machine Learning/ Data M...</td>\n",
       "      <td>Bengaluru</td>\n",
       "      <td>Wrackle Technologies Pvt Ltd</td>\n",
       "      <td>6-11 Yrs</td>\n",
       "    </tr>\n",
       "    <tr>\n",
       "      <th>3</th>\n",
       "      <td>Data Scientist - Machine Learning (Commerce BU)</td>\n",
       "      <td>Bengaluru</td>\n",
       "      <td>BLUE YONDER INDIA PRIVATE LIMITED\\n3.9\\n(119 R...</td>\n",
       "      <td>4-6 Yrs</td>\n",
       "    </tr>\n",
       "    <tr>\n",
       "      <th>4</th>\n",
       "      <td>Data Scientist</td>\n",
       "      <td>Chennai, Pune, Mumbai, Bengaluru</td>\n",
       "      <td>Atos Syntel Private Limited\\n3.6\\n(1786 Reviews)</td>\n",
       "      <td>12-18 Yrs</td>\n",
       "    </tr>\n",
       "    <tr>\n",
       "      <th>5</th>\n",
       "      <td>Opening For Sr. Data Scientist @ Tech Mahindra</td>\n",
       "      <td>Pune, Bengaluru</td>\n",
       "      <td>Tech Mahindra Ltd.\\n3.6\\n(10444 Reviews)</td>\n",
       "      <td>12-20 Yrs</td>\n",
       "    </tr>\n",
       "    <tr>\n",
       "      <th>6</th>\n",
       "      <td>Opening For Sr. Data Scientist @ Tech Mahindra</td>\n",
       "      <td>Pune, Bengaluru</td>\n",
       "      <td>Tech Mahindra Ltd.\\n3.6\\n(10444 Reviews)</td>\n",
       "      <td>12-20 Yrs</td>\n",
       "    </tr>\n",
       "    <tr>\n",
       "      <th>7</th>\n",
       "      <td>Senior Data Scientist - NLP/ Python/ R</td>\n",
       "      <td>Bengaluru, Hyderabad</td>\n",
       "      <td>AVI Consulting LLP</td>\n",
       "      <td>4-9 Yrs</td>\n",
       "    </tr>\n",
       "    <tr>\n",
       "      <th>8</th>\n",
       "      <td>Senior Data Scientist | CES IT LTD | CMMI Level 5</td>\n",
       "      <td>Chennai, Pune, Delhi NCR, Mumbai, Bengaluru, H...</td>\n",
       "      <td>CES Ltd.\\n3.1\\n(73 Reviews)</td>\n",
       "      <td>2-7 Yrs</td>\n",
       "    </tr>\n",
       "    <tr>\n",
       "      <th>9</th>\n",
       "      <td>Data Scientist and Senior Data Scientist Acade...</td>\n",
       "      <td>Bengaluru</td>\n",
       "      <td>RANDSTAD INDIA PVT LTD\\n4.0\\n(944 Reviews)</td>\n",
       "      <td>2-5 Yrs</td>\n",
       "    </tr>\n",
       "  </tbody>\n",
       "</table>\n",
       "</div>"
      ],
      "text/plain": [
       "                                           JOB TITLE  \\\n",
       "0              Data Scientist/Data Analyst-immediate   \n",
       "1  Data Scientist - Python/ MATLAB/ Machine Learn...   \n",
       "2  Lead Data Scientist - Machine Learning/ Data M...   \n",
       "3    Data Scientist - Machine Learning (Commerce BU)   \n",
       "4                                     Data Scientist   \n",
       "5     Opening For Sr. Data Scientist @ Tech Mahindra   \n",
       "6     Opening For Sr. Data Scientist @ Tech Mahindra   \n",
       "7             Senior Data Scientist - NLP/ Python/ R   \n",
       "8  Senior Data Scientist | CES IT LTD | CMMI Level 5   \n",
       "9  Data Scientist and Senior Data Scientist Acade...   \n",
       "\n",
       "                                            LOCATION  \\\n",
       "0                Chennai, Pune, Bengaluru, Hyderabad   \n",
       "1                                          Bengaluru   \n",
       "2                                          Bengaluru   \n",
       "3                                          Bengaluru   \n",
       "4                   Chennai, Pune, Mumbai, Bengaluru   \n",
       "5                                    Pune, Bengaluru   \n",
       "6                                    Pune, Bengaluru   \n",
       "7                               Bengaluru, Hyderabad   \n",
       "8  Chennai, Pune, Delhi NCR, Mumbai, Bengaluru, H...   \n",
       "9                                          Bengaluru   \n",
       "\n",
       "                                             COMPANY EXPERIENCE  \n",
       "0                 Inflexion Analytix Private Limited    1-2 Yrs  \n",
       "1                       Wrackle Technologies Pvt Ltd    3-8 Yrs  \n",
       "2                       Wrackle Technologies Pvt Ltd   6-11 Yrs  \n",
       "3  BLUE YONDER INDIA PRIVATE LIMITED\\n3.9\\n(119 R...    4-6 Yrs  \n",
       "4   Atos Syntel Private Limited\\n3.6\\n(1786 Reviews)  12-18 Yrs  \n",
       "5           Tech Mahindra Ltd.\\n3.6\\n(10444 Reviews)  12-20 Yrs  \n",
       "6           Tech Mahindra Ltd.\\n3.6\\n(10444 Reviews)  12-20 Yrs  \n",
       "7                                 AVI Consulting LLP    4-9 Yrs  \n",
       "8                        CES Ltd.\\n3.1\\n(73 Reviews)    2-7 Yrs  \n",
       "9         RANDSTAD INDIA PVT LTD\\n4.0\\n(944 Reviews)    2-5 Yrs  "
      ]
     },
     "execution_count": 304,
     "metadata": {},
     "output_type": "execute_result"
    }
   ],
   "source": [
    "table"
   ]
  },
  {
   "cell_type": "code",
   "execution_count": 307,
   "metadata": {},
   "outputs": [
    {
     "name": "stdout",
     "output_type": "stream",
     "text": [
      "https://www.naukri.com/job-listings-data-scientist-data-analyst-immediate-inflexion-analytix-private-limited-chennai-pune-bengaluru-bangalore-hyderabad-secunderabad-1-to-2-years-160221001218?src=jobsearchDesk&sid=16134811541847331&xp=1&px=1\n",
      "https://www.naukri.com/job-listings-data-scientist-python-matlab-machine-learning-algorithms-wrackle-technologies-pvt-ltd-bengaluru-bangalore-3-to-8-years-080221905947?src=jobsearchDesk&sid=16134811541847331&xp=2&px=1\n",
      "https://www.naukri.com/job-listings-lead-data-scientist-machine-learning-data-mining-wrackle-technologies-pvt-ltd-bengaluru-bangalore-6-to-11-years-080221900886?src=jobsearchDesk&sid=16134811541847331&xp=3&px=1\n",
      "https://www.naukri.com/job-listings-data-scientist-machine-learning-commerce-bu-blue-yonder-india-private-limited-bengaluru-bangalore-4-to-6-years-010221901825?src=jobsearchDesk&sid=16134811541847331&xp=4&px=1\n",
      "https://www.naukri.com/job-listings-data-scientist-atos-syntel-private-limited-chennai-pune-mumbai-bengaluru-bangalore-12-to-18-years-220719001543?src=jobsearchDesk&sid=16134811541847331&xp=5&px=1\n",
      "https://www.naukri.com/job-listings-opening-for-sr-data-scientist-tech-mahindra-tech-mahindra-ltd-pune-bengaluru-bangalore-12-to-20-years-100221001125?src=jobsearchDesk&sid=16134811541847331&xp=6&px=1\n",
      "https://www.naukri.com/job-listings-opening-for-sr-data-scientist-tech-mahindra-tech-mahindra-ltd-pune-bengaluru-bangalore-12-to-20-years-090221006526?src=jobsearchDesk&sid=16134811541847331&xp=7&px=1\n",
      "https://www.naukri.com/job-listings-senior-data-scientist-nlp-python-r-avi-consulting-llp-bengaluru-bangalore-hyderabad-secunderabad-4-to-9-years-081220907155?src=jobsearchDesk&sid=16134811541847331&xp=8&px=1\n",
      "https://www.naukri.com/job-listings-senior-data-scientist-ces-it-ltd-cmmi-level-5-ces-ltd-chennai-pune-delhi-ncr-mumbai-bengaluru-bangalore-hyderabad-secunderabad-kolkata-2-to-7-years-151220006902?src=jobsearchDesk&sid=16134811541847331&xp=9&px=1\n",
      "https://www.naukri.com/job-listings-data-scientist-and-senior-data-scientist-academic-operations-randstad-india-pvt-ltd-bengaluru-bangalore-2-to-5-years-080221007079?src=jobsearchDesk&sid=16134811541847331&xp=10&px=1\n",
      "https://www.naukri.com/job-listings-sr-analyst-data-scientist-mindtree-limited-bengaluru-bangalore-10-to-15-years-040221502130?src=jobsearchDesk&sid=16134811541847331&xp=11&px=1\n",
      "https://www.naukri.com/job-listings-sr-data-scientist-netapp-india-private-limited-bengaluru-bangalore-10-to-15-years-020221907730?src=jobsearchDesk&sid=16134811541847331&xp=12&px=1\n",
      "https://www.naukri.com/job-listings-data-scientist-machine-learning-commerce-bu-blue-yonder-india-private-limited-bengaluru-bangalore-2-to-7-years-160221904332?src=jobsearchDesk&sid=16134811541847331&xp=13&px=1\n",
      "https://www.naukri.com/job-listings-data-scientist-machine-learning-expert-spectrus-bengaluru-bangalore-4-to-9-years-030221500856?src=jobsearchDesk&sid=16134811541847331&xp=14&px=1\n",
      "https://www.naukri.com/job-listings-artificial-intelligence-analyst-data-scientist-talentco-search-pvt-ltd-mumbai-bengaluru-bangalore-1-to-5-years-091220900289?src=jobsearchDesk&sid=16134811541847331&xp=15&px=1\n",
      "https://www.naukri.com/job-listings-global-medical-data-scientist-glaxosmithkline-pharmaceuticals-limited-bengaluru-bangalore-5-to-7-years-160221900466?src=jobsearchDesk&sid=16134811541847331&xp=16&px=1\n",
      "https://www.naukri.com/job-listings-tech-mahindra-is-hiring-for-data-scientist-bangalore-tech-mahindra-ltd-bengaluru-bangalore-5-to-10-years-120221003959?src=jobsearchDesk&sid=16134811541847331&xp=17&px=1\n",
      "https://www.naukri.com/job-listings-associate-data-scientist-crm-loyalty-shell-india-markets-private-limited-bengaluru-bangalore-3-to-5-years-150221904559?src=jobsearchDesk&sid=16134811541847331&xp=18&px=1\n",
      "https://www.naukri.com/job-listings-data-scientist-advanced-analytics-ibm-india-pvt-limited-bengaluru-bangalore-10-to-14-years-080221906716?src=jobsearchDesk&sid=16134811541847331&xp=19&px=1\n",
      "https://www.naukri.com/job-listings-senior-data-scientist-growth-markets-twitter-bengaluru-bangalore-2-to-6-years-010221500526?src=jobsearchDesk&sid=16134811541847331&xp=20&px=1\n"
     ]
    }
   ],
   "source": [
    "urls = driver.find_elements_by_xpath(\"//a[@class='title fw500 ellipsis']\")\n",
    "for urls in urls:\n",
    "    print(urls.get_attribute(\"href\"))\n",
    "    urls.click()"
   ]
  },
  {
   "cell_type": "code",
   "execution_count": 333,
   "metadata": {},
   "outputs": [],
   "source": [
    "jd_1=[]\n",
    "jd_2=[]\n",
    "jd_3=[]\n",
    "jd_4=[]\n",
    "jd_5=[]\n",
    "jd_6=[]\n",
    "jd_7=[]\n",
    "jd_8=[]\n",
    "jd_9=[]\n",
    "jd_10=[]"
   ]
  },
  {
   "cell_type": "code",
   "execution_count": 308,
   "metadata": {},
   "outputs": [],
   "source": [
    "url=\"https://www.naukri.com/job-listings-data-scientist-data-analyst-immediate-inflexion-analytix-private-limited-chennai-pune-bengaluru-bangalore-hyderabad-secunderabad-1-to-2-years-160221001218?src=jobsearchDesk&sid=16134811541847331&xp=1&px=1\""
   ]
  },
  {
   "cell_type": "code",
   "execution_count": 311,
   "metadata": {},
   "outputs": [],
   "source": [
    "driver.get(url)"
   ]
  },
  {
   "cell_type": "code",
   "execution_count": 312,
   "metadata": {},
   "outputs": [
    {
     "data": {
      "text/plain": [
       "[<selenium.webdriver.remote.webelement.WebElement (session=\"f0bd4cdcf833211fcbe9f6a957b9fa9b\", element=\"a2329dc5-45f5-4ec7-b5da-d4f8cbe6be25\")>]"
      ]
     },
     "execution_count": 312,
     "metadata": {},
     "output_type": "execute_result"
    }
   ],
   "source": [
    "b = driver.find_elements_by_xpath(\"//section[@class='job-desc']\")\n",
    "b"
   ]
  },
  {
   "cell_type": "code",
   "execution_count": 313,
   "metadata": {
    "scrolled": true
   },
   "outputs": [
    {
     "data": {
      "text/plain": [
       "['Job description\\nJob description\\nDear Candidate\\nSchedule a Telephonic Interview ( Please call for confirmation) : Mon- Sat from 11:00am to 5:00pm only.\\nOR Walk-In to the Corporate office between Monday to Friday from 11:00am to 5:00pm\\nContact person :\\n\\nManigandan -+91 7299917200\\nShantha +91 9790993237\\nAishwaria 9427329576\\nGreetings from CAIA !\\nA great opportunity to enter the world of future technologies - Data Science, Analytics, AI, Data Visualization\\nApplications invited from all Freshers and experienced candidates aspiring to make a career in Artificial Intelligence and Advanced Analytics and Data Science.\\nIn case you are trying to shift your career to Analytics and/or AI domain please do connect with us to know more.\\nWhat is needed from you?\\n- An Educational background in any one of the following- BE/B.Tech, ME/M Tech, MSc, BSc/MSc Maths and Statistics, B Com, BCA, BSc CS, BSC IT, MSC IT, MCA\\n- Skills relating to Mathematics/Statistics.\\n- Natural passion towards numbers, business, coding, Analytics and Artificial Intelligence, Machine Learning, visualization\\n- Good verbal and written communication skills\\n- Ability to understand domains in businesses across various sectors\\n- Freshers who wish to start their career in Analytics and AI and professionals who wish to up skill or change their domain to analytics and emerging technologies are free to apply.\\nSelection procedure includes\\n- Online Aptitude Test\\n- Logical Ability Test / Written Test\\nOn being shortlisted, you will be have to undergo a one-one discussion with our counsellor for further evaluation and processing of your Resume.\\nWhat you can expect from us?\\nYou will get trained on the following modules for a period of 12-14 weeks:\\n-SQL & PLSQL\\n-Data Wrangling using Python\\n-Statistics for Machine Learning,\\n-Artificial Intelligence, Data Interpretation\\n-Supervised & Unsupervised Learning,\\n-NLP & Deep Learning\\n-Cloud Data Lake\\n-Business intelligence & Data Visualization\\n-Simulation Projects\\nWhat is the expected Outcome?\\nAt the end of the Training you are expected to be well versed with the following:\\n- Analysis of large and complex data sets from multiple sources\\n- Development and evaluation of data analytics models, algorithms and solutions\\n- Understanding/implementation of ML algorithms, performance tuning and reporting\\n- Implementation of algorithms to mine targeted data and the ability to convert data into a business story\\n- Translation of business requirements into technical requirements; Data extraction, preparation and transformation\\n- Identification, development and implementation of statistical techniques and algorithms that address business challenges and adds value to the organisation\\n- Requirement Analysis and communication of findings in the form of a meaningful story with the stakeholders\\nCenter for Artificial Intelligence & Advanced Analytics (CAIA) focuses on the following:\\n1. Global Research on emerging trends, technologies and applications in AI and Advanced Analytics\\n2. Advanced Training programs for readying the future ready workforce\\n3. Solutions to herald the futuristic lifestyle and workspaces in the field of AI and Data Science.\\nhttp://www.centerforaia.com/\\nCenter for Artificial Intelligence and Advanced Analytics (Center for AIA) is the brainchild of experienced and visionary alumni of IIT Madras and Bombay. Digital leaders 5F World and Systech Solutions have joined hands to create a venture for architecting the future of society, workforce, governments and businesses. 5F World specializes in designing solutions around digital platforms and Systech Solutions has an expertise in architecting Artificial Intelligence and Advanced Analytics solutions for Fortune 500 companies through specialized programmed.\\n5F World\\n5F World is a leader in digital transformational journeys and has brought together the best minds in industry, academia and technology domains to develop a unique framework to transform stakeholder journeys through innovation and digitalization of businesses and education institutions.\\nSystech Solutions\\nSystech Solutions is a leading organisation in Data Strategy, Management & Analytics services provider with deep technology expertise and over 20 years of industry experience. Systech Solutions helps empower clients with innovative, data-driven solutions to reimagine their enterprise and has forged partnerships with industry-leading technology providers to develop a full spectrum of data services.\\n\\nWebsite\\nhttp://www.centerforaia.com/\\n\\nhttps://inflexion-analytix-private-limited.business.site/?m=true\\n\\n\\n\\nContact Person\\nManigandan /Shantha/Aishwaria\\nPhone Number\\n7299917200/ 9790993237 / 9427329576\\nEmail\\nmanigandan@centerforaia.com\\n\\nRoleData Analyst\\nIndustry TypeIT-Software, Software Services\\nFunctional AreaAnalytics & Business Intelligence\\nEmployment TypeFull Time, Permanent\\nRole CategoryAnalytics & BI\\nEducation\\nUG :B.Sc in Any Specialization, B.Tech/B.E. in Any Specialization, B.B.A / B.M.S in Any Specialization\\nPG :MCA in Any Specialization, MS/M.Sc(Science) in Any Specialization, MBA/PGDM in Any Specialization, M.Tech in Any Specialization\\nKey Skills\\nArtificial IntelligenceUnsupervised LearningMachine LearningStatisticsDeep LearningSQLData ScienceNLPAdvanced AnalyticsData VisualizationData WarehousingData AnalyticsETLAWSPython']"
      ]
     },
     "execution_count": 313,
     "metadata": {},
     "output_type": "execute_result"
    }
   ],
   "source": [
    "for i in b:\n",
    "    title=i.text\n",
    "    jd_1.append(title)\n",
    "jd_1"
   ]
  },
  {
   "cell_type": "code",
   "execution_count": 314,
   "metadata": {},
   "outputs": [],
   "source": [
    "url=\"https://www.naukri.com/job-listings-data-scientist-python-matlab-machine-learning-algorithms-wrackle-technologies-pvt-ltd-bengaluru-bangalore-3-to-8-years-080221905947?src=jobsearchDesk&sid=16134811541847331&xp=2&px=1\""
   ]
  },
  {
   "cell_type": "code",
   "execution_count": 315,
   "metadata": {},
   "outputs": [],
   "source": [
    "driver.get(url)"
   ]
  },
  {
   "cell_type": "code",
   "execution_count": 317,
   "metadata": {},
   "outputs": [
    {
     "data": {
      "text/plain": [
       "[<selenium.webdriver.remote.webelement.WebElement (session=\"f0bd4cdcf833211fcbe9f6a957b9fa9b\", element=\"e0e009cc-a54e-458b-98f7-d79de487b649\")>]"
      ]
     },
     "execution_count": 317,
     "metadata": {},
     "output_type": "execute_result"
    }
   ],
   "source": [
    "b = driver.find_elements_by_xpath(\"//section[@class='job-desc']\")\n",
    "b"
   ]
  },
  {
   "cell_type": "code",
   "execution_count": 318,
   "metadata": {},
   "outputs": [
    {
     "data": {
      "text/plain": [
       "['Job description\\nData Scientist - Data Mining/ Machine Learning/ Statistical Analysis\\n\\nRequirements :\\n\\n- 3-9 years of strong experience in data mining, machine learning, and statistical analysis.\\n\\n- BS/MS/Ph.D. in Computer Science, Statistics, Applied Math, or related areas from Premier institutes ( only IITs / IISc / BITS / Top NITs or top US university should apply)\\n\\n- Ability to lead and deliver in a fast-paced start-up environment.\\n\\n- Fluency in tools such as Matlab, Python, etc.\\n\\n- Strong intuition for data and Keen aptitude on large scale data analysis\\n\\n- Excellent written and verbal communication skills.\\n\\n- Ability to collaborate across teams and strong interpersonal skills.\\nRoleDatabase Architect/Designer\\nIndustry TypeIT-Software, Software Services\\nFunctional AreaIT Software - DBA, Datawarehousing\\nEmployment TypeFull Time, Permanent\\nRole CategoryProgramming & Design\\nEducation\\nUG :Any Graduate in Any Specialization, B.Sc in Computers, Statistics\\nPG :MS/M.Sc(Science) in Computers, Statistics, Any Postgraduate in Any Specialization\\nDoctorate :Doctorate Not Required\\nKey Skills\\nData ScienceData ScientistData MiningStatistical AnalystMachine LearningMATLABPython']"
      ]
     },
     "execution_count": 318,
     "metadata": {},
     "output_type": "execute_result"
    }
   ],
   "source": [
    "for i in b:\n",
    "    title=i.text\n",
    "    jd_2.append(title)\n",
    "jd_2"
   ]
  },
  {
   "cell_type": "code",
   "execution_count": 319,
   "metadata": {},
   "outputs": [],
   "source": [
    "url=\"https://www.naukri.com/job-listings-lead-data-scientist-machine-learning-data-mining-wrackle-technologies-pvt-ltd-bengaluru-bangalore-6-to-11-years-080221900886?src=jobsearchDesk&sid=16134811541847331&xp=3&px=1\""
   ]
  },
  {
   "cell_type": "code",
   "execution_count": 320,
   "metadata": {},
   "outputs": [],
   "source": [
    "driver.get(url)"
   ]
  },
  {
   "cell_type": "code",
   "execution_count": 321,
   "metadata": {},
   "outputs": [
    {
     "data": {
      "text/plain": [
       "[<selenium.webdriver.remote.webelement.WebElement (session=\"f0bd4cdcf833211fcbe9f6a957b9fa9b\", element=\"da087f77-ea62-464c-9115-43c0d9941ca4\")>]"
      ]
     },
     "execution_count": 321,
     "metadata": {},
     "output_type": "execute_result"
    }
   ],
   "source": [
    "b = driver.find_elements_by_xpath(\"//section[@class='job-desc']\")\n",
    "b"
   ]
  },
  {
   "cell_type": "code",
   "execution_count": 322,
   "metadata": {},
   "outputs": [
    {
     "data": {
      "text/plain": [
       "['Job description\\nRoles and Responsibilities\\nRequirements :\\n\\n- 6-9 years of strong experience in data mining, machine learning and statistical analysis.\\n\\n- BS/ MS/ PhD in Computer Science, Statistics, Applied Math, or related areas from Premier institutes ( only IITs / IISc / BITS / Top NITs or top US university should apply)\\n\\n- Ability to lead and deliver in a fast-paced start-up environment.\\n\\n- Fluency in tools such as Python/ R/ Matlab etc.\\n\\n- Strong intuition for data and Keen aptitude on large scale data analysis\\n\\n- Excellent written and verbal communication skills.\\n\\n- Ability to collaborate across teams and strong interpersonal skills.\\nRoleData Analyst\\nIndustry TypeIT-Software, Software Services\\nFunctional AreaAnalytics & Business Intelligence\\nEmployment TypeFull Time, Permanent\\nRole CategoryAnalytics & BI\\nEducation\\nUG :B.Sc in Other Specialization, Computers, Statistics\\nPG :MS/M.Sc(Science) in Computers, Statistics\\nDoctorate :Ph.D in Statistics, Computers, Other Doctorate\\nKey Skills\\nData ScienceRData ScientistData MiningStatistical AnalystMachine LearningMATLABPython']"
      ]
     },
     "execution_count": 322,
     "metadata": {},
     "output_type": "execute_result"
    }
   ],
   "source": [
    "for i in b:\n",
    "    title=i.text\n",
    "    jd_3.append(title)\n",
    "jd_3"
   ]
  },
  {
   "cell_type": "code",
   "execution_count": 324,
   "metadata": {},
   "outputs": [],
   "source": [
    "url=\"https://www.naukri.com/job-listings-data-scientist-atos-syntel-private-limited-chennai-pune-mumbai-bengaluru-bangalore-12-to-18-years-220719001543?src=jobsearchDesk&sid=16134811541847331&xp=5&px=1\""
   ]
  },
  {
   "cell_type": "code",
   "execution_count": 325,
   "metadata": {},
   "outputs": [],
   "source": [
    "driver.get(url)"
   ]
  },
  {
   "cell_type": "code",
   "execution_count": 326,
   "metadata": {},
   "outputs": [
    {
     "data": {
      "text/plain": [
       "[<selenium.webdriver.remote.webelement.WebElement (session=\"f0bd4cdcf833211fcbe9f6a957b9fa9b\", element=\"aa06374d-c8e9-4dec-8a99-0811282991c7\")>]"
      ]
     },
     "execution_count": 326,
     "metadata": {},
     "output_type": "execute_result"
    }
   ],
   "source": [
    "b = driver.find_elements_by_xpath(\"//section[@class='job-desc']\")\n",
    "b"
   ]
  },
  {
   "cell_type": "code",
   "execution_count": 327,
   "metadata": {},
   "outputs": [
    {
     "data": {
      "text/plain": [
       "['Job description\\nWorking experience in Artificial Intelligence, Python, R, Machine Learning\\nExperience in data mining, Strong math skills (e.g. statistics, algebra)\\nStrong programming skills in: R, Python and familiarity with Java, Scala, C - DB/NoSql - MongoDB, Neo4J, MySql. Cassandra, DynamoDB, Redshift\\nExperience on Hadoop Map reduce, Pig, Hive, Mahout and Apache Spark, H20\\nStrong experience in Data warehousing, ETL, BI (e.g. Tableau, Power BI) and Data Visualization tools (matplotlib, D3.js, Plotly.js, Shiny etc)\\nExperience with Deep Learning tools Tensorflow, Theano, Caffe etc. - Elastic Search, NLP background and Machine Learning Platforms\\nExperienced in deployment of High performance, Scalable Big Data Hadoop clusters and Web applications on cloud infrastructure (Azure, AWS, Bluemix etc)\\nExperience in neural networks, regression, classification and clustering\\nDeep industry knowledge on any of the following: Banking, Insurance, Retail Manufacturing\\nDeep understanding of Statistical algorithms: Linear and Non-Linear models, classification problem, optimization techniques, Market mix models, A/B Testing and campaign management, Feature ranking/selection techniques, supervised/unsupervised learning, Collaborative filtering, Apriori Market Basket analysis, SVM, Gradient boosting, Survival analysis etc.\\nTo help designing, innovating and building our next generation ML architecture\\nFull time programming experience within an operation or technical department.\\nIdentify valuable data sources and automate collection processes\\nUndertake pre-processing of structured and unstructured data\\nAnalyze large amounts of information to discover trends and patterns\\nBuild predictive models and machine-learning algorithms\\nCombine models through ensemble modelling\\nPresent information using data visualization techniques\\nPropose solutions and strategies to business challenges\\nCollaborate with engineering and product development teams\\nMentor others in the use of AI/Machine Learning\\nRoleSubject Matter Expert\\nIndustry TypeIT-Software, Software Services\\nFunctional AreaIT Software - Application Programming, Maintenance\\nEmployment TypeFull Time, Permanent\\nRole CategorySystem Design/Implementation/ERP/CRM\\nEducation\\nUG :Any Graduate in Any Specialization, Graduation Not Required\\nPG :Any Postgraduate in Any Specialization, Post Graduation Not Required\\nDoctorate :Doctorate Not Required, Any Doctorate in Any Specialization\\nKey Skills\\nR AnalyticsArtificial IntelligenceData ScientistMachine LearningPython']"
      ]
     },
     "execution_count": 327,
     "metadata": {},
     "output_type": "execute_result"
    }
   ],
   "source": [
    "for i in b:\n",
    "    title=i.text\n",
    "    jd_4.append(title)\n",
    "jd_4"
   ]
  },
  {
   "cell_type": "code",
   "execution_count": 328,
   "metadata": {},
   "outputs": [],
   "source": [
    "url=\"https://www.naukri.com/job-listings-opening-for-sr-data-scientist-tech-mahindra-tech-mahindra-ltd-pune-bengaluru-bangalore-12-to-20-years-100221001125?src=jobsearchDesk&sid=16134811541847331&xp=6&px=1\""
   ]
  },
  {
   "cell_type": "code",
   "execution_count": 329,
   "metadata": {},
   "outputs": [],
   "source": [
    "driver.get(url)"
   ]
  },
  {
   "cell_type": "code",
   "execution_count": 331,
   "metadata": {},
   "outputs": [
    {
     "data": {
      "text/plain": [
       "[<selenium.webdriver.remote.webelement.WebElement (session=\"f0bd4cdcf833211fcbe9f6a957b9fa9b\", element=\"dc047f2d-c199-44b2-99c3-3f6903cd85f6\")>,\n",
       " <selenium.webdriver.remote.webelement.WebElement (session=\"f0bd4cdcf833211fcbe9f6a957b9fa9b\", element=\"802861c3-df51-4d2e-b548-dfb4e321de36\")>]"
      ]
     },
     "execution_count": 331,
     "metadata": {},
     "output_type": "execute_result"
    }
   ],
   "source": [
    "b = driver.find_elements_by_xpath(\"//div[@class='ptb20 hLine']\")\n",
    "b"
   ]
  },
  {
   "cell_type": "code",
   "execution_count": 332,
   "metadata": {},
   "outputs": [
    {
     "data": {
      "text/plain": [
       "['Job Description\\nBE or MS or PhD degree in Computer Science, Artificial Intelligence, Machine Learning, or a related technical field.\\nDeep learning experience with Tensorflow and Keras or Pytorch is must\\nExperience with the following is preferred\\nDifferent data processing libraries such as Numpy, Scipy, Pandas, Matplotlib, Scikit-learn\\nExperience with one or more general purpose programming languages including but not limited to: Python (Must), R, Java, or C/C++.\\nDifferent Networks CNN, RNN, LSTM, Transformer Based models, GAN, Reinforcement Learning\\nFamiliarity with different model architectures AlexNetm, ResNet, MobileNet etc., in Computer Vision & BiLSTM, Bert family models.\\nExperience with distribution strategies for data and model parallelism\\nDevelopment of mobile applications with tensorflow (TF Lite)\\nExperience in the development of End-to-end production based models. Cloud deployment of any machine learning models\\nUnderstanding of advanced machine learning data pipelines components including Data Versioning, Code Versioning, Solution Versioning, Drift detection, Model Interpretability & Explainability.\\nExperience with Structured Data Machine Learning techniques\\nUsed AutoML techniques.\\nWorked or knowledge on distributed computing example Spark.\\nExperience with open source systems such as MLFlow, DVC, PyCaret, Prophet etc.\\n\\n\\nSalary: Not Disclosed by Recruiter\\nIndustry: IT-Software / Software Services\\nFunctional Area: Analytics & Business Intelligence\\nRole Category: Analytics & BI\\nRole: Data Analyst\\nEmployment Type: Full Time, Permanent',\n",
       " 'Desired Candidate Profile\\n\\nEducation:UG -B.Tech/B.E. - Computers\\nPG - MS/M.Sc(Science) - Computers\\nDoctorate - Ph.D - Computers']"
      ]
     },
     "execution_count": 332,
     "metadata": {},
     "output_type": "execute_result"
    }
   ],
   "source": [
    "for i in b:\n",
    "    title=i.text\n",
    "    jd_5.append(title)\n",
    "jd_5"
   ]
  },
  {
   "cell_type": "code",
   "execution_count": 334,
   "metadata": {},
   "outputs": [],
   "source": [
    "url=\"https://www.naukri.com/job-listings-senior-data-scientist-nlp-python-r-avi-consulting-llp-bengaluru-bangalore-hyderabad-secunderabad-4-to-9-years-081220907155?src=jobsearchDesk&sid=16134811541847331&xp=8&px=1\""
   ]
  },
  {
   "cell_type": "code",
   "execution_count": 335,
   "metadata": {},
   "outputs": [],
   "source": [
    "driver.get(url)"
   ]
  },
  {
   "cell_type": "code",
   "execution_count": 336,
   "metadata": {},
   "outputs": [
    {
     "data": {
      "text/plain": [
       "[<selenium.webdriver.remote.webelement.WebElement (session=\"f0bd4cdcf833211fcbe9f6a957b9fa9b\", element=\"953b4b99-d360-4709-aba6-ec2975c5939a\")>]"
      ]
     },
     "execution_count": 336,
     "metadata": {},
     "output_type": "execute_result"
    }
   ],
   "source": [
    "b = driver.find_elements_by_xpath(\"//section[@class='job-desc']\")\n",
    "b"
   ]
  },
  {
   "cell_type": "code",
   "execution_count": 337,
   "metadata": {},
   "outputs": [
    {
     "data": {
      "text/plain": [
       "['Job description\\nRoles and Responsibilities\\nSkill : NLP,Semantic model, NER model, Deep Learning\\n\\nNotice : who can join in a month max\\n\\nJob description :\\n\\n- 5+ years of experience using analytical toolslanguages like Python & R on large scale data\\n\\n- Must have Semantic model & NER experience\\n\\n- Experience working with pre-trained models, awareness of state-of-art in embeddings and applicability for use cases\\n\\n- Experience on Deep Learning for Image processing, Video analytics will be a plus\\n\\n- Must have strong experience in NLPNLGNLU applications using any popular Deep learning frameworks like Open CV, PyTorch, Theano, Tensor Flow, Caffe. Should have implemented solutions for industry use cases.\\n\\n- Demonstrated ability to engage with client stakeholders at multiple levels and provide consultative solutioning across different domains\\n\\n- Deep knowledge of techniques such as Linear Regression, gradient descent, Logistic Regression, Forecasting, Cluster analysis, Decision trees, Linear Optimization, Text Mining etc.\\n\\n- Must have experience in doing POCs\\n\\n- Strong applied fundamentals in data management, parallel computing and distributed systems; experience in productionizing & retraining models\\n\\n- Ability to guide and mentor teams of associates on solution development and approaches\\n\\n- Broad knowledge of fundamentals and state-of-the-art in NLP and machine learning\\n\\n- Coding skills in one or more programming languages such as Python, Scala, Java, C, C++\\n\\n- Expert high level of understanding on language semantic concepts & data standardization\\n\\n- Proven track record of successful models and practical implementation\\n\\n- Hands-on experience with popular ML frameworks such as TensorFlow\\n\\n- Experience with application development practices at scale, from problem definition to deployment.\\n\\n- Familiarity with Cloud services such as AWS, SageMaker etc. is considered a plus\\n\\n- Develop and apply Statistical Modeling techniques (e.g. Bayesian models and deep neural networks), optimization methods, and other ML techniques to different applications\\n\\n- Knowledge in Machine Learning techniques in entity resolution, common speech products or text search domain\\nRoleData Analyst\\nIndustry TypeIT-Software, Software Services\\nFunctional AreaAnalytics & Business Intelligence\\nEmployment TypeFull Time, Permanent\\nRole CategoryAnalytics & BI\\nEducation\\nUG :B.Sc in Any Specialization, BCA in Computers, B.Tech/B.E. in Any Specialization\\nPG :Any Postgraduate in Any Specialization\\nDoctorate :Doctorate Not Required\\nKey Skills\\nTensorflowRNLPVideo AnalyticsData ScientistImage ProcessingData ModelingNLU/NLGDeep LearningPython']"
      ]
     },
     "execution_count": 337,
     "metadata": {},
     "output_type": "execute_result"
    }
   ],
   "source": [
    "for i in b:\n",
    "    title=i.text\n",
    "    jd_6.append(title)\n",
    "jd_6"
   ]
  },
  {
   "cell_type": "code",
   "execution_count": 338,
   "metadata": {},
   "outputs": [],
   "source": [
    "url=\"https://www.naukri.com/job-listings-senior-data-scientist-ces-it-ltd-cmmi-level-5-ces-ltd-chennai-pune-delhi-ncr-mumbai-bengaluru-bangalore-hyderabad-secunderabad-kolkata-2-to-7-years-151220006902?src=jobsearchDesk&sid=16134811541847331&xp=9&px=1\""
   ]
  },
  {
   "cell_type": "code",
   "execution_count": 339,
   "metadata": {},
   "outputs": [],
   "source": [
    "driver.get(url)"
   ]
  },
  {
   "cell_type": "code",
   "execution_count": 340,
   "metadata": {},
   "outputs": [
    {
     "data": {
      "text/plain": [
       "[<selenium.webdriver.remote.webelement.WebElement (session=\"f0bd4cdcf833211fcbe9f6a957b9fa9b\", element=\"e6e77d7b-9edf-44f1-aed0-8496ea3403b7\")>]"
      ]
     },
     "execution_count": 340,
     "metadata": {},
     "output_type": "execute_result"
    }
   ],
   "source": [
    "b = driver.find_elements_by_xpath(\"//section[@class='job-desc']\")\n",
    "b"
   ]
  },
  {
   "cell_type": "code",
   "execution_count": 341,
   "metadata": {},
   "outputs": [
    {
     "data": {
      "text/plain": [
       "['Job description\\nRoles and Responsibilities\\nSkill : NLP,Semantic model, NER model, Deep Learning\\n\\nNotice : who can join in a month max\\n\\nJob description :\\n\\n- 5+ years of experience using analytical toolslanguages like Python & R on large scale data\\n\\n- Must have Semantic model & NER experience\\n\\n- Experience working with pre-trained models, awareness of state-of-art in embeddings and applicability for use cases\\n\\n- Experience on Deep Learning for Image processing, Video analytics will be a plus\\n\\n- Must have strong experience in NLPNLGNLU applications using any popular Deep learning frameworks like Open CV, PyTorch, Theano, Tensor Flow, Caffe. Should have implemented solutions for industry use cases.\\n\\n- Demonstrated ability to engage with client stakeholders at multiple levels and provide consultative solutioning across different domains\\n\\n- Deep knowledge of techniques such as Linear Regression, gradient descent, Logistic Regression, Forecasting, Cluster analysis, Decision trees, Linear Optimization, Text Mining etc.\\n\\n- Must have experience in doing POCs\\n\\n- Strong applied fundamentals in data management, parallel computing and distributed systems; experience in productionizing & retraining models\\n\\n- Ability to guide and mentor teams of associates on solution development and approaches\\n\\n- Broad knowledge of fundamentals and state-of-the-art in NLP and machine learning\\n\\n- Coding skills in one or more programming languages such as Python, Scala, Java, C, C++\\n\\n- Expert high level of understanding on language semantic concepts & data standardization\\n\\n- Proven track record of successful models and practical implementation\\n\\n- Hands-on experience with popular ML frameworks such as TensorFlow\\n\\n- Experience with application development practices at scale, from problem definition to deployment.\\n\\n- Familiarity with Cloud services such as AWS, SageMaker etc. is considered a plus\\n\\n- Develop and apply Statistical Modeling techniques (e.g. Bayesian models and deep neural networks), optimization methods, and other ML techniques to different applications\\n\\n- Knowledge in Machine Learning techniques in entity resolution, common speech products or text search domain\\nRoleData Analyst\\nIndustry TypeIT-Software, Software Services\\nFunctional AreaAnalytics & Business Intelligence\\nEmployment TypeFull Time, Permanent\\nRole CategoryAnalytics & BI\\nEducation\\nUG :B.Sc in Any Specialization, BCA in Computers, B.Tech/B.E. in Any Specialization\\nPG :Any Postgraduate in Any Specialization\\nDoctorate :Doctorate Not Required\\nKey Skills\\nTensorflowRNLPVideo AnalyticsData ScientistImage ProcessingData ModelingNLU/NLGDeep LearningPython',\n",
       " 'Job description\\nRoles and Responsibilities\\n\\nMust have strong Python Programming Skills\\nStrong analytical & algorithm development skills\\nLogical and Analytical skills must be really strong\\nMust have worked in DeepLearning Efforts - Especially computer vision.\\nMust have experinece with Object Detection - Custom model training for Object detection\\nShould have experience with atleast one or more of these - Tensorflow, Keras, PyTorch\\n\\nPrimary Skills - Python + tensorflow - Keras / PyTorch, OpenCV\\nPerks and Benefits\\n\\nKindly share your resume to kandavelkumar.lakshmanan @cesltd.com\\n\\nRoleTechnical Architect\\nIndustry TypeIT-Software, Software Services\\nFunctional AreaIT Software - Application Programming, Maintenance\\nEmployment TypeFull Time, Permanent\\nRole CategoryProgramming & Design\\nEducation\\nUG :Any Graduate in Any Specialization\\nKey Skills\\nTensorflowObject DetectionAlgorithm DevelopmentAnalytical SkillsProgrammingMachine LearningDeep LearningPytorchData ScienceROpencvKerasComputer VisionPython']"
      ]
     },
     "execution_count": 341,
     "metadata": {},
     "output_type": "execute_result"
    }
   ],
   "source": [
    "for i in b:\n",
    "    title=i.text\n",
    "    jd_6.append(title)\n",
    "jd_6"
   ]
  },
  {
   "cell_type": "code",
   "execution_count": 342,
   "metadata": {},
   "outputs": [],
   "source": [
    "url=\"https://www.naukri.com/job-listings-data-scientist-and-senior-data-scientist-academic-operations-randstad-india-pvt-ltd-bengaluru-bangalore-2-to-5-years-080221007079?src=jobsearchDesk&sid=16134811541847331&xp=10&px=1\""
   ]
  },
  {
   "cell_type": "code",
   "execution_count": 343,
   "metadata": {},
   "outputs": [],
   "source": [
    "driver.get(url)"
   ]
  },
  {
   "cell_type": "code",
   "execution_count": 344,
   "metadata": {},
   "outputs": [
    {
     "data": {
      "text/plain": [
       "[<selenium.webdriver.remote.webelement.WebElement (session=\"f0bd4cdcf833211fcbe9f6a957b9fa9b\", element=\"770de540-7639-4e5f-ab46-9fd426986f65\")>]"
      ]
     },
     "execution_count": 344,
     "metadata": {},
     "output_type": "execute_result"
    }
   ],
   "source": [
    "b = driver.find_elements_by_xpath(\"//section[@class='job-desc']\")\n",
    "b"
   ]
  },
  {
   "cell_type": "code",
   "execution_count": 345,
   "metadata": {},
   "outputs": [
    {
     "data": {
      "text/plain": [
       "[\"Job description\\n\\nWe are hiring Data Scientist and Senior Data Scientist Academic Operations for our leading EdTech Client.\\n\\nCall/WhatsApp- Amit-9379292728\\nEmail: amitkumar.s@randstad.in\\n\\nor Fill the google form - https://tinyurl.com/JobAppForm4\\n\\nJob Responsibilities:\\nYour primary job responsibility will include (and not limited to):\\nOwn the student's learning outcomes by providing them with support on the topics covered in the\\ncurriculum.\\nInvolve in the residency class room sessions to facilitate lectures and lab sessions\\nBe the first point contact for participants for academic queries and manage discussion\\ngroups\\nMonitor participants academic performance and make learning interventions in the\\nform of remedial sessions, coaching and mentoring\\n\\nCoordinate with faculty to create best in class learning material - video, reading material,\\nassignments, exams\\nDesign and conduct examinations to measure the learning outcome of participants\\nIdentify & Solve interesting problems involving rich datasets in various domains.\\nAccordingly, create capstone projects on the evolving use cases in the industry\\nIdentify key emerging trends in the industry and maintain a rich reference material\\nAssist program director and senior operations and academics managers in planning\\non-campus sessions, preparing schedules, evaluation and grading\\nIdentify key reporting metric sand create dashboards to enable quick decision making\\nAutomation of manual data collection, data cleansing and exploratory data analysis\\nCreate and maintain business and technical requirements\\nIdentify technical solutions and perform feasibility analysis\\nCreate technical roadmaps for the operations Team\\nManage, identify and suggest processes for smoother program management to\\nensure a consistent and trouble free learning experience\\nCoordinate with IT and Admin to ensure smooth execution at various locations\\nTravel to other cities if required to manage residencies\\n\\nRelevant Background:\\nGraduate with an exceptional academic track record\\nCompetency: (Top 3)\\n1. Passion for learning and having great learning outcomes\\n2. Ability to multitask and coordinate with multiple stakeholders\\n3. Excellent knowledge in python, tableau and ML concepts\\n\\nRoleOther\\nIndustry TypeEducation, Teaching, Training\\nFunctional AreaAnalytics & Business Intelligence\\nEmployment TypeFull Time, Permanent\\nRole CategoryOther\\nEducation\\nUG :B.Tech/B.E. in Any Specialization\\nKey Skills\\nTableauMachine LearningPython\\nProgram ManagementExploratory Data AnalysisUse CasesFeasibility AnalysisData CleansingData CollectionDashboardsSchedule Preparation\\nSkills highlighted with ‘‘ are preferred keyskills\"]"
      ]
     },
     "execution_count": 345,
     "metadata": {},
     "output_type": "execute_result"
    }
   ],
   "source": [
    "for i in b:\n",
    "    title=i.text\n",
    "    jd_7.append(title)\n",
    "jd_7"
   ]
  },
  {
   "cell_type": "code",
   "execution_count": 346,
   "metadata": {},
   "outputs": [],
   "source": [
    "url=\"https://www.naukri.com/job-listings-sr-analyst-data-scientist-mindtree-limited-bengaluru-bangalore-10-to-15-years-040221502130?src=jobsearchDesk&sid=16134811541847331&xp=11&px=1\""
   ]
  },
  {
   "cell_type": "code",
   "execution_count": 347,
   "metadata": {},
   "outputs": [],
   "source": [
    "driver.get(url)"
   ]
  },
  {
   "cell_type": "code",
   "execution_count": 348,
   "metadata": {},
   "outputs": [
    {
     "data": {
      "text/plain": [
       "[<selenium.webdriver.remote.webelement.WebElement (session=\"f0bd4cdcf833211fcbe9f6a957b9fa9b\", element=\"587e9eb6-d5fa-435d-b647-09e72b09f486\")>]"
      ]
     },
     "execution_count": 348,
     "metadata": {},
     "output_type": "execute_result"
    }
   ],
   "source": [
    "b = driver.find_elements_by_xpath(\"//section[@class='job-desc']\")\n",
    "b"
   ]
  },
  {
   "cell_type": "code",
   "execution_count": 349,
   "metadata": {},
   "outputs": [
    {
     "data": {
      "text/plain": [
       "['Job description\\nRole Description:\\nA Sr. Data Scientist who lead the development of analytics / machine learning / AI models for generating future prediction using data.\\nResponsibilities : - Understanding the project requirement\\n- Understand if there is any already existing ML model\\n- Leading analytics project & provide necessary guidance to the team\\n- Understand the data & doing EDA\\n- Feature engineering - Building Data Science models\\n- Validate & Piloting ML models\\n- Model tuning & improvement\\nRequired Skills:\\n- Sound theoretical knowledge in ML algorithm and their application\\n- Strong fundamental on statistics\\n- Experience in leading multiple data science projects\\n- Hands on experience on Machine learning / data science\\n- Strong stakeholder management skills\\n- Expert in Python - Hand on experience in SPARK Scala or PySpark\\nAdded Advantage:\\n- Hands on experience in Azure data bricks\\n- Working experience in CPG domain\\nSkills Required:\\nDATA ANALYSIS, Machine learning, Python, Databricks\\nRoleTeam Lead/Technical Lead\\nIndustry TypeIT-Software, Software Services\\nFunctional AreaIT Software - Application Programming, Maintenance\\nEmployment TypeFull Time, Permanent\\nRole CategoryProgramming & Design\\nEducation\\nUG :B.Tech/B.E. in Any Specialization\\nPG :Post Graduation Not Required\\nKey Skills\\nAnalystdata sciencesparkMachine learningSCALAStakeholder managementStatisticsAnalyticsPython']"
      ]
     },
     "execution_count": 349,
     "metadata": {},
     "output_type": "execute_result"
    }
   ],
   "source": [
    "for i in b:\n",
    "    title=i.text\n",
    "    jd_8.append(title)\n",
    "jd_8"
   ]
  },
  {
   "cell_type": "code",
   "execution_count": 350,
   "metadata": {},
   "outputs": [],
   "source": [
    "url=\"https://www.naukri.com/job-listings-sr-data-scientist-netapp-india-private-limited-bengaluru-bangalore-10-to-15-years-020221907730?src=jobsearchDesk&sid=16134811541847331&xp=12&px=1\""
   ]
  },
  {
   "cell_type": "code",
   "execution_count": 351,
   "metadata": {},
   "outputs": [],
   "source": [
    "driver.get(url)"
   ]
  },
  {
   "cell_type": "code",
   "execution_count": 353,
   "metadata": {},
   "outputs": [
    {
     "data": {
      "text/plain": [
       "[<selenium.webdriver.remote.webelement.WebElement (session=\"f0bd4cdcf833211fcbe9f6a957b9fa9b\", element=\"72b588c1-da4e-4ded-a437-60d180ce3b17\")>,\n",
       " <selenium.webdriver.remote.webelement.WebElement (session=\"f0bd4cdcf833211fcbe9f6a957b9fa9b\", element=\"bb61dadb-5cfd-478b-b7f1-0163aeacb42c\")>]"
      ]
     },
     "execution_count": 353,
     "metadata": {},
     "output_type": "execute_result"
    }
   ],
   "source": [
    "b = driver.find_elements_by_xpath(\"//div[@class='ptb20 hLine']\")\n",
    "b"
   ]
  },
  {
   "cell_type": "code",
   "execution_count": 354,
   "metadata": {},
   "outputs": [
    {
     "data": {
      "text/plain": [
       "['Job Description\\nJob Summary\\nThis Cloud Business Operations Data Scientist will be the primary go to person for all of NetApp Public Cloud Services needs for analyzing tons of cloud services usage and billing data to derive intelligent business insights for enabling NetApp s highest growth business. This person will be an expert in both understanding the data, as well as architecting and developing business logic and code to deliver automation in business intelligence. This is a highly technical role with deep understanding of Azure programmingPython, Ruby, R, SQL databases, visualization on Tableau, and scripting, along with years of experience in cloud services business operations. Knowledge of public cloud-based transactions on the top 3 cloud provider marketplaces (AWS, Azure and GCP) is a must, along with experience and understanding of integrations with internal systems for CRM, CPQ, Subscriptions Billing and Finance.\\nThis role will coordinate with Salesproduct management, IT and operations, and other NetApp functions including product management sales, marketing, and finance to understand, analyze and improve product pricing, SKU design, and transaction processing of our existing cloud offerings and upcoming innovations. This role will also act as the primary operations liaison between product management teams and business operations. The right person for this role has deep understanding of public cloud marketplace transaction processing, billing, metering, and revenue/usage reporting. This person also has extensive experience in dealing with cross-functional business requirements and engaging with key stakeholders at both the executive/VP level and with delivery teams.\\nJob Requirements\\nAnalyze usage and billing data from multiple sources to derive business intelligence.\\nDevelop business logic and write code to automate BI output\\nDesign and develop visualization dashboards in Tableau\\nUnderstand public cloud marketplace transaction processes and provide guidance to business operations teams on implementation best practices\\nLeverage business insights to provide guidance to product management for pricing and transaction processing design\\nSkills & Qualification\\n10+ years of experience working with various cloud providers, software vendors and/or consulting organizations\\n5+ years of experience in data analysis and business insights\\n5+ years of experience in Azure programmingPython, Ruby, R, SQL databases and Tableau\\nUnderstanding of enterprise cloud solutions and related technical offerings\\nCollaborative personality; comfortable working across many functions and teams, and engaging with senior executives\\nA creative go-getter who is full of ideas and can execute on those ideas in a fast-paced, demanding environment with excellent interpersonal and social skills\\nA bachelor s degree in engineering or science is required. A master s degree is data science, data analysis or statistics is preferred.\\n\\n\\nSalary: Not Disclosed by Recruiter\\nIndustry: IT-Hardware & Networking\\nFunctional Area: IT Software - Application Programming, Maintenance\\nRole Category: Programming & Design\\nRole: Software Developer\\nEmployment Type: Full Time, Permanent',\n",
       " 'Desired Candidate Profile\\n\\nEducation:UG -B.Tech/B.E. - Any Specialization\\nPG - Post Graduation Not Required\\nDoctorate - Doctorate Not Required']"
      ]
     },
     "execution_count": 354,
     "metadata": {},
     "output_type": "execute_result"
    }
   ],
   "source": [
    "for i in b:\n",
    "    title=i.text\n",
    "    jd_9.append(title)\n",
    "jd_9"
   ]
  },
  {
   "cell_type": "code",
   "execution_count": 355,
   "metadata": {},
   "outputs": [],
   "source": [
    "url=\"https://www.naukri.com/job-listings-data-scientist-machine-learning-commerce-bu-blue-yonder-india-private-limited-bengaluru-bangalore-2-to-7-years-160221904332?src=jobsearchDesk&sid=16134811541847331&xp=13&px=1\""
   ]
  },
  {
   "cell_type": "code",
   "execution_count": 356,
   "metadata": {},
   "outputs": [],
   "source": [
    "driver.get(url)"
   ]
  },
  {
   "cell_type": "code",
   "execution_count": 357,
   "metadata": {},
   "outputs": [
    {
     "data": {
      "text/plain": [
       "[<selenium.webdriver.remote.webelement.WebElement (session=\"f0bd4cdcf833211fcbe9f6a957b9fa9b\", element=\"c1a186ec-2b88-47f6-aaa9-3503e17d53a2\")>]"
      ]
     },
     "execution_count": 357,
     "metadata": {},
     "output_type": "execute_result"
    }
   ],
   "source": [
    "b = driver.find_elements_by_xpath(\"//div[@class='nConfig_textblock ']\")\n",
    "b"
   ]
  },
  {
   "cell_type": "code",
   "execution_count": 358,
   "metadata": {},
   "outputs": [
    {
     "data": {
      "text/plain": [
       "['Job Description\\nRoles and Responsibilities\\nOverview:\\nThe Data Science and Machine Learning team works closely with sales, product and engineering teams to design and implement the next generation of retail solutions. Data Science team members bear the heavy burden of turning both small, sparse and massive data into actionable insights with measurable improvements to the customer bottom line. They use rigorous analysis and repeatable processes to implement both black box and interpretable models.\\nResponsibilities:\\nUnder guidance, or independently, design and implement machine learning models by\\nProcuring data from platform, client and public data sources\\nImplementing data enrichment and cleansing routines\\nImplementing features, preparing modeling data sets, feature selection, etc.\\nEvaluating candidate models, selecting and reporting on test performance of final one\\nEnsuring proper runtime deployment of models, and\\nImplementing runtime monitoring of model inputs and performance in order to ensure continued model stability\\nWork with product, sales and engineering teams helping shape up the final solution\\nUse data to understand patterns, come up with and test hypothesis; iterate\\nHelp prepare sales materials, estimate hardware requirements, etc.\\nQualification:\\nBachelor’s Degree in Computer Science or related fields\\n2+ years of data science experience, retail setting preferred\\n3+ years of Python programming experience\\nFamiliarity with Big Data tech such as Hadoop and Spark\\nWorking knowledge of data science and machine learning foundations\\nExperience working with some of the following frameworks and libraries: Pandas, Numpy, sklearn, Keras, Tensorflow, Jupyter, Matplotlib etc.']"
      ]
     },
     "execution_count": 358,
     "metadata": {},
     "output_type": "execute_result"
    }
   ],
   "source": [
    "for i in b:\n",
    "    title=i.text\n",
    "    jd_10.append(title)\n",
    "jd_10"
   ]
  },
  {
   "cell_type": "markdown",
   "metadata": {},
   "source": [
    "# Q3"
   ]
  },
  {
   "cell_type": "code",
   "execution_count": 365,
   "metadata": {},
   "outputs": [],
   "source": [
    " driver = webdriver.Chrome(\"C:/Users/CHITRAK/Downloads/chromedriver.exe\")"
   ]
  },
  {
   "cell_type": "code",
   "execution_count": 366,
   "metadata": {},
   "outputs": [],
   "source": [
    "driver.get('https://www.naukri.com/')"
   ]
  },
  {
   "cell_type": "code",
   "execution_count": 367,
   "metadata": {},
   "outputs": [],
   "source": [
    "search_job = driver.find_element_by_id('qsb-keyword-sugg')\n",
    "search_job.send_keys(\"Data Scientist\")"
   ]
  },
  {
   "cell_type": "code",
   "execution_count": 368,
   "metadata": {},
   "outputs": [],
   "source": [
    "search_btn = driver.find_element_by_xpath(\"//div[@class='search-btn']/button\")\n",
    "search_btn.click()"
   ]
  },
  {
   "cell_type": "code",
   "execution_count": 369,
   "metadata": {},
   "outputs": [],
   "source": [
    "url=\"https://www.naukri.com/data-scientist-jobs?k=data%20scientist\""
   ]
  },
  {
   "cell_type": "code",
   "execution_count": 370,
   "metadata": {},
   "outputs": [],
   "source": [
    "driver.get(url)"
   ]
  },
  {
   "cell_type": "code",
   "execution_count": 372,
   "metadata": {},
   "outputs": [],
   "source": [
    "s = driver.find_elements_by_xpath(\"//span[@title='Delhi/NCR']\")\n",
    "s[0].click()"
   ]
  },
  {
   "cell_type": "code",
   "execution_count": 373,
   "metadata": {},
   "outputs": [],
   "source": [
    "s = driver.find_elements_by_xpath(\"//span[@title='3-6 Lakhs']\")\n",
    "s[0].click()"
   ]
  },
  {
   "cell_type": "code",
   "execution_count": 374,
   "metadata": {},
   "outputs": [],
   "source": [
    "job_titles=[]\n",
    "job_loc=[]\n",
    "company_name=[]\n",
    "experience_required=[]"
   ]
  },
  {
   "cell_type": "code",
   "execution_count": 375,
   "metadata": {},
   "outputs": [
    {
     "data": {
      "text/plain": [
       "[<selenium.webdriver.remote.webelement.WebElement (session=\"daf511b0de3ab21e86f8e12a3e5d9a94\", element=\"5fe29571-2ac3-4060-afe5-191802952bec\")>,\n",
       " <selenium.webdriver.remote.webelement.WebElement (session=\"daf511b0de3ab21e86f8e12a3e5d9a94\", element=\"ca80df72-1e4f-4412-8642-03ec2f688124\")>,\n",
       " <selenium.webdriver.remote.webelement.WebElement (session=\"daf511b0de3ab21e86f8e12a3e5d9a94\", element=\"2337bbc1-507b-4498-a8f8-fda9852628f0\")>,\n",
       " <selenium.webdriver.remote.webelement.WebElement (session=\"daf511b0de3ab21e86f8e12a3e5d9a94\", element=\"b0f47a36-ff99-4fe4-803b-063f30fa2868\")>,\n",
       " <selenium.webdriver.remote.webelement.WebElement (session=\"daf511b0de3ab21e86f8e12a3e5d9a94\", element=\"29b8e5dd-615b-4557-b972-6ac46551c32d\")>,\n",
       " <selenium.webdriver.remote.webelement.WebElement (session=\"daf511b0de3ab21e86f8e12a3e5d9a94\", element=\"5642397c-431a-4331-ad0a-cf141df09cd6\")>,\n",
       " <selenium.webdriver.remote.webelement.WebElement (session=\"daf511b0de3ab21e86f8e12a3e5d9a94\", element=\"048a6c6a-979f-47b1-985d-746679cc97f9\")>,\n",
       " <selenium.webdriver.remote.webelement.WebElement (session=\"daf511b0de3ab21e86f8e12a3e5d9a94\", element=\"9024dded-66f1-4ec9-ae85-fbc51e6039b8\")>,\n",
       " <selenium.webdriver.remote.webelement.WebElement (session=\"daf511b0de3ab21e86f8e12a3e5d9a94\", element=\"67f7a064-a762-46c0-a356-6292de7aac19\")>,\n",
       " <selenium.webdriver.remote.webelement.WebElement (session=\"daf511b0de3ab21e86f8e12a3e5d9a94\", element=\"0c712475-3390-4cca-9f58-cedd49ae92cd\")>]"
      ]
     },
     "execution_count": 375,
     "metadata": {},
     "output_type": "execute_result"
    }
   ],
   "source": [
    "titles_tag = driver.find_elements_by_xpath(\"//a[@class='title fw500 ellipsis']\")\n",
    "titles_tag[0:10]"
   ]
  },
  {
   "cell_type": "code",
   "execution_count": 376,
   "metadata": {},
   "outputs": [
    {
     "data": {
      "text/plain": [
       "['Data Scientist',\n",
       " 'Data Scientist',\n",
       " 'Senior Data Scientist - NLP',\n",
       " 'Only Fresher / Data Scientist / Data Analyst / Analytics - MNC',\n",
       " 'Data Scientist',\n",
       " 'Data Scientist - Python/Machine Learning',\n",
       " 'Data Scientist Machine Learning',\n",
       " 'Tech Mahindra hiring For Data Scientist- Noida',\n",
       " 'Data Scientist - Commercial Planning and Analysis',\n",
       " 'Business Analyst - Data Scientist']"
      ]
     },
     "execution_count": 376,
     "metadata": {},
     "output_type": "execute_result"
    }
   ],
   "source": [
    "for i in titles_tag:\n",
    "    title=i.text\n",
    "    job_titles.append(title)\n",
    "job_titles[0:10]"
   ]
  },
  {
   "cell_type": "code",
   "execution_count": 377,
   "metadata": {},
   "outputs": [
    {
     "data": {
      "text/plain": [
       "[<selenium.webdriver.remote.webelement.WebElement (session=\"daf511b0de3ab21e86f8e12a3e5d9a94\", element=\"4e9cc808-fd1a-449c-8f4e-74c6e8657a34\")>,\n",
       " <selenium.webdriver.remote.webelement.WebElement (session=\"daf511b0de3ab21e86f8e12a3e5d9a94\", element=\"70bc4af2-bd86-477e-94a9-5d0614d1fafe\")>,\n",
       " <selenium.webdriver.remote.webelement.WebElement (session=\"daf511b0de3ab21e86f8e12a3e5d9a94\", element=\"975148ab-6deb-4627-b2f8-23edf13351cf\")>,\n",
       " <selenium.webdriver.remote.webelement.WebElement (session=\"daf511b0de3ab21e86f8e12a3e5d9a94\", element=\"b885d409-eca4-45b2-88b9-5eca4404c42d\")>,\n",
       " <selenium.webdriver.remote.webelement.WebElement (session=\"daf511b0de3ab21e86f8e12a3e5d9a94\", element=\"675a00c1-bc72-4f75-9355-30250c192885\")>,\n",
       " <selenium.webdriver.remote.webelement.WebElement (session=\"daf511b0de3ab21e86f8e12a3e5d9a94\", element=\"6e078562-b61b-4ec0-98d6-6a6883c21003\")>,\n",
       " <selenium.webdriver.remote.webelement.WebElement (session=\"daf511b0de3ab21e86f8e12a3e5d9a94\", element=\"be8a73ce-32dd-4592-989c-5634dc85e4db\")>,\n",
       " <selenium.webdriver.remote.webelement.WebElement (session=\"daf511b0de3ab21e86f8e12a3e5d9a94\", element=\"b32fe3a3-01ac-4304-9429-71c6abcfa37f\")>,\n",
       " <selenium.webdriver.remote.webelement.WebElement (session=\"daf511b0de3ab21e86f8e12a3e5d9a94\", element=\"591b8324-8859-4305-abf8-dbcca4a2ec0f\")>,\n",
       " <selenium.webdriver.remote.webelement.WebElement (session=\"daf511b0de3ab21e86f8e12a3e5d9a94\", element=\"1f79e67d-a647-4d57-b831-13f4670768fc\")>]"
      ]
     },
     "execution_count": 377,
     "metadata": {},
     "output_type": "execute_result"
    }
   ],
   "source": [
    "l = driver.find_elements_by_xpath(\"//li[@class='fleft grey-text br2 placeHolderLi location']\")\n",
    "l[0:10]"
   ]
  },
  {
   "cell_type": "code",
   "execution_count": 378,
   "metadata": {},
   "outputs": [
    {
     "data": {
      "text/plain": [
       "['Ghaziabad, Bhopal, Lucknow, Kanpur, Rajkot, Bengaluru, Gurgaon, Agra, Bharuch, Jaunpur, Nagpur, Delhi, Mumbai, Jaipur, Jhansi',\n",
       " 'Gurgaon Gurugram',\n",
       " 'Delhi NCR',\n",
       " 'Delhi NCR, Noida, Gurgaon',\n",
       " 'Gurgaon Gurugram',\n",
       " 'Noida',\n",
       " 'Gurgaon',\n",
       " 'Noida',\n",
       " 'Delhi NCR, Gurgaon',\n",
       " 'Gurgaon']"
      ]
     },
     "execution_count": 378,
     "metadata": {},
     "output_type": "execute_result"
    }
   ],
   "source": [
    "for i in l:\n",
    "    title=i.text\n",
    "    job_loc.append(title)\n",
    "job_loc[0:10]"
   ]
  },
  {
   "cell_type": "code",
   "execution_count": 379,
   "metadata": {},
   "outputs": [
    {
     "data": {
      "text/plain": [
       "[<selenium.webdriver.remote.webelement.WebElement (session=\"daf511b0de3ab21e86f8e12a3e5d9a94\", element=\"f46e214f-03b0-4c29-aac4-323772243667\")>,\n",
       " <selenium.webdriver.remote.webelement.WebElement (session=\"daf511b0de3ab21e86f8e12a3e5d9a94\", element=\"ed156d7b-4044-4ed8-8ef6-7723e7612b7a\")>,\n",
       " <selenium.webdriver.remote.webelement.WebElement (session=\"daf511b0de3ab21e86f8e12a3e5d9a94\", element=\"36eab7ec-3d19-4f4c-93a3-a5bc7d3e3fc3\")>,\n",
       " <selenium.webdriver.remote.webelement.WebElement (session=\"daf511b0de3ab21e86f8e12a3e5d9a94\", element=\"5dd06803-c13f-47e8-9391-a071981be04a\")>,\n",
       " <selenium.webdriver.remote.webelement.WebElement (session=\"daf511b0de3ab21e86f8e12a3e5d9a94\", element=\"fdd5b29b-9789-4b1f-befa-73ee2996dc1d\")>,\n",
       " <selenium.webdriver.remote.webelement.WebElement (session=\"daf511b0de3ab21e86f8e12a3e5d9a94\", element=\"7017277f-43be-4e42-952f-d1ad8e7d3c28\")>,\n",
       " <selenium.webdriver.remote.webelement.WebElement (session=\"daf511b0de3ab21e86f8e12a3e5d9a94\", element=\"7dabda96-dbd2-48ec-90c4-49fe3e1fdd3b\")>,\n",
       " <selenium.webdriver.remote.webelement.WebElement (session=\"daf511b0de3ab21e86f8e12a3e5d9a94\", element=\"82ec3c86-296d-46fb-9951-d26f1daddd9e\")>,\n",
       " <selenium.webdriver.remote.webelement.WebElement (session=\"daf511b0de3ab21e86f8e12a3e5d9a94\", element=\"e6ab67a7-4794-4af0-bdab-a9a66c7b4648\")>,\n",
       " <selenium.webdriver.remote.webelement.WebElement (session=\"daf511b0de3ab21e86f8e12a3e5d9a94\", element=\"e3159ebc-d3ab-4b90-85fd-773a5d79a587\")>]"
      ]
     },
     "execution_count": 379,
     "metadata": {},
     "output_type": "execute_result"
    }
   ],
   "source": [
    "c = driver.find_elements_by_xpath(\"//div[@class='mt-7 companyInfo subheading lh16']\")\n",
    "c[0:10]"
   ]
  },
  {
   "cell_type": "code",
   "execution_count": 380,
   "metadata": {},
   "outputs": [
    {
     "data": {
      "text/plain": [
       "['Country Veggie',\n",
       " 'IBM India Pvt. Limited\\n4.1\\n(8806 Reviews)',\n",
       " 'IRIS SOFTWARE Inc\\n3.2\\n(88 Reviews)',\n",
       " 'GABA Consultancy services',\n",
       " 'Ciena\\n4.3\\n(83 Reviews)',\n",
       " 'Jubna',\n",
       " 'Delhivery\\n4.2\\n(1246 Reviews)',\n",
       " 'tech mahindra ltd\\n3.6\\n(10444 Reviews)',\n",
       " 'Air Asia India Limited\\n3.7\\n(59 Reviews)',\n",
       " 'HyreFox Consultants Pvt Ltd\\n4.3\\n(14 Reviews)']"
      ]
     },
     "execution_count": 380,
     "metadata": {},
     "output_type": "execute_result"
    }
   ],
   "source": [
    "for i in c:\n",
    "    title=i.text\n",
    "    company_name.append(title)\n",
    "company_name[0:10]\n"
   ]
  },
  {
   "cell_type": "code",
   "execution_count": 381,
   "metadata": {},
   "outputs": [
    {
     "data": {
      "text/plain": [
       "[<selenium.webdriver.remote.webelement.WebElement (session=\"daf511b0de3ab21e86f8e12a3e5d9a94\", element=\"4ca558c4-e054-4d31-88e1-a1196828b023\")>,\n",
       " <selenium.webdriver.remote.webelement.WebElement (session=\"daf511b0de3ab21e86f8e12a3e5d9a94\", element=\"220cb9c1-e44d-4e4b-b83d-ccd59d669a62\")>,\n",
       " <selenium.webdriver.remote.webelement.WebElement (session=\"daf511b0de3ab21e86f8e12a3e5d9a94\", element=\"bcffd2a4-2ca8-4f5d-b269-c4b9e832e918\")>,\n",
       " <selenium.webdriver.remote.webelement.WebElement (session=\"daf511b0de3ab21e86f8e12a3e5d9a94\", element=\"c1a675cb-783e-418b-ae2c-a0aace78f21b\")>,\n",
       " <selenium.webdriver.remote.webelement.WebElement (session=\"daf511b0de3ab21e86f8e12a3e5d9a94\", element=\"00af74a7-dde1-4810-ac3c-0876edf81bb4\")>,\n",
       " <selenium.webdriver.remote.webelement.WebElement (session=\"daf511b0de3ab21e86f8e12a3e5d9a94\", element=\"6cb61f26-dd1a-48f3-b0de-85a8a0f1fdfa\")>,\n",
       " <selenium.webdriver.remote.webelement.WebElement (session=\"daf511b0de3ab21e86f8e12a3e5d9a94\", element=\"e1906040-09c2-4305-89bb-b3918bd9f936\")>,\n",
       " <selenium.webdriver.remote.webelement.WebElement (session=\"daf511b0de3ab21e86f8e12a3e5d9a94\", element=\"4e984a0c-3caa-463f-887e-b24c123ad30e\")>,\n",
       " <selenium.webdriver.remote.webelement.WebElement (session=\"daf511b0de3ab21e86f8e12a3e5d9a94\", element=\"aa0f7bc3-39b8-4d0d-8d16-d147d47ce6f2\")>,\n",
       " <selenium.webdriver.remote.webelement.WebElement (session=\"daf511b0de3ab21e86f8e12a3e5d9a94\", element=\"c4af7f8b-00fa-4e56-b7fd-f52582a87bc8\")>]"
      ]
     },
     "execution_count": 381,
     "metadata": {},
     "output_type": "execute_result"
    }
   ],
   "source": [
    "e = driver.find_elements_by_xpath(\"//li[@class='fleft grey-text br2 placeHolderLi experience']\")\n",
    "e[0:10]"
   ]
  },
  {
   "cell_type": "code",
   "execution_count": 382,
   "metadata": {},
   "outputs": [
    {
     "data": {
      "text/plain": [
       "['1-3 Yrs',\n",
       " '4-8 Yrs',\n",
       " '4-9 Yrs',\n",
       " '0-0 Yrs',\n",
       " '5-6 Yrs',\n",
       " '5-8 Yrs',\n",
       " '1-3 Yrs',\n",
       " '5-10 Yrs',\n",
       " '1-6 Yrs',\n",
       " '3-5 Yrs']"
      ]
     },
     "execution_count": 382,
     "metadata": {},
     "output_type": "execute_result"
    }
   ],
   "source": [
    "for i in e:\n",
    "    title=i.text\n",
    "    experience_required.append(title)\n",
    "experience_required[0:10]\n"
   ]
  },
  {
   "cell_type": "code",
   "execution_count": 383,
   "metadata": {},
   "outputs": [
    {
     "data": {
      "text/html": [
       "<div>\n",
       "<style scoped>\n",
       "    .dataframe tbody tr th:only-of-type {\n",
       "        vertical-align: middle;\n",
       "    }\n",
       "\n",
       "    .dataframe tbody tr th {\n",
       "        vertical-align: top;\n",
       "    }\n",
       "\n",
       "    .dataframe thead th {\n",
       "        text-align: right;\n",
       "    }\n",
       "</style>\n",
       "<table border=\"1\" class=\"dataframe\">\n",
       "  <thead>\n",
       "    <tr style=\"text-align: right;\">\n",
       "      <th></th>\n",
       "      <th>JOB TITLE</th>\n",
       "      <th>LOCATION</th>\n",
       "      <th>COMPANY</th>\n",
       "      <th>EXPERIENCE</th>\n",
       "    </tr>\n",
       "  </thead>\n",
       "  <tbody>\n",
       "    <tr>\n",
       "      <th>0</th>\n",
       "      <td>Data Scientist</td>\n",
       "      <td>Ghaziabad, Bhopal, Lucknow, Kanpur, Rajkot, Be...</td>\n",
       "      <td>Country Veggie</td>\n",
       "      <td>1-3 Yrs</td>\n",
       "    </tr>\n",
       "    <tr>\n",
       "      <th>1</th>\n",
       "      <td>Data Scientist</td>\n",
       "      <td>Gurgaon Gurugram</td>\n",
       "      <td>IBM India Pvt. Limited\\n4.1\\n(8806 Reviews)</td>\n",
       "      <td>4-8 Yrs</td>\n",
       "    </tr>\n",
       "    <tr>\n",
       "      <th>2</th>\n",
       "      <td>Senior Data Scientist - NLP</td>\n",
       "      <td>Delhi NCR</td>\n",
       "      <td>IRIS SOFTWARE Inc\\n3.2\\n(88 Reviews)</td>\n",
       "      <td>4-9 Yrs</td>\n",
       "    </tr>\n",
       "    <tr>\n",
       "      <th>3</th>\n",
       "      <td>Only Fresher / Data Scientist / Data Analyst /...</td>\n",
       "      <td>Delhi NCR, Noida, Gurgaon</td>\n",
       "      <td>GABA Consultancy services</td>\n",
       "      <td>0-0 Yrs</td>\n",
       "    </tr>\n",
       "    <tr>\n",
       "      <th>4</th>\n",
       "      <td>Data Scientist</td>\n",
       "      <td>Gurgaon Gurugram</td>\n",
       "      <td>Ciena\\n4.3\\n(83 Reviews)</td>\n",
       "      <td>5-6 Yrs</td>\n",
       "    </tr>\n",
       "    <tr>\n",
       "      <th>5</th>\n",
       "      <td>Data Scientist - Python/Machine Learning</td>\n",
       "      <td>Noida</td>\n",
       "      <td>Jubna</td>\n",
       "      <td>5-8 Yrs</td>\n",
       "    </tr>\n",
       "    <tr>\n",
       "      <th>6</th>\n",
       "      <td>Data Scientist Machine Learning</td>\n",
       "      <td>Gurgaon</td>\n",
       "      <td>Delhivery\\n4.2\\n(1246 Reviews)</td>\n",
       "      <td>1-3 Yrs</td>\n",
       "    </tr>\n",
       "    <tr>\n",
       "      <th>7</th>\n",
       "      <td>Tech Mahindra hiring For Data Scientist- Noida</td>\n",
       "      <td>Noida</td>\n",
       "      <td>tech mahindra ltd\\n3.6\\n(10444 Reviews)</td>\n",
       "      <td>5-10 Yrs</td>\n",
       "    </tr>\n",
       "    <tr>\n",
       "      <th>8</th>\n",
       "      <td>Data Scientist - Commercial Planning and Analysis</td>\n",
       "      <td>Delhi NCR, Gurgaon</td>\n",
       "      <td>Air Asia India Limited\\n3.7\\n(59 Reviews)</td>\n",
       "      <td>1-6 Yrs</td>\n",
       "    </tr>\n",
       "    <tr>\n",
       "      <th>9</th>\n",
       "      <td>Business Analyst - Data Scientist</td>\n",
       "      <td>Gurgaon</td>\n",
       "      <td>HyreFox Consultants Pvt Ltd\\n4.3\\n(14 Reviews)</td>\n",
       "      <td>3-5 Yrs</td>\n",
       "    </tr>\n",
       "  </tbody>\n",
       "</table>\n",
       "</div>"
      ],
      "text/plain": [
       "                                           JOB TITLE  \\\n",
       "0                                     Data Scientist   \n",
       "1                                     Data Scientist   \n",
       "2                        Senior Data Scientist - NLP   \n",
       "3  Only Fresher / Data Scientist / Data Analyst /...   \n",
       "4                                     Data Scientist   \n",
       "5           Data Scientist - Python/Machine Learning   \n",
       "6                    Data Scientist Machine Learning   \n",
       "7     Tech Mahindra hiring For Data Scientist- Noida   \n",
       "8  Data Scientist - Commercial Planning and Analysis   \n",
       "9                  Business Analyst - Data Scientist   \n",
       "\n",
       "                                            LOCATION  \\\n",
       "0  Ghaziabad, Bhopal, Lucknow, Kanpur, Rajkot, Be...   \n",
       "1                                   Gurgaon Gurugram   \n",
       "2                                          Delhi NCR   \n",
       "3                          Delhi NCR, Noida, Gurgaon   \n",
       "4                                   Gurgaon Gurugram   \n",
       "5                                              Noida   \n",
       "6                                            Gurgaon   \n",
       "7                                              Noida   \n",
       "8                                 Delhi NCR, Gurgaon   \n",
       "9                                            Gurgaon   \n",
       "\n",
       "                                          COMPANY EXPERIENCE  \n",
       "0                                  Country Veggie    1-3 Yrs  \n",
       "1     IBM India Pvt. Limited\\n4.1\\n(8806 Reviews)    4-8 Yrs  \n",
       "2            IRIS SOFTWARE Inc\\n3.2\\n(88 Reviews)    4-9 Yrs  \n",
       "3                       GABA Consultancy services    0-0 Yrs  \n",
       "4                        Ciena\\n4.3\\n(83 Reviews)    5-6 Yrs  \n",
       "5                                           Jubna    5-8 Yrs  \n",
       "6                  Delhivery\\n4.2\\n(1246 Reviews)    1-3 Yrs  \n",
       "7         tech mahindra ltd\\n3.6\\n(10444 Reviews)   5-10 Yrs  \n",
       "8       Air Asia India Limited\\n3.7\\n(59 Reviews)    1-6 Yrs  \n",
       "9  HyreFox Consultants Pvt Ltd\\n4.3\\n(14 Reviews)    3-5 Yrs  "
      ]
     },
     "execution_count": 383,
     "metadata": {},
     "output_type": "execute_result"
    }
   ],
   "source": [
    "import pandas as pd\n",
    "table=pd.DataFrame({})\n",
    "\n",
    "table['JOB TITLE']=job_titles[:10]\n",
    "table['LOCATION']=job_loc[:10]\n",
    "table['COMPANY']=company_name[:10]\n",
    "table['EXPERIENCE']=experience_required[0:10]\n",
    "\n",
    "table"
   ]
  },
  {
   "cell_type": "markdown",
   "metadata": {},
   "source": [
    "# Q4"
   ]
  },
  {
   "cell_type": "code",
   "execution_count": 246,
   "metadata": {},
   "outputs": [],
   "source": [
    " driver = webdriver.Chrome(\"C:/Users/CHITRAK/Downloads/chromedriver.exe\")"
   ]
  },
  {
   "cell_type": "code",
   "execution_count": 247,
   "metadata": {},
   "outputs": [],
   "source": [
    "driver.get('https://www.glassdoor.co.in/index.htm')"
   ]
  },
  {
   "cell_type": "code",
   "execution_count": 256,
   "metadata": {},
   "outputs": [],
   "source": [
    "search_job = driver.find_element_by_id('scKeyword')\n",
    "search_job.send_keys(\"Data Scientist\")\n",
    "search_loc= driver.find_element_by_id('scLocation')\n",
    "search_loc.send_keys(\"Noida\")"
   ]
  },
  {
   "cell_type": "code",
   "execution_count": 257,
   "metadata": {},
   "outputs": [],
   "source": [
    "search_btn = driver.find_element_by_xpath(\"//div[@class='d-flex SearchStyles__searchKeywordContainer SearchStyles__searchFormInputContainer']/button\")\n",
    "search_btn.click()"
   ]
  },
  {
   "cell_type": "code",
   "execution_count": 258,
   "metadata": {},
   "outputs": [],
   "source": [
    "url=\"https://www.glassdoor.co.in/Job/noida-data-scientist-jobs-SRCH_IL.0,5_IC4477468_KO6,20.htm\""
   ]
  },
  {
   "cell_type": "code",
   "execution_count": 259,
   "metadata": {},
   "outputs": [],
   "source": [
    "driver.get(url)"
   ]
  },
  {
   "cell_type": "code",
   "execution_count": 260,
   "metadata": {},
   "outputs": [],
   "source": [
    "job_titles=[]\n",
    "job_loc=[]\n",
    "company_name=[]"
   ]
  },
  {
   "cell_type": "code",
   "execution_count": 263,
   "metadata": {},
   "outputs": [
    {
     "data": {
      "text/plain": [
       "[<selenium.webdriver.remote.webelement.WebElement (session=\"cff287e03209d870bfe56e97b976b081\", element=\"00c35909-c09d-4aa7-8b02-aeef214b1539\")>,\n",
       " <selenium.webdriver.remote.webelement.WebElement (session=\"cff287e03209d870bfe56e97b976b081\", element=\"ff70cb0e-61d9-4ce3-9f5d-5926336b2588\")>,\n",
       " <selenium.webdriver.remote.webelement.WebElement (session=\"cff287e03209d870bfe56e97b976b081\", element=\"c81d3bff-b3b2-4226-b56e-c3060416e537\")>,\n",
       " <selenium.webdriver.remote.webelement.WebElement (session=\"cff287e03209d870bfe56e97b976b081\", element=\"82bf509d-3997-4cf2-a6aa-185e9923156f\")>,\n",
       " <selenium.webdriver.remote.webelement.WebElement (session=\"cff287e03209d870bfe56e97b976b081\", element=\"d38da4f0-3431-45ac-9c2f-6b7297a8a059\")>,\n",
       " <selenium.webdriver.remote.webelement.WebElement (session=\"cff287e03209d870bfe56e97b976b081\", element=\"b1e72920-b8db-4c74-9469-a7b863907235\")>,\n",
       " <selenium.webdriver.remote.webelement.WebElement (session=\"cff287e03209d870bfe56e97b976b081\", element=\"52b1be2d-b115-4b03-b238-170a98856658\")>,\n",
       " <selenium.webdriver.remote.webelement.WebElement (session=\"cff287e03209d870bfe56e97b976b081\", element=\"fdd9772d-9d57-479f-a301-3fdb3464efe2\")>,\n",
       " <selenium.webdriver.remote.webelement.WebElement (session=\"cff287e03209d870bfe56e97b976b081\", element=\"1b34c3b0-258f-4727-b531-2a3a05a10124\")>,\n",
       " <selenium.webdriver.remote.webelement.WebElement (session=\"cff287e03209d870bfe56e97b976b081\", element=\"5a951d6b-2e02-452d-be62-247be4e4cc0e\")>]"
      ]
     },
     "execution_count": 263,
     "metadata": {},
     "output_type": "execute_result"
    }
   ],
   "source": [
    "t = driver.find_elements_by_xpath(\"//a[@class='jobLink css-1rd3saf eigr9kq2']\")\n",
    "t[0:10]"
   ]
  },
  {
   "cell_type": "code",
   "execution_count": 264,
   "metadata": {},
   "outputs": [
    {
     "data": {
      "text/plain": [
       "['Associate / Vice President - Data Engineer | Gurgaon',\n",
       " 'Business and Data Analyst - GUR',\n",
       " 'Data Scientist',\n",
       " 'Data Scientist',\n",
       " 'Data Scientist',\n",
       " 'Data Scientist',\n",
       " 'Data Scientist',\n",
       " 'Data Scientist',\n",
       " 'Data Scientist',\n",
       " 'Data Scientist']"
      ]
     },
     "execution_count": 264,
     "metadata": {},
     "output_type": "execute_result"
    }
   ],
   "source": [
    "for i in t:\n",
    "    title=i.text\n",
    "    job_titles.append(title)\n",
    "job_titles[0:10]"
   ]
  },
  {
   "cell_type": "code",
   "execution_count": 265,
   "metadata": {},
   "outputs": [
    {
     "data": {
      "text/plain": [
       "[<selenium.webdriver.remote.webelement.WebElement (session=\"cff287e03209d870bfe56e97b976b081\", element=\"e00b0768-d8f9-48db-8b6e-7b0725db2cc9\")>,\n",
       " <selenium.webdriver.remote.webelement.WebElement (session=\"cff287e03209d870bfe56e97b976b081\", element=\"e417307c-58da-432a-b772-20f59f2d66a7\")>,\n",
       " <selenium.webdriver.remote.webelement.WebElement (session=\"cff287e03209d870bfe56e97b976b081\", element=\"8f3582e8-ed06-4ada-b4e4-a14ad2d89590\")>,\n",
       " <selenium.webdriver.remote.webelement.WebElement (session=\"cff287e03209d870bfe56e97b976b081\", element=\"b4e89e85-c961-4fcc-b38b-34ab53c5bbc7\")>,\n",
       " <selenium.webdriver.remote.webelement.WebElement (session=\"cff287e03209d870bfe56e97b976b081\", element=\"f6286019-8f33-4fec-b1cc-d45956b28fec\")>,\n",
       " <selenium.webdriver.remote.webelement.WebElement (session=\"cff287e03209d870bfe56e97b976b081\", element=\"456bb80d-5f40-45a8-9396-c8ffff679b1a\")>,\n",
       " <selenium.webdriver.remote.webelement.WebElement (session=\"cff287e03209d870bfe56e97b976b081\", element=\"b4dcce8f-9d65-4adc-bf37-969ca9f92ddd\")>,\n",
       " <selenium.webdriver.remote.webelement.WebElement (session=\"cff287e03209d870bfe56e97b976b081\", element=\"1a68e1ba-e40a-4e17-bd84-dfd1393cd50f\")>,\n",
       " <selenium.webdriver.remote.webelement.WebElement (session=\"cff287e03209d870bfe56e97b976b081\", element=\"3495c585-2943-425b-8c12-a94c0f355471\")>,\n",
       " <selenium.webdriver.remote.webelement.WebElement (session=\"cff287e03209d870bfe56e97b976b081\", element=\"c5f7638a-85ff-4504-89ab-44bb664708f3\")>]"
      ]
     },
     "execution_count": 265,
     "metadata": {},
     "output_type": "execute_result"
    }
   ],
   "source": [
    "l = driver.find_elements_by_xpath(\"//span[@class='pr-xxsm css-1ndif2q e1rrn5ka0']\")\n",
    "l[0:10]"
   ]
  },
  {
   "cell_type": "code",
   "execution_count": 266,
   "metadata": {},
   "outputs": [
    {
     "data": {
      "text/plain": [
       "['Gurgaon',\n",
       " 'Gurgaon',\n",
       " 'Noida',\n",
       " 'Noida',\n",
       " 'Noida',\n",
       " 'Noida',\n",
       " 'New Delhi',\n",
       " 'Noida',\n",
       " 'Noida',\n",
       " 'Noida']"
      ]
     },
     "execution_count": 266,
     "metadata": {},
     "output_type": "execute_result"
    }
   ],
   "source": [
    "for i in l:\n",
    "    title=i.text\n",
    "    job_loc.append(title)\n",
    "job_loc[0:10]"
   ]
  },
  {
   "cell_type": "code",
   "execution_count": 267,
   "metadata": {},
   "outputs": [
    {
     "data": {
      "text/plain": [
       "[<selenium.webdriver.remote.webelement.WebElement (session=\"cff287e03209d870bfe56e97b976b081\", element=\"37c2b738-6e3a-4a52-af05-5d9b38abef43\")>,\n",
       " <selenium.webdriver.remote.webelement.WebElement (session=\"cff287e03209d870bfe56e97b976b081\", element=\"b4f1f592-187a-4000-91d6-ac44e69ebf43\")>,\n",
       " <selenium.webdriver.remote.webelement.WebElement (session=\"cff287e03209d870bfe56e97b976b081\", element=\"40205633-4e9a-4237-a6e8-b59c78a50ab3\")>,\n",
       " <selenium.webdriver.remote.webelement.WebElement (session=\"cff287e03209d870bfe56e97b976b081\", element=\"91fc83dd-588a-429d-96ce-7dbd7499f6e2\")>,\n",
       " <selenium.webdriver.remote.webelement.WebElement (session=\"cff287e03209d870bfe56e97b976b081\", element=\"86dba394-3979-443d-9a0a-8a1fcb170675\")>,\n",
       " <selenium.webdriver.remote.webelement.WebElement (session=\"cff287e03209d870bfe56e97b976b081\", element=\"673af3a8-726a-45ad-9575-d23b4b41f074\")>,\n",
       " <selenium.webdriver.remote.webelement.WebElement (session=\"cff287e03209d870bfe56e97b976b081\", element=\"35366a55-a568-4b6a-b594-019b30cb7a8c\")>,\n",
       " <selenium.webdriver.remote.webelement.WebElement (session=\"cff287e03209d870bfe56e97b976b081\", element=\"b9cb1f18-d746-47a7-9b55-12c1606250f7\")>,\n",
       " <selenium.webdriver.remote.webelement.WebElement (session=\"cff287e03209d870bfe56e97b976b081\", element=\"751dad0f-908f-4819-aab5-78c5f267145a\")>,\n",
       " <selenium.webdriver.remote.webelement.WebElement (session=\"cff287e03209d870bfe56e97b976b081\", element=\"170095b4-059b-4c20-9861-1ebbf022b217\")>]"
      ]
     },
     "execution_count": 267,
     "metadata": {},
     "output_type": "execute_result"
    }
   ],
   "source": [
    "c = driver.find_elements_by_xpath(\"//div[@class='d-flex justify-content-between align-items-start']\")\n",
    "c[0:10]"
   ]
  },
  {
   "cell_type": "code",
   "execution_count": 268,
   "metadata": {},
   "outputs": [
    {
     "data": {
      "text/plain": [
       "['BlackRock',\n",
       " 'BlackRock',\n",
       " 'abc consultants',\n",
       " 'Adobe',\n",
       " 'Brickred',\n",
       " 'Biz2Credit Inc',\n",
       " 'Terra Economics & Analytics Lab (TEAL)',\n",
       " 'Gauge Data Solutions',\n",
       " 'Healtheoz India',\n",
       " 'Priority Vendor']"
      ]
     },
     "execution_count": 268,
     "metadata": {},
     "output_type": "execute_result"
    }
   ],
   "source": [
    "for i in c:\n",
    "    title=i.text\n",
    "    company_name.append(title)\n",
    "company_name[0:10]"
   ]
  },
  {
   "cell_type": "code",
   "execution_count": 269,
   "metadata": {},
   "outputs": [
    {
     "data": {
      "text/html": [
       "<div>\n",
       "<style scoped>\n",
       "    .dataframe tbody tr th:only-of-type {\n",
       "        vertical-align: middle;\n",
       "    }\n",
       "\n",
       "    .dataframe tbody tr th {\n",
       "        vertical-align: top;\n",
       "    }\n",
       "\n",
       "    .dataframe thead th {\n",
       "        text-align: right;\n",
       "    }\n",
       "</style>\n",
       "<table border=\"1\" class=\"dataframe\">\n",
       "  <thead>\n",
       "    <tr style=\"text-align: right;\">\n",
       "      <th></th>\n",
       "      <th>JOB TITLE</th>\n",
       "      <th>LOCATION</th>\n",
       "      <th>COMPANY</th>\n",
       "    </tr>\n",
       "  </thead>\n",
       "  <tbody>\n",
       "    <tr>\n",
       "      <th>0</th>\n",
       "      <td>Associate / Vice President - Data Engineer | G...</td>\n",
       "      <td>Gurgaon</td>\n",
       "      <td>BlackRock</td>\n",
       "    </tr>\n",
       "    <tr>\n",
       "      <th>1</th>\n",
       "      <td>Business and Data Analyst - GUR</td>\n",
       "      <td>Gurgaon</td>\n",
       "      <td>BlackRock</td>\n",
       "    </tr>\n",
       "    <tr>\n",
       "      <th>2</th>\n",
       "      <td>Data Scientist</td>\n",
       "      <td>Noida</td>\n",
       "      <td>abc consultants</td>\n",
       "    </tr>\n",
       "    <tr>\n",
       "      <th>3</th>\n",
       "      <td>Data Scientist</td>\n",
       "      <td>Noida</td>\n",
       "      <td>Adobe</td>\n",
       "    </tr>\n",
       "    <tr>\n",
       "      <th>4</th>\n",
       "      <td>Data Scientist</td>\n",
       "      <td>Noida</td>\n",
       "      <td>Brickred</td>\n",
       "    </tr>\n",
       "    <tr>\n",
       "      <th>5</th>\n",
       "      <td>Data Scientist</td>\n",
       "      <td>Noida</td>\n",
       "      <td>Biz2Credit Inc</td>\n",
       "    </tr>\n",
       "    <tr>\n",
       "      <th>6</th>\n",
       "      <td>Data Scientist</td>\n",
       "      <td>New Delhi</td>\n",
       "      <td>Terra Economics &amp; Analytics Lab (TEAL)</td>\n",
       "    </tr>\n",
       "    <tr>\n",
       "      <th>7</th>\n",
       "      <td>Data Scientist</td>\n",
       "      <td>Noida</td>\n",
       "      <td>Gauge Data Solutions</td>\n",
       "    </tr>\n",
       "    <tr>\n",
       "      <th>8</th>\n",
       "      <td>Data Scientist</td>\n",
       "      <td>Noida</td>\n",
       "      <td>Healtheoz India</td>\n",
       "    </tr>\n",
       "    <tr>\n",
       "      <th>9</th>\n",
       "      <td>Data Scientist</td>\n",
       "      <td>Noida</td>\n",
       "      <td>Priority Vendor</td>\n",
       "    </tr>\n",
       "  </tbody>\n",
       "</table>\n",
       "</div>"
      ],
      "text/plain": [
       "                                           JOB TITLE   LOCATION  \\\n",
       "0  Associate / Vice President - Data Engineer | G...    Gurgaon   \n",
       "1                    Business and Data Analyst - GUR    Gurgaon   \n",
       "2                                     Data Scientist      Noida   \n",
       "3                                     Data Scientist      Noida   \n",
       "4                                     Data Scientist      Noida   \n",
       "5                                     Data Scientist      Noida   \n",
       "6                                     Data Scientist  New Delhi   \n",
       "7                                     Data Scientist      Noida   \n",
       "8                                     Data Scientist      Noida   \n",
       "9                                     Data Scientist      Noida   \n",
       "\n",
       "                                  COMPANY  \n",
       "0                               BlackRock  \n",
       "1                               BlackRock  \n",
       "2                         abc consultants  \n",
       "3                                   Adobe  \n",
       "4                                Brickred  \n",
       "5                          Biz2Credit Inc  \n",
       "6  Terra Economics & Analytics Lab (TEAL)  \n",
       "7                    Gauge Data Solutions  \n",
       "8                         Healtheoz India  \n",
       "9                         Priority Vendor  "
      ]
     },
     "execution_count": 269,
     "metadata": {},
     "output_type": "execute_result"
    }
   ],
   "source": [
    "import pandas as pd\n",
    "table=pd.DataFrame({})\n",
    "\n",
    "table['JOB TITLE']=job_titles[:10]\n",
    "table['LOCATION']=job_loc[:10]\n",
    "table['COMPANY']=company_name[:10]\n",
    "table"
   ]
  },
  {
   "cell_type": "markdown",
   "metadata": {},
   "source": [
    "# Q5"
   ]
  },
  {
   "cell_type": "code",
   "execution_count": 3,
   "metadata": {},
   "outputs": [],
   "source": [
    " driver = webdriver.Chrome(\"C:/Users/CHITRAK/Downloads/chromedriver.exe\")"
   ]
  },
  {
   "cell_type": "code",
   "execution_count": 4,
   "metadata": {},
   "outputs": [],
   "source": [
    "driver.get('https://www.glassdoor.co.in/Salaries/index.htm')"
   ]
  },
  {
   "cell_type": "code",
   "execution_count": 5,
   "metadata": {},
   "outputs": [],
   "source": [
    "search_job = driver.find_element_by_id('KeywordSearch')\n",
    "search_job.send_keys(\"Data Scientist\")\n",
    "search_loc= driver.find_element_by_id('LocationSearch')\n",
    "search_loc.send_keys(\"Noida\")"
   ]
  },
  {
   "cell_type": "code",
   "execution_count": 6,
   "metadata": {},
   "outputs": [],
   "source": [
    "search_btn = driver.find_element_by_id('HeroSearchButton')\n",
    "search_btn.click()"
   ]
  },
  {
   "cell_type": "code",
   "execution_count": 7,
   "metadata": {},
   "outputs": [],
   "source": [
    "url=\"https://www.glassdoor.co.in/Salaries/new-delhi-data-scientist-salary-SRCH_IL.0,9_IM1083_KO10,24.htm?clickSource=searchBtn\""
   ]
  },
  {
   "cell_type": "code",
   "execution_count": 8,
   "metadata": {},
   "outputs": [],
   "source": [
    "driver.get(url)"
   ]
  },
  {
   "cell_type": "code",
   "execution_count": 9,
   "metadata": {},
   "outputs": [],
   "source": [
    "avg_salary=[]\n",
    "salary_r=[]\n",
    "company_name=[]"
   ]
  },
  {
   "cell_type": "code",
   "execution_count": 10,
   "metadata": {},
   "outputs": [
    {
     "data": {
      "text/plain": [
       "[<selenium.webdriver.remote.webelement.WebElement (session=\"36f4f55f14ea70f3555d5e36e9c7518b\", element=\"2d430825-bc46-4f1a-b293-d5060daf54ff\")>,\n",
       " <selenium.webdriver.remote.webelement.WebElement (session=\"36f4f55f14ea70f3555d5e36e9c7518b\", element=\"ae5d8ea2-006d-48ee-b4bb-b46e9c7dbea6\")>,\n",
       " <selenium.webdriver.remote.webelement.WebElement (session=\"36f4f55f14ea70f3555d5e36e9c7518b\", element=\"ba5326f3-9997-4e76-9afe-5d762ca7480e\")>,\n",
       " <selenium.webdriver.remote.webelement.WebElement (session=\"36f4f55f14ea70f3555d5e36e9c7518b\", element=\"39d1f481-2d4c-413f-8d44-ee34a6bdeede\")>,\n",
       " <selenium.webdriver.remote.webelement.WebElement (session=\"36f4f55f14ea70f3555d5e36e9c7518b\", element=\"0f1d9db9-579b-4911-9b9e-c5b15642e59d\")>,\n",
       " <selenium.webdriver.remote.webelement.WebElement (session=\"36f4f55f14ea70f3555d5e36e9c7518b\", element=\"7db82965-ea76-4d10-ac03-359132e611aa\")>,\n",
       " <selenium.webdriver.remote.webelement.WebElement (session=\"36f4f55f14ea70f3555d5e36e9c7518b\", element=\"b336dab9-e0a8-4391-adfa-09018c2faca4\")>,\n",
       " <selenium.webdriver.remote.webelement.WebElement (session=\"36f4f55f14ea70f3555d5e36e9c7518b\", element=\"58e1b32e-6353-49a6-a43e-9e176c75c6ee\")>,\n",
       " <selenium.webdriver.remote.webelement.WebElement (session=\"36f4f55f14ea70f3555d5e36e9c7518b\", element=\"a176ca90-4bae-45da-8335-55ee60e7405b\")>,\n",
       " <selenium.webdriver.remote.webelement.WebElement (session=\"36f4f55f14ea70f3555d5e36e9c7518b\", element=\"3a17993c-7928-4130-b899-8ab24fa0c3ca\")>]"
      ]
     },
     "execution_count": 10,
     "metadata": {},
     "output_type": "execute_result"
    }
   ],
   "source": [
    "c = driver.find_elements_by_xpath(\"//p[@class='m-0 ']\")\n",
    "c[0:10]"
   ]
  },
  {
   "cell_type": "code",
   "execution_count": 11,
   "metadata": {},
   "outputs": [
    {
     "data": {
      "text/plain": [
       "['Delhivery',\n",
       " 'Ericsson-Worldwide',\n",
       " 'Tata Consultancy Services',\n",
       " 'Accenture',\n",
       " 'IBM',\n",
       " 'UnitedHealth Group',\n",
       " 'Valiance Solutions',\n",
       " 'Innovaccer',\n",
       " 'Cognizant Technology Solutions',\n",
       " 'EXL Service']"
      ]
     },
     "execution_count": 11,
     "metadata": {},
     "output_type": "execute_result"
    }
   ],
   "source": [
    "for i in c:\n",
    "    title=i.text\n",
    "    company_name.append(title)\n",
    "company_name[0:10]"
   ]
  },
  {
   "cell_type": "code",
   "execution_count": 12,
   "metadata": {},
   "outputs": [
    {
     "data": {
      "text/plain": [
       "[<selenium.webdriver.remote.webelement.WebElement (session=\"36f4f55f14ea70f3555d5e36e9c7518b\", element=\"298b4375-0424-4bc3-8518-68110d73b79f\")>,\n",
       " <selenium.webdriver.remote.webelement.WebElement (session=\"36f4f55f14ea70f3555d5e36e9c7518b\", element=\"3dd10cd2-58fd-41ac-a1b6-60c6e5e43434\")>,\n",
       " <selenium.webdriver.remote.webelement.WebElement (session=\"36f4f55f14ea70f3555d5e36e9c7518b\", element=\"bcfab4b3-c15f-41f7-a2e2-08ee1f8ed00f\")>,\n",
       " <selenium.webdriver.remote.webelement.WebElement (session=\"36f4f55f14ea70f3555d5e36e9c7518b\", element=\"573f9f8d-65c5-47ff-9bd7-35fca5e24149\")>,\n",
       " <selenium.webdriver.remote.webelement.WebElement (session=\"36f4f55f14ea70f3555d5e36e9c7518b\", element=\"9491befa-b482-44c2-890d-1b3b5e281dc9\")>,\n",
       " <selenium.webdriver.remote.webelement.WebElement (session=\"36f4f55f14ea70f3555d5e36e9c7518b\", element=\"7064f429-247e-4af1-bb4b-04503b475662\")>,\n",
       " <selenium.webdriver.remote.webelement.WebElement (session=\"36f4f55f14ea70f3555d5e36e9c7518b\", element=\"745ff3a8-b1dd-4f33-be3a-228b61e8d2ef\")>,\n",
       " <selenium.webdriver.remote.webelement.WebElement (session=\"36f4f55f14ea70f3555d5e36e9c7518b\", element=\"08ff65a7-0295-4a58-bc32-1ed0f325eb14\")>,\n",
       " <selenium.webdriver.remote.webelement.WebElement (session=\"36f4f55f14ea70f3555d5e36e9c7518b\", element=\"03aded43-5309-40e2-8b87-8a5eef0413f4\")>,\n",
       " <selenium.webdriver.remote.webelement.WebElement (session=\"36f4f55f14ea70f3555d5e36e9c7518b\", element=\"df712342-9564-44df-99d3-325fee89f294\")>]"
      ]
     },
     "execution_count": 12,
     "metadata": {},
     "output_type": "execute_result"
    }
   ],
   "source": [
    "a = driver.find_elements_by_xpath(\"//div[@class='col-2 d-none d-md-flex flex-row justify-content-end']\")\n",
    "a[0:10]"
   ]
  },
  {
   "cell_type": "code",
   "execution_count": 13,
   "metadata": {},
   "outputs": [
    {
     "data": {
      "text/plain": [
       "['₹ 12,64,182\\n/yr',\n",
       " '₹ 7,30,968\\n/yr',\n",
       " '₹ 6,00,000\\n/yr',\n",
       " '₹ 9,94,055\\n/yr',\n",
       " '₹ 7,39,040\\n/yr',\n",
       " '₹ 13,37,114\\n/yr',\n",
       " '₹ 7,80,374\\n/yr',\n",
       " '₹ 11,98,792\\n/yr',\n",
       " '₹ 10,08,143\\n/yr',\n",
       " '₹ 11,34,989\\n/yr']"
      ]
     },
     "execution_count": 13,
     "metadata": {},
     "output_type": "execute_result"
    }
   ],
   "source": [
    "for i in a:\n",
    "    title=i.text\n",
    "    avg_salary.append(title)\n",
    "avg_salary[0:10]"
   ]
  },
  {
   "cell_type": "code",
   "execution_count": 14,
   "metadata": {},
   "outputs": [
    {
     "data": {
      "text/plain": [
       "[<selenium.webdriver.remote.webelement.WebElement (session=\"36f4f55f14ea70f3555d5e36e9c7518b\", element=\"9f3ef480-b3df-4ae6-8a16-d07d32dfd856\")>,\n",
       " <selenium.webdriver.remote.webelement.WebElement (session=\"36f4f55f14ea70f3555d5e36e9c7518b\", element=\"15d185f2-fbb1-4875-84d2-b6eba3cc97ae\")>,\n",
       " <selenium.webdriver.remote.webelement.WebElement (session=\"36f4f55f14ea70f3555d5e36e9c7518b\", element=\"342b37a3-746f-4b52-8903-fb68624abe46\")>,\n",
       " <selenium.webdriver.remote.webelement.WebElement (session=\"36f4f55f14ea70f3555d5e36e9c7518b\", element=\"36dea088-8368-4f1f-899c-9075f0c36e03\")>,\n",
       " <selenium.webdriver.remote.webelement.WebElement (session=\"36f4f55f14ea70f3555d5e36e9c7518b\", element=\"93c740d3-21bf-4113-935a-613031dd633e\")>,\n",
       " <selenium.webdriver.remote.webelement.WebElement (session=\"36f4f55f14ea70f3555d5e36e9c7518b\", element=\"6b9f18e3-3f85-4bf9-8d90-50cf474c5553\")>,\n",
       " <selenium.webdriver.remote.webelement.WebElement (session=\"36f4f55f14ea70f3555d5e36e9c7518b\", element=\"daf47582-e0dd-4b9b-9fa2-bd86030193d0\")>,\n",
       " <selenium.webdriver.remote.webelement.WebElement (session=\"36f4f55f14ea70f3555d5e36e9c7518b\", element=\"9e9a4f25-15a2-4db6-a3fa-f4010b05b412\")>,\n",
       " <selenium.webdriver.remote.webelement.WebElement (session=\"36f4f55f14ea70f3555d5e36e9c7518b\", element=\"5c3f1504-3469-4611-95d7-0d693124c0a9\")>,\n",
       " <selenium.webdriver.remote.webelement.WebElement (session=\"36f4f55f14ea70f3555d5e36e9c7518b\", element=\"94c2d6e9-63e2-4233-88b7-968b1991f1ea\")>]"
      ]
     },
     "execution_count": 14,
     "metadata": {},
     "output_type": "execute_result"
    }
   ],
   "source": [
    "ma = driver.find_elements_by_xpath(\"//div[@class='common__RangeBarStyle__values common__flex__justifySpaceBetween common__flex__container ']\")\n",
    "ma[0:10]"
   ]
  },
  {
   "cell_type": "code",
   "execution_count": 15,
   "metadata": {},
   "outputs": [
    {
     "data": {
      "text/plain": [
       "['₹450K\\n₹11,630K',\n",
       " '₹350K\\n₹1,614K',\n",
       " '₹336K\\n₹1,010K',\n",
       " '₹577K\\n₹2,215K',\n",
       " '₹587K\\n₹2,732K',\n",
       " '₹717K\\n₹1,575K',\n",
       " '₹502K\\n₹1,152K',\n",
       " '₹621K\\n₹1,696K',\n",
       " '₹793K\\n₹1,264K',\n",
       " '₹576K\\n₹1,500K']"
      ]
     },
     "execution_count": 15,
     "metadata": {},
     "output_type": "execute_result"
    }
   ],
   "source": [
    "for i in ma:\n",
    "    title=i.text\n",
    "    salary_r.append(title)\n",
    "salary_r[0:10]"
   ]
  },
  {
   "cell_type": "code",
   "execution_count": 16,
   "metadata": {},
   "outputs": [],
   "source": [
    "import pandas as pd\n",
    "table=pd.DataFrame({})\n",
    "\n",
    "table['COMPANY']=company_name[0:10]\n",
    "table['Salary Range']=salary_r[0:10]\n",
    "table['Average Salary']=avg_salary[0:10]"
   ]
  },
  {
   "cell_type": "code",
   "execution_count": 17,
   "metadata": {},
   "outputs": [
    {
     "data": {
      "text/html": [
       "<div>\n",
       "<style scoped>\n",
       "    .dataframe tbody tr th:only-of-type {\n",
       "        vertical-align: middle;\n",
       "    }\n",
       "\n",
       "    .dataframe tbody tr th {\n",
       "        vertical-align: top;\n",
       "    }\n",
       "\n",
       "    .dataframe thead th {\n",
       "        text-align: right;\n",
       "    }\n",
       "</style>\n",
       "<table border=\"1\" class=\"dataframe\">\n",
       "  <thead>\n",
       "    <tr style=\"text-align: right;\">\n",
       "      <th></th>\n",
       "      <th>COMPANY</th>\n",
       "      <th>Salary Range</th>\n",
       "      <th>Average Salary</th>\n",
       "    </tr>\n",
       "  </thead>\n",
       "  <tbody>\n",
       "    <tr>\n",
       "      <th>0</th>\n",
       "      <td>Delhivery</td>\n",
       "      <td>₹450K\\n₹11,630K</td>\n",
       "      <td>₹ 12,64,182\\n/yr</td>\n",
       "    </tr>\n",
       "    <tr>\n",
       "      <th>1</th>\n",
       "      <td>Ericsson-Worldwide</td>\n",
       "      <td>₹350K\\n₹1,614K</td>\n",
       "      <td>₹ 7,30,968\\n/yr</td>\n",
       "    </tr>\n",
       "    <tr>\n",
       "      <th>2</th>\n",
       "      <td>Tata Consultancy Services</td>\n",
       "      <td>₹336K\\n₹1,010K</td>\n",
       "      <td>₹ 6,00,000\\n/yr</td>\n",
       "    </tr>\n",
       "    <tr>\n",
       "      <th>3</th>\n",
       "      <td>Accenture</td>\n",
       "      <td>₹577K\\n₹2,215K</td>\n",
       "      <td>₹ 9,94,055\\n/yr</td>\n",
       "    </tr>\n",
       "    <tr>\n",
       "      <th>4</th>\n",
       "      <td>IBM</td>\n",
       "      <td>₹587K\\n₹2,732K</td>\n",
       "      <td>₹ 7,39,040\\n/yr</td>\n",
       "    </tr>\n",
       "    <tr>\n",
       "      <th>5</th>\n",
       "      <td>UnitedHealth Group</td>\n",
       "      <td>₹717K\\n₹1,575K</td>\n",
       "      <td>₹ 13,37,114\\n/yr</td>\n",
       "    </tr>\n",
       "    <tr>\n",
       "      <th>6</th>\n",
       "      <td>Valiance Solutions</td>\n",
       "      <td>₹502K\\n₹1,152K</td>\n",
       "      <td>₹ 7,80,374\\n/yr</td>\n",
       "    </tr>\n",
       "    <tr>\n",
       "      <th>7</th>\n",
       "      <td>Innovaccer</td>\n",
       "      <td>₹621K\\n₹1,696K</td>\n",
       "      <td>₹ 11,98,792\\n/yr</td>\n",
       "    </tr>\n",
       "    <tr>\n",
       "      <th>8</th>\n",
       "      <td>Cognizant Technology Solutions</td>\n",
       "      <td>₹793K\\n₹1,264K</td>\n",
       "      <td>₹ 10,08,143\\n/yr</td>\n",
       "    </tr>\n",
       "    <tr>\n",
       "      <th>9</th>\n",
       "      <td>EXL Service</td>\n",
       "      <td>₹576K\\n₹1,500K</td>\n",
       "      <td>₹ 11,34,989\\n/yr</td>\n",
       "    </tr>\n",
       "  </tbody>\n",
       "</table>\n",
       "</div>"
      ],
      "text/plain": [
       "                          COMPANY     Salary Range    Average Salary\n",
       "0                       Delhivery  ₹450K\\n₹11,630K  ₹ 12,64,182\\n/yr\n",
       "1              Ericsson-Worldwide   ₹350K\\n₹1,614K   ₹ 7,30,968\\n/yr\n",
       "2       Tata Consultancy Services   ₹336K\\n₹1,010K   ₹ 6,00,000\\n/yr\n",
       "3                       Accenture   ₹577K\\n₹2,215K   ₹ 9,94,055\\n/yr\n",
       "4                             IBM   ₹587K\\n₹2,732K   ₹ 7,39,040\\n/yr\n",
       "5              UnitedHealth Group   ₹717K\\n₹1,575K  ₹ 13,37,114\\n/yr\n",
       "6              Valiance Solutions   ₹502K\\n₹1,152K   ₹ 7,80,374\\n/yr\n",
       "7                      Innovaccer   ₹621K\\n₹1,696K  ₹ 11,98,792\\n/yr\n",
       "8  Cognizant Technology Solutions   ₹793K\\n₹1,264K  ₹ 10,08,143\\n/yr\n",
       "9                     EXL Service   ₹576K\\n₹1,500K  ₹ 11,34,989\\n/yr"
      ]
     },
     "execution_count": 17,
     "metadata": {},
     "output_type": "execute_result"
    }
   ],
   "source": [
    "table"
   ]
  },
  {
   "cell_type": "markdown",
   "metadata": {},
   "source": [
    "# Q6"
   ]
  },
  {
   "cell_type": "code",
   "execution_count": 68,
   "metadata": {},
   "outputs": [],
   "source": [
    " driver = webdriver.Chrome(\"C:/Users/CHITRAK/Downloads/chromedriver.exe\")"
   ]
  },
  {
   "cell_type": "code",
   "execution_count": 69,
   "metadata": {},
   "outputs": [],
   "source": [
    " driver.get('https://www.flipkart.com/')"
   ]
  },
  {
   "cell_type": "code",
   "execution_count": 70,
   "metadata": {},
   "outputs": [],
   "source": [
    "s = driver.find_elements_by_xpath(\"//input[@class='_3704LK']\")\n",
    "s[0].send_keys('sunglasses')"
   ]
  },
  {
   "cell_type": "code",
   "execution_count": 72,
   "metadata": {},
   "outputs": [],
   "source": [
    "search_btn = driver.find_elements_by_xpath(\"//div[@class='col-12-12 _2oO9oE']/button\")\n",
    "search_btn[0].click()"
   ]
  },
  {
   "cell_type": "code",
   "execution_count": 73,
   "metadata": {},
   "outputs": [],
   "source": [
    "url=\"https://www.flipkart.com/search?q=sunglasses&otracker=search&otracker1=search&marketplace=FLIPKART&as-show=on&as=off\""
   ]
  },
  {
   "cell_type": "code",
   "execution_count": 74,
   "metadata": {},
   "outputs": [],
   "source": [
    "driver.get(url)"
   ]
  },
  {
   "cell_type": "code",
   "execution_count": 75,
   "metadata": {},
   "outputs": [],
   "source": [
    "Brand=[]\n",
    "Product_d=[]\n",
    "Price=[]\n",
    "Discount=[]"
   ]
  },
  {
   "cell_type": "code",
   "execution_count": 76,
   "metadata": {},
   "outputs": [
    {
     "data": {
      "text/plain": [
       "[<selenium.webdriver.remote.webelement.WebElement (session=\"9095162dfbcc89bc48e220f2d0fefc82\", element=\"7f479425-4b86-4328-9f07-376e739b7719\")>,\n",
       " <selenium.webdriver.remote.webelement.WebElement (session=\"9095162dfbcc89bc48e220f2d0fefc82\", element=\"25b398de-3477-41bf-8929-16e8de9b111a\")>,\n",
       " <selenium.webdriver.remote.webelement.WebElement (session=\"9095162dfbcc89bc48e220f2d0fefc82\", element=\"6166554d-cf20-4550-8370-96f047041304\")>,\n",
       " <selenium.webdriver.remote.webelement.WebElement (session=\"9095162dfbcc89bc48e220f2d0fefc82\", element=\"c1a04f11-0576-4776-86b2-6113f3edb8c1\")>,\n",
       " <selenium.webdriver.remote.webelement.WebElement (session=\"9095162dfbcc89bc48e220f2d0fefc82\", element=\"9aa612a8-2601-4273-b5fd-68be4d6db92f\")>,\n",
       " <selenium.webdriver.remote.webelement.WebElement (session=\"9095162dfbcc89bc48e220f2d0fefc82\", element=\"b5290695-8b8f-4284-875d-af9afd841a76\")>,\n",
       " <selenium.webdriver.remote.webelement.WebElement (session=\"9095162dfbcc89bc48e220f2d0fefc82\", element=\"689eaa4b-4141-45a6-a895-70374f10ccde\")>,\n",
       " <selenium.webdriver.remote.webelement.WebElement (session=\"9095162dfbcc89bc48e220f2d0fefc82\", element=\"93356cf1-a6bc-4faa-acec-4ec6f2344dd7\")>,\n",
       " <selenium.webdriver.remote.webelement.WebElement (session=\"9095162dfbcc89bc48e220f2d0fefc82\", element=\"a96aa094-5894-4ee3-8fb3-1a1bc635c4b3\")>,\n",
       " <selenium.webdriver.remote.webelement.WebElement (session=\"9095162dfbcc89bc48e220f2d0fefc82\", element=\"a5cc03ff-6b61-4d5c-9142-881356e2d9f7\")>,\n",
       " <selenium.webdriver.remote.webelement.WebElement (session=\"9095162dfbcc89bc48e220f2d0fefc82\", element=\"977e71dc-ba40-4f82-9852-263f7c67609c\")>,\n",
       " <selenium.webdriver.remote.webelement.WebElement (session=\"9095162dfbcc89bc48e220f2d0fefc82\", element=\"f43caa22-8fd1-4de0-81ad-a4d2a848d539\")>,\n",
       " <selenium.webdriver.remote.webelement.WebElement (session=\"9095162dfbcc89bc48e220f2d0fefc82\", element=\"53c6b131-1bf9-4552-ab43-57a8e33f7a11\")>,\n",
       " <selenium.webdriver.remote.webelement.WebElement (session=\"9095162dfbcc89bc48e220f2d0fefc82\", element=\"2ba2e430-424b-471e-b52e-91dd9b283d4b\")>,\n",
       " <selenium.webdriver.remote.webelement.WebElement (session=\"9095162dfbcc89bc48e220f2d0fefc82\", element=\"9dee4a51-9dd1-4bb6-8b7d-9cb6ff3cd081\")>,\n",
       " <selenium.webdriver.remote.webelement.WebElement (session=\"9095162dfbcc89bc48e220f2d0fefc82\", element=\"b50dba80-be0f-4f29-bbd6-e56d388b43d2\")>,\n",
       " <selenium.webdriver.remote.webelement.WebElement (session=\"9095162dfbcc89bc48e220f2d0fefc82\", element=\"fa11aa56-a21a-44f3-9176-306b77c8b454\")>,\n",
       " <selenium.webdriver.remote.webelement.WebElement (session=\"9095162dfbcc89bc48e220f2d0fefc82\", element=\"0d914d59-3358-48b6-8ca0-94fb58eeb4bb\")>,\n",
       " <selenium.webdriver.remote.webelement.WebElement (session=\"9095162dfbcc89bc48e220f2d0fefc82\", element=\"3b9f1d81-caa1-4f52-a840-c56b77b82cd6\")>,\n",
       " <selenium.webdriver.remote.webelement.WebElement (session=\"9095162dfbcc89bc48e220f2d0fefc82\", element=\"85eada74-4104-4322-ba6c-c58abd6a0470\")>,\n",
       " <selenium.webdriver.remote.webelement.WebElement (session=\"9095162dfbcc89bc48e220f2d0fefc82\", element=\"a51ed657-9111-432c-afc9-05ff9431a690\")>,\n",
       " <selenium.webdriver.remote.webelement.WebElement (session=\"9095162dfbcc89bc48e220f2d0fefc82\", element=\"ad1f6ba3-3ca6-4ba1-8fe1-193365059f61\")>,\n",
       " <selenium.webdriver.remote.webelement.WebElement (session=\"9095162dfbcc89bc48e220f2d0fefc82\", element=\"8a1053bd-e85d-4c94-87ec-b3b557600d2b\")>,\n",
       " <selenium.webdriver.remote.webelement.WebElement (session=\"9095162dfbcc89bc48e220f2d0fefc82\", element=\"44d15d9d-bc0a-40d4-9bfb-e30ece9393d4\")>,\n",
       " <selenium.webdriver.remote.webelement.WebElement (session=\"9095162dfbcc89bc48e220f2d0fefc82\", element=\"87246955-9b11-47c2-998c-6e263120b724\")>,\n",
       " <selenium.webdriver.remote.webelement.WebElement (session=\"9095162dfbcc89bc48e220f2d0fefc82\", element=\"72289509-5344-4765-8131-0e50ee384188\")>,\n",
       " <selenium.webdriver.remote.webelement.WebElement (session=\"9095162dfbcc89bc48e220f2d0fefc82\", element=\"89338ce4-7b7d-4400-91e5-5cd075efa606\")>,\n",
       " <selenium.webdriver.remote.webelement.WebElement (session=\"9095162dfbcc89bc48e220f2d0fefc82\", element=\"f1906610-a941-4090-b7c4-5d1f485e342d\")>,\n",
       " <selenium.webdriver.remote.webelement.WebElement (session=\"9095162dfbcc89bc48e220f2d0fefc82\", element=\"96eaeb9a-a502-40c0-bf5b-409b90d96ae9\")>,\n",
       " <selenium.webdriver.remote.webelement.WebElement (session=\"9095162dfbcc89bc48e220f2d0fefc82\", element=\"4403768e-414e-4756-b19d-5bd4e09d9096\")>,\n",
       " <selenium.webdriver.remote.webelement.WebElement (session=\"9095162dfbcc89bc48e220f2d0fefc82\", element=\"6186001e-aed7-4f7c-bb67-7af6dbe60687\")>,\n",
       " <selenium.webdriver.remote.webelement.WebElement (session=\"9095162dfbcc89bc48e220f2d0fefc82\", element=\"d7176d1c-ca30-44dd-b3ee-61586970fc5e\")>,\n",
       " <selenium.webdriver.remote.webelement.WebElement (session=\"9095162dfbcc89bc48e220f2d0fefc82\", element=\"e190282b-ae3c-4a0e-a8d7-f60834d22a5d\")>,\n",
       " <selenium.webdriver.remote.webelement.WebElement (session=\"9095162dfbcc89bc48e220f2d0fefc82\", element=\"c87851d0-b11c-4a60-918a-542bcf6dad80\")>,\n",
       " <selenium.webdriver.remote.webelement.WebElement (session=\"9095162dfbcc89bc48e220f2d0fefc82\", element=\"3ec9f248-996b-4bf9-80ba-82ac94f2e98b\")>,\n",
       " <selenium.webdriver.remote.webelement.WebElement (session=\"9095162dfbcc89bc48e220f2d0fefc82\", element=\"0c059024-a4a1-445d-bf8b-2d1d81a6dbbf\")>,\n",
       " <selenium.webdriver.remote.webelement.WebElement (session=\"9095162dfbcc89bc48e220f2d0fefc82\", element=\"5b4635d8-fc55-4b1b-9a26-afad6d50ac62\")>,\n",
       " <selenium.webdriver.remote.webelement.WebElement (session=\"9095162dfbcc89bc48e220f2d0fefc82\", element=\"90ba980b-8d2c-4756-b8ce-e8e601f190f8\")>,\n",
       " <selenium.webdriver.remote.webelement.WebElement (session=\"9095162dfbcc89bc48e220f2d0fefc82\", element=\"94981616-a844-4e81-af72-39fedcd162bf\")>,\n",
       " <selenium.webdriver.remote.webelement.WebElement (session=\"9095162dfbcc89bc48e220f2d0fefc82\", element=\"d6d5d3ec-fcb3-4bbd-afae-f0e981e9542e\")>]"
      ]
     },
     "execution_count": 76,
     "metadata": {},
     "output_type": "execute_result"
    }
   ],
   "source": [
    "b = driver.find_elements_by_xpath(\"//div[@class='_2WkVRV']\")\n",
    "b[0:100]"
   ]
  },
  {
   "cell_type": "code",
   "execution_count": 77,
   "metadata": {},
   "outputs": [
    {
     "data": {
      "text/plain": [
       "['Specsmakers',\n",
       " 'Royal Son',\n",
       " 'ROZZETTA CRAFT',\n",
       " 'Phenomenal',\n",
       " 'Fastrack',\n",
       " 'Fastrack',\n",
       " 'Rozzetta Craft',\n",
       " 'Phenomenal',\n",
       " 'Fastrack',\n",
       " 'ROZZETTA CRAFT',\n",
       " 'Fastrack',\n",
       " 'shah collections',\n",
       " 'Fastrack',\n",
       " 'ROYAL SON',\n",
       " 'PIRASO',\n",
       " 'shah collections',\n",
       " 'Fastrack',\n",
       " 'Fastrack',\n",
       " 'Elligator',\n",
       " 'Adrenex',\n",
       " 'Fastrack',\n",
       " 'Fastrack',\n",
       " 'Gansta',\n",
       " 'Specsmakers',\n",
       " 'PIRASO',\n",
       " 'NuVew',\n",
       " 'Royal Son',\n",
       " 'Deixels',\n",
       " 'Riffko',\n",
       " 'Specsmakers',\n",
       " 'ROZZETTA CRAFT',\n",
       " 'like future',\n",
       " 'EYELLUSION',\n",
       " 'Specsmakers',\n",
       " 'Phenomenal',\n",
       " 'kingsunglasses',\n",
       " 'funglasses',\n",
       " 'PIRASO',\n",
       " 'Fastrack',\n",
       " 'ROYAL SON']"
      ]
     },
     "execution_count": 77,
     "metadata": {},
     "output_type": "execute_result"
    }
   ],
   "source": [
    "for i in b:\n",
    "    title=i.text\n",
    "    Brand.append(title)\n",
    "Brand[0:100]"
   ]
  },
  {
   "cell_type": "code",
   "execution_count": 91,
   "metadata": {},
   "outputs": [
    {
     "data": {
      "text/plain": [
       "[<selenium.webdriver.remote.webelement.WebElement (session=\"9095162dfbcc89bc48e220f2d0fefc82\", element=\"11bd6e26-3d1a-40fd-8936-22894332689a\")>,\n",
       " <selenium.webdriver.remote.webelement.WebElement (session=\"9095162dfbcc89bc48e220f2d0fefc82\", element=\"86ecedbb-04f0-4c2a-9ec7-9abb0db9a548\")>,\n",
       " <selenium.webdriver.remote.webelement.WebElement (session=\"9095162dfbcc89bc48e220f2d0fefc82\", element=\"60caa15a-cdb4-4fd4-8cfc-61c5a5db4adf\")>,\n",
       " <selenium.webdriver.remote.webelement.WebElement (session=\"9095162dfbcc89bc48e220f2d0fefc82\", element=\"feaeb856-bed3-4bdc-bf6b-85627b5ee3ea\")>,\n",
       " <selenium.webdriver.remote.webelement.WebElement (session=\"9095162dfbcc89bc48e220f2d0fefc82\", element=\"b2815339-4d1e-4df2-b542-a95ed385c782\")>,\n",
       " <selenium.webdriver.remote.webelement.WebElement (session=\"9095162dfbcc89bc48e220f2d0fefc82\", element=\"4d2c81d0-1d91-4d6b-8ada-ad2b3cd3eff5\")>,\n",
       " <selenium.webdriver.remote.webelement.WebElement (session=\"9095162dfbcc89bc48e220f2d0fefc82\", element=\"aef91a57-b852-4386-b8f0-982af3598d64\")>,\n",
       " <selenium.webdriver.remote.webelement.WebElement (session=\"9095162dfbcc89bc48e220f2d0fefc82\", element=\"aa45b5b2-635d-4984-86b2-2103905e4eba\")>,\n",
       " <selenium.webdriver.remote.webelement.WebElement (session=\"9095162dfbcc89bc48e220f2d0fefc82\", element=\"55c17634-881b-45af-a8c0-d02aa46411d7\")>,\n",
       " <selenium.webdriver.remote.webelement.WebElement (session=\"9095162dfbcc89bc48e220f2d0fefc82\", element=\"4c454d60-2967-49ae-8945-44d426980618\")>,\n",
       " <selenium.webdriver.remote.webelement.WebElement (session=\"9095162dfbcc89bc48e220f2d0fefc82\", element=\"1df9cae9-b0e6-4834-8637-c2a989903aaa\")>,\n",
       " <selenium.webdriver.remote.webelement.WebElement (session=\"9095162dfbcc89bc48e220f2d0fefc82\", element=\"6b6b5488-76fc-4b96-88ae-62fbdeebd1fc\")>,\n",
       " <selenium.webdriver.remote.webelement.WebElement (session=\"9095162dfbcc89bc48e220f2d0fefc82\", element=\"7aeadf87-36d9-4f07-aaaf-a4f1eaab6558\")>,\n",
       " <selenium.webdriver.remote.webelement.WebElement (session=\"9095162dfbcc89bc48e220f2d0fefc82\", element=\"532520a9-427f-410a-a8b9-ff33fe4d2aca\")>,\n",
       " <selenium.webdriver.remote.webelement.WebElement (session=\"9095162dfbcc89bc48e220f2d0fefc82\", element=\"20404a8c-2ec8-49a7-8120-08bfdd83a06c\")>,\n",
       " <selenium.webdriver.remote.webelement.WebElement (session=\"9095162dfbcc89bc48e220f2d0fefc82\", element=\"49509ada-2c7d-4272-a4fa-526542e3b219\")>,\n",
       " <selenium.webdriver.remote.webelement.WebElement (session=\"9095162dfbcc89bc48e220f2d0fefc82\", element=\"18c5f50a-de97-410b-bf6f-c12366a2d581\")>,\n",
       " <selenium.webdriver.remote.webelement.WebElement (session=\"9095162dfbcc89bc48e220f2d0fefc82\", element=\"e5e5cb62-dd91-494a-9fa0-994563ed1625\")>,\n",
       " <selenium.webdriver.remote.webelement.WebElement (session=\"9095162dfbcc89bc48e220f2d0fefc82\", element=\"106d04eb-00d2-49ed-9ea0-c11efa6e2d48\")>,\n",
       " <selenium.webdriver.remote.webelement.WebElement (session=\"9095162dfbcc89bc48e220f2d0fefc82\", element=\"26be45f1-d416-4ed7-a3bd-50e0b4a0575a\")>,\n",
       " <selenium.webdriver.remote.webelement.WebElement (session=\"9095162dfbcc89bc48e220f2d0fefc82\", element=\"6d3df688-2dec-4c12-a690-615ec9ada641\")>,\n",
       " <selenium.webdriver.remote.webelement.WebElement (session=\"9095162dfbcc89bc48e220f2d0fefc82\", element=\"d577651f-c35a-44e5-bf49-43ec1084add4\")>,\n",
       " <selenium.webdriver.remote.webelement.WebElement (session=\"9095162dfbcc89bc48e220f2d0fefc82\", element=\"e6ff974d-ed22-4efe-9f8c-63410b92056c\")>,\n",
       " <selenium.webdriver.remote.webelement.WebElement (session=\"9095162dfbcc89bc48e220f2d0fefc82\", element=\"0e30963d-6b40-4de5-9dcd-b83b732f4e1a\")>,\n",
       " <selenium.webdriver.remote.webelement.WebElement (session=\"9095162dfbcc89bc48e220f2d0fefc82\", element=\"049430c3-0ca2-41db-9c20-8f5d0be5e306\")>,\n",
       " <selenium.webdriver.remote.webelement.WebElement (session=\"9095162dfbcc89bc48e220f2d0fefc82\", element=\"eb1e52fb-6787-493d-a2d6-96d19d605f5f\")>,\n",
       " <selenium.webdriver.remote.webelement.WebElement (session=\"9095162dfbcc89bc48e220f2d0fefc82\", element=\"ff635cc4-f753-4388-ab47-dafe03db92bf\")>,\n",
       " <selenium.webdriver.remote.webelement.WebElement (session=\"9095162dfbcc89bc48e220f2d0fefc82\", element=\"008334d5-b067-4e3a-bf48-f2c89dc664ab\")>,\n",
       " <selenium.webdriver.remote.webelement.WebElement (session=\"9095162dfbcc89bc48e220f2d0fefc82\", element=\"44f07973-8385-4b03-8953-4665ae2b5532\")>,\n",
       " <selenium.webdriver.remote.webelement.WebElement (session=\"9095162dfbcc89bc48e220f2d0fefc82\", element=\"71d31ed0-e0fa-44c7-a5f2-9f321dc055ef\")>,\n",
       " <selenium.webdriver.remote.webelement.WebElement (session=\"9095162dfbcc89bc48e220f2d0fefc82\", element=\"06c0e952-1931-40cb-9078-7fa0240a404c\")>,\n",
       " <selenium.webdriver.remote.webelement.WebElement (session=\"9095162dfbcc89bc48e220f2d0fefc82\", element=\"c811a918-8589-4e00-881f-a577b097d2c9\")>,\n",
       " <selenium.webdriver.remote.webelement.WebElement (session=\"9095162dfbcc89bc48e220f2d0fefc82\", element=\"74a46b3a-4e92-4ea8-a6ec-24731f46454a\")>,\n",
       " <selenium.webdriver.remote.webelement.WebElement (session=\"9095162dfbcc89bc48e220f2d0fefc82\", element=\"0eaacba8-e3e2-4e5d-b86b-df4b43f6c2d8\")>,\n",
       " <selenium.webdriver.remote.webelement.WebElement (session=\"9095162dfbcc89bc48e220f2d0fefc82\", element=\"20146af2-8961-4be3-a67a-2141e0a6f951\")>,\n",
       " <selenium.webdriver.remote.webelement.WebElement (session=\"9095162dfbcc89bc48e220f2d0fefc82\", element=\"5df71821-30f6-4eca-ace3-9784916f778c\")>]"
      ]
     },
     "execution_count": 91,
     "metadata": {},
     "output_type": "execute_result"
    }
   ],
   "source": [
    "p = driver.find_elements_by_xpath(\"//a[@class='IRpwTa']\")\n",
    "p[0:40]"
   ]
  },
  {
   "cell_type": "code",
   "execution_count": 92,
   "metadata": {},
   "outputs": [
    {
     "data": {
      "text/plain": [
       "['Mirrored Retro Square Sunglasses (49)',\n",
       " 'UV Protection Retro Square Sunglasses (Free Size)',\n",
       " 'UV Protection, Mirrored Retro Square Sunglasses (53)',\n",
       " 'Gradient, UV Protection Wayfarer Sunglasses (Free Size)',\n",
       " 'Gradient, UV Protection Wayfarer Sunglasses (Free Size)',\n",
       " 'UV Protection Rectangular Sunglasses (Free Size)',\n",
       " 'UV Protection Retro Square Sunglasses (Free Size)',\n",
       " 'UV Protection Aviator Sunglasses (Free Size)',\n",
       " 'UV Protection, Gradient Rectangular Sunglasses (Free Si...',\n",
       " 'Gradient, UV Protection Wayfarer Sunglasses (Free Size)',\n",
       " 'UV Protection Round Sunglasses (Free Size)',\n",
       " 'UV Protection Wayfarer Sunglasses (56)',\n",
       " 'UV Protection Retro Square Sunglasses (88)',\n",
       " 'UV Protection Aviator Sunglasses (Free Size)',\n",
       " 'UV Protection, Polarized, Mirrored Rectangular Sunglass...',\n",
       " 'UV Protection Aviator Sunglasses (58)',\n",
       " 'UV Protection Wayfarer Sunglasses (Free Size)',\n",
       " 'UV Protection Round Sunglasses (54)',\n",
       " 'Polarized, UV Protection Sports Sunglasses (60)',\n",
       " 'UV Protection Wayfarer Sunglasses (Free Size)',\n",
       " 'Mirrored, UV Protection Wayfarer Sunglasses (Free Size)',\n",
       " 'UV Protection Aviator Sunglasses (57)',\n",
       " 'Polarized Aviator Sunglasses (57)',\n",
       " 'UV Protection Aviator Sunglasses (54)',\n",
       " 'UV Protection Aviator Sunglasses (58)',\n",
       " 'UV Protection Wayfarer Sunglasses (55)',\n",
       " 'UV Protection Wayfarer Sunglasses (Free Size)',\n",
       " 'Polarized Aviator Sunglasses (54)',\n",
       " 'UV Protection Retro Square Sunglasses (Free Size)',\n",
       " 'Night Vision, Polarized, UV Protection, Riding Glasses ...',\n",
       " 'Polarized Wayfarer Sunglasses (53)',\n",
       " 'UV Protection, Mirrored Retro Square Sunglasses (Free S...',\n",
       " 'Mirrored, UV Protection Wayfarer, Wayfarer, Wayfarer, W...',\n",
       " 'UV Protection Aviator Sunglasses (58)',\n",
       " 'UV Protection Rectangular Sunglasses (Free Size)',\n",
       " 'Polarized Retro Square Sunglasses (52)',\n",
       " 'Mirrored Retro Square Sunglasses (49)',\n",
       " 'UV Protection Retro Square Sunglasses (Free Size)',\n",
       " 'UV Protection, Mirrored Retro Square Sunglasses (53)',\n",
       " 'Gradient, UV Protection Wayfarer Sunglasses (Free Size)']"
      ]
     },
     "execution_count": 92,
     "metadata": {},
     "output_type": "execute_result"
    }
   ],
   "source": [
    "for i in p:\n",
    "    title=i.text\n",
    "    Product_d.append(title)\n",
    "Product_d[0:40]"
   ]
  },
  {
   "cell_type": "code",
   "execution_count": 94,
   "metadata": {},
   "outputs": [
    {
     "data": {
      "text/plain": [
       "[<selenium.webdriver.remote.webelement.WebElement (session=\"9095162dfbcc89bc48e220f2d0fefc82\", element=\"d28e3644-2e1f-49b0-8477-fe20b87d4731\")>,\n",
       " <selenium.webdriver.remote.webelement.WebElement (session=\"9095162dfbcc89bc48e220f2d0fefc82\", element=\"4582ff26-a663-40e6-bd48-08e26ab419df\")>,\n",
       " <selenium.webdriver.remote.webelement.WebElement (session=\"9095162dfbcc89bc48e220f2d0fefc82\", element=\"cb79f94f-15ea-429f-9aea-d46e3b88d719\")>,\n",
       " <selenium.webdriver.remote.webelement.WebElement (session=\"9095162dfbcc89bc48e220f2d0fefc82\", element=\"7ceb362e-bc58-4be7-addf-9e87ac4a85b5\")>,\n",
       " <selenium.webdriver.remote.webelement.WebElement (session=\"9095162dfbcc89bc48e220f2d0fefc82\", element=\"4cee8b2b-ea7f-4087-97e3-2f0a9dcaa5b9\")>,\n",
       " <selenium.webdriver.remote.webelement.WebElement (session=\"9095162dfbcc89bc48e220f2d0fefc82\", element=\"f2f14ebb-1b41-46bb-a347-4a69d11b9968\")>,\n",
       " <selenium.webdriver.remote.webelement.WebElement (session=\"9095162dfbcc89bc48e220f2d0fefc82\", element=\"ead2a391-c352-4e88-a842-038a639fab9b\")>,\n",
       " <selenium.webdriver.remote.webelement.WebElement (session=\"9095162dfbcc89bc48e220f2d0fefc82\", element=\"c9a451ea-b474-4e86-a935-57102ccacd7d\")>,\n",
       " <selenium.webdriver.remote.webelement.WebElement (session=\"9095162dfbcc89bc48e220f2d0fefc82\", element=\"b09d5820-a91e-4550-a940-0b165523ef86\")>,\n",
       " <selenium.webdriver.remote.webelement.WebElement (session=\"9095162dfbcc89bc48e220f2d0fefc82\", element=\"482a0d7b-d382-4181-a75e-3bff6a8adc62\")>,\n",
       " <selenium.webdriver.remote.webelement.WebElement (session=\"9095162dfbcc89bc48e220f2d0fefc82\", element=\"3794ec48-94b7-4283-9af9-8c3eab17fb12\")>,\n",
       " <selenium.webdriver.remote.webelement.WebElement (session=\"9095162dfbcc89bc48e220f2d0fefc82\", element=\"2fb46e86-9fc5-4f14-81f2-8fd34d20bb9b\")>,\n",
       " <selenium.webdriver.remote.webelement.WebElement (session=\"9095162dfbcc89bc48e220f2d0fefc82\", element=\"5a5a8c5f-7e54-4193-b14a-d04d2679a072\")>,\n",
       " <selenium.webdriver.remote.webelement.WebElement (session=\"9095162dfbcc89bc48e220f2d0fefc82\", element=\"dc07a9f7-fd43-4b9e-a694-abf8c8dd4758\")>,\n",
       " <selenium.webdriver.remote.webelement.WebElement (session=\"9095162dfbcc89bc48e220f2d0fefc82\", element=\"caa57ebf-931b-4d81-a7fd-67ec0b5415bc\")>,\n",
       " <selenium.webdriver.remote.webelement.WebElement (session=\"9095162dfbcc89bc48e220f2d0fefc82\", element=\"11030497-ca8d-475e-b05f-863467f294f1\")>,\n",
       " <selenium.webdriver.remote.webelement.WebElement (session=\"9095162dfbcc89bc48e220f2d0fefc82\", element=\"19ab9ebf-87a3-4bc5-b8ae-7447c110ea6d\")>,\n",
       " <selenium.webdriver.remote.webelement.WebElement (session=\"9095162dfbcc89bc48e220f2d0fefc82\", element=\"bdeca462-af27-4445-88ba-1a19e345acfa\")>,\n",
       " <selenium.webdriver.remote.webelement.WebElement (session=\"9095162dfbcc89bc48e220f2d0fefc82\", element=\"d9b3fe64-ae14-4b97-9945-517459fd9aad\")>,\n",
       " <selenium.webdriver.remote.webelement.WebElement (session=\"9095162dfbcc89bc48e220f2d0fefc82\", element=\"fdd4b72c-b0a5-453c-b3df-e766a68fe2c6\")>,\n",
       " <selenium.webdriver.remote.webelement.WebElement (session=\"9095162dfbcc89bc48e220f2d0fefc82\", element=\"f5de4903-b2f1-474e-9fcb-98e6df0afce3\")>,\n",
       " <selenium.webdriver.remote.webelement.WebElement (session=\"9095162dfbcc89bc48e220f2d0fefc82\", element=\"ef30be27-2e6c-41d0-921c-f17c80d9f6b5\")>,\n",
       " <selenium.webdriver.remote.webelement.WebElement (session=\"9095162dfbcc89bc48e220f2d0fefc82\", element=\"4a2845cd-6f41-4cf8-ac08-d92aec685a76\")>,\n",
       " <selenium.webdriver.remote.webelement.WebElement (session=\"9095162dfbcc89bc48e220f2d0fefc82\", element=\"354d01d3-ab45-4cb7-8c66-636427e36892\")>,\n",
       " <selenium.webdriver.remote.webelement.WebElement (session=\"9095162dfbcc89bc48e220f2d0fefc82\", element=\"71a8ca2d-dff1-4410-add3-aa06ff27894f\")>,\n",
       " <selenium.webdriver.remote.webelement.WebElement (session=\"9095162dfbcc89bc48e220f2d0fefc82\", element=\"25170362-74d3-4368-9cd2-3bf18fa93cce\")>,\n",
       " <selenium.webdriver.remote.webelement.WebElement (session=\"9095162dfbcc89bc48e220f2d0fefc82\", element=\"30fd3000-d210-47d8-ae5e-0e8787fa5c0c\")>,\n",
       " <selenium.webdriver.remote.webelement.WebElement (session=\"9095162dfbcc89bc48e220f2d0fefc82\", element=\"a4891ddf-db01-49b8-ba70-258b2cb0b1ba\")>,\n",
       " <selenium.webdriver.remote.webelement.WebElement (session=\"9095162dfbcc89bc48e220f2d0fefc82\", element=\"fcb94ede-b41f-4a6d-8874-7f3c6d9fcbba\")>,\n",
       " <selenium.webdriver.remote.webelement.WebElement (session=\"9095162dfbcc89bc48e220f2d0fefc82\", element=\"f81d0b04-d51f-482a-9895-4e068bd523da\")>,\n",
       " <selenium.webdriver.remote.webelement.WebElement (session=\"9095162dfbcc89bc48e220f2d0fefc82\", element=\"48e0f886-2bec-491f-be2c-abe235c0558f\")>,\n",
       " <selenium.webdriver.remote.webelement.WebElement (session=\"9095162dfbcc89bc48e220f2d0fefc82\", element=\"61e64065-60c0-40c6-a0b8-6978b6459b60\")>,\n",
       " <selenium.webdriver.remote.webelement.WebElement (session=\"9095162dfbcc89bc48e220f2d0fefc82\", element=\"98dc9de4-1a17-4b81-a283-88a01ac61c91\")>,\n",
       " <selenium.webdriver.remote.webelement.WebElement (session=\"9095162dfbcc89bc48e220f2d0fefc82\", element=\"69357e13-4373-4670-ba27-af25509f83ea\")>,\n",
       " <selenium.webdriver.remote.webelement.WebElement (session=\"9095162dfbcc89bc48e220f2d0fefc82\", element=\"0af80b48-3044-4673-846c-6575595cdd68\")>,\n",
       " <selenium.webdriver.remote.webelement.WebElement (session=\"9095162dfbcc89bc48e220f2d0fefc82\", element=\"0e478ef8-5bc8-43ad-b272-105d11e7717b\")>,\n",
       " <selenium.webdriver.remote.webelement.WebElement (session=\"9095162dfbcc89bc48e220f2d0fefc82\", element=\"ab189122-6465-40bc-aa36-c6e7ff5c6232\")>,\n",
       " <selenium.webdriver.remote.webelement.WebElement (session=\"9095162dfbcc89bc48e220f2d0fefc82\", element=\"2857564c-955e-4c8c-80c4-770d75dc80b6\")>,\n",
       " <selenium.webdriver.remote.webelement.WebElement (session=\"9095162dfbcc89bc48e220f2d0fefc82\", element=\"8d5e3423-3e97-46a1-a210-69ea6d7379fc\")>,\n",
       " <selenium.webdriver.remote.webelement.WebElement (session=\"9095162dfbcc89bc48e220f2d0fefc82\", element=\"969f4c87-ffc8-479a-8b79-f6bd6d7d08d1\")>]"
      ]
     },
     "execution_count": 94,
     "metadata": {},
     "output_type": "execute_result"
    }
   ],
   "source": [
    "pr = driver.find_elements_by_xpath(\"//div[@class='_30jeq3']\")\n",
    "pr[0:40]"
   ]
  },
  {
   "cell_type": "code",
   "execution_count": 95,
   "metadata": {},
   "outputs": [
    {
     "data": {
      "text/plain": [
       "['₹517',\n",
       " '₹664',\n",
       " '₹499',\n",
       " '₹399',\n",
       " '₹659',\n",
       " '₹700',\n",
       " '₹398',\n",
       " '₹399',\n",
       " '₹639',\n",
       " '₹404',\n",
       " '₹645',\n",
       " '₹331',\n",
       " '₹783',\n",
       " '₹599',\n",
       " '₹314',\n",
       " '₹227',\n",
       " '₹1,123',\n",
       " '₹761',\n",
       " '₹295',\n",
       " '₹699',\n",
       " '₹666',\n",
       " '₹873',\n",
       " '₹284',\n",
       " '₹715',\n",
       " '₹225',\n",
       " '₹195',\n",
       " '₹279',\n",
       " '₹211',\n",
       " '₹210',\n",
       " '₹891',\n",
       " '₹499',\n",
       " '₹171',\n",
       " '₹344',\n",
       " '₹845',\n",
       " '₹399',\n",
       " '₹284',\n",
       " '₹160',\n",
       " '₹349',\n",
       " '₹695',\n",
       " '₹599']"
      ]
     },
     "execution_count": 95,
     "metadata": {},
     "output_type": "execute_result"
    }
   ],
   "source": [
    "for i in pr:\n",
    "    title=i.text\n",
    "    Price.append(title)\n",
    "Price[0:40]"
   ]
  },
  {
   "cell_type": "code",
   "execution_count": 100,
   "metadata": {},
   "outputs": [
    {
     "data": {
      "text/plain": [
       "[<selenium.webdriver.remote.webelement.WebElement (session=\"9095162dfbcc89bc48e220f2d0fefc82\", element=\"20417331-b915-4f4e-8dda-8f2c24504910\")>,\n",
       " <selenium.webdriver.remote.webelement.WebElement (session=\"9095162dfbcc89bc48e220f2d0fefc82\", element=\"d564422e-af85-4bf5-bb61-07ec298be5a7\")>,\n",
       " <selenium.webdriver.remote.webelement.WebElement (session=\"9095162dfbcc89bc48e220f2d0fefc82\", element=\"a1b7715c-d64f-4f24-9c08-b32332ce01d9\")>,\n",
       " <selenium.webdriver.remote.webelement.WebElement (session=\"9095162dfbcc89bc48e220f2d0fefc82\", element=\"f1841205-888b-49d6-9580-4bcde7e07024\")>,\n",
       " <selenium.webdriver.remote.webelement.WebElement (session=\"9095162dfbcc89bc48e220f2d0fefc82\", element=\"901ffbc8-3306-4174-93d0-dbdb10c1e4b3\")>,\n",
       " <selenium.webdriver.remote.webelement.WebElement (session=\"9095162dfbcc89bc48e220f2d0fefc82\", element=\"c3ec11c0-645a-4395-8c99-b5b62f4ba225\")>,\n",
       " <selenium.webdriver.remote.webelement.WebElement (session=\"9095162dfbcc89bc48e220f2d0fefc82\", element=\"eb7c0271-45dd-4083-8bf9-15a12f24e75f\")>,\n",
       " <selenium.webdriver.remote.webelement.WebElement (session=\"9095162dfbcc89bc48e220f2d0fefc82\", element=\"cec7c0ae-95ee-4db9-a887-d422b1da8e3e\")>,\n",
       " <selenium.webdriver.remote.webelement.WebElement (session=\"9095162dfbcc89bc48e220f2d0fefc82\", element=\"2553e253-b2c6-4cb6-8f21-97449a9ef4c9\")>,\n",
       " <selenium.webdriver.remote.webelement.WebElement (session=\"9095162dfbcc89bc48e220f2d0fefc82\", element=\"61ae4d0c-a2d4-4d93-95cc-1a435d1541ea\")>,\n",
       " <selenium.webdriver.remote.webelement.WebElement (session=\"9095162dfbcc89bc48e220f2d0fefc82\", element=\"cf4520af-1dfa-4f75-a2e8-bddb56494cbe\")>,\n",
       " <selenium.webdriver.remote.webelement.WebElement (session=\"9095162dfbcc89bc48e220f2d0fefc82\", element=\"442990dd-e7a9-4aec-a836-124f012b063d\")>,\n",
       " <selenium.webdriver.remote.webelement.WebElement (session=\"9095162dfbcc89bc48e220f2d0fefc82\", element=\"38ea2c8f-f12c-4a28-b62a-44883737bcb8\")>,\n",
       " <selenium.webdriver.remote.webelement.WebElement (session=\"9095162dfbcc89bc48e220f2d0fefc82\", element=\"7d96f2f0-77ee-4e34-94de-026c70e002b0\")>,\n",
       " <selenium.webdriver.remote.webelement.WebElement (session=\"9095162dfbcc89bc48e220f2d0fefc82\", element=\"0aefdc70-5f35-40ca-a182-f50889e708af\")>,\n",
       " <selenium.webdriver.remote.webelement.WebElement (session=\"9095162dfbcc89bc48e220f2d0fefc82\", element=\"7e8750c3-bc52-4f95-9936-47ca6bc90def\")>,\n",
       " <selenium.webdriver.remote.webelement.WebElement (session=\"9095162dfbcc89bc48e220f2d0fefc82\", element=\"0bd27adf-c87e-4bfb-bc96-275e42b4579f\")>,\n",
       " <selenium.webdriver.remote.webelement.WebElement (session=\"9095162dfbcc89bc48e220f2d0fefc82\", element=\"9215ae0c-7812-4491-9e51-3ce42cf2b945\")>,\n",
       " <selenium.webdriver.remote.webelement.WebElement (session=\"9095162dfbcc89bc48e220f2d0fefc82\", element=\"ee85b37a-45a1-4f5a-99f6-100668d9914d\")>,\n",
       " <selenium.webdriver.remote.webelement.WebElement (session=\"9095162dfbcc89bc48e220f2d0fefc82\", element=\"baf8c32d-4287-4639-bef8-804e299125d3\")>,\n",
       " <selenium.webdriver.remote.webelement.WebElement (session=\"9095162dfbcc89bc48e220f2d0fefc82\", element=\"1df4017e-3533-48fd-bb6c-7f8b27c101a1\")>,\n",
       " <selenium.webdriver.remote.webelement.WebElement (session=\"9095162dfbcc89bc48e220f2d0fefc82\", element=\"0ddeedbe-91ad-40ff-8ed9-09b8dbe5fb85\")>,\n",
       " <selenium.webdriver.remote.webelement.WebElement (session=\"9095162dfbcc89bc48e220f2d0fefc82\", element=\"1f151466-696a-4219-8854-4a1bff71994d\")>,\n",
       " <selenium.webdriver.remote.webelement.WebElement (session=\"9095162dfbcc89bc48e220f2d0fefc82\", element=\"291e19bf-a665-4969-9d68-edbd95343563\")>,\n",
       " <selenium.webdriver.remote.webelement.WebElement (session=\"9095162dfbcc89bc48e220f2d0fefc82\", element=\"e2aef023-41f2-4a61-a8d7-c51eba30bd69\")>,\n",
       " <selenium.webdriver.remote.webelement.WebElement (session=\"9095162dfbcc89bc48e220f2d0fefc82\", element=\"1f2bfd12-f105-4838-8562-248f00a7a92a\")>,\n",
       " <selenium.webdriver.remote.webelement.WebElement (session=\"9095162dfbcc89bc48e220f2d0fefc82\", element=\"e93d02d0-f29f-43e6-b8c4-c7147e6a7213\")>,\n",
       " <selenium.webdriver.remote.webelement.WebElement (session=\"9095162dfbcc89bc48e220f2d0fefc82\", element=\"ffd68e74-3e70-421d-96cf-4dcc2eeabf42\")>,\n",
       " <selenium.webdriver.remote.webelement.WebElement (session=\"9095162dfbcc89bc48e220f2d0fefc82\", element=\"bfe412ea-5872-4d5d-bcca-c1c3890f18cb\")>,\n",
       " <selenium.webdriver.remote.webelement.WebElement (session=\"9095162dfbcc89bc48e220f2d0fefc82\", element=\"821731ac-7e5c-4e14-a746-81470b770ced\")>,\n",
       " <selenium.webdriver.remote.webelement.WebElement (session=\"9095162dfbcc89bc48e220f2d0fefc82\", element=\"a2251a74-6879-44e7-ae3d-3d05dbbb86fc\")>,\n",
       " <selenium.webdriver.remote.webelement.WebElement (session=\"9095162dfbcc89bc48e220f2d0fefc82\", element=\"93b8773e-2964-418e-b84a-682f6dc87e06\")>,\n",
       " <selenium.webdriver.remote.webelement.WebElement (session=\"9095162dfbcc89bc48e220f2d0fefc82\", element=\"fa374de5-443d-42ce-a07f-98ec77137231\")>,\n",
       " <selenium.webdriver.remote.webelement.WebElement (session=\"9095162dfbcc89bc48e220f2d0fefc82\", element=\"afb17247-80cc-4ad3-bfab-2e5ee438a781\")>,\n",
       " <selenium.webdriver.remote.webelement.WebElement (session=\"9095162dfbcc89bc48e220f2d0fefc82\", element=\"775031a7-2243-4059-b68a-25d31e1d8dae\")>,\n",
       " <selenium.webdriver.remote.webelement.WebElement (session=\"9095162dfbcc89bc48e220f2d0fefc82\", element=\"57661702-5081-42ce-b8f4-614b22fc76cc\")>,\n",
       " <selenium.webdriver.remote.webelement.WebElement (session=\"9095162dfbcc89bc48e220f2d0fefc82\", element=\"d275ff71-93ea-4384-9d95-26278d499272\")>,\n",
       " <selenium.webdriver.remote.webelement.WebElement (session=\"9095162dfbcc89bc48e220f2d0fefc82\", element=\"0e23bc38-ee8e-4c0f-821d-c5a2c2b93e2f\")>,\n",
       " <selenium.webdriver.remote.webelement.WebElement (session=\"9095162dfbcc89bc48e220f2d0fefc82\", element=\"fbbf2988-ab58-4e28-8029-0b5f03b596cb\")>,\n",
       " <selenium.webdriver.remote.webelement.WebElement (session=\"9095162dfbcc89bc48e220f2d0fefc82\", element=\"8120dfdf-ec89-4d4b-9470-afd6f6f3adc0\")>]"
      ]
     },
     "execution_count": 100,
     "metadata": {},
     "output_type": "execute_result"
    }
   ],
   "source": [
    "d = driver.find_elements_by_xpath(\"//div[@class='_3Ay6Sb']\")\n",
    "d[0:40]"
   ]
  },
  {
   "cell_type": "code",
   "execution_count": 101,
   "metadata": {},
   "outputs": [
    {
     "data": {
      "text/plain": [
       "['47% off',\n",
       " '66% off',\n",
       " '77% off',\n",
       " '80% off',\n",
       " '17% off',\n",
       " '12% off',\n",
       " '73% off',\n",
       " '80% off',\n",
       " '28% off',\n",
       " '79% off',\n",
       " '19% off',\n",
       " '80% off',\n",
       " '12% off',\n",
       " '70% off',\n",
       " '80% off',\n",
       " '77% off',\n",
       " '13% off',\n",
       " '15% off',\n",
       " '88% off',\n",
       " '76% off',\n",
       " '16% off',\n",
       " '12% off',\n",
       " '85% off',\n",
       " '55% off',\n",
       " '85% off',\n",
       " '75% off',\n",
       " '78% off',\n",
       " '88% off',\n",
       " '82% off',\n",
       " '55% off',\n",
       " '77% off',\n",
       " '84% off',\n",
       " '85% off',\n",
       " '57% off',\n",
       " '80% off',\n",
       " '81% off',\n",
       " '83% off',\n",
       " '86% off',\n",
       " '13% off',\n",
       " '60% off']"
      ]
     },
     "execution_count": 101,
     "metadata": {},
     "output_type": "execute_result"
    }
   ],
   "source": [
    "for i in d:\n",
    "    title=i.text\n",
    "    Discount.append(title)\n",
    "Discount[0:40]"
   ]
  },
  {
   "cell_type": "code",
   "execution_count": 102,
   "metadata": {},
   "outputs": [
    {
     "data": {
      "text/html": [
       "<div>\n",
       "<style scoped>\n",
       "    .dataframe tbody tr th:only-of-type {\n",
       "        vertical-align: middle;\n",
       "    }\n",
       "\n",
       "    .dataframe tbody tr th {\n",
       "        vertical-align: top;\n",
       "    }\n",
       "\n",
       "    .dataframe thead th {\n",
       "        text-align: right;\n",
       "    }\n",
       "</style>\n",
       "<table border=\"1\" class=\"dataframe\">\n",
       "  <thead>\n",
       "    <tr style=\"text-align: right;\">\n",
       "      <th></th>\n",
       "      <th>Brand</th>\n",
       "      <th>Product Description</th>\n",
       "      <th>Price</th>\n",
       "      <th>Discount</th>\n",
       "    </tr>\n",
       "  </thead>\n",
       "  <tbody>\n",
       "    <tr>\n",
       "      <th>0</th>\n",
       "      <td>Specsmakers</td>\n",
       "      <td>Mirrored Retro Square Sunglasses (49)</td>\n",
       "      <td>₹517</td>\n",
       "      <td>47% off</td>\n",
       "    </tr>\n",
       "    <tr>\n",
       "      <th>1</th>\n",
       "      <td>Royal Son</td>\n",
       "      <td>UV Protection Retro Square Sunglasses (Free Size)</td>\n",
       "      <td>₹664</td>\n",
       "      <td>66% off</td>\n",
       "    </tr>\n",
       "    <tr>\n",
       "      <th>2</th>\n",
       "      <td>ROZZETTA CRAFT</td>\n",
       "      <td>UV Protection, Mirrored Retro Square Sunglasse...</td>\n",
       "      <td>₹499</td>\n",
       "      <td>77% off</td>\n",
       "    </tr>\n",
       "    <tr>\n",
       "      <th>3</th>\n",
       "      <td>Phenomenal</td>\n",
       "      <td>Gradient, UV Protection Wayfarer Sunglasses (F...</td>\n",
       "      <td>₹399</td>\n",
       "      <td>80% off</td>\n",
       "    </tr>\n",
       "    <tr>\n",
       "      <th>4</th>\n",
       "      <td>Fastrack</td>\n",
       "      <td>Gradient, UV Protection Wayfarer Sunglasses (F...</td>\n",
       "      <td>₹659</td>\n",
       "      <td>17% off</td>\n",
       "    </tr>\n",
       "    <tr>\n",
       "      <th>5</th>\n",
       "      <td>Fastrack</td>\n",
       "      <td>UV Protection Rectangular Sunglasses (Free Size)</td>\n",
       "      <td>₹700</td>\n",
       "      <td>12% off</td>\n",
       "    </tr>\n",
       "    <tr>\n",
       "      <th>6</th>\n",
       "      <td>Rozzetta Craft</td>\n",
       "      <td>UV Protection Retro Square Sunglasses (Free Size)</td>\n",
       "      <td>₹398</td>\n",
       "      <td>73% off</td>\n",
       "    </tr>\n",
       "    <tr>\n",
       "      <th>7</th>\n",
       "      <td>Phenomenal</td>\n",
       "      <td>UV Protection Aviator Sunglasses (Free Size)</td>\n",
       "      <td>₹399</td>\n",
       "      <td>80% off</td>\n",
       "    </tr>\n",
       "    <tr>\n",
       "      <th>8</th>\n",
       "      <td>Fastrack</td>\n",
       "      <td>UV Protection, Gradient Rectangular Sunglasses...</td>\n",
       "      <td>₹639</td>\n",
       "      <td>28% off</td>\n",
       "    </tr>\n",
       "    <tr>\n",
       "      <th>9</th>\n",
       "      <td>ROZZETTA CRAFT</td>\n",
       "      <td>Gradient, UV Protection Wayfarer Sunglasses (F...</td>\n",
       "      <td>₹404</td>\n",
       "      <td>79% off</td>\n",
       "    </tr>\n",
       "    <tr>\n",
       "      <th>10</th>\n",
       "      <td>Fastrack</td>\n",
       "      <td>UV Protection Round Sunglasses (Free Size)</td>\n",
       "      <td>₹645</td>\n",
       "      <td>19% off</td>\n",
       "    </tr>\n",
       "    <tr>\n",
       "      <th>11</th>\n",
       "      <td>shah collections</td>\n",
       "      <td>UV Protection Wayfarer Sunglasses (56)</td>\n",
       "      <td>₹331</td>\n",
       "      <td>80% off</td>\n",
       "    </tr>\n",
       "    <tr>\n",
       "      <th>12</th>\n",
       "      <td>Fastrack</td>\n",
       "      <td>UV Protection Retro Square Sunglasses (88)</td>\n",
       "      <td>₹783</td>\n",
       "      <td>12% off</td>\n",
       "    </tr>\n",
       "    <tr>\n",
       "      <th>13</th>\n",
       "      <td>ROYAL SON</td>\n",
       "      <td>UV Protection Aviator Sunglasses (Free Size)</td>\n",
       "      <td>₹599</td>\n",
       "      <td>70% off</td>\n",
       "    </tr>\n",
       "    <tr>\n",
       "      <th>14</th>\n",
       "      <td>PIRASO</td>\n",
       "      <td>UV Protection, Polarized, Mirrored Rectangular...</td>\n",
       "      <td>₹314</td>\n",
       "      <td>80% off</td>\n",
       "    </tr>\n",
       "    <tr>\n",
       "      <th>15</th>\n",
       "      <td>shah collections</td>\n",
       "      <td>UV Protection Aviator Sunglasses (58)</td>\n",
       "      <td>₹227</td>\n",
       "      <td>77% off</td>\n",
       "    </tr>\n",
       "    <tr>\n",
       "      <th>16</th>\n",
       "      <td>Fastrack</td>\n",
       "      <td>UV Protection Wayfarer Sunglasses (Free Size)</td>\n",
       "      <td>₹1,123</td>\n",
       "      <td>13% off</td>\n",
       "    </tr>\n",
       "    <tr>\n",
       "      <th>17</th>\n",
       "      <td>Fastrack</td>\n",
       "      <td>UV Protection Round Sunglasses (54)</td>\n",
       "      <td>₹761</td>\n",
       "      <td>15% off</td>\n",
       "    </tr>\n",
       "    <tr>\n",
       "      <th>18</th>\n",
       "      <td>Elligator</td>\n",
       "      <td>Polarized, UV Protection Sports Sunglasses (60)</td>\n",
       "      <td>₹295</td>\n",
       "      <td>88% off</td>\n",
       "    </tr>\n",
       "    <tr>\n",
       "      <th>19</th>\n",
       "      <td>Adrenex</td>\n",
       "      <td>UV Protection Wayfarer Sunglasses (Free Size)</td>\n",
       "      <td>₹699</td>\n",
       "      <td>76% off</td>\n",
       "    </tr>\n",
       "    <tr>\n",
       "      <th>20</th>\n",
       "      <td>Fastrack</td>\n",
       "      <td>Mirrored, UV Protection Wayfarer Sunglasses (F...</td>\n",
       "      <td>₹666</td>\n",
       "      <td>16% off</td>\n",
       "    </tr>\n",
       "    <tr>\n",
       "      <th>21</th>\n",
       "      <td>Fastrack</td>\n",
       "      <td>UV Protection Aviator Sunglasses (57)</td>\n",
       "      <td>₹873</td>\n",
       "      <td>12% off</td>\n",
       "    </tr>\n",
       "    <tr>\n",
       "      <th>22</th>\n",
       "      <td>Gansta</td>\n",
       "      <td>Polarized Aviator Sunglasses (57)</td>\n",
       "      <td>₹284</td>\n",
       "      <td>85% off</td>\n",
       "    </tr>\n",
       "    <tr>\n",
       "      <th>23</th>\n",
       "      <td>Specsmakers</td>\n",
       "      <td>UV Protection Aviator Sunglasses (54)</td>\n",
       "      <td>₹715</td>\n",
       "      <td>55% off</td>\n",
       "    </tr>\n",
       "    <tr>\n",
       "      <th>24</th>\n",
       "      <td>PIRASO</td>\n",
       "      <td>UV Protection Aviator Sunglasses (58)</td>\n",
       "      <td>₹225</td>\n",
       "      <td>85% off</td>\n",
       "    </tr>\n",
       "    <tr>\n",
       "      <th>25</th>\n",
       "      <td>NuVew</td>\n",
       "      <td>UV Protection Wayfarer Sunglasses (55)</td>\n",
       "      <td>₹195</td>\n",
       "      <td>75% off</td>\n",
       "    </tr>\n",
       "    <tr>\n",
       "      <th>26</th>\n",
       "      <td>Royal Son</td>\n",
       "      <td>UV Protection Wayfarer Sunglasses (Free Size)</td>\n",
       "      <td>₹279</td>\n",
       "      <td>78% off</td>\n",
       "    </tr>\n",
       "    <tr>\n",
       "      <th>27</th>\n",
       "      <td>Deixels</td>\n",
       "      <td>Polarized Aviator Sunglasses (54)</td>\n",
       "      <td>₹211</td>\n",
       "      <td>88% off</td>\n",
       "    </tr>\n",
       "    <tr>\n",
       "      <th>28</th>\n",
       "      <td>Riffko</td>\n",
       "      <td>UV Protection Retro Square Sunglasses (Free Size)</td>\n",
       "      <td>₹210</td>\n",
       "      <td>82% off</td>\n",
       "    </tr>\n",
       "    <tr>\n",
       "      <th>29</th>\n",
       "      <td>Specsmakers</td>\n",
       "      <td>Night Vision, Polarized, UV Protection, Riding...</td>\n",
       "      <td>₹891</td>\n",
       "      <td>55% off</td>\n",
       "    </tr>\n",
       "    <tr>\n",
       "      <th>30</th>\n",
       "      <td>ROZZETTA CRAFT</td>\n",
       "      <td>Polarized Wayfarer Sunglasses (53)</td>\n",
       "      <td>₹499</td>\n",
       "      <td>77% off</td>\n",
       "    </tr>\n",
       "    <tr>\n",
       "      <th>31</th>\n",
       "      <td>like future</td>\n",
       "      <td>UV Protection, Mirrored Retro Square Sunglasse...</td>\n",
       "      <td>₹171</td>\n",
       "      <td>84% off</td>\n",
       "    </tr>\n",
       "    <tr>\n",
       "      <th>32</th>\n",
       "      <td>EYELLUSION</td>\n",
       "      <td>Mirrored, UV Protection Wayfarer, Wayfarer, Wa...</td>\n",
       "      <td>₹344</td>\n",
       "      <td>85% off</td>\n",
       "    </tr>\n",
       "    <tr>\n",
       "      <th>33</th>\n",
       "      <td>Specsmakers</td>\n",
       "      <td>UV Protection Aviator Sunglasses (58)</td>\n",
       "      <td>₹845</td>\n",
       "      <td>57% off</td>\n",
       "    </tr>\n",
       "    <tr>\n",
       "      <th>34</th>\n",
       "      <td>Phenomenal</td>\n",
       "      <td>UV Protection Rectangular Sunglasses (Free Size)</td>\n",
       "      <td>₹399</td>\n",
       "      <td>80% off</td>\n",
       "    </tr>\n",
       "    <tr>\n",
       "      <th>35</th>\n",
       "      <td>kingsunglasses</td>\n",
       "      <td>Polarized Retro Square Sunglasses (52)</td>\n",
       "      <td>₹284</td>\n",
       "      <td>81% off</td>\n",
       "    </tr>\n",
       "    <tr>\n",
       "      <th>36</th>\n",
       "      <td>funglasses</td>\n",
       "      <td>Mirrored Retro Square Sunglasses (49)</td>\n",
       "      <td>₹160</td>\n",
       "      <td>83% off</td>\n",
       "    </tr>\n",
       "    <tr>\n",
       "      <th>37</th>\n",
       "      <td>PIRASO</td>\n",
       "      <td>UV Protection Retro Square Sunglasses (Free Size)</td>\n",
       "      <td>₹349</td>\n",
       "      <td>86% off</td>\n",
       "    </tr>\n",
       "    <tr>\n",
       "      <th>38</th>\n",
       "      <td>Fastrack</td>\n",
       "      <td>UV Protection, Mirrored Retro Square Sunglasse...</td>\n",
       "      <td>₹695</td>\n",
       "      <td>13% off</td>\n",
       "    </tr>\n",
       "    <tr>\n",
       "      <th>39</th>\n",
       "      <td>ROYAL SON</td>\n",
       "      <td>Gradient, UV Protection Wayfarer Sunglasses (F...</td>\n",
       "      <td>₹599</td>\n",
       "      <td>60% off</td>\n",
       "    </tr>\n",
       "  </tbody>\n",
       "</table>\n",
       "</div>"
      ],
      "text/plain": [
       "               Brand                                Product Description  \\\n",
       "0        Specsmakers              Mirrored Retro Square Sunglasses (49)   \n",
       "1          Royal Son  UV Protection Retro Square Sunglasses (Free Size)   \n",
       "2     ROZZETTA CRAFT  UV Protection, Mirrored Retro Square Sunglasse...   \n",
       "3         Phenomenal  Gradient, UV Protection Wayfarer Sunglasses (F...   \n",
       "4           Fastrack  Gradient, UV Protection Wayfarer Sunglasses (F...   \n",
       "5           Fastrack   UV Protection Rectangular Sunglasses (Free Size)   \n",
       "6     Rozzetta Craft  UV Protection Retro Square Sunglasses (Free Size)   \n",
       "7         Phenomenal       UV Protection Aviator Sunglasses (Free Size)   \n",
       "8           Fastrack  UV Protection, Gradient Rectangular Sunglasses...   \n",
       "9     ROZZETTA CRAFT  Gradient, UV Protection Wayfarer Sunglasses (F...   \n",
       "10          Fastrack         UV Protection Round Sunglasses (Free Size)   \n",
       "11  shah collections             UV Protection Wayfarer Sunglasses (56)   \n",
       "12          Fastrack         UV Protection Retro Square Sunglasses (88)   \n",
       "13         ROYAL SON       UV Protection Aviator Sunglasses (Free Size)   \n",
       "14            PIRASO  UV Protection, Polarized, Mirrored Rectangular...   \n",
       "15  shah collections              UV Protection Aviator Sunglasses (58)   \n",
       "16          Fastrack      UV Protection Wayfarer Sunglasses (Free Size)   \n",
       "17          Fastrack                UV Protection Round Sunglasses (54)   \n",
       "18         Elligator    Polarized, UV Protection Sports Sunglasses (60)   \n",
       "19           Adrenex      UV Protection Wayfarer Sunglasses (Free Size)   \n",
       "20          Fastrack  Mirrored, UV Protection Wayfarer Sunglasses (F...   \n",
       "21          Fastrack              UV Protection Aviator Sunglasses (57)   \n",
       "22            Gansta                  Polarized Aviator Sunglasses (57)   \n",
       "23       Specsmakers              UV Protection Aviator Sunglasses (54)   \n",
       "24            PIRASO              UV Protection Aviator Sunglasses (58)   \n",
       "25             NuVew             UV Protection Wayfarer Sunglasses (55)   \n",
       "26         Royal Son      UV Protection Wayfarer Sunglasses (Free Size)   \n",
       "27           Deixels                  Polarized Aviator Sunglasses (54)   \n",
       "28            Riffko  UV Protection Retro Square Sunglasses (Free Size)   \n",
       "29       Specsmakers  Night Vision, Polarized, UV Protection, Riding...   \n",
       "30    ROZZETTA CRAFT                 Polarized Wayfarer Sunglasses (53)   \n",
       "31       like future  UV Protection, Mirrored Retro Square Sunglasse...   \n",
       "32        EYELLUSION  Mirrored, UV Protection Wayfarer, Wayfarer, Wa...   \n",
       "33       Specsmakers              UV Protection Aviator Sunglasses (58)   \n",
       "34        Phenomenal   UV Protection Rectangular Sunglasses (Free Size)   \n",
       "35    kingsunglasses             Polarized Retro Square Sunglasses (52)   \n",
       "36        funglasses              Mirrored Retro Square Sunglasses (49)   \n",
       "37            PIRASO  UV Protection Retro Square Sunglasses (Free Size)   \n",
       "38          Fastrack  UV Protection, Mirrored Retro Square Sunglasse...   \n",
       "39         ROYAL SON  Gradient, UV Protection Wayfarer Sunglasses (F...   \n",
       "\n",
       "     Price Discount  \n",
       "0     ₹517  47% off  \n",
       "1     ₹664  66% off  \n",
       "2     ₹499  77% off  \n",
       "3     ₹399  80% off  \n",
       "4     ₹659  17% off  \n",
       "5     ₹700  12% off  \n",
       "6     ₹398  73% off  \n",
       "7     ₹399  80% off  \n",
       "8     ₹639  28% off  \n",
       "9     ₹404  79% off  \n",
       "10    ₹645  19% off  \n",
       "11    ₹331  80% off  \n",
       "12    ₹783  12% off  \n",
       "13    ₹599  70% off  \n",
       "14    ₹314  80% off  \n",
       "15    ₹227  77% off  \n",
       "16  ₹1,123  13% off  \n",
       "17    ₹761  15% off  \n",
       "18    ₹295  88% off  \n",
       "19    ₹699  76% off  \n",
       "20    ₹666  16% off  \n",
       "21    ₹873  12% off  \n",
       "22    ₹284  85% off  \n",
       "23    ₹715  55% off  \n",
       "24    ₹225  85% off  \n",
       "25    ₹195  75% off  \n",
       "26    ₹279  78% off  \n",
       "27    ₹211  88% off  \n",
       "28    ₹210  82% off  \n",
       "29    ₹891  55% off  \n",
       "30    ₹499  77% off  \n",
       "31    ₹171  84% off  \n",
       "32    ₹344  85% off  \n",
       "33    ₹845  57% off  \n",
       "34    ₹399  80% off  \n",
       "35    ₹284  81% off  \n",
       "36    ₹160  83% off  \n",
       "37    ₹349  86% off  \n",
       "38    ₹695  13% off  \n",
       "39    ₹599  60% off  "
      ]
     },
     "execution_count": 102,
     "metadata": {},
     "output_type": "execute_result"
    }
   ],
   "source": [
    "import pandas as pd\n",
    "table=pd.DataFrame({})\n",
    "\n",
    "table['Brand']=Brand[:100]\n",
    "table['Product Description']=Product_d[:40]\n",
    "table['Price']=Price[:40]\n",
    "table['Discount']=Discount[0:40]\n",
    "\n",
    "table"
   ]
  },
  {
   "cell_type": "code",
   "execution_count": 103,
   "metadata": {},
   "outputs": [],
   "source": [
    "next_btn = driver.find_element_by_xpath(\"//a[@class='_1LKTO3']/span\")\n",
    "next_btn.click()"
   ]
  },
  {
   "cell_type": "code",
   "execution_count": 104,
   "metadata": {},
   "outputs": [],
   "source": [
    "url=\"https://www.flipkart.com/search?q=sunglasses&otracker=search&otracker1=search&marketplace=FLIPKART&as-show=on&as=off&page=2\""
   ]
  },
  {
   "cell_type": "code",
   "execution_count": 105,
   "metadata": {},
   "outputs": [],
   "source": [
    "driver.get(url)"
   ]
  },
  {
   "cell_type": "code",
   "execution_count": 106,
   "metadata": {},
   "outputs": [],
   "source": [
    "Brand_2=[]\n",
    "Product_d2=[]\n",
    "Price_2=[]\n",
    "Discount_2=[]"
   ]
  },
  {
   "cell_type": "code",
   "execution_count": 134,
   "metadata": {},
   "outputs": [
    {
     "data": {
      "text/plain": [
       "[<selenium.webdriver.remote.webelement.WebElement (session=\"9095162dfbcc89bc48e220f2d0fefc82\", element=\"d3ea3dfb-e54d-433e-aa58-7a13c21bb30d\")>,\n",
       " <selenium.webdriver.remote.webelement.WebElement (session=\"9095162dfbcc89bc48e220f2d0fefc82\", element=\"26176abc-c563-441c-9928-7b9d1a193b6e\")>,\n",
       " <selenium.webdriver.remote.webelement.WebElement (session=\"9095162dfbcc89bc48e220f2d0fefc82\", element=\"a62616e6-b986-4756-8e80-a56dd205f48d\")>,\n",
       " <selenium.webdriver.remote.webelement.WebElement (session=\"9095162dfbcc89bc48e220f2d0fefc82\", element=\"8c751bd3-1e88-44b2-bb80-7eb1b4eec761\")>,\n",
       " <selenium.webdriver.remote.webelement.WebElement (session=\"9095162dfbcc89bc48e220f2d0fefc82\", element=\"b7764f3b-cb66-4a4c-b699-d9b5a89d49a0\")>,\n",
       " <selenium.webdriver.remote.webelement.WebElement (session=\"9095162dfbcc89bc48e220f2d0fefc82\", element=\"31194558-3c8d-40c2-b8bb-48f4b23b3177\")>,\n",
       " <selenium.webdriver.remote.webelement.WebElement (session=\"9095162dfbcc89bc48e220f2d0fefc82\", element=\"5c07a643-22a5-41f7-ad44-41060d059e51\")>,\n",
       " <selenium.webdriver.remote.webelement.WebElement (session=\"9095162dfbcc89bc48e220f2d0fefc82\", element=\"d510eb2d-586d-48d2-8c18-d2b72578b8c7\")>,\n",
       " <selenium.webdriver.remote.webelement.WebElement (session=\"9095162dfbcc89bc48e220f2d0fefc82\", element=\"38ea76b3-b3ae-482a-884a-2fad76b29df0\")>,\n",
       " <selenium.webdriver.remote.webelement.WebElement (session=\"9095162dfbcc89bc48e220f2d0fefc82\", element=\"0a4a167e-31c1-48b9-8090-c279a3e2c05b\")>,\n",
       " <selenium.webdriver.remote.webelement.WebElement (session=\"9095162dfbcc89bc48e220f2d0fefc82\", element=\"20fddf0e-095a-4a35-a25c-501ce7988bed\")>,\n",
       " <selenium.webdriver.remote.webelement.WebElement (session=\"9095162dfbcc89bc48e220f2d0fefc82\", element=\"c3b34065-ed0c-4693-bd66-1ddeb865e2e3\")>,\n",
       " <selenium.webdriver.remote.webelement.WebElement (session=\"9095162dfbcc89bc48e220f2d0fefc82\", element=\"04c0880d-0f4b-4c42-947d-51e74a1ec427\")>,\n",
       " <selenium.webdriver.remote.webelement.WebElement (session=\"9095162dfbcc89bc48e220f2d0fefc82\", element=\"4aa128dd-bcbb-42e8-bc8f-111ee8219e30\")>,\n",
       " <selenium.webdriver.remote.webelement.WebElement (session=\"9095162dfbcc89bc48e220f2d0fefc82\", element=\"44fec987-db33-4453-a769-e5d8317c8ab1\")>,\n",
       " <selenium.webdriver.remote.webelement.WebElement (session=\"9095162dfbcc89bc48e220f2d0fefc82\", element=\"3c181a37-4086-4e41-b034-e13245894a23\")>,\n",
       " <selenium.webdriver.remote.webelement.WebElement (session=\"9095162dfbcc89bc48e220f2d0fefc82\", element=\"485da92e-b7fe-47fb-a958-d68d288a1c0d\")>,\n",
       " <selenium.webdriver.remote.webelement.WebElement (session=\"9095162dfbcc89bc48e220f2d0fefc82\", element=\"0f2ffbfc-51d0-47ce-a003-9562252f74ff\")>,\n",
       " <selenium.webdriver.remote.webelement.WebElement (session=\"9095162dfbcc89bc48e220f2d0fefc82\", element=\"943bbcbb-21cb-4525-aaa2-7f5a9a6a1e0a\")>,\n",
       " <selenium.webdriver.remote.webelement.WebElement (session=\"9095162dfbcc89bc48e220f2d0fefc82\", element=\"4f22983f-001a-4fb6-8a25-11136910d8c7\")>,\n",
       " <selenium.webdriver.remote.webelement.WebElement (session=\"9095162dfbcc89bc48e220f2d0fefc82\", element=\"773ff9aa-e9cf-4a3d-b702-f5bd72f4ea25\")>,\n",
       " <selenium.webdriver.remote.webelement.WebElement (session=\"9095162dfbcc89bc48e220f2d0fefc82\", element=\"830ab5a8-0bef-4591-bedb-f9be10a4ce83\")>,\n",
       " <selenium.webdriver.remote.webelement.WebElement (session=\"9095162dfbcc89bc48e220f2d0fefc82\", element=\"4664ca29-adc2-4101-ad2b-c7a1ad01455b\")>,\n",
       " <selenium.webdriver.remote.webelement.WebElement (session=\"9095162dfbcc89bc48e220f2d0fefc82\", element=\"d05db3b1-dc98-4a33-b905-2784540850b9\")>,\n",
       " <selenium.webdriver.remote.webelement.WebElement (session=\"9095162dfbcc89bc48e220f2d0fefc82\", element=\"c315aa10-63ba-4dc8-ac79-999ce6e69a84\")>,\n",
       " <selenium.webdriver.remote.webelement.WebElement (session=\"9095162dfbcc89bc48e220f2d0fefc82\", element=\"ef70e498-59f9-4d21-b10b-1dc239e27796\")>,\n",
       " <selenium.webdriver.remote.webelement.WebElement (session=\"9095162dfbcc89bc48e220f2d0fefc82\", element=\"6e93638e-574d-414d-88b1-5da8e9b8f384\")>,\n",
       " <selenium.webdriver.remote.webelement.WebElement (session=\"9095162dfbcc89bc48e220f2d0fefc82\", element=\"a45c47bd-425a-4cab-b5be-396e44aaff2a\")>,\n",
       " <selenium.webdriver.remote.webelement.WebElement (session=\"9095162dfbcc89bc48e220f2d0fefc82\", element=\"6fd59943-400f-4182-ac1b-6aa24b51848f\")>,\n",
       " <selenium.webdriver.remote.webelement.WebElement (session=\"9095162dfbcc89bc48e220f2d0fefc82\", element=\"706300bc-0603-43df-8b34-a5d5712ffdd4\")>,\n",
       " <selenium.webdriver.remote.webelement.WebElement (session=\"9095162dfbcc89bc48e220f2d0fefc82\", element=\"f68211ea-0a73-442a-b80e-ed349125e0f1\")>,\n",
       " <selenium.webdriver.remote.webelement.WebElement (session=\"9095162dfbcc89bc48e220f2d0fefc82\", element=\"83e90def-e4b7-4632-87fd-27175561dd7b\")>,\n",
       " <selenium.webdriver.remote.webelement.WebElement (session=\"9095162dfbcc89bc48e220f2d0fefc82\", element=\"68a90709-95d2-4c67-b3f2-1b29563c7d93\")>,\n",
       " <selenium.webdriver.remote.webelement.WebElement (session=\"9095162dfbcc89bc48e220f2d0fefc82\", element=\"80061661-2c4b-485d-b553-e6105f3c1560\")>,\n",
       " <selenium.webdriver.remote.webelement.WebElement (session=\"9095162dfbcc89bc48e220f2d0fefc82\", element=\"d6c8bacf-d444-4e7f-922d-2e4324ea176d\")>,\n",
       " <selenium.webdriver.remote.webelement.WebElement (session=\"9095162dfbcc89bc48e220f2d0fefc82\", element=\"a32e372e-21a6-4aec-ab3a-d0fb930f4413\")>,\n",
       " <selenium.webdriver.remote.webelement.WebElement (session=\"9095162dfbcc89bc48e220f2d0fefc82\", element=\"da45facf-7fa7-42f7-9d43-9f73beab26cf\")>,\n",
       " <selenium.webdriver.remote.webelement.WebElement (session=\"9095162dfbcc89bc48e220f2d0fefc82\", element=\"2d95ccb8-8ceb-4405-bcea-756fd0468833\")>,\n",
       " <selenium.webdriver.remote.webelement.WebElement (session=\"9095162dfbcc89bc48e220f2d0fefc82\", element=\"789b6a9e-523f-4454-8502-452e408ab3de\")>,\n",
       " <selenium.webdriver.remote.webelement.WebElement (session=\"9095162dfbcc89bc48e220f2d0fefc82\", element=\"2995ab83-f53f-498d-bcf1-4ac5007ae95a\")>]"
      ]
     },
     "execution_count": 134,
     "metadata": {},
     "output_type": "execute_result"
    }
   ],
   "source": [
    "b = driver.find_elements_by_xpath(\"//div[@class='_2WkVRV']\")\n",
    "b[0:40]"
   ]
  },
  {
   "cell_type": "code",
   "execution_count": 135,
   "metadata": {},
   "outputs": [
    {
     "data": {
      "text/plain": [
       "['FDA COLLECTION',\n",
       " 'PIRASO',\n",
       " 'Singco India',\n",
       " 'Specsmakers',\n",
       " 'Rozzetta Craft',\n",
       " 'Adeeb sunglasses',\n",
       " 'Fastrack',\n",
       " 'Fastrack',\n",
       " 'ROZZETTA CRAFT',\n",
       " 'hipe',\n",
       " 'Singco India',\n",
       " 'ALEYBEE',\n",
       " 'Phenomenal',\n",
       " 'Royal Son',\n",
       " 'like future',\n",
       " 'Farenheit',\n",
       " 'Badfella',\n",
       " 'povty',\n",
       " 'Stysol',\n",
       " 'Adrenex',\n",
       " 'HIPPON',\n",
       " 'Fastrack',\n",
       " 'kingsunglasses',\n",
       " 'Specsmakers',\n",
       " 'dannilo',\n",
       " 'Winsome',\n",
       " 'NuVew',\n",
       " 'Deixels',\n",
       " 'FDA COLLECTION',\n",
       " 'Specsmakers',\n",
       " 'Silver Kartz',\n",
       " 'funglasses',\n",
       " 'Riffko',\n",
       " 'ROYAL SON',\n",
       " 'Fravy',\n",
       " 'AALAE',\n",
       " 'Trendy Glasses',\n",
       " 'Phenomenal',\n",
       " 'Scaglia',\n",
       " 'Adrenex']"
      ]
     },
     "execution_count": 135,
     "metadata": {},
     "output_type": "execute_result"
    }
   ],
   "source": [
    "for i in b:\n",
    "    title=i.text\n",
    "    Brand_2.append(title)\n",
    "Brand_2[0:40]"
   ]
  },
  {
   "cell_type": "code",
   "execution_count": 136,
   "metadata": {},
   "outputs": [
    {
     "data": {
      "text/plain": [
       "[<selenium.webdriver.remote.webelement.WebElement (session=\"9095162dfbcc89bc48e220f2d0fefc82\", element=\"60a90e45-a846-43e9-b2bc-6acbfedd562c\")>,\n",
       " <selenium.webdriver.remote.webelement.WebElement (session=\"9095162dfbcc89bc48e220f2d0fefc82\", element=\"0f3bdc7b-5444-46ee-887e-b4fd3157250e\")>,\n",
       " <selenium.webdriver.remote.webelement.WebElement (session=\"9095162dfbcc89bc48e220f2d0fefc82\", element=\"70ffe0dc-372f-495d-be20-828b96d2b5c4\")>,\n",
       " <selenium.webdriver.remote.webelement.WebElement (session=\"9095162dfbcc89bc48e220f2d0fefc82\", element=\"cec81f83-68ef-4152-aeb0-c5ca5655af7e\")>,\n",
       " <selenium.webdriver.remote.webelement.WebElement (session=\"9095162dfbcc89bc48e220f2d0fefc82\", element=\"08f91c84-0190-48e0-9fa5-1567768410a1\")>,\n",
       " <selenium.webdriver.remote.webelement.WebElement (session=\"9095162dfbcc89bc48e220f2d0fefc82\", element=\"c3f5944a-949b-45a2-b703-150b6fc0541c\")>,\n",
       " <selenium.webdriver.remote.webelement.WebElement (session=\"9095162dfbcc89bc48e220f2d0fefc82\", element=\"53eeff83-4098-4d96-8832-00fa0dd5d4e4\")>,\n",
       " <selenium.webdriver.remote.webelement.WebElement (session=\"9095162dfbcc89bc48e220f2d0fefc82\", element=\"1fc2b32b-1444-43bf-a350-d50284f6b9c4\")>,\n",
       " <selenium.webdriver.remote.webelement.WebElement (session=\"9095162dfbcc89bc48e220f2d0fefc82\", element=\"7edbc54c-7652-45f0-bdb5-f9e7e94f09aa\")>,\n",
       " <selenium.webdriver.remote.webelement.WebElement (session=\"9095162dfbcc89bc48e220f2d0fefc82\", element=\"15a56dc6-1035-4462-82fa-d16c0a19f779\")>,\n",
       " <selenium.webdriver.remote.webelement.WebElement (session=\"9095162dfbcc89bc48e220f2d0fefc82\", element=\"d30c42a8-dbf8-4253-964b-d329ad8a84c2\")>,\n",
       " <selenium.webdriver.remote.webelement.WebElement (session=\"9095162dfbcc89bc48e220f2d0fefc82\", element=\"6d9ac485-d02d-497e-be45-faa2449e6a3f\")>,\n",
       " <selenium.webdriver.remote.webelement.WebElement (session=\"9095162dfbcc89bc48e220f2d0fefc82\", element=\"81b2eb90-a211-4a55-b09d-7e640fee711d\")>,\n",
       " <selenium.webdriver.remote.webelement.WebElement (session=\"9095162dfbcc89bc48e220f2d0fefc82\", element=\"0fabb942-6f49-49f5-abda-93371c32cd07\")>,\n",
       " <selenium.webdriver.remote.webelement.WebElement (session=\"9095162dfbcc89bc48e220f2d0fefc82\", element=\"965e60ec-dbf3-46a0-959c-936477e94865\")>,\n",
       " <selenium.webdriver.remote.webelement.WebElement (session=\"9095162dfbcc89bc48e220f2d0fefc82\", element=\"0be36889-ea49-47be-8e68-78ba2ca3423a\")>,\n",
       " <selenium.webdriver.remote.webelement.WebElement (session=\"9095162dfbcc89bc48e220f2d0fefc82\", element=\"a7e26db9-7062-47fc-a47e-476c2085ea21\")>,\n",
       " <selenium.webdriver.remote.webelement.WebElement (session=\"9095162dfbcc89bc48e220f2d0fefc82\", element=\"d3ec278f-8b4b-46c8-90e0-b85f09eb4aa8\")>,\n",
       " <selenium.webdriver.remote.webelement.WebElement (session=\"9095162dfbcc89bc48e220f2d0fefc82\", element=\"e15518fb-704e-4b88-b1b8-0e1b5fb787a1\")>,\n",
       " <selenium.webdriver.remote.webelement.WebElement (session=\"9095162dfbcc89bc48e220f2d0fefc82\", element=\"d0679f28-fd9f-46ba-9d10-94369d256262\")>,\n",
       " <selenium.webdriver.remote.webelement.WebElement (session=\"9095162dfbcc89bc48e220f2d0fefc82\", element=\"0438dd05-c2a7-43db-bd55-c78c972857a2\")>,\n",
       " <selenium.webdriver.remote.webelement.WebElement (session=\"9095162dfbcc89bc48e220f2d0fefc82\", element=\"4be308b6-0b2f-44ef-a630-0133650d7826\")>,\n",
       " <selenium.webdriver.remote.webelement.WebElement (session=\"9095162dfbcc89bc48e220f2d0fefc82\", element=\"316020f1-8434-4253-8cad-2ce8956fda2c\")>,\n",
       " <selenium.webdriver.remote.webelement.WebElement (session=\"9095162dfbcc89bc48e220f2d0fefc82\", element=\"a36d2992-4262-41e0-8170-f7efa1465dfe\")>,\n",
       " <selenium.webdriver.remote.webelement.WebElement (session=\"9095162dfbcc89bc48e220f2d0fefc82\", element=\"f59bd4d0-7714-46cc-856b-983c20a878fe\")>,\n",
       " <selenium.webdriver.remote.webelement.WebElement (session=\"9095162dfbcc89bc48e220f2d0fefc82\", element=\"14b1db6c-d55c-4739-9385-fd644d14f639\")>,\n",
       " <selenium.webdriver.remote.webelement.WebElement (session=\"9095162dfbcc89bc48e220f2d0fefc82\", element=\"5d9d63c5-f4c1-476e-8053-f84a47b44eef\")>,\n",
       " <selenium.webdriver.remote.webelement.WebElement (session=\"9095162dfbcc89bc48e220f2d0fefc82\", element=\"e2d7f60e-f166-4a9c-bbed-b50152bdac6e\")>,\n",
       " <selenium.webdriver.remote.webelement.WebElement (session=\"9095162dfbcc89bc48e220f2d0fefc82\", element=\"bff5c105-e407-4b7a-b188-1c7f692977ce\")>]"
      ]
     },
     "execution_count": 136,
     "metadata": {},
     "output_type": "execute_result"
    }
   ],
   "source": [
    "p = driver.find_elements_by_xpath(\"//a[@class='IRpwTa']\")\n",
    "p[0:40]"
   ]
  },
  {
   "cell_type": "code",
   "execution_count": 137,
   "metadata": {},
   "outputs": [
    {
     "data": {
      "text/plain": [
       "['Gradient, Mirrored, UV Protection Round, Round, Round S...',\n",
       " 'UV Protection Aviator Sunglasses (58)',\n",
       " 'UV Protection, Polarized Aviator Sunglasses (Free Size)',\n",
       " 'Mirrored Retro Square Sunglasses (49)',\n",
       " 'UV Protection Shield Sunglasses (54)',\n",
       " 'UV Protection Retro Square Sunglasses (74)',\n",
       " 'UV Protection, Polarized Wayfarer Sunglasses (56)',\n",
       " 'UV Protection Aviator Sunglasses (58)',\n",
       " 'Mirrored, UV Protection Round Sunglasses (Free Size)',\n",
       " 'UV Protection Aviator Sunglasses (Free Size)',\n",
       " 'UV Protection Round Sunglasses (54)',\n",
       " 'UV Protection, Mirrored Retro Square Sunglasses (53)',\n",
       " 'UV Protection Rectangular Sunglasses (49)',\n",
       " 'Polarized, UV Protection Retro Square Sunglasses (53)',\n",
       " 'UV Protection Wayfarer Sunglasses (Free Size)',\n",
       " 'Polarized, UV Protection Round Sunglasses (54)',\n",
       " 'Polarized, UV Protection Sports Sunglasses (60)',\n",
       " 'UV Protection Wayfarer Sunglasses (Free Size)',\n",
       " 'Polarized Aviator Sunglasses (57)',\n",
       " 'UV Protection Round Sunglasses (54)',\n",
       " 'UV Protection Aviator Sunglasses (Free Size)',\n",
       " 'UV Protection Aviator, Wayfarer Sunglasses (Free Size)',\n",
       " 'Polarized Aviator Sunglasses (54)',\n",
       " 'UV Protection Wayfarer Sunglasses (Free Size)',\n",
       " 'Polarized Retro Square Sunglasses (52)',\n",
       " 'UV Protection, Gradient, Night Vision Retro Square Sung...',\n",
       " 'UV Protection Retro Square Sunglasses (Free Size)',\n",
       " 'UV Protection, Mirrored Clubmaster Sunglasses (Free Siz...',\n",
       " 'Polarized, UV Protection Sports Sunglasses (60)',\n",
       " 'Gradient, Mirrored, UV Protection Round, Round, Round S...',\n",
       " 'UV Protection Aviator Sunglasses (58)',\n",
       " 'UV Protection, Polarized Aviator Sunglasses (Free Size)',\n",
       " 'Mirrored Retro Square Sunglasses (49)',\n",
       " 'UV Protection Shield Sunglasses (54)',\n",
       " 'UV Protection Retro Square Sunglasses (74)',\n",
       " 'UV Protection, Polarized Wayfarer Sunglasses (56)',\n",
       " 'UV Protection Aviator Sunglasses (58)',\n",
       " 'Mirrored, UV Protection Round Sunglasses (Free Size)',\n",
       " 'UV Protection Aviator Sunglasses (Free Size)',\n",
       " 'UV Protection Round Sunglasses (54)']"
      ]
     },
     "execution_count": 137,
     "metadata": {},
     "output_type": "execute_result"
    }
   ],
   "source": [
    "for i in p:\n",
    "    title=i.text\n",
    "    Product_d2.append(title)\n",
    "Product_d2[0:40]"
   ]
  },
  {
   "cell_type": "code",
   "execution_count": 138,
   "metadata": {},
   "outputs": [
    {
     "data": {
      "text/plain": [
       "[<selenium.webdriver.remote.webelement.WebElement (session=\"9095162dfbcc89bc48e220f2d0fefc82\", element=\"5c5e49a7-591a-4c33-af4f-13342b7139cd\")>,\n",
       " <selenium.webdriver.remote.webelement.WebElement (session=\"9095162dfbcc89bc48e220f2d0fefc82\", element=\"4eb83d21-c58a-469e-9963-f74b69c08cdc\")>,\n",
       " <selenium.webdriver.remote.webelement.WebElement (session=\"9095162dfbcc89bc48e220f2d0fefc82\", element=\"9f4f8c58-c262-4532-a965-5a6824990f81\")>,\n",
       " <selenium.webdriver.remote.webelement.WebElement (session=\"9095162dfbcc89bc48e220f2d0fefc82\", element=\"34c221b8-ea61-4e5f-85e4-077976268b53\")>,\n",
       " <selenium.webdriver.remote.webelement.WebElement (session=\"9095162dfbcc89bc48e220f2d0fefc82\", element=\"5a6dc8c7-4b36-4400-9520-7e35ffb089f8\")>,\n",
       " <selenium.webdriver.remote.webelement.WebElement (session=\"9095162dfbcc89bc48e220f2d0fefc82\", element=\"17b1a435-96c4-4286-b4ba-7fb0a2904716\")>,\n",
       " <selenium.webdriver.remote.webelement.WebElement (session=\"9095162dfbcc89bc48e220f2d0fefc82\", element=\"3f4c34c8-835e-439c-97c7-7e8a620b489c\")>,\n",
       " <selenium.webdriver.remote.webelement.WebElement (session=\"9095162dfbcc89bc48e220f2d0fefc82\", element=\"f4525508-6e66-462f-93f5-2c48ae0d89ed\")>,\n",
       " <selenium.webdriver.remote.webelement.WebElement (session=\"9095162dfbcc89bc48e220f2d0fefc82\", element=\"ee940629-2482-45f9-82a0-549f89d8cfa3\")>,\n",
       " <selenium.webdriver.remote.webelement.WebElement (session=\"9095162dfbcc89bc48e220f2d0fefc82\", element=\"fd28e242-ee53-4173-bc1c-69682cb345b8\")>,\n",
       " <selenium.webdriver.remote.webelement.WebElement (session=\"9095162dfbcc89bc48e220f2d0fefc82\", element=\"06465f76-c97e-4b18-8e76-6a516de768f6\")>,\n",
       " <selenium.webdriver.remote.webelement.WebElement (session=\"9095162dfbcc89bc48e220f2d0fefc82\", element=\"e7dfa39c-0ffa-4e9c-9fe3-4c8eef5cf297\")>,\n",
       " <selenium.webdriver.remote.webelement.WebElement (session=\"9095162dfbcc89bc48e220f2d0fefc82\", element=\"8505e20d-cfbe-411d-8765-c46f1dd4f0c2\")>,\n",
       " <selenium.webdriver.remote.webelement.WebElement (session=\"9095162dfbcc89bc48e220f2d0fefc82\", element=\"6770ec48-1452-41a7-ba28-2ee6ff925014\")>,\n",
       " <selenium.webdriver.remote.webelement.WebElement (session=\"9095162dfbcc89bc48e220f2d0fefc82\", element=\"f8d80a56-ad3b-4697-9d17-8c9e11bc5dc0\")>,\n",
       " <selenium.webdriver.remote.webelement.WebElement (session=\"9095162dfbcc89bc48e220f2d0fefc82\", element=\"309914b6-8d3e-4fcb-9545-24b978055310\")>,\n",
       " <selenium.webdriver.remote.webelement.WebElement (session=\"9095162dfbcc89bc48e220f2d0fefc82\", element=\"966b8794-add1-4b40-85a8-a9f57532dde1\")>,\n",
       " <selenium.webdriver.remote.webelement.WebElement (session=\"9095162dfbcc89bc48e220f2d0fefc82\", element=\"750d1c93-a724-4630-81a2-a2c43a59a8fb\")>,\n",
       " <selenium.webdriver.remote.webelement.WebElement (session=\"9095162dfbcc89bc48e220f2d0fefc82\", element=\"5b8928d7-d7a1-4f2e-ab6a-5e8a3de2d9ba\")>,\n",
       " <selenium.webdriver.remote.webelement.WebElement (session=\"9095162dfbcc89bc48e220f2d0fefc82\", element=\"5ab9e87c-a8dc-4b01-a250-bfc59d9b2e26\")>,\n",
       " <selenium.webdriver.remote.webelement.WebElement (session=\"9095162dfbcc89bc48e220f2d0fefc82\", element=\"5d4e09be-6b88-4c6d-a9ad-eae3c26166a2\")>,\n",
       " <selenium.webdriver.remote.webelement.WebElement (session=\"9095162dfbcc89bc48e220f2d0fefc82\", element=\"9705ef27-2729-4cf3-ae62-f8e7ae9d55b3\")>,\n",
       " <selenium.webdriver.remote.webelement.WebElement (session=\"9095162dfbcc89bc48e220f2d0fefc82\", element=\"038c7385-0d94-4af7-96f1-443ed3cc471c\")>,\n",
       " <selenium.webdriver.remote.webelement.WebElement (session=\"9095162dfbcc89bc48e220f2d0fefc82\", element=\"7ac23aaf-280d-4431-a448-3e721bacee4d\")>,\n",
       " <selenium.webdriver.remote.webelement.WebElement (session=\"9095162dfbcc89bc48e220f2d0fefc82\", element=\"80b0c409-cfb9-4de6-b476-faefd17ed147\")>,\n",
       " <selenium.webdriver.remote.webelement.WebElement (session=\"9095162dfbcc89bc48e220f2d0fefc82\", element=\"e2e9342a-decf-48bf-b237-b88a83c8b351\")>,\n",
       " <selenium.webdriver.remote.webelement.WebElement (session=\"9095162dfbcc89bc48e220f2d0fefc82\", element=\"5ea28645-401e-45d9-b596-0df86ed2d450\")>,\n",
       " <selenium.webdriver.remote.webelement.WebElement (session=\"9095162dfbcc89bc48e220f2d0fefc82\", element=\"3ae6451f-970b-452b-b403-5a72414d426c\")>,\n",
       " <selenium.webdriver.remote.webelement.WebElement (session=\"9095162dfbcc89bc48e220f2d0fefc82\", element=\"15a56c40-b757-45c4-a426-b34a20e7f51d\")>,\n",
       " <selenium.webdriver.remote.webelement.WebElement (session=\"9095162dfbcc89bc48e220f2d0fefc82\", element=\"ef6c23a4-0289-4912-ad5a-3846fda27aff\")>,\n",
       " <selenium.webdriver.remote.webelement.WebElement (session=\"9095162dfbcc89bc48e220f2d0fefc82\", element=\"58400c16-1b06-472a-9b5f-9e2bde5f2e57\")>,\n",
       " <selenium.webdriver.remote.webelement.WebElement (session=\"9095162dfbcc89bc48e220f2d0fefc82\", element=\"6ab016bb-9072-45a7-b915-7103c16e2903\")>,\n",
       " <selenium.webdriver.remote.webelement.WebElement (session=\"9095162dfbcc89bc48e220f2d0fefc82\", element=\"00ef41b8-0f07-4c16-9b16-df0941925337\")>,\n",
       " <selenium.webdriver.remote.webelement.WebElement (session=\"9095162dfbcc89bc48e220f2d0fefc82\", element=\"59817e14-eae0-47dc-8c6f-32f71687f2b1\")>,\n",
       " <selenium.webdriver.remote.webelement.WebElement (session=\"9095162dfbcc89bc48e220f2d0fefc82\", element=\"56d5a3bb-6c4a-4e6e-9525-d8abbfa5fade\")>,\n",
       " <selenium.webdriver.remote.webelement.WebElement (session=\"9095162dfbcc89bc48e220f2d0fefc82\", element=\"ab71593c-f53b-4901-8b24-670ff75b0852\")>,\n",
       " <selenium.webdriver.remote.webelement.WebElement (session=\"9095162dfbcc89bc48e220f2d0fefc82\", element=\"7d7a0f42-1015-443c-b12f-2871c9cac75d\")>,\n",
       " <selenium.webdriver.remote.webelement.WebElement (session=\"9095162dfbcc89bc48e220f2d0fefc82\", element=\"9a817372-f6e6-4f2b-b8d3-5abc554c2d71\")>,\n",
       " <selenium.webdriver.remote.webelement.WebElement (session=\"9095162dfbcc89bc48e220f2d0fefc82\", element=\"b4c00967-b087-4049-84df-2c9433801046\")>,\n",
       " <selenium.webdriver.remote.webelement.WebElement (session=\"9095162dfbcc89bc48e220f2d0fefc82\", element=\"72480e6f-4c4d-4d19-8f3a-c455f55d3159\")>]"
      ]
     },
     "execution_count": 138,
     "metadata": {},
     "output_type": "execute_result"
    }
   ],
   "source": [
    "pr = driver.find_elements_by_xpath(\"//div[@class='_30jeq3']\")\n",
    "pr[0:40]"
   ]
  },
  {
   "cell_type": "code",
   "execution_count": 139,
   "metadata": {},
   "outputs": [
    {
     "data": {
      "text/plain": [
       "['₹199',\n",
       " '₹349',\n",
       " '₹189',\n",
       " '₹517',\n",
       " '₹499',\n",
       " '₹150',\n",
       " '₹750',\n",
       " '₹1,143',\n",
       " '₹399',\n",
       " '₹169',\n",
       " '₹299',\n",
       " '₹179',\n",
       " '₹399',\n",
       " '₹664',\n",
       " '₹217',\n",
       " '₹284',\n",
       " '₹269',\n",
       " '₹324',\n",
       " '₹199',\n",
       " '₹699',\n",
       " '₹198',\n",
       " '₹669',\n",
       " '₹208',\n",
       " '₹715',\n",
       " '₹189',\n",
       " '₹192',\n",
       " '₹417',\n",
       " '₹202',\n",
       " '₹199',\n",
       " '₹891',\n",
       " '₹233',\n",
       " '₹125',\n",
       " '₹190',\n",
       " '₹599',\n",
       " '₹319',\n",
       " '₹197',\n",
       " '₹298',\n",
       " '₹289',\n",
       " '₹165',\n",
       " '₹699']"
      ]
     },
     "execution_count": 139,
     "metadata": {},
     "output_type": "execute_result"
    }
   ],
   "source": [
    "for i in pr:\n",
    "    title=i.text\n",
    "    Price_2.append(title)\n",
    "Price_2[0:40]"
   ]
  },
  {
   "cell_type": "code",
   "execution_count": 140,
   "metadata": {},
   "outputs": [
    {
     "data": {
      "text/plain": [
       "[<selenium.webdriver.remote.webelement.WebElement (session=\"9095162dfbcc89bc48e220f2d0fefc82\", element=\"66aa5169-8617-4bad-b610-d1853ea2de2d\")>,\n",
       " <selenium.webdriver.remote.webelement.WebElement (session=\"9095162dfbcc89bc48e220f2d0fefc82\", element=\"6da1b8d5-afa1-44ad-838b-3d0e48d8315f\")>,\n",
       " <selenium.webdriver.remote.webelement.WebElement (session=\"9095162dfbcc89bc48e220f2d0fefc82\", element=\"2965332b-f741-4204-a265-0ca69ceedb0e\")>,\n",
       " <selenium.webdriver.remote.webelement.WebElement (session=\"9095162dfbcc89bc48e220f2d0fefc82\", element=\"3840604a-edc6-4261-ac73-712b68730ae3\")>,\n",
       " <selenium.webdriver.remote.webelement.WebElement (session=\"9095162dfbcc89bc48e220f2d0fefc82\", element=\"79154e01-5e01-4b7a-a379-da90b5c6ccc1\")>,\n",
       " <selenium.webdriver.remote.webelement.WebElement (session=\"9095162dfbcc89bc48e220f2d0fefc82\", element=\"4741b96e-3efe-444b-a64e-e5f1718b5bb5\")>,\n",
       " <selenium.webdriver.remote.webelement.WebElement (session=\"9095162dfbcc89bc48e220f2d0fefc82\", element=\"515eb57d-4def-468d-9035-669a9b64eb7c\")>,\n",
       " <selenium.webdriver.remote.webelement.WebElement (session=\"9095162dfbcc89bc48e220f2d0fefc82\", element=\"680f0c5d-bafc-4952-b5a3-fd0ec5fc4c33\")>,\n",
       " <selenium.webdriver.remote.webelement.WebElement (session=\"9095162dfbcc89bc48e220f2d0fefc82\", element=\"dd203d06-41d8-47d0-a042-8d02f2037b54\")>,\n",
       " <selenium.webdriver.remote.webelement.WebElement (session=\"9095162dfbcc89bc48e220f2d0fefc82\", element=\"b37debc5-f5a0-4983-8609-a81eb3595589\")>,\n",
       " <selenium.webdriver.remote.webelement.WebElement (session=\"9095162dfbcc89bc48e220f2d0fefc82\", element=\"7ccfdb06-cc6b-4da2-abf0-bd6e92c40d05\")>,\n",
       " <selenium.webdriver.remote.webelement.WebElement (session=\"9095162dfbcc89bc48e220f2d0fefc82\", element=\"7c02993e-e117-454a-b16d-2f1671bffd6f\")>,\n",
       " <selenium.webdriver.remote.webelement.WebElement (session=\"9095162dfbcc89bc48e220f2d0fefc82\", element=\"c00e129e-19a8-4fbe-a386-38758b432fdc\")>,\n",
       " <selenium.webdriver.remote.webelement.WebElement (session=\"9095162dfbcc89bc48e220f2d0fefc82\", element=\"fcae263e-5955-4730-a703-bff2952e113a\")>,\n",
       " <selenium.webdriver.remote.webelement.WebElement (session=\"9095162dfbcc89bc48e220f2d0fefc82\", element=\"69f58330-ce6c-4c51-a265-a0c03f2d73af\")>,\n",
       " <selenium.webdriver.remote.webelement.WebElement (session=\"9095162dfbcc89bc48e220f2d0fefc82\", element=\"fce8c2c0-80d5-450e-8d05-b3782ea4740d\")>,\n",
       " <selenium.webdriver.remote.webelement.WebElement (session=\"9095162dfbcc89bc48e220f2d0fefc82\", element=\"0375eadb-7f74-421c-a67f-ca3f680e82a4\")>,\n",
       " <selenium.webdriver.remote.webelement.WebElement (session=\"9095162dfbcc89bc48e220f2d0fefc82\", element=\"b1c3f92e-0bb1-4731-9d2b-bf56aeca9192\")>,\n",
       " <selenium.webdriver.remote.webelement.WebElement (session=\"9095162dfbcc89bc48e220f2d0fefc82\", element=\"eb68d79f-6006-4c92-81d3-9e33cfe52731\")>,\n",
       " <selenium.webdriver.remote.webelement.WebElement (session=\"9095162dfbcc89bc48e220f2d0fefc82\", element=\"9bbf1e77-262a-4c8b-a264-d8a5d2a579f6\")>,\n",
       " <selenium.webdriver.remote.webelement.WebElement (session=\"9095162dfbcc89bc48e220f2d0fefc82\", element=\"db1b9aba-9c5c-42d3-99fb-ae6992b456bd\")>,\n",
       " <selenium.webdriver.remote.webelement.WebElement (session=\"9095162dfbcc89bc48e220f2d0fefc82\", element=\"72379bc9-bc5e-461e-a7f0-7b9442d7ce80\")>,\n",
       " <selenium.webdriver.remote.webelement.WebElement (session=\"9095162dfbcc89bc48e220f2d0fefc82\", element=\"573c5d12-58ee-4039-b96c-a94b765f5176\")>,\n",
       " <selenium.webdriver.remote.webelement.WebElement (session=\"9095162dfbcc89bc48e220f2d0fefc82\", element=\"8f6fb760-e074-4ebf-ab89-c2b0617dd5bc\")>,\n",
       " <selenium.webdriver.remote.webelement.WebElement (session=\"9095162dfbcc89bc48e220f2d0fefc82\", element=\"9b6fe4cb-0a23-40dc-90b0-23d9423b8aec\")>,\n",
       " <selenium.webdriver.remote.webelement.WebElement (session=\"9095162dfbcc89bc48e220f2d0fefc82\", element=\"d505c084-494c-4ca1-a1d6-8f72017ae86e\")>,\n",
       " <selenium.webdriver.remote.webelement.WebElement (session=\"9095162dfbcc89bc48e220f2d0fefc82\", element=\"41cd9388-8353-46e2-81fa-fb3f65546472\")>,\n",
       " <selenium.webdriver.remote.webelement.WebElement (session=\"9095162dfbcc89bc48e220f2d0fefc82\", element=\"be91e0c6-7101-41e1-a06f-d181f6ee306b\")>,\n",
       " <selenium.webdriver.remote.webelement.WebElement (session=\"9095162dfbcc89bc48e220f2d0fefc82\", element=\"b3261a46-2633-48d5-864b-1edd6b2c8491\")>,\n",
       " <selenium.webdriver.remote.webelement.WebElement (session=\"9095162dfbcc89bc48e220f2d0fefc82\", element=\"0a544e0b-a856-4617-a5d8-f56dce1ed1fc\")>,\n",
       " <selenium.webdriver.remote.webelement.WebElement (session=\"9095162dfbcc89bc48e220f2d0fefc82\", element=\"282f3a07-3caa-4895-97a5-e27b09e45ee0\")>,\n",
       " <selenium.webdriver.remote.webelement.WebElement (session=\"9095162dfbcc89bc48e220f2d0fefc82\", element=\"88554d66-0016-4da0-8d99-3fa1e9e99328\")>,\n",
       " <selenium.webdriver.remote.webelement.WebElement (session=\"9095162dfbcc89bc48e220f2d0fefc82\", element=\"dc45ddf1-ca96-4ff2-864d-412e84bc4d18\")>,\n",
       " <selenium.webdriver.remote.webelement.WebElement (session=\"9095162dfbcc89bc48e220f2d0fefc82\", element=\"4da3ecd5-7764-4a40-9989-92f883b0038e\")>,\n",
       " <selenium.webdriver.remote.webelement.WebElement (session=\"9095162dfbcc89bc48e220f2d0fefc82\", element=\"2ac8191e-ca3f-4885-b236-6cc2c58c5ff1\")>,\n",
       " <selenium.webdriver.remote.webelement.WebElement (session=\"9095162dfbcc89bc48e220f2d0fefc82\", element=\"56863d73-b253-44b7-8d76-f9fa5fdec6d8\")>,\n",
       " <selenium.webdriver.remote.webelement.WebElement (session=\"9095162dfbcc89bc48e220f2d0fefc82\", element=\"bd21bbd6-ab77-4f89-a0c3-b04fd77e1433\")>,\n",
       " <selenium.webdriver.remote.webelement.WebElement (session=\"9095162dfbcc89bc48e220f2d0fefc82\", element=\"b4445919-74b4-4363-932b-b414f6ee6137\")>,\n",
       " <selenium.webdriver.remote.webelement.WebElement (session=\"9095162dfbcc89bc48e220f2d0fefc82\", element=\"1b6079cc-e0df-49fd-b772-f06d925fdfc3\")>,\n",
       " <selenium.webdriver.remote.webelement.WebElement (session=\"9095162dfbcc89bc48e220f2d0fefc82\", element=\"f1797499-0af6-45ee-ab3b-a9f83c8836ac\")>]"
      ]
     },
     "execution_count": 140,
     "metadata": {},
     "output_type": "execute_result"
    }
   ],
   "source": [
    "d = driver.find_elements_by_xpath(\"//div[@class='_3Ay6Sb']\")\n",
    "d[0:40]"
   ]
  },
  {
   "cell_type": "code",
   "execution_count": 141,
   "metadata": {},
   "outputs": [
    {
     "data": {
      "text/plain": [
       "['86% off',\n",
       " '86% off',\n",
       " '72% off',\n",
       " '47% off',\n",
       " '80% off',\n",
       " '73% off',\n",
       " '16% off',\n",
       " '12% off',\n",
       " '72% off',\n",
       " '87% off',\n",
       " '75% off',\n",
       " '88% off',\n",
       " '80% off',\n",
       " '66% off',\n",
       " '83% off',\n",
       " '85% off',\n",
       " '73% off',\n",
       " '67% off',\n",
       " '66% off',\n",
       " '76% off',\n",
       " '83% off',\n",
       " '16% off',\n",
       " '82% off',\n",
       " '55% off',\n",
       " '81% off',\n",
       " '80% off',\n",
       " '66% off',\n",
       " '83% off',\n",
       " '84% off',\n",
       " '55% off',\n",
       " '84% off',\n",
       " '83% off',\n",
       " '80% off',\n",
       " '60% off',\n",
       " '84% off',\n",
       " '82% off',\n",
       " '76% off',\n",
       " '85% off',\n",
       " '79% off',\n",
       " '76% off']"
      ]
     },
     "execution_count": 141,
     "metadata": {},
     "output_type": "execute_result"
    }
   ],
   "source": [
    "for i in d:\n",
    "    title=i.text\n",
    "    Discount_2.append(title)\n",
    "Discount_2[0:40]"
   ]
  },
  {
   "cell_type": "code",
   "execution_count": 142,
   "metadata": {},
   "outputs": [
    {
     "data": {
      "text/html": [
       "<div>\n",
       "<style scoped>\n",
       "    .dataframe tbody tr th:only-of-type {\n",
       "        vertical-align: middle;\n",
       "    }\n",
       "\n",
       "    .dataframe tbody tr th {\n",
       "        vertical-align: top;\n",
       "    }\n",
       "\n",
       "    .dataframe thead th {\n",
       "        text-align: right;\n",
       "    }\n",
       "</style>\n",
       "<table border=\"1\" class=\"dataframe\">\n",
       "  <thead>\n",
       "    <tr style=\"text-align: right;\">\n",
       "      <th></th>\n",
       "      <th>Brand</th>\n",
       "      <th>Product Description</th>\n",
       "      <th>Price</th>\n",
       "      <th>Discount</th>\n",
       "    </tr>\n",
       "  </thead>\n",
       "  <tbody>\n",
       "    <tr>\n",
       "      <th>0</th>\n",
       "      <td>FDA COLLECTION</td>\n",
       "      <td>Gradient, Mirrored, UV Protection Round, Round...</td>\n",
       "      <td>₹199</td>\n",
       "      <td>86% off</td>\n",
       "    </tr>\n",
       "    <tr>\n",
       "      <th>1</th>\n",
       "      <td>PIRASO</td>\n",
       "      <td>UV Protection Aviator Sunglasses (58)</td>\n",
       "      <td>₹349</td>\n",
       "      <td>86% off</td>\n",
       "    </tr>\n",
       "    <tr>\n",
       "      <th>2</th>\n",
       "      <td>Singco India</td>\n",
       "      <td>UV Protection, Polarized Aviator Sunglasses (F...</td>\n",
       "      <td>₹189</td>\n",
       "      <td>72% off</td>\n",
       "    </tr>\n",
       "    <tr>\n",
       "      <th>3</th>\n",
       "      <td>Specsmakers</td>\n",
       "      <td>Mirrored Retro Square Sunglasses (49)</td>\n",
       "      <td>₹517</td>\n",
       "      <td>47% off</td>\n",
       "    </tr>\n",
       "    <tr>\n",
       "      <th>4</th>\n",
       "      <td>Rozzetta Craft</td>\n",
       "      <td>UV Protection Shield Sunglasses (54)</td>\n",
       "      <td>₹499</td>\n",
       "      <td>80% off</td>\n",
       "    </tr>\n",
       "    <tr>\n",
       "      <th>5</th>\n",
       "      <td>Adeeb sunglasses</td>\n",
       "      <td>UV Protection Retro Square Sunglasses (74)</td>\n",
       "      <td>₹150</td>\n",
       "      <td>73% off</td>\n",
       "    </tr>\n",
       "    <tr>\n",
       "      <th>6</th>\n",
       "      <td>Fastrack</td>\n",
       "      <td>UV Protection, Polarized Wayfarer Sunglasses (56)</td>\n",
       "      <td>₹750</td>\n",
       "      <td>16% off</td>\n",
       "    </tr>\n",
       "    <tr>\n",
       "      <th>7</th>\n",
       "      <td>Fastrack</td>\n",
       "      <td>UV Protection Aviator Sunglasses (58)</td>\n",
       "      <td>₹1,143</td>\n",
       "      <td>12% off</td>\n",
       "    </tr>\n",
       "    <tr>\n",
       "      <th>8</th>\n",
       "      <td>ROZZETTA CRAFT</td>\n",
       "      <td>Mirrored, UV Protection Round Sunglasses (Free...</td>\n",
       "      <td>₹399</td>\n",
       "      <td>72% off</td>\n",
       "    </tr>\n",
       "    <tr>\n",
       "      <th>9</th>\n",
       "      <td>hipe</td>\n",
       "      <td>UV Protection Aviator Sunglasses (Free Size)</td>\n",
       "      <td>₹169</td>\n",
       "      <td>87% off</td>\n",
       "    </tr>\n",
       "    <tr>\n",
       "      <th>10</th>\n",
       "      <td>Singco India</td>\n",
       "      <td>UV Protection Round Sunglasses (54)</td>\n",
       "      <td>₹299</td>\n",
       "      <td>75% off</td>\n",
       "    </tr>\n",
       "    <tr>\n",
       "      <th>11</th>\n",
       "      <td>ALEYBEE</td>\n",
       "      <td>UV Protection, Mirrored Retro Square Sunglasse...</td>\n",
       "      <td>₹179</td>\n",
       "      <td>88% off</td>\n",
       "    </tr>\n",
       "    <tr>\n",
       "      <th>12</th>\n",
       "      <td>Phenomenal</td>\n",
       "      <td>UV Protection Rectangular Sunglasses (49)</td>\n",
       "      <td>₹399</td>\n",
       "      <td>80% off</td>\n",
       "    </tr>\n",
       "    <tr>\n",
       "      <th>13</th>\n",
       "      <td>Royal Son</td>\n",
       "      <td>Polarized, UV Protection Retro Square Sunglass...</td>\n",
       "      <td>₹664</td>\n",
       "      <td>66% off</td>\n",
       "    </tr>\n",
       "    <tr>\n",
       "      <th>14</th>\n",
       "      <td>like future</td>\n",
       "      <td>UV Protection Wayfarer Sunglasses (Free Size)</td>\n",
       "      <td>₹217</td>\n",
       "      <td>83% off</td>\n",
       "    </tr>\n",
       "    <tr>\n",
       "      <th>15</th>\n",
       "      <td>Farenheit</td>\n",
       "      <td>Polarized, UV Protection Round Sunglasses (54)</td>\n",
       "      <td>₹284</td>\n",
       "      <td>85% off</td>\n",
       "    </tr>\n",
       "    <tr>\n",
       "      <th>16</th>\n",
       "      <td>Badfella</td>\n",
       "      <td>Polarized, UV Protection Sports Sunglasses (60)</td>\n",
       "      <td>₹269</td>\n",
       "      <td>73% off</td>\n",
       "    </tr>\n",
       "    <tr>\n",
       "      <th>17</th>\n",
       "      <td>povty</td>\n",
       "      <td>UV Protection Wayfarer Sunglasses (Free Size)</td>\n",
       "      <td>₹324</td>\n",
       "      <td>67% off</td>\n",
       "    </tr>\n",
       "    <tr>\n",
       "      <th>18</th>\n",
       "      <td>Stysol</td>\n",
       "      <td>Polarized Aviator Sunglasses (57)</td>\n",
       "      <td>₹199</td>\n",
       "      <td>66% off</td>\n",
       "    </tr>\n",
       "    <tr>\n",
       "      <th>19</th>\n",
       "      <td>Adrenex</td>\n",
       "      <td>UV Protection Round Sunglasses (54)</td>\n",
       "      <td>₹699</td>\n",
       "      <td>76% off</td>\n",
       "    </tr>\n",
       "    <tr>\n",
       "      <th>20</th>\n",
       "      <td>HIPPON</td>\n",
       "      <td>UV Protection Aviator Sunglasses (Free Size)</td>\n",
       "      <td>₹198</td>\n",
       "      <td>83% off</td>\n",
       "    </tr>\n",
       "    <tr>\n",
       "      <th>21</th>\n",
       "      <td>Fastrack</td>\n",
       "      <td>UV Protection Aviator, Wayfarer Sunglasses (Fr...</td>\n",
       "      <td>₹669</td>\n",
       "      <td>16% off</td>\n",
       "    </tr>\n",
       "    <tr>\n",
       "      <th>22</th>\n",
       "      <td>kingsunglasses</td>\n",
       "      <td>Polarized Aviator Sunglasses (54)</td>\n",
       "      <td>₹208</td>\n",
       "      <td>82% off</td>\n",
       "    </tr>\n",
       "    <tr>\n",
       "      <th>23</th>\n",
       "      <td>Specsmakers</td>\n",
       "      <td>UV Protection Wayfarer Sunglasses (Free Size)</td>\n",
       "      <td>₹715</td>\n",
       "      <td>55% off</td>\n",
       "    </tr>\n",
       "    <tr>\n",
       "      <th>24</th>\n",
       "      <td>dannilo</td>\n",
       "      <td>Polarized Retro Square Sunglasses (52)</td>\n",
       "      <td>₹189</td>\n",
       "      <td>81% off</td>\n",
       "    </tr>\n",
       "    <tr>\n",
       "      <th>25</th>\n",
       "      <td>Winsome</td>\n",
       "      <td>UV Protection, Gradient, Night Vision Retro Sq...</td>\n",
       "      <td>₹192</td>\n",
       "      <td>80% off</td>\n",
       "    </tr>\n",
       "    <tr>\n",
       "      <th>26</th>\n",
       "      <td>NuVew</td>\n",
       "      <td>UV Protection Retro Square Sunglasses (Free Size)</td>\n",
       "      <td>₹417</td>\n",
       "      <td>66% off</td>\n",
       "    </tr>\n",
       "    <tr>\n",
       "      <th>27</th>\n",
       "      <td>Deixels</td>\n",
       "      <td>UV Protection, Mirrored Clubmaster Sunglasses ...</td>\n",
       "      <td>₹202</td>\n",
       "      <td>83% off</td>\n",
       "    </tr>\n",
       "    <tr>\n",
       "      <th>28</th>\n",
       "      <td>FDA COLLECTION</td>\n",
       "      <td>Polarized, UV Protection Sports Sunglasses (60)</td>\n",
       "      <td>₹199</td>\n",
       "      <td>84% off</td>\n",
       "    </tr>\n",
       "    <tr>\n",
       "      <th>29</th>\n",
       "      <td>Specsmakers</td>\n",
       "      <td>Gradient, Mirrored, UV Protection Round, Round...</td>\n",
       "      <td>₹891</td>\n",
       "      <td>55% off</td>\n",
       "    </tr>\n",
       "    <tr>\n",
       "      <th>30</th>\n",
       "      <td>Silver Kartz</td>\n",
       "      <td>UV Protection Aviator Sunglasses (58)</td>\n",
       "      <td>₹233</td>\n",
       "      <td>84% off</td>\n",
       "    </tr>\n",
       "    <tr>\n",
       "      <th>31</th>\n",
       "      <td>funglasses</td>\n",
       "      <td>UV Protection, Polarized Aviator Sunglasses (F...</td>\n",
       "      <td>₹125</td>\n",
       "      <td>83% off</td>\n",
       "    </tr>\n",
       "    <tr>\n",
       "      <th>32</th>\n",
       "      <td>Riffko</td>\n",
       "      <td>Mirrored Retro Square Sunglasses (49)</td>\n",
       "      <td>₹190</td>\n",
       "      <td>80% off</td>\n",
       "    </tr>\n",
       "    <tr>\n",
       "      <th>33</th>\n",
       "      <td>ROYAL SON</td>\n",
       "      <td>UV Protection Shield Sunglasses (54)</td>\n",
       "      <td>₹599</td>\n",
       "      <td>60% off</td>\n",
       "    </tr>\n",
       "    <tr>\n",
       "      <th>34</th>\n",
       "      <td>Fravy</td>\n",
       "      <td>UV Protection Retro Square Sunglasses (74)</td>\n",
       "      <td>₹319</td>\n",
       "      <td>84% off</td>\n",
       "    </tr>\n",
       "    <tr>\n",
       "      <th>35</th>\n",
       "      <td>AALAE</td>\n",
       "      <td>UV Protection, Polarized Wayfarer Sunglasses (56)</td>\n",
       "      <td>₹197</td>\n",
       "      <td>82% off</td>\n",
       "    </tr>\n",
       "    <tr>\n",
       "      <th>36</th>\n",
       "      <td>Trendy Glasses</td>\n",
       "      <td>UV Protection Aviator Sunglasses (58)</td>\n",
       "      <td>₹298</td>\n",
       "      <td>76% off</td>\n",
       "    </tr>\n",
       "    <tr>\n",
       "      <th>37</th>\n",
       "      <td>Phenomenal</td>\n",
       "      <td>Mirrored, UV Protection Round Sunglasses (Free...</td>\n",
       "      <td>₹289</td>\n",
       "      <td>85% off</td>\n",
       "    </tr>\n",
       "    <tr>\n",
       "      <th>38</th>\n",
       "      <td>Scaglia</td>\n",
       "      <td>UV Protection Aviator Sunglasses (Free Size)</td>\n",
       "      <td>₹165</td>\n",
       "      <td>79% off</td>\n",
       "    </tr>\n",
       "    <tr>\n",
       "      <th>39</th>\n",
       "      <td>Adrenex</td>\n",
       "      <td>UV Protection Round Sunglasses (54)</td>\n",
       "      <td>₹699</td>\n",
       "      <td>76% off</td>\n",
       "    </tr>\n",
       "  </tbody>\n",
       "</table>\n",
       "</div>"
      ],
      "text/plain": [
       "               Brand                                Product Description  \\\n",
       "0     FDA COLLECTION  Gradient, Mirrored, UV Protection Round, Round...   \n",
       "1             PIRASO              UV Protection Aviator Sunglasses (58)   \n",
       "2       Singco India  UV Protection, Polarized Aviator Sunglasses (F...   \n",
       "3        Specsmakers              Mirrored Retro Square Sunglasses (49)   \n",
       "4     Rozzetta Craft               UV Protection Shield Sunglasses (54)   \n",
       "5   Adeeb sunglasses         UV Protection Retro Square Sunglasses (74)   \n",
       "6           Fastrack  UV Protection, Polarized Wayfarer Sunglasses (56)   \n",
       "7           Fastrack              UV Protection Aviator Sunglasses (58)   \n",
       "8     ROZZETTA CRAFT  Mirrored, UV Protection Round Sunglasses (Free...   \n",
       "9               hipe       UV Protection Aviator Sunglasses (Free Size)   \n",
       "10      Singco India                UV Protection Round Sunglasses (54)   \n",
       "11           ALEYBEE  UV Protection, Mirrored Retro Square Sunglasse...   \n",
       "12        Phenomenal          UV Protection Rectangular Sunglasses (49)   \n",
       "13         Royal Son  Polarized, UV Protection Retro Square Sunglass...   \n",
       "14       like future      UV Protection Wayfarer Sunglasses (Free Size)   \n",
       "15         Farenheit     Polarized, UV Protection Round Sunglasses (54)   \n",
       "16          Badfella    Polarized, UV Protection Sports Sunglasses (60)   \n",
       "17             povty      UV Protection Wayfarer Sunglasses (Free Size)   \n",
       "18            Stysol                  Polarized Aviator Sunglasses (57)   \n",
       "19           Adrenex                UV Protection Round Sunglasses (54)   \n",
       "20            HIPPON       UV Protection Aviator Sunglasses (Free Size)   \n",
       "21          Fastrack  UV Protection Aviator, Wayfarer Sunglasses (Fr...   \n",
       "22    kingsunglasses                  Polarized Aviator Sunglasses (54)   \n",
       "23       Specsmakers      UV Protection Wayfarer Sunglasses (Free Size)   \n",
       "24           dannilo             Polarized Retro Square Sunglasses (52)   \n",
       "25           Winsome  UV Protection, Gradient, Night Vision Retro Sq...   \n",
       "26             NuVew  UV Protection Retro Square Sunglasses (Free Size)   \n",
       "27           Deixels  UV Protection, Mirrored Clubmaster Sunglasses ...   \n",
       "28    FDA COLLECTION    Polarized, UV Protection Sports Sunglasses (60)   \n",
       "29       Specsmakers  Gradient, Mirrored, UV Protection Round, Round...   \n",
       "30      Silver Kartz              UV Protection Aviator Sunglasses (58)   \n",
       "31        funglasses  UV Protection, Polarized Aviator Sunglasses (F...   \n",
       "32            Riffko              Mirrored Retro Square Sunglasses (49)   \n",
       "33         ROYAL SON               UV Protection Shield Sunglasses (54)   \n",
       "34             Fravy         UV Protection Retro Square Sunglasses (74)   \n",
       "35             AALAE  UV Protection, Polarized Wayfarer Sunglasses (56)   \n",
       "36    Trendy Glasses              UV Protection Aviator Sunglasses (58)   \n",
       "37        Phenomenal  Mirrored, UV Protection Round Sunglasses (Free...   \n",
       "38           Scaglia       UV Protection Aviator Sunglasses (Free Size)   \n",
       "39           Adrenex                UV Protection Round Sunglasses (54)   \n",
       "\n",
       "     Price Discount  \n",
       "0     ₹199  86% off  \n",
       "1     ₹349  86% off  \n",
       "2     ₹189  72% off  \n",
       "3     ₹517  47% off  \n",
       "4     ₹499  80% off  \n",
       "5     ₹150  73% off  \n",
       "6     ₹750  16% off  \n",
       "7   ₹1,143  12% off  \n",
       "8     ₹399  72% off  \n",
       "9     ₹169  87% off  \n",
       "10    ₹299  75% off  \n",
       "11    ₹179  88% off  \n",
       "12    ₹399  80% off  \n",
       "13    ₹664  66% off  \n",
       "14    ₹217  83% off  \n",
       "15    ₹284  85% off  \n",
       "16    ₹269  73% off  \n",
       "17    ₹324  67% off  \n",
       "18    ₹199  66% off  \n",
       "19    ₹699  76% off  \n",
       "20    ₹198  83% off  \n",
       "21    ₹669  16% off  \n",
       "22    ₹208  82% off  \n",
       "23    ₹715  55% off  \n",
       "24    ₹189  81% off  \n",
       "25    ₹192  80% off  \n",
       "26    ₹417  66% off  \n",
       "27    ₹202  83% off  \n",
       "28    ₹199  84% off  \n",
       "29    ₹891  55% off  \n",
       "30    ₹233  84% off  \n",
       "31    ₹125  83% off  \n",
       "32    ₹190  80% off  \n",
       "33    ₹599  60% off  \n",
       "34    ₹319  84% off  \n",
       "35    ₹197  82% off  \n",
       "36    ₹298  76% off  \n",
       "37    ₹289  85% off  \n",
       "38    ₹165  79% off  \n",
       "39    ₹699  76% off  "
      ]
     },
     "execution_count": 142,
     "metadata": {},
     "output_type": "execute_result"
    }
   ],
   "source": [
    "import pandas as pd\n",
    "table=pd.DataFrame({})\n",
    "\n",
    "table['Brand']=Brand_2[:40]\n",
    "table['Product Description']=Product_d2[:40]\n",
    "table['Price']=Price_2[:40]\n",
    "table['Discount']=Discount_2[0:40]\n",
    "\n",
    "table"
   ]
  },
  {
   "cell_type": "code",
   "execution_count": 147,
   "metadata": {},
   "outputs": [],
   "source": [
    "third = driver.find_elements_by_xpath(\"//a[@href='/search?q=sunglasses&otracker=search&otracker1=search&marketplace=FLIPKART&as-show=on&as=off&page=3']\")[0]\n",
    "third.click()"
   ]
  },
  {
   "cell_type": "code",
   "execution_count": 148,
   "metadata": {},
   "outputs": [],
   "source": [
    "url=\"https://www.flipkart.com/search?q=sunglasses&otracker=search&otracker1=search&marketplace=FLIPKART&as-show=on&as=off&page=3\""
   ]
  },
  {
   "cell_type": "code",
   "execution_count": 149,
   "metadata": {},
   "outputs": [],
   "source": [
    "driver.get(url)"
   ]
  },
  {
   "cell_type": "code",
   "execution_count": 150,
   "metadata": {},
   "outputs": [],
   "source": [
    "Brand_3=[]\n",
    "Product_d3=[]\n",
    "Price_3=[]\n",
    "Discount_3=[]"
   ]
  },
  {
   "cell_type": "code",
   "execution_count": 169,
   "metadata": {},
   "outputs": [
    {
     "data": {
      "text/plain": [
       "[<selenium.webdriver.remote.webelement.WebElement (session=\"9095162dfbcc89bc48e220f2d0fefc82\", element=\"c45f47a3-4d33-4e63-b9f8-0879c38fd4a5\")>,\n",
       " <selenium.webdriver.remote.webelement.WebElement (session=\"9095162dfbcc89bc48e220f2d0fefc82\", element=\"c753f48d-ace4-4b2e-9222-5646804b4afc\")>,\n",
       " <selenium.webdriver.remote.webelement.WebElement (session=\"9095162dfbcc89bc48e220f2d0fefc82\", element=\"b24684ab-21fe-4464-b198-a7fd8ced5d21\")>,\n",
       " <selenium.webdriver.remote.webelement.WebElement (session=\"9095162dfbcc89bc48e220f2d0fefc82\", element=\"dc301671-d2d6-4372-b21a-4c2988aba604\")>,\n",
       " <selenium.webdriver.remote.webelement.WebElement (session=\"9095162dfbcc89bc48e220f2d0fefc82\", element=\"6dd6f42b-0839-4428-94b6-8744461e6f76\")>,\n",
       " <selenium.webdriver.remote.webelement.WebElement (session=\"9095162dfbcc89bc48e220f2d0fefc82\", element=\"7c27c107-5290-4c89-aa92-5a4124aeae56\")>,\n",
       " <selenium.webdriver.remote.webelement.WebElement (session=\"9095162dfbcc89bc48e220f2d0fefc82\", element=\"1e77c63b-c390-4a4e-bc16-be4a95529afd\")>,\n",
       " <selenium.webdriver.remote.webelement.WebElement (session=\"9095162dfbcc89bc48e220f2d0fefc82\", element=\"1714f75b-4009-4573-afda-3888c88743cf\")>,\n",
       " <selenium.webdriver.remote.webelement.WebElement (session=\"9095162dfbcc89bc48e220f2d0fefc82\", element=\"422ddbc9-dc40-4bdf-b441-f8b7277c7e22\")>,\n",
       " <selenium.webdriver.remote.webelement.WebElement (session=\"9095162dfbcc89bc48e220f2d0fefc82\", element=\"540a2d1b-76f4-4aa6-8451-81f2fa93f5bb\")>,\n",
       " <selenium.webdriver.remote.webelement.WebElement (session=\"9095162dfbcc89bc48e220f2d0fefc82\", element=\"c1cc7c4b-381a-415c-9594-e6bdec9d7c48\")>,\n",
       " <selenium.webdriver.remote.webelement.WebElement (session=\"9095162dfbcc89bc48e220f2d0fefc82\", element=\"33766080-c721-4e59-b51d-7a68ef626da3\")>,\n",
       " <selenium.webdriver.remote.webelement.WebElement (session=\"9095162dfbcc89bc48e220f2d0fefc82\", element=\"a3d5085e-625f-4b7d-85f2-12413af135fe\")>,\n",
       " <selenium.webdriver.remote.webelement.WebElement (session=\"9095162dfbcc89bc48e220f2d0fefc82\", element=\"14539e9c-d80d-433d-8223-a3a26131e9bc\")>,\n",
       " <selenium.webdriver.remote.webelement.WebElement (session=\"9095162dfbcc89bc48e220f2d0fefc82\", element=\"9cd2cc6e-f322-41d8-814b-4a8f81ab641d\")>,\n",
       " <selenium.webdriver.remote.webelement.WebElement (session=\"9095162dfbcc89bc48e220f2d0fefc82\", element=\"2936585c-9baf-418b-b33f-6d0efdbe50c3\")>,\n",
       " <selenium.webdriver.remote.webelement.WebElement (session=\"9095162dfbcc89bc48e220f2d0fefc82\", element=\"13efad65-3c4d-467f-8b23-b4f8faca6c29\")>,\n",
       " <selenium.webdriver.remote.webelement.WebElement (session=\"9095162dfbcc89bc48e220f2d0fefc82\", element=\"a266d96b-a143-4e29-8abe-6aefba8988bb\")>,\n",
       " <selenium.webdriver.remote.webelement.WebElement (session=\"9095162dfbcc89bc48e220f2d0fefc82\", element=\"b859b25d-3cca-42bc-9713-d68f685be7d1\")>,\n",
       " <selenium.webdriver.remote.webelement.WebElement (session=\"9095162dfbcc89bc48e220f2d0fefc82\", element=\"f1b4ab9b-be2d-46ea-ae7b-9bbde576d15d\")>]"
      ]
     },
     "execution_count": 169,
     "metadata": {},
     "output_type": "execute_result"
    }
   ],
   "source": [
    "b = driver.find_elements_by_xpath(\"//div[@class='_2WkVRV']\")\n",
    "b[0:20]"
   ]
  },
  {
   "cell_type": "code",
   "execution_count": 170,
   "metadata": {},
   "outputs": [
    {
     "data": {
      "text/plain": [
       "['shah collections',\n",
       " 'Clubmaster',\n",
       " 'POLOSHADES',\n",
       " 'Specsmakers',\n",
       " 'ZOSTAL',\n",
       " 'ROZZETTA CRAFT',\n",
       " 'Ayezent',\n",
       " 'hipe',\n",
       " 'Fastrack',\n",
       " 'Royal Son',\n",
       " 'HAMIW COLLECTION',\n",
       " 'Aislin',\n",
       " 'Elegant',\n",
       " 'Adrenex',\n",
       " 'PIRASO',\n",
       " 'Singco India',\n",
       " 'peter india',\n",
       " 'BULGARIA',\n",
       " 'Elegante',\n",
       " 'Specsmakers']"
      ]
     },
     "execution_count": 170,
     "metadata": {},
     "output_type": "execute_result"
    }
   ],
   "source": [
    "for i in b:\n",
    "    title=i.text\n",
    "    Brand_3.append(title)\n",
    "Brand_3[0:20]"
   ]
  },
  {
   "cell_type": "code",
   "execution_count": 171,
   "metadata": {},
   "outputs": [
    {
     "data": {
      "text/plain": [
       "[<selenium.webdriver.remote.webelement.WebElement (session=\"9095162dfbcc89bc48e220f2d0fefc82\", element=\"a47b8482-7c0a-48c0-a19c-7decc1dcf1b6\")>,\n",
       " <selenium.webdriver.remote.webelement.WebElement (session=\"9095162dfbcc89bc48e220f2d0fefc82\", element=\"8c1c9025-66c0-4596-b429-30e61d8d8924\")>,\n",
       " <selenium.webdriver.remote.webelement.WebElement (session=\"9095162dfbcc89bc48e220f2d0fefc82\", element=\"e6255b82-b315-477e-9872-f5a2d34f8cf2\")>,\n",
       " <selenium.webdriver.remote.webelement.WebElement (session=\"9095162dfbcc89bc48e220f2d0fefc82\", element=\"8b3e347d-e0cf-487a-b3c0-9b9a43f11b7a\")>,\n",
       " <selenium.webdriver.remote.webelement.WebElement (session=\"9095162dfbcc89bc48e220f2d0fefc82\", element=\"d88ea19e-cd67-46b9-b3f3-30a9626696f6\")>,\n",
       " <selenium.webdriver.remote.webelement.WebElement (session=\"9095162dfbcc89bc48e220f2d0fefc82\", element=\"4fdfc76c-2b9c-422b-a103-cd77787f3ed6\")>,\n",
       " <selenium.webdriver.remote.webelement.WebElement (session=\"9095162dfbcc89bc48e220f2d0fefc82\", element=\"ef28400d-60a6-4c63-b848-e6ea30c8f8e2\")>,\n",
       " <selenium.webdriver.remote.webelement.WebElement (session=\"9095162dfbcc89bc48e220f2d0fefc82\", element=\"9bee0efb-b3b9-48b4-9145-5c333facde3d\")>,\n",
       " <selenium.webdriver.remote.webelement.WebElement (session=\"9095162dfbcc89bc48e220f2d0fefc82\", element=\"f11a64c7-ac37-418b-a129-fe68a9433930\")>,\n",
       " <selenium.webdriver.remote.webelement.WebElement (session=\"9095162dfbcc89bc48e220f2d0fefc82\", element=\"754313c9-3678-4f12-869c-895f569411a5\")>,\n",
       " <selenium.webdriver.remote.webelement.WebElement (session=\"9095162dfbcc89bc48e220f2d0fefc82\", element=\"b4ed94ea-5d93-4956-ab19-78f9836d5f21\")>,\n",
       " <selenium.webdriver.remote.webelement.WebElement (session=\"9095162dfbcc89bc48e220f2d0fefc82\", element=\"fb1c2a4f-0fee-440e-aff7-56ff7a847ea6\")>,\n",
       " <selenium.webdriver.remote.webelement.WebElement (session=\"9095162dfbcc89bc48e220f2d0fefc82\", element=\"3e07f503-5ab3-4c46-84e9-dd5d5b76a953\")>,\n",
       " <selenium.webdriver.remote.webelement.WebElement (session=\"9095162dfbcc89bc48e220f2d0fefc82\", element=\"6366fbad-0316-445f-a757-5d0f25037fc1\")>,\n",
       " <selenium.webdriver.remote.webelement.WebElement (session=\"9095162dfbcc89bc48e220f2d0fefc82\", element=\"d4394081-f53d-4ef9-9261-d0c0620ad94c\")>,\n",
       " <selenium.webdriver.remote.webelement.WebElement (session=\"9095162dfbcc89bc48e220f2d0fefc82\", element=\"7d05c2ed-21a3-43d1-84e3-65dd53a6826d\")>,\n",
       " <selenium.webdriver.remote.webelement.WebElement (session=\"9095162dfbcc89bc48e220f2d0fefc82\", element=\"a7057067-79f9-47bc-96d5-433c14e1d006\")>,\n",
       " <selenium.webdriver.remote.webelement.WebElement (session=\"9095162dfbcc89bc48e220f2d0fefc82\", element=\"05a8a2cd-9119-4fc8-bf50-122cff873823\")>,\n",
       " <selenium.webdriver.remote.webelement.WebElement (session=\"9095162dfbcc89bc48e220f2d0fefc82\", element=\"aac730c3-3341-4a94-9f9e-c95f1a2998a6\")>,\n",
       " <selenium.webdriver.remote.webelement.WebElement (session=\"9095162dfbcc89bc48e220f2d0fefc82\", element=\"bbb41b1b-ea76-4cef-9e69-1ff520062e29\")>]"
      ]
     },
     "execution_count": 171,
     "metadata": {},
     "output_type": "execute_result"
    }
   ],
   "source": [
    "p = driver.find_elements_by_xpath(\"//a[@class='IRpwTa']\")\n",
    "p[0:20]"
   ]
  },
  {
   "cell_type": "code",
   "execution_count": 172,
   "metadata": {},
   "outputs": [
    {
     "data": {
      "text/plain": [
       "['Polarized Aviator Sunglasses (16)',\n",
       " 'UV Protection, Gradient Retro Square Sunglasses (Free S...',\n",
       " 'Mirrored Retro Square Sunglasses (49)',\n",
       " 'UV Protection Wrap-around Sunglasses (Free Size)',\n",
       " 'UV Protection, Riding Glasses Rectangular Sunglasses (F...',\n",
       " 'UV Protection Rectangular Sunglasses (50)',\n",
       " 'UV Protection Wayfarer Sunglasses (Free Size)',\n",
       " 'UV Protection Wayfarer, Sports, Shield, Rectangular, Re...',\n",
       " 'UV Protection, Gradient Oval Sunglasses (58)',\n",
       " 'UV Protection Retro Square Sunglasses (Free Size)',\n",
       " 'Polarized, UV Protection Sports Sunglasses (60)',\n",
       " 'UV Protection Wayfarer Sunglasses (32)',\n",
       " 'UV Protection Round Sunglasses (Free Size)',\n",
       " 'UV Protection Spectacle Sunglasses (Free Size)',\n",
       " 'UV Protection Sports Sunglasses (Free Size)',\n",
       " 'Mirrored Round Sunglasses (Free Size)',\n",
       " 'Polarized Aviator Sunglasses (57)',\n",
       " 'UV Protection Wayfarer Sunglasses (56)',\n",
       " 'UV Protection Rectangular Sunglasses (Free Size)',\n",
       " 'Polarized Aviator Sunglasses (54)']"
      ]
     },
     "execution_count": 172,
     "metadata": {},
     "output_type": "execute_result"
    }
   ],
   "source": [
    "for i in p:\n",
    "    title=i.text\n",
    "    Product_d3.append(title)\n",
    "Product_d3[0:20]"
   ]
  },
  {
   "cell_type": "code",
   "execution_count": 173,
   "metadata": {},
   "outputs": [
    {
     "data": {
      "text/plain": [
       "[<selenium.webdriver.remote.webelement.WebElement (session=\"9095162dfbcc89bc48e220f2d0fefc82\", element=\"5f9a3d22-82d3-4ffa-979b-2e9f8cb9d11c\")>,\n",
       " <selenium.webdriver.remote.webelement.WebElement (session=\"9095162dfbcc89bc48e220f2d0fefc82\", element=\"74549328-a51f-4926-801f-def28d107abf\")>,\n",
       " <selenium.webdriver.remote.webelement.WebElement (session=\"9095162dfbcc89bc48e220f2d0fefc82\", element=\"470e63af-16bb-4f03-9bca-e156a0d0cf4b\")>,\n",
       " <selenium.webdriver.remote.webelement.WebElement (session=\"9095162dfbcc89bc48e220f2d0fefc82\", element=\"fd6005a4-aa33-4846-8f05-f4f34bac0a05\")>,\n",
       " <selenium.webdriver.remote.webelement.WebElement (session=\"9095162dfbcc89bc48e220f2d0fefc82\", element=\"d8ed3082-d0cc-49d6-8d6c-74a07b953e58\")>,\n",
       " <selenium.webdriver.remote.webelement.WebElement (session=\"9095162dfbcc89bc48e220f2d0fefc82\", element=\"a200058c-5feb-46a2-9a81-5871deb9e74a\")>,\n",
       " <selenium.webdriver.remote.webelement.WebElement (session=\"9095162dfbcc89bc48e220f2d0fefc82\", element=\"6195a5b8-90f4-44b5-8855-50aa8b400135\")>,\n",
       " <selenium.webdriver.remote.webelement.WebElement (session=\"9095162dfbcc89bc48e220f2d0fefc82\", element=\"712b6cfe-8620-4580-808a-a67a360be0ff\")>,\n",
       " <selenium.webdriver.remote.webelement.WebElement (session=\"9095162dfbcc89bc48e220f2d0fefc82\", element=\"c689afa0-50b2-4086-9209-46ea94e54a6c\")>,\n",
       " <selenium.webdriver.remote.webelement.WebElement (session=\"9095162dfbcc89bc48e220f2d0fefc82\", element=\"22ae59af-c5dc-4ce3-9c27-1f1c04ac2f54\")>,\n",
       " <selenium.webdriver.remote.webelement.WebElement (session=\"9095162dfbcc89bc48e220f2d0fefc82\", element=\"c7c0bc6a-b3bc-4749-b0ce-53f25c8619aa\")>,\n",
       " <selenium.webdriver.remote.webelement.WebElement (session=\"9095162dfbcc89bc48e220f2d0fefc82\", element=\"cd3d11d8-d29c-430a-8e35-a50ac9369d6a\")>,\n",
       " <selenium.webdriver.remote.webelement.WebElement (session=\"9095162dfbcc89bc48e220f2d0fefc82\", element=\"1f1cb653-b59b-485e-9b1b-7f0c39fb67ae\")>,\n",
       " <selenium.webdriver.remote.webelement.WebElement (session=\"9095162dfbcc89bc48e220f2d0fefc82\", element=\"ea95dbad-ed7c-4877-aadb-ad92d6b6044f\")>,\n",
       " <selenium.webdriver.remote.webelement.WebElement (session=\"9095162dfbcc89bc48e220f2d0fefc82\", element=\"68b4bc9a-4ca4-4d63-b119-598923a653e2\")>,\n",
       " <selenium.webdriver.remote.webelement.WebElement (session=\"9095162dfbcc89bc48e220f2d0fefc82\", element=\"8a33c28b-5808-44ed-947a-95148a17ca02\")>,\n",
       " <selenium.webdriver.remote.webelement.WebElement (session=\"9095162dfbcc89bc48e220f2d0fefc82\", element=\"f6565c84-c26a-4817-b7cb-4b7d8054f444\")>,\n",
       " <selenium.webdriver.remote.webelement.WebElement (session=\"9095162dfbcc89bc48e220f2d0fefc82\", element=\"e3d78482-f8a1-4b95-858b-4c931c9a5881\")>,\n",
       " <selenium.webdriver.remote.webelement.WebElement (session=\"9095162dfbcc89bc48e220f2d0fefc82\", element=\"5832adb2-b0e1-4477-ade6-c3e93998704e\")>,\n",
       " <selenium.webdriver.remote.webelement.WebElement (session=\"9095162dfbcc89bc48e220f2d0fefc82\", element=\"1635cf31-6a89-4e20-9adc-ac34bc746f82\")>]"
      ]
     },
     "execution_count": 173,
     "metadata": {},
     "output_type": "execute_result"
    }
   ],
   "source": [
    "pr = driver.find_elements_by_xpath(\"//div[@class='_30jeq3']\")\n",
    "pr[0:20]"
   ]
  },
  {
   "cell_type": "code",
   "execution_count": 174,
   "metadata": {},
   "outputs": [
    {
     "data": {
      "text/plain": [
       "['₹309',\n",
       " '₹140',\n",
       " '₹189',\n",
       " '₹517',\n",
       " '₹208',\n",
       " '₹449',\n",
       " '₹224',\n",
       " '₹169',\n",
       " '₹653',\n",
       " '₹664',\n",
       " '₹209',\n",
       " '₹500',\n",
       " '₹272',\n",
       " '₹699',\n",
       " '₹225',\n",
       " '₹186',\n",
       " '₹175',\n",
       " '₹290',\n",
       " '₹399',\n",
       " '₹715']"
      ]
     },
     "execution_count": 174,
     "metadata": {},
     "output_type": "execute_result"
    }
   ],
   "source": [
    "for i in pr:\n",
    "    title=i.text\n",
    "    Price_3.append(title)\n",
    "Price_3[0:20]"
   ]
  },
  {
   "cell_type": "code",
   "execution_count": 175,
   "metadata": {},
   "outputs": [
    {
     "data": {
      "text/plain": [
       "[<selenium.webdriver.remote.webelement.WebElement (session=\"9095162dfbcc89bc48e220f2d0fefc82\", element=\"ee4d7564-cab9-46eb-9ca1-0da66cfe3ef2\")>,\n",
       " <selenium.webdriver.remote.webelement.WebElement (session=\"9095162dfbcc89bc48e220f2d0fefc82\", element=\"d5afa044-df7d-47b9-a35c-a343059c9805\")>,\n",
       " <selenium.webdriver.remote.webelement.WebElement (session=\"9095162dfbcc89bc48e220f2d0fefc82\", element=\"8e24709c-d248-48aa-bd14-655628d2cabb\")>,\n",
       " <selenium.webdriver.remote.webelement.WebElement (session=\"9095162dfbcc89bc48e220f2d0fefc82\", element=\"54ff8812-19e2-4045-a387-a2a83e958dc0\")>,\n",
       " <selenium.webdriver.remote.webelement.WebElement (session=\"9095162dfbcc89bc48e220f2d0fefc82\", element=\"c0776344-0e8b-4b3f-9987-3e54ef9d911f\")>,\n",
       " <selenium.webdriver.remote.webelement.WebElement (session=\"9095162dfbcc89bc48e220f2d0fefc82\", element=\"fc5a9976-bdba-4272-bfd9-c5efd035bd9f\")>,\n",
       " <selenium.webdriver.remote.webelement.WebElement (session=\"9095162dfbcc89bc48e220f2d0fefc82\", element=\"3184bea3-9422-4de4-83c7-4a70a7ffe85d\")>,\n",
       " <selenium.webdriver.remote.webelement.WebElement (session=\"9095162dfbcc89bc48e220f2d0fefc82\", element=\"214edff5-a1c0-4827-ba05-e271bcd00ea7\")>,\n",
       " <selenium.webdriver.remote.webelement.WebElement (session=\"9095162dfbcc89bc48e220f2d0fefc82\", element=\"aa771484-1fa6-4e97-9265-c9ac06e6238d\")>,\n",
       " <selenium.webdriver.remote.webelement.WebElement (session=\"9095162dfbcc89bc48e220f2d0fefc82\", element=\"e48f36ca-0279-4bc8-a9f6-32e9bb5f9838\")>,\n",
       " <selenium.webdriver.remote.webelement.WebElement (session=\"9095162dfbcc89bc48e220f2d0fefc82\", element=\"270cd547-ba1c-4d92-b89e-22791b236377\")>,\n",
       " <selenium.webdriver.remote.webelement.WebElement (session=\"9095162dfbcc89bc48e220f2d0fefc82\", element=\"adb69cd8-6c76-4d2d-8015-ae3c0db60354\")>,\n",
       " <selenium.webdriver.remote.webelement.WebElement (session=\"9095162dfbcc89bc48e220f2d0fefc82\", element=\"cb74d08f-bff2-4565-a240-f55b5f0bd58c\")>,\n",
       " <selenium.webdriver.remote.webelement.WebElement (session=\"9095162dfbcc89bc48e220f2d0fefc82\", element=\"319affe2-41c6-4b62-80ab-802ac2b58fef\")>,\n",
       " <selenium.webdriver.remote.webelement.WebElement (session=\"9095162dfbcc89bc48e220f2d0fefc82\", element=\"69099bb6-5f08-4ce7-867d-a8ba234cbf33\")>,\n",
       " <selenium.webdriver.remote.webelement.WebElement (session=\"9095162dfbcc89bc48e220f2d0fefc82\", element=\"0b0ee9b5-b09c-4a5c-9ab5-c3eecd430864\")>,\n",
       " <selenium.webdriver.remote.webelement.WebElement (session=\"9095162dfbcc89bc48e220f2d0fefc82\", element=\"7d45fa8e-f050-4574-bbd8-a097ea1eba55\")>,\n",
       " <selenium.webdriver.remote.webelement.WebElement (session=\"9095162dfbcc89bc48e220f2d0fefc82\", element=\"2188aa07-fe87-480b-af62-323bae94ddc9\")>,\n",
       " <selenium.webdriver.remote.webelement.WebElement (session=\"9095162dfbcc89bc48e220f2d0fefc82\", element=\"65e51f32-7ac1-4d2f-bf1d-532102c0fbfd\")>,\n",
       " <selenium.webdriver.remote.webelement.WebElement (session=\"9095162dfbcc89bc48e220f2d0fefc82\", element=\"adaf548b-6b90-4a4e-8486-15af0d161c26\")>]"
      ]
     },
     "execution_count": 175,
     "metadata": {},
     "output_type": "execute_result"
    }
   ],
   "source": [
    "d = driver.find_elements_by_xpath(\"//div[@class='_3Ay6Sb']\")\n",
    "d[0:20]"
   ]
  },
  {
   "cell_type": "code",
   "execution_count": 176,
   "metadata": {},
   "outputs": [
    {
     "data": {
      "text/plain": [
       "['81% off',\n",
       " '76% off',\n",
       " '81% off',\n",
       " '47% off',\n",
       " '79% off',\n",
       " '79% off',\n",
       " '69% off',\n",
       " '87% off',\n",
       " '18% off',\n",
       " '66% off',\n",
       " '86% off',\n",
       " '67% off',\n",
       " '79% off',\n",
       " '76% off',\n",
       " '85% off',\n",
       " '81% off',\n",
       " '86% off',\n",
       " '70% off',\n",
       " '80% off',\n",
       " '55% off']"
      ]
     },
     "execution_count": 176,
     "metadata": {},
     "output_type": "execute_result"
    }
   ],
   "source": [
    "for i in d:\n",
    "    title=i.text\n",
    "    Discount_3.append(title)\n",
    "Discount_3[0:20]"
   ]
  },
  {
   "cell_type": "code",
   "execution_count": 177,
   "metadata": {},
   "outputs": [
    {
     "data": {
      "text/html": [
       "<div>\n",
       "<style scoped>\n",
       "    .dataframe tbody tr th:only-of-type {\n",
       "        vertical-align: middle;\n",
       "    }\n",
       "\n",
       "    .dataframe tbody tr th {\n",
       "        vertical-align: top;\n",
       "    }\n",
       "\n",
       "    .dataframe thead th {\n",
       "        text-align: right;\n",
       "    }\n",
       "</style>\n",
       "<table border=\"1\" class=\"dataframe\">\n",
       "  <thead>\n",
       "    <tr style=\"text-align: right;\">\n",
       "      <th></th>\n",
       "      <th>Brand</th>\n",
       "      <th>Product Description</th>\n",
       "      <th>Price</th>\n",
       "      <th>Discount</th>\n",
       "    </tr>\n",
       "  </thead>\n",
       "  <tbody>\n",
       "    <tr>\n",
       "      <th>0</th>\n",
       "      <td>shah collections</td>\n",
       "      <td>Polarized Aviator Sunglasses (16)</td>\n",
       "      <td>₹309</td>\n",
       "      <td>81% off</td>\n",
       "    </tr>\n",
       "    <tr>\n",
       "      <th>1</th>\n",
       "      <td>Clubmaster</td>\n",
       "      <td>UV Protection, Gradient Retro Square Sunglasse...</td>\n",
       "      <td>₹140</td>\n",
       "      <td>76% off</td>\n",
       "    </tr>\n",
       "    <tr>\n",
       "      <th>2</th>\n",
       "      <td>POLOSHADES</td>\n",
       "      <td>Mirrored Retro Square Sunglasses (49)</td>\n",
       "      <td>₹189</td>\n",
       "      <td>81% off</td>\n",
       "    </tr>\n",
       "    <tr>\n",
       "      <th>3</th>\n",
       "      <td>Specsmakers</td>\n",
       "      <td>UV Protection Wrap-around Sunglasses (Free Size)</td>\n",
       "      <td>₹517</td>\n",
       "      <td>47% off</td>\n",
       "    </tr>\n",
       "    <tr>\n",
       "      <th>4</th>\n",
       "      <td>ZOSTAL</td>\n",
       "      <td>UV Protection, Riding Glasses Rectangular Sung...</td>\n",
       "      <td>₹208</td>\n",
       "      <td>79% off</td>\n",
       "    </tr>\n",
       "    <tr>\n",
       "      <th>5</th>\n",
       "      <td>ROZZETTA CRAFT</td>\n",
       "      <td>UV Protection Rectangular Sunglasses (50)</td>\n",
       "      <td>₹449</td>\n",
       "      <td>79% off</td>\n",
       "    </tr>\n",
       "    <tr>\n",
       "      <th>6</th>\n",
       "      <td>Ayezent</td>\n",
       "      <td>UV Protection Wayfarer Sunglasses (Free Size)</td>\n",
       "      <td>₹224</td>\n",
       "      <td>69% off</td>\n",
       "    </tr>\n",
       "    <tr>\n",
       "      <th>7</th>\n",
       "      <td>hipe</td>\n",
       "      <td>UV Protection Wayfarer, Sports, Shield, Rectan...</td>\n",
       "      <td>₹169</td>\n",
       "      <td>87% off</td>\n",
       "    </tr>\n",
       "    <tr>\n",
       "      <th>8</th>\n",
       "      <td>Fastrack</td>\n",
       "      <td>UV Protection, Gradient Oval Sunglasses (58)</td>\n",
       "      <td>₹653</td>\n",
       "      <td>18% off</td>\n",
       "    </tr>\n",
       "    <tr>\n",
       "      <th>9</th>\n",
       "      <td>Royal Son</td>\n",
       "      <td>UV Protection Retro Square Sunglasses (Free Size)</td>\n",
       "      <td>₹664</td>\n",
       "      <td>66% off</td>\n",
       "    </tr>\n",
       "    <tr>\n",
       "      <th>10</th>\n",
       "      <td>HAMIW COLLECTION</td>\n",
       "      <td>Polarized, UV Protection Sports Sunglasses (60)</td>\n",
       "      <td>₹209</td>\n",
       "      <td>86% off</td>\n",
       "    </tr>\n",
       "    <tr>\n",
       "      <th>11</th>\n",
       "      <td>Aislin</td>\n",
       "      <td>UV Protection Wayfarer Sunglasses (32)</td>\n",
       "      <td>₹500</td>\n",
       "      <td>67% off</td>\n",
       "    </tr>\n",
       "    <tr>\n",
       "      <th>12</th>\n",
       "      <td>Elegant</td>\n",
       "      <td>UV Protection Round Sunglasses (Free Size)</td>\n",
       "      <td>₹272</td>\n",
       "      <td>79% off</td>\n",
       "    </tr>\n",
       "    <tr>\n",
       "      <th>13</th>\n",
       "      <td>Adrenex</td>\n",
       "      <td>UV Protection Spectacle Sunglasses (Free Size)</td>\n",
       "      <td>₹699</td>\n",
       "      <td>76% off</td>\n",
       "    </tr>\n",
       "    <tr>\n",
       "      <th>14</th>\n",
       "      <td>PIRASO</td>\n",
       "      <td>UV Protection Sports Sunglasses (Free Size)</td>\n",
       "      <td>₹225</td>\n",
       "      <td>85% off</td>\n",
       "    </tr>\n",
       "    <tr>\n",
       "      <th>15</th>\n",
       "      <td>Singco India</td>\n",
       "      <td>Mirrored Round Sunglasses (Free Size)</td>\n",
       "      <td>₹186</td>\n",
       "      <td>81% off</td>\n",
       "    </tr>\n",
       "    <tr>\n",
       "      <th>16</th>\n",
       "      <td>peter india</td>\n",
       "      <td>Polarized Aviator Sunglasses (57)</td>\n",
       "      <td>₹175</td>\n",
       "      <td>86% off</td>\n",
       "    </tr>\n",
       "    <tr>\n",
       "      <th>17</th>\n",
       "      <td>BULGARIA</td>\n",
       "      <td>UV Protection Wayfarer Sunglasses (56)</td>\n",
       "      <td>₹290</td>\n",
       "      <td>70% off</td>\n",
       "    </tr>\n",
       "    <tr>\n",
       "      <th>18</th>\n",
       "      <td>Elegante</td>\n",
       "      <td>UV Protection Rectangular Sunglasses (Free Size)</td>\n",
       "      <td>₹399</td>\n",
       "      <td>80% off</td>\n",
       "    </tr>\n",
       "    <tr>\n",
       "      <th>19</th>\n",
       "      <td>Specsmakers</td>\n",
       "      <td>Polarized Aviator Sunglasses (54)</td>\n",
       "      <td>₹715</td>\n",
       "      <td>55% off</td>\n",
       "    </tr>\n",
       "  </tbody>\n",
       "</table>\n",
       "</div>"
      ],
      "text/plain": [
       "               Brand                                Product Description Price  \\\n",
       "0   shah collections                  Polarized Aviator Sunglasses (16)  ₹309   \n",
       "1         Clubmaster  UV Protection, Gradient Retro Square Sunglasse...  ₹140   \n",
       "2         POLOSHADES              Mirrored Retro Square Sunglasses (49)  ₹189   \n",
       "3        Specsmakers   UV Protection Wrap-around Sunglasses (Free Size)  ₹517   \n",
       "4             ZOSTAL  UV Protection, Riding Glasses Rectangular Sung...  ₹208   \n",
       "5     ROZZETTA CRAFT          UV Protection Rectangular Sunglasses (50)  ₹449   \n",
       "6            Ayezent      UV Protection Wayfarer Sunglasses (Free Size)  ₹224   \n",
       "7               hipe  UV Protection Wayfarer, Sports, Shield, Rectan...  ₹169   \n",
       "8           Fastrack       UV Protection, Gradient Oval Sunglasses (58)  ₹653   \n",
       "9          Royal Son  UV Protection Retro Square Sunglasses (Free Size)  ₹664   \n",
       "10  HAMIW COLLECTION    Polarized, UV Protection Sports Sunglasses (60)  ₹209   \n",
       "11            Aislin             UV Protection Wayfarer Sunglasses (32)  ₹500   \n",
       "12           Elegant         UV Protection Round Sunglasses (Free Size)  ₹272   \n",
       "13           Adrenex     UV Protection Spectacle Sunglasses (Free Size)  ₹699   \n",
       "14            PIRASO        UV Protection Sports Sunglasses (Free Size)  ₹225   \n",
       "15      Singco India              Mirrored Round Sunglasses (Free Size)  ₹186   \n",
       "16       peter india                  Polarized Aviator Sunglasses (57)  ₹175   \n",
       "17          BULGARIA             UV Protection Wayfarer Sunglasses (56)  ₹290   \n",
       "18          Elegante   UV Protection Rectangular Sunglasses (Free Size)  ₹399   \n",
       "19       Specsmakers                  Polarized Aviator Sunglasses (54)  ₹715   \n",
       "\n",
       "   Discount  \n",
       "0   81% off  \n",
       "1   76% off  \n",
       "2   81% off  \n",
       "3   47% off  \n",
       "4   79% off  \n",
       "5   79% off  \n",
       "6   69% off  \n",
       "7   87% off  \n",
       "8   18% off  \n",
       "9   66% off  \n",
       "10  86% off  \n",
       "11  67% off  \n",
       "12  79% off  \n",
       "13  76% off  \n",
       "14  85% off  \n",
       "15  81% off  \n",
       "16  86% off  \n",
       "17  70% off  \n",
       "18  80% off  \n",
       "19  55% off  "
      ]
     },
     "execution_count": 177,
     "metadata": {},
     "output_type": "execute_result"
    }
   ],
   "source": [
    "import pandas as pd\n",
    "table=pd.DataFrame({})\n",
    "\n",
    "table['Brand']=Brand_3[:20]\n",
    "table['Product Description']=Product_d3[:20]\n",
    "table['Price']=Price_3[:20]\n",
    "table['Discount']=Discount_3[0:20]\n",
    "\n",
    "table"
   ]
  },
  {
   "cell_type": "markdown",
   "metadata": {},
   "source": [
    "# Q7"
   ]
  },
  {
   "cell_type": "code",
   "execution_count": 76,
   "metadata": {},
   "outputs": [],
   "source": [
    "driver = webdriver.Chrome(\"C:/Users/CHITRAK/Downloads/chromedriver.exe\")"
   ]
  },
  {
   "cell_type": "code",
   "execution_count": 77,
   "metadata": {},
   "outputs": [],
   "source": [
    "driver.get('https://www.flipkart.com/apple-iphone-11-black-64-gb-includes-earpods-power-adapter/p/itm0f37c2240b217?pid=MOBFKCTSVZAXUHGR&lid=LSTMOBFKCTSVZAXUHGREPBFGI&marketplace')"
   ]
  },
  {
   "cell_type": "code",
   "execution_count": 78,
   "metadata": {},
   "outputs": [],
   "source": [
    "Rating=[] \n",
    "Review_summary=[]\n",
    "Full_review=[]"
   ]
  },
  {
   "cell_type": "code",
   "execution_count": 79,
   "metadata": {},
   "outputs": [],
   "source": [
    "all_btn = driver.find_element_by_xpath(\"//div[@class='_3UAT2v _16PBlm']/span\")\n",
    "all_btn.click()"
   ]
  },
  {
   "cell_type": "code",
   "execution_count": 80,
   "metadata": {},
   "outputs": [
    {
     "data": {
      "text/plain": [
       "['5',\n",
       " '5',\n",
       " '5',\n",
       " '5',\n",
       " '5',\n",
       " '5',\n",
       " '5',\n",
       " '5',\n",
       " '5',\n",
       " '4',\n",
       " '5',\n",
       " '5',\n",
       " '5',\n",
       " '5',\n",
       " '5',\n",
       " '5',\n",
       " '5',\n",
       " '5',\n",
       " '5',\n",
       " '4',\n",
       " '5',\n",
       " '5',\n",
       " '5',\n",
       " '5',\n",
       " '5',\n",
       " '5',\n",
       " '5',\n",
       " '5',\n",
       " '5',\n",
       " '4',\n",
       " '5',\n",
       " '5',\n",
       " '5',\n",
       " '5',\n",
       " '5',\n",
       " '5',\n",
       " '5',\n",
       " '5',\n",
       " '5',\n",
       " '4',\n",
       " '5',\n",
       " '5',\n",
       " '5',\n",
       " '5',\n",
       " '5',\n",
       " '5',\n",
       " '5',\n",
       " '5',\n",
       " '5',\n",
       " '4',\n",
       " '5',\n",
       " '5',\n",
       " '5',\n",
       " '5',\n",
       " '5',\n",
       " '5',\n",
       " '5',\n",
       " '5',\n",
       " '5',\n",
       " '4',\n",
       " '5',\n",
       " '5',\n",
       " '5',\n",
       " '5',\n",
       " '5',\n",
       " '5',\n",
       " '5',\n",
       " '5',\n",
       " '5',\n",
       " '4',\n",
       " '5',\n",
       " '5',\n",
       " '5',\n",
       " '5',\n",
       " '5',\n",
       " '5',\n",
       " '5',\n",
       " '5',\n",
       " '5',\n",
       " '4',\n",
       " '5',\n",
       " '5',\n",
       " '5',\n",
       " '5',\n",
       " '5',\n",
       " '5',\n",
       " '5',\n",
       " '5',\n",
       " '5',\n",
       " '4',\n",
       " '5',\n",
       " '5',\n",
       " '5',\n",
       " '5',\n",
       " '5',\n",
       " '5',\n",
       " '5',\n",
       " '5',\n",
       " '5',\n",
       " '4']"
      ]
     },
     "execution_count": 80,
     "metadata": {},
     "output_type": "execute_result"
    }
   ],
   "source": [
    "for page in range(0,10):\n",
    "    r = driver.find_elements_by_xpath(\"//div[@class='_3LWZlK _1BLPMq']\")\n",
    "\n",
    "    for i in r:\n",
    "        title=i.text\n",
    "        Rating.append(title)\n",
    "    driver.find_element_by_xpath(\"//nav[@class='yFHi8N']/a\").click()\n",
    "Rating[0:100]"
   ]
  },
  {
   "cell_type": "code",
   "execution_count": 81,
   "metadata": {},
   "outputs": [
    {
     "data": {
      "text/plain": [
       "['Perfect product!',\n",
       " 'Great product',\n",
       " 'Highly recommended',\n",
       " 'Perfect product!',\n",
       " 'Brilliant',\n",
       " 'Perfect product!',\n",
       " 'Worth every penny',\n",
       " 'Worth every penny',\n",
       " 'Wonderful',\n",
       " 'Nice product',\n",
       " 'Perfect product!',\n",
       " 'Great product',\n",
       " 'Highly recommended',\n",
       " 'Perfect product!',\n",
       " 'Brilliant',\n",
       " 'Perfect product!',\n",
       " 'Worth every penny',\n",
       " 'Worth every penny',\n",
       " 'Wonderful',\n",
       " 'Nice product',\n",
       " 'Perfect product!',\n",
       " 'Great product',\n",
       " 'Highly recommended',\n",
       " 'Perfect product!',\n",
       " 'Brilliant',\n",
       " 'Perfect product!',\n",
       " 'Worth every penny',\n",
       " 'Worth every penny',\n",
       " 'Wonderful',\n",
       " 'Nice product',\n",
       " 'Perfect product!',\n",
       " 'Great product',\n",
       " 'Highly recommended',\n",
       " 'Perfect product!',\n",
       " 'Brilliant',\n",
       " 'Perfect product!',\n",
       " 'Worth every penny',\n",
       " 'Worth every penny',\n",
       " 'Wonderful',\n",
       " 'Nice product',\n",
       " 'Perfect product!',\n",
       " 'Great product',\n",
       " 'Highly recommended',\n",
       " 'Perfect product!',\n",
       " 'Brilliant',\n",
       " 'Perfect product!',\n",
       " 'Worth every penny',\n",
       " 'Worth every penny',\n",
       " 'Wonderful',\n",
       " 'Nice product',\n",
       " 'Perfect product!',\n",
       " 'Great product',\n",
       " 'Highly recommended',\n",
       " 'Perfect product!',\n",
       " 'Brilliant',\n",
       " 'Perfect product!',\n",
       " 'Worth every penny',\n",
       " 'Worth every penny',\n",
       " 'Wonderful',\n",
       " 'Nice product',\n",
       " 'Perfect product!',\n",
       " 'Great product',\n",
       " 'Highly recommended',\n",
       " 'Perfect product!',\n",
       " 'Brilliant',\n",
       " 'Perfect product!',\n",
       " 'Worth every penny',\n",
       " 'Worth every penny',\n",
       " 'Wonderful',\n",
       " 'Nice product',\n",
       " 'Perfect product!',\n",
       " 'Great product',\n",
       " 'Highly recommended',\n",
       " 'Perfect product!',\n",
       " 'Brilliant',\n",
       " 'Perfect product!',\n",
       " 'Worth every penny',\n",
       " 'Worth every penny',\n",
       " 'Wonderful',\n",
       " 'Nice product',\n",
       " 'Perfect product!',\n",
       " 'Great product',\n",
       " 'Highly recommended',\n",
       " 'Perfect product!',\n",
       " 'Brilliant',\n",
       " 'Perfect product!',\n",
       " 'Worth every penny',\n",
       " 'Worth every penny',\n",
       " 'Wonderful',\n",
       " 'Nice product',\n",
       " 'Perfect product!',\n",
       " 'Great product',\n",
       " 'Highly recommended',\n",
       " 'Perfect product!',\n",
       " 'Brilliant',\n",
       " 'Perfect product!',\n",
       " 'Worth every penny',\n",
       " 'Worth every penny',\n",
       " 'Wonderful',\n",
       " 'Nice product']"
      ]
     },
     "execution_count": 81,
     "metadata": {},
     "output_type": "execute_result"
    }
   ],
   "source": [
    "for page in range(0,10):\n",
    "    s = driver.find_elements_by_xpath(\"//p[@class='_2-N8zT']\")\n",
    "\n",
    "    for i in s:\n",
    "        title=i.text\n",
    "        Review_summary.append(title)\n",
    "    driver.find_element_by_xpath(\"//nav[@class='yFHi8N']/a\").click()\n",
    "Review_summary[0:100]"
   ]
  },
  {
   "cell_type": "code",
   "execution_count": 82,
   "metadata": {},
   "outputs": [
    {
     "data": {
      "text/plain": [
       "['Amazing phone with great cameras and better battery which gives you the best performance. I just love the camera .',\n",
       " 'Amazing Powerful and Durable Gadget.\\n\\nI’m am very happy with the camera picture quality, Amazing face id unlocked in dark room, Strong battery with perfect screen size as you can carry easily in pocket. This is my third iPhone.\\n\\nI shifted from android Samsung Note series to iPhone because of the strong build quality and peace of mind for next 3-4 years.\\n\\nDon’t think to much just go for it and I suggest you to go for minimum 128gb variant or more 256gb.\\n\\nI’ve attached my puppy pics and no fi...\\nREAD MORE',\n",
       " 'iphone 11 is a very good phone to buy only if you can compromise for the display. The display on this is device is pretty good but you can get other options with better displays in this price segment.\\nIf you can survive with an HD+ LCD panel with thicker bezels and a notch up top then this is a very good phone for you.\\nCameras are awesome, battery backup excellent, great performance and a decent premium look. Good job Apple !',\n",
       " 'It’s a must buy who is looking for an upgrade from previous generation of iPhones. If you are using XR then still you can hold on for sometime and upgrade to 2020 model else this phone is a must buy . Camera quality is amazing and wide angle is something to count upon. Performance wise it’s amazing and feels premium while holding in hand. So a big YES for this device. Go for 128 GB variant as the 4K videos will occupy lots of space and the storage can get over very quickly. Try to buy it with...\\nREAD MORE',\n",
       " 'The Best Phone for the Money\\n\\nThe iPhone 11 offers superb cameras, a more durable design and excellent battery life for an affordable price.\\n\\nCompelling ultra-wide camera\\nNew Night mode is excellent\\nLong battery life',\n",
       " 'Value for money❤️❤️\\nIts awesome mobile phone in the world ...\\nDisplay was very good and bright ..\\nTrust me freinds you r never regret after Buying..\\nJust go for it....\\nI love this phone and i switch to iphone x to 11',\n",
       " 'Best budget Iphone till date ❤️ go for it guys without second thought. Let me explain you guys about Camera, Display, battery, and performance.\\n\\nCamera: at this price range there is no comparison of camera, you’ll love the picture quality as well as video quality. I am a Vlogger I wanted an iPhone with 4k video by front camera and I got this phone and I am more than happy 😃\\n\\nBattery: I use this phone roughly as I am active social media person and I have a youtube channel. so the battery ba...\\nREAD MORE',\n",
       " 'It’s been almost a month since I have been using this phone. I upgraded from an iPhone 8. The main issue with my 8 was battery and this phone is just awesome when it comes to battery. It lasts a day and a half for me with my regular use , internet connected always with 4g\\nCan’t move forward without saying this. Battery of this phone is a life saver when I am traveling or at work when I don’t get the option to charge\\nCamera is superb. Front cam selfies and back cam photos are just awesome.\\n...\\nREAD MORE',\n",
       " '*Review after 10 months of usage*\\nDoesn\\'t seem bulky with decent touch and camera. The \"standard maintained\" quality of IPhone. Go for it, if your budget is not more enough for pro models. It\\'s a value for money among the 11 series Stereo speakers are so good, you will love the stereo sound. Battery backup is not decent but still better than Iphone 7 and 8.Processor is fast, the phone doesn\\'t lag at all even with heavy games, waterproof, faster face id and with no fingerprint scanners. The ca...\\nREAD MORE',\n",
       " 'Awesome Phone. Slightly high price but worth. Better than iPhone XR.\\nCamera is superb and wide angle camera is very clear.\\n12MP selfie camera is also very good.\\nA13 Chip gives a very good and smooth performance.',\n",
       " 'Amazing phone with great cameras and better battery which gives you the best performance. I just love the camera .',\n",
       " 'Amazing Powerful and Durable Gadget.\\n\\nI’m am very happy with the camera picture quality, Amazing face id unlocked in dark room, Strong battery with perfect screen size as you can carry easily in pocket. This is my third iPhone.\\n\\nI shifted from android Samsung Note series to iPhone because of the strong build quality and peace of mind for next 3-4 years.\\n\\nDon’t think to much just go for it and I suggest you to go for minimum 128gb variant or more 256gb.\\n\\nI’ve attached my puppy pics and no fi...\\nREAD MORE',\n",
       " 'iphone 11 is a very good phone to buy only if you can compromise for the display. The display on this is device is pretty good but you can get other options with better displays in this price segment.\\nIf you can survive with an HD+ LCD panel with thicker bezels and a notch up top then this is a very good phone for you.\\nCameras are awesome, battery backup excellent, great performance and a decent premium look. Good job Apple !',\n",
       " 'It’s a must buy who is looking for an upgrade from previous generation of iPhones. If you are using XR then still you can hold on for sometime and upgrade to 2020 model else this phone is a must buy . Camera quality is amazing and wide angle is something to count upon. Performance wise it’s amazing and feels premium while holding in hand. So a big YES for this device. Go for 128 GB variant as the 4K videos will occupy lots of space and the storage can get over very quickly. Try to buy it with...\\nREAD MORE',\n",
       " 'The Best Phone for the Money\\n\\nThe iPhone 11 offers superb cameras, a more durable design and excellent battery life for an affordable price.\\n\\nCompelling ultra-wide camera\\nNew Night mode is excellent\\nLong battery life',\n",
       " 'Value for money❤️❤️\\nIts awesome mobile phone in the world ...\\nDisplay was very good and bright ..\\nTrust me freinds you r never regret after Buying..\\nJust go for it....\\nI love this phone and i switch to iphone x to 11',\n",
       " 'Best budget Iphone till date ❤️ go for it guys without second thought. Let me explain you guys about Camera, Display, battery, and performance.\\n\\nCamera: at this price range there is no comparison of camera, you’ll love the picture quality as well as video quality. I am a Vlogger I wanted an iPhone with 4k video by front camera and I got this phone and I am more than happy 😃\\n\\nBattery: I use this phone roughly as I am active social media person and I have a youtube channel. so the battery ba...\\nREAD MORE',\n",
       " 'It’s been almost a month since I have been using this phone. I upgraded from an iPhone 8. The main issue with my 8 was battery and this phone is just awesome when it comes to battery. It lasts a day and a half for me with my regular use , internet connected always with 4g\\nCan’t move forward without saying this. Battery of this phone is a life saver when I am traveling or at work when I don’t get the option to charge\\nCamera is superb. Front cam selfies and back cam photos are just awesome.\\n...\\nREAD MORE',\n",
       " '*Review after 10 months of usage*\\nDoesn\\'t seem bulky with decent touch and camera. The \"standard maintained\" quality of IPhone. Go for it, if your budget is not more enough for pro models. It\\'s a value for money among the 11 series Stereo speakers are so good, you will love the stereo sound. Battery backup is not decent but still better than Iphone 7 and 8.Processor is fast, the phone doesn\\'t lag at all even with heavy games, waterproof, faster face id and with no fingerprint scanners. The ca...\\nREAD MORE',\n",
       " 'Awesome Phone. Slightly high price but worth. Better than iPhone XR.\\nCamera is superb and wide angle camera is very clear.\\n12MP selfie camera is also very good.\\nA13 Chip gives a very good and smooth performance.',\n",
       " 'Amazing phone with great cameras and better battery which gives you the best performance. I just love the camera .',\n",
       " 'Amazing Powerful and Durable Gadget.\\n\\nI’m am very happy with the camera picture quality, Amazing face id unlocked in dark room, Strong battery with perfect screen size as you can carry easily in pocket. This is my third iPhone.\\n\\nI shifted from android Samsung Note series to iPhone because of the strong build quality and peace of mind for next 3-4 years.\\n\\nDon’t think to much just go for it and I suggest you to go for minimum 128gb variant or more 256gb.\\n\\nI’ve attached my puppy pics and no fi...\\nREAD MORE',\n",
       " 'iphone 11 is a very good phone to buy only if you can compromise for the display. The display on this is device is pretty good but you can get other options with better displays in this price segment.\\nIf you can survive with an HD+ LCD panel with thicker bezels and a notch up top then this is a very good phone for you.\\nCameras are awesome, battery backup excellent, great performance and a decent premium look. Good job Apple !',\n",
       " 'It’s a must buy who is looking for an upgrade from previous generation of iPhones. If you are using XR then still you can hold on for sometime and upgrade to 2020 model else this phone is a must buy . Camera quality is amazing and wide angle is something to count upon. Performance wise it’s amazing and feels premium while holding in hand. So a big YES for this device. Go for 128 GB variant as the 4K videos will occupy lots of space and the storage can get over very quickly. Try to buy it with...\\nREAD MORE',\n",
       " 'The Best Phone for the Money\\n\\nThe iPhone 11 offers superb cameras, a more durable design and excellent battery life for an affordable price.\\n\\nCompelling ultra-wide camera\\nNew Night mode is excellent\\nLong battery life',\n",
       " 'Value for money❤️❤️\\nIts awesome mobile phone in the world ...\\nDisplay was very good and bright ..\\nTrust me freinds you r never regret after Buying..\\nJust go for it....\\nI love this phone and i switch to iphone x to 11',\n",
       " 'Best budget Iphone till date ❤️ go for it guys without second thought. Let me explain you guys about Camera, Display, battery, and performance.\\n\\nCamera: at this price range there is no comparison of camera, you’ll love the picture quality as well as video quality. I am a Vlogger I wanted an iPhone with 4k video by front camera and I got this phone and I am more than happy 😃\\n\\nBattery: I use this phone roughly as I am active social media person and I have a youtube channel. so the battery ba...\\nREAD MORE',\n",
       " 'It’s been almost a month since I have been using this phone. I upgraded from an iPhone 8. The main issue with my 8 was battery and this phone is just awesome when it comes to battery. It lasts a day and a half for me with my regular use , internet connected always with 4g\\nCan’t move forward without saying this. Battery of this phone is a life saver when I am traveling or at work when I don’t get the option to charge\\nCamera is superb. Front cam selfies and back cam photos are just awesome.\\n...\\nREAD MORE',\n",
       " '*Review after 10 months of usage*\\nDoesn\\'t seem bulky with decent touch and camera. The \"standard maintained\" quality of IPhone. Go for it, if your budget is not more enough for pro models. It\\'s a value for money among the 11 series Stereo speakers are so good, you will love the stereo sound. Battery backup is not decent but still better than Iphone 7 and 8.Processor is fast, the phone doesn\\'t lag at all even with heavy games, waterproof, faster face id and with no fingerprint scanners. The ca...\\nREAD MORE',\n",
       " 'Awesome Phone. Slightly high price but worth. Better than iPhone XR.\\nCamera is superb and wide angle camera is very clear.\\n12MP selfie camera is also very good.\\nA13 Chip gives a very good and smooth performance.',\n",
       " 'Amazing phone with great cameras and better battery which gives you the best performance. I just love the camera .',\n",
       " 'Amazing Powerful and Durable Gadget.\\n\\nI’m am very happy with the camera picture quality, Amazing face id unlocked in dark room, Strong battery with perfect screen size as you can carry easily in pocket. This is my third iPhone.\\n\\nI shifted from android Samsung Note series to iPhone because of the strong build quality and peace of mind for next 3-4 years.\\n\\nDon’t think to much just go for it and I suggest you to go for minimum 128gb variant or more 256gb.\\n\\nI’ve attached my puppy pics and no fi...\\nREAD MORE',\n",
       " 'iphone 11 is a very good phone to buy only if you can compromise for the display. The display on this is device is pretty good but you can get other options with better displays in this price segment.\\nIf you can survive with an HD+ LCD panel with thicker bezels and a notch up top then this is a very good phone for you.\\nCameras are awesome, battery backup excellent, great performance and a decent premium look. Good job Apple !',\n",
       " 'It’s a must buy who is looking for an upgrade from previous generation of iPhones. If you are using XR then still you can hold on for sometime and upgrade to 2020 model else this phone is a must buy . Camera quality is amazing and wide angle is something to count upon. Performance wise it’s amazing and feels premium while holding in hand. So a big YES for this device. Go for 128 GB variant as the 4K videos will occupy lots of space and the storage can get over very quickly. Try to buy it with...\\nREAD MORE',\n",
       " 'The Best Phone for the Money\\n\\nThe iPhone 11 offers superb cameras, a more durable design and excellent battery life for an affordable price.\\n\\nCompelling ultra-wide camera\\nNew Night mode is excellent\\nLong battery life',\n",
       " 'Value for money❤️❤️\\nIts awesome mobile phone in the world ...\\nDisplay was very good and bright ..\\nTrust me freinds you r never regret after Buying..\\nJust go for it....\\nI love this phone and i switch to iphone x to 11',\n",
       " 'Best budget Iphone till date ❤️ go for it guys without second thought. Let me explain you guys about Camera, Display, battery, and performance.\\n\\nCamera: at this price range there is no comparison of camera, you’ll love the picture quality as well as video quality. I am a Vlogger I wanted an iPhone with 4k video by front camera and I got this phone and I am more than happy 😃\\n\\nBattery: I use this phone roughly as I am active social media person and I have a youtube channel. so the battery ba...\\nREAD MORE',\n",
       " 'It’s been almost a month since I have been using this phone. I upgraded from an iPhone 8. The main issue with my 8 was battery and this phone is just awesome when it comes to battery. It lasts a day and a half for me with my regular use , internet connected always with 4g\\nCan’t move forward without saying this. Battery of this phone is a life saver when I am traveling or at work when I don’t get the option to charge\\nCamera is superb. Front cam selfies and back cam photos are just awesome.\\n...\\nREAD MORE',\n",
       " '*Review after 10 months of usage*\\nDoesn\\'t seem bulky with decent touch and camera. The \"standard maintained\" quality of IPhone. Go for it, if your budget is not more enough for pro models. It\\'s a value for money among the 11 series Stereo speakers are so good, you will love the stereo sound. Battery backup is not decent but still better than Iphone 7 and 8.Processor is fast, the phone doesn\\'t lag at all even with heavy games, waterproof, faster face id and with no fingerprint scanners. The ca...\\nREAD MORE',\n",
       " 'Awesome Phone. Slightly high price but worth. Better than iPhone XR.\\nCamera is superb and wide angle camera is very clear.\\n12MP selfie camera is also very good.\\nA13 Chip gives a very good and smooth performance.',\n",
       " 'Amazing phone with great cameras and better battery which gives you the best performance. I just love the camera .',\n",
       " 'Amazing Powerful and Durable Gadget.\\n\\nI’m am very happy with the camera picture quality, Amazing face id unlocked in dark room, Strong battery with perfect screen size as you can carry easily in pocket. This is my third iPhone.\\n\\nI shifted from android Samsung Note series to iPhone because of the strong build quality and peace of mind for next 3-4 years.\\n\\nDon’t think to much just go for it and I suggest you to go for minimum 128gb variant or more 256gb.\\n\\nI’ve attached my puppy pics and no fi...\\nREAD MORE',\n",
       " 'iphone 11 is a very good phone to buy only if you can compromise for the display. The display on this is device is pretty good but you can get other options with better displays in this price segment.\\nIf you can survive with an HD+ LCD panel with thicker bezels and a notch up top then this is a very good phone for you.\\nCameras are awesome, battery backup excellent, great performance and a decent premium look. Good job Apple !',\n",
       " 'It’s a must buy who is looking for an upgrade from previous generation of iPhones. If you are using XR then still you can hold on for sometime and upgrade to 2020 model else this phone is a must buy . Camera quality is amazing and wide angle is something to count upon. Performance wise it’s amazing and feels premium while holding in hand. So a big YES for this device. Go for 128 GB variant as the 4K videos will occupy lots of space and the storage can get over very quickly. Try to buy it with...\\nREAD MORE',\n",
       " 'The Best Phone for the Money\\n\\nThe iPhone 11 offers superb cameras, a more durable design and excellent battery life for an affordable price.\\n\\nCompelling ultra-wide camera\\nNew Night mode is excellent\\nLong battery life',\n",
       " 'Value for money❤️❤️\\nIts awesome mobile phone in the world ...\\nDisplay was very good and bright ..\\nTrust me freinds you r never regret after Buying..\\nJust go for it....\\nI love this phone and i switch to iphone x to 11',\n",
       " 'Best budget Iphone till date ❤️ go for it guys without second thought. Let me explain you guys about Camera, Display, battery, and performance.\\n\\nCamera: at this price range there is no comparison of camera, you’ll love the picture quality as well as video quality. I am a Vlogger I wanted an iPhone with 4k video by front camera and I got this phone and I am more than happy 😃\\n\\nBattery: I use this phone roughly as I am active social media person and I have a youtube channel. so the battery ba...\\nREAD MORE',\n",
       " 'It’s been almost a month since I have been using this phone. I upgraded from an iPhone 8. The main issue with my 8 was battery and this phone is just awesome when it comes to battery. It lasts a day and a half for me with my regular use , internet connected always with 4g\\nCan’t move forward without saying this. Battery of this phone is a life saver when I am traveling or at work when I don’t get the option to charge\\nCamera is superb. Front cam selfies and back cam photos are just awesome.\\n...\\nREAD MORE',\n",
       " '*Review after 10 months of usage*\\nDoesn\\'t seem bulky with decent touch and camera. The \"standard maintained\" quality of IPhone. Go for it, if your budget is not more enough for pro models. It\\'s a value for money among the 11 series Stereo speakers are so good, you will love the stereo sound. Battery backup is not decent but still better than Iphone 7 and 8.Processor is fast, the phone doesn\\'t lag at all even with heavy games, waterproof, faster face id and with no fingerprint scanners. The ca...\\nREAD MORE',\n",
       " 'Awesome Phone. Slightly high price but worth. Better than iPhone XR.\\nCamera is superb and wide angle camera is very clear.\\n12MP selfie camera is also very good.\\nA13 Chip gives a very good and smooth performance.',\n",
       " 'Amazing phone with great cameras and better battery which gives you the best performance. I just love the camera .',\n",
       " 'Amazing Powerful and Durable Gadget.\\n\\nI’m am very happy with the camera picture quality, Amazing face id unlocked in dark room, Strong battery with perfect screen size as you can carry easily in pocket. This is my third iPhone.\\n\\nI shifted from android Samsung Note series to iPhone because of the strong build quality and peace of mind for next 3-4 years.\\n\\nDon’t think to much just go for it and I suggest you to go for minimum 128gb variant or more 256gb.\\n\\nI’ve attached my puppy pics and no fi...\\nREAD MORE',\n",
       " 'iphone 11 is a very good phone to buy only if you can compromise for the display. The display on this is device is pretty good but you can get other options with better displays in this price segment.\\nIf you can survive with an HD+ LCD panel with thicker bezels and a notch up top then this is a very good phone for you.\\nCameras are awesome, battery backup excellent, great performance and a decent premium look. Good job Apple !',\n",
       " 'It’s a must buy who is looking for an upgrade from previous generation of iPhones. If you are using XR then still you can hold on for sometime and upgrade to 2020 model else this phone is a must buy . Camera quality is amazing and wide angle is something to count upon. Performance wise it’s amazing and feels premium while holding in hand. So a big YES for this device. Go for 128 GB variant as the 4K videos will occupy lots of space and the storage can get over very quickly. Try to buy it with...\\nREAD MORE',\n",
       " 'The Best Phone for the Money\\n\\nThe iPhone 11 offers superb cameras, a more durable design and excellent battery life for an affordable price.\\n\\nCompelling ultra-wide camera\\nNew Night mode is excellent\\nLong battery life',\n",
       " 'Value for money❤️❤️\\nIts awesome mobile phone in the world ...\\nDisplay was very good and bright ..\\nTrust me freinds you r never regret after Buying..\\nJust go for it....\\nI love this phone and i switch to iphone x to 11',\n",
       " 'Best budget Iphone till date ❤️ go for it guys without second thought. Let me explain you guys about Camera, Display, battery, and performance.\\n\\nCamera: at this price range there is no comparison of camera, you’ll love the picture quality as well as video quality. I am a Vlogger I wanted an iPhone with 4k video by front camera and I got this phone and I am more than happy 😃\\n\\nBattery: I use this phone roughly as I am active social media person and I have a youtube channel. so the battery ba...\\nREAD MORE',\n",
       " 'It’s been almost a month since I have been using this phone. I upgraded from an iPhone 8. The main issue with my 8 was battery and this phone is just awesome when it comes to battery. It lasts a day and a half for me with my regular use , internet connected always with 4g\\nCan’t move forward without saying this. Battery of this phone is a life saver when I am traveling or at work when I don’t get the option to charge\\nCamera is superb. Front cam selfies and back cam photos are just awesome.\\n...\\nREAD MORE',\n",
       " '*Review after 10 months of usage*\\nDoesn\\'t seem bulky with decent touch and camera. The \"standard maintained\" quality of IPhone. Go for it, if your budget is not more enough for pro models. It\\'s a value for money among the 11 series Stereo speakers are so good, you will love the stereo sound. Battery backup is not decent but still better than Iphone 7 and 8.Processor is fast, the phone doesn\\'t lag at all even with heavy games, waterproof, faster face id and with no fingerprint scanners. The ca...\\nREAD MORE',\n",
       " 'Awesome Phone. Slightly high price but worth. Better than iPhone XR.\\nCamera is superb and wide angle camera is very clear.\\n12MP selfie camera is also very good.\\nA13 Chip gives a very good and smooth performance.',\n",
       " 'Amazing phone with great cameras and better battery which gives you the best performance. I just love the camera .',\n",
       " 'Amazing Powerful and Durable Gadget.\\n\\nI’m am very happy with the camera picture quality, Amazing face id unlocked in dark room, Strong battery with perfect screen size as you can carry easily in pocket. This is my third iPhone.\\n\\nI shifted from android Samsung Note series to iPhone because of the strong build quality and peace of mind for next 3-4 years.\\n\\nDon’t think to much just go for it and I suggest you to go for minimum 128gb variant or more 256gb.\\n\\nI’ve attached my puppy pics and no fi...\\nREAD MORE',\n",
       " 'iphone 11 is a very good phone to buy only if you can compromise for the display. The display on this is device is pretty good but you can get other options with better displays in this price segment.\\nIf you can survive with an HD+ LCD panel with thicker bezels and a notch up top then this is a very good phone for you.\\nCameras are awesome, battery backup excellent, great performance and a decent premium look. Good job Apple !',\n",
       " 'It’s a must buy who is looking for an upgrade from previous generation of iPhones. If you are using XR then still you can hold on for sometime and upgrade to 2020 model else this phone is a must buy . Camera quality is amazing and wide angle is something to count upon. Performance wise it’s amazing and feels premium while holding in hand. So a big YES for this device. Go for 128 GB variant as the 4K videos will occupy lots of space and the storage can get over very quickly. Try to buy it with...\\nREAD MORE',\n",
       " 'The Best Phone for the Money\\n\\nThe iPhone 11 offers superb cameras, a more durable design and excellent battery life for an affordable price.\\n\\nCompelling ultra-wide camera\\nNew Night mode is excellent\\nLong battery life',\n",
       " 'Value for money❤️❤️\\nIts awesome mobile phone in the world ...\\nDisplay was very good and bright ..\\nTrust me freinds you r never regret after Buying..\\nJust go for it....\\nI love this phone and i switch to iphone x to 11',\n",
       " 'Best budget Iphone till date ❤️ go for it guys without second thought. Let me explain you guys about Camera, Display, battery, and performance.\\n\\nCamera: at this price range there is no comparison of camera, you’ll love the picture quality as well as video quality. I am a Vlogger I wanted an iPhone with 4k video by front camera and I got this phone and I am more than happy 😃\\n\\nBattery: I use this phone roughly as I am active social media person and I have a youtube channel. so the battery ba...\\nREAD MORE',\n",
       " 'It’s been almost a month since I have been using this phone. I upgraded from an iPhone 8. The main issue with my 8 was battery and this phone is just awesome when it comes to battery. It lasts a day and a half for me with my regular use , internet connected always with 4g\\nCan’t move forward without saying this. Battery of this phone is a life saver when I am traveling or at work when I don’t get the option to charge\\nCamera is superb. Front cam selfies and back cam photos are just awesome.\\n...\\nREAD MORE',\n",
       " '*Review after 10 months of usage*\\nDoesn\\'t seem bulky with decent touch and camera. The \"standard maintained\" quality of IPhone. Go for it, if your budget is not more enough for pro models. It\\'s a value for money among the 11 series Stereo speakers are so good, you will love the stereo sound. Battery backup is not decent but still better than Iphone 7 and 8.Processor is fast, the phone doesn\\'t lag at all even with heavy games, waterproof, faster face id and with no fingerprint scanners. The ca...\\nREAD MORE',\n",
       " 'Awesome Phone. Slightly high price but worth. Better than iPhone XR.\\nCamera is superb and wide angle camera is very clear.\\n12MP selfie camera is also very good.\\nA13 Chip gives a very good and smooth performance.',\n",
       " 'Amazing phone with great cameras and better battery which gives you the best performance. I just love the camera .',\n",
       " 'Amazing Powerful and Durable Gadget.\\n\\nI’m am very happy with the camera picture quality, Amazing face id unlocked in dark room, Strong battery with perfect screen size as you can carry easily in pocket. This is my third iPhone.\\n\\nI shifted from android Samsung Note series to iPhone because of the strong build quality and peace of mind for next 3-4 years.\\n\\nDon’t think to much just go for it and I suggest you to go for minimum 128gb variant or more 256gb.\\n\\nI’ve attached my puppy pics and no fi...\\nREAD MORE',\n",
       " 'iphone 11 is a very good phone to buy only if you can compromise for the display. The display on this is device is pretty good but you can get other options with better displays in this price segment.\\nIf you can survive with an HD+ LCD panel with thicker bezels and a notch up top then this is a very good phone for you.\\nCameras are awesome, battery backup excellent, great performance and a decent premium look. Good job Apple !',\n",
       " 'It’s a must buy who is looking for an upgrade from previous generation of iPhones. If you are using XR then still you can hold on for sometime and upgrade to 2020 model else this phone is a must buy . Camera quality is amazing and wide angle is something to count upon. Performance wise it’s amazing and feels premium while holding in hand. So a big YES for this device. Go for 128 GB variant as the 4K videos will occupy lots of space and the storage can get over very quickly. Try to buy it with...\\nREAD MORE',\n",
       " 'The Best Phone for the Money\\n\\nThe iPhone 11 offers superb cameras, a more durable design and excellent battery life for an affordable price.\\n\\nCompelling ultra-wide camera\\nNew Night mode is excellent\\nLong battery life',\n",
       " 'Value for money❤️❤️\\nIts awesome mobile phone in the world ...\\nDisplay was very good and bright ..\\nTrust me freinds you r never regret after Buying..\\nJust go for it....\\nI love this phone and i switch to iphone x to 11',\n",
       " 'Best budget Iphone till date ❤️ go for it guys without second thought. Let me explain you guys about Camera, Display, battery, and performance.\\n\\nCamera: at this price range there is no comparison of camera, you’ll love the picture quality as well as video quality. I am a Vlogger I wanted an iPhone with 4k video by front camera and I got this phone and I am more than happy 😃\\n\\nBattery: I use this phone roughly as I am active social media person and I have a youtube channel. so the battery ba...\\nREAD MORE',\n",
       " 'It’s been almost a month since I have been using this phone. I upgraded from an iPhone 8. The main issue with my 8 was battery and this phone is just awesome when it comes to battery. It lasts a day and a half for me with my regular use , internet connected always with 4g\\nCan’t move forward without saying this. Battery of this phone is a life saver when I am traveling or at work when I don’t get the option to charge\\nCamera is superb. Front cam selfies and back cam photos are just awesome.\\n...\\nREAD MORE',\n",
       " '*Review after 10 months of usage*\\nDoesn\\'t seem bulky with decent touch and camera. The \"standard maintained\" quality of IPhone. Go for it, if your budget is not more enough for pro models. It\\'s a value for money among the 11 series Stereo speakers are so good, you will love the stereo sound. Battery backup is not decent but still better than Iphone 7 and 8.Processor is fast, the phone doesn\\'t lag at all even with heavy games, waterproof, faster face id and with no fingerprint scanners. The ca...\\nREAD MORE',\n",
       " 'Awesome Phone. Slightly high price but worth. Better than iPhone XR.\\nCamera is superb and wide angle camera is very clear.\\n12MP selfie camera is also very good.\\nA13 Chip gives a very good and smooth performance.',\n",
       " 'Amazing phone with great cameras and better battery which gives you the best performance. I just love the camera .',\n",
       " 'Amazing Powerful and Durable Gadget.\\n\\nI’m am very happy with the camera picture quality, Amazing face id unlocked in dark room, Strong battery with perfect screen size as you can carry easily in pocket. This is my third iPhone.\\n\\nI shifted from android Samsung Note series to iPhone because of the strong build quality and peace of mind for next 3-4 years.\\n\\nDon’t think to much just go for it and I suggest you to go for minimum 128gb variant or more 256gb.\\n\\nI’ve attached my puppy pics and no fi...\\nREAD MORE',\n",
       " 'iphone 11 is a very good phone to buy only if you can compromise for the display. The display on this is device is pretty good but you can get other options with better displays in this price segment.\\nIf you can survive with an HD+ LCD panel with thicker bezels and a notch up top then this is a very good phone for you.\\nCameras are awesome, battery backup excellent, great performance and a decent premium look. Good job Apple !',\n",
       " 'It’s a must buy who is looking for an upgrade from previous generation of iPhones. If you are using XR then still you can hold on for sometime and upgrade to 2020 model else this phone is a must buy . Camera quality is amazing and wide angle is something to count upon. Performance wise it’s amazing and feels premium while holding in hand. So a big YES for this device. Go for 128 GB variant as the 4K videos will occupy lots of space and the storage can get over very quickly. Try to buy it with...\\nREAD MORE',\n",
       " 'The Best Phone for the Money\\n\\nThe iPhone 11 offers superb cameras, a more durable design and excellent battery life for an affordable price.\\n\\nCompelling ultra-wide camera\\nNew Night mode is excellent\\nLong battery life',\n",
       " 'Value for money❤️❤️\\nIts awesome mobile phone in the world ...\\nDisplay was very good and bright ..\\nTrust me freinds you r never regret after Buying..\\nJust go for it....\\nI love this phone and i switch to iphone x to 11',\n",
       " 'Best budget Iphone till date ❤️ go for it guys without second thought. Let me explain you guys about Camera, Display, battery, and performance.\\n\\nCamera: at this price range there is no comparison of camera, you’ll love the picture quality as well as video quality. I am a Vlogger I wanted an iPhone with 4k video by front camera and I got this phone and I am more than happy 😃\\n\\nBattery: I use this phone roughly as I am active social media person and I have a youtube channel. so the battery ba...\\nREAD MORE',\n",
       " 'It’s been almost a month since I have been using this phone. I upgraded from an iPhone 8. The main issue with my 8 was battery and this phone is just awesome when it comes to battery. It lasts a day and a half for me with my regular use , internet connected always with 4g\\nCan’t move forward without saying this. Battery of this phone is a life saver when I am traveling or at work when I don’t get the option to charge\\nCamera is superb. Front cam selfies and back cam photos are just awesome.\\n...\\nREAD MORE',\n",
       " '*Review after 10 months of usage*\\nDoesn\\'t seem bulky with decent touch and camera. The \"standard maintained\" quality of IPhone. Go for it, if your budget is not more enough for pro models. It\\'s a value for money among the 11 series Stereo speakers are so good, you will love the stereo sound. Battery backup is not decent but still better than Iphone 7 and 8.Processor is fast, the phone doesn\\'t lag at all even with heavy games, waterproof, faster face id and with no fingerprint scanners. The ca...\\nREAD MORE',\n",
       " 'Awesome Phone. Slightly high price but worth. Better than iPhone XR.\\nCamera is superb and wide angle camera is very clear.\\n12MP selfie camera is also very good.\\nA13 Chip gives a very good and smooth performance.',\n",
       " 'Amazing phone with great cameras and better battery which gives you the best performance. I just love the camera .',\n",
       " 'Amazing Powerful and Durable Gadget.\\n\\nI’m am very happy with the camera picture quality, Amazing face id unlocked in dark room, Strong battery with perfect screen size as you can carry easily in pocket. This is my third iPhone.\\n\\nI shifted from android Samsung Note series to iPhone because of the strong build quality and peace of mind for next 3-4 years.\\n\\nDon’t think to much just go for it and I suggest you to go for minimum 128gb variant or more 256gb.\\n\\nI’ve attached my puppy pics and no fi...\\nREAD MORE',\n",
       " 'iphone 11 is a very good phone to buy only if you can compromise for the display. The display on this is device is pretty good but you can get other options with better displays in this price segment.\\nIf you can survive with an HD+ LCD panel with thicker bezels and a notch up top then this is a very good phone for you.\\nCameras are awesome, battery backup excellent, great performance and a decent premium look. Good job Apple !',\n",
       " 'It’s a must buy who is looking for an upgrade from previous generation of iPhones. If you are using XR then still you can hold on for sometime and upgrade to 2020 model else this phone is a must buy . Camera quality is amazing and wide angle is something to count upon. Performance wise it’s amazing and feels premium while holding in hand. So a big YES for this device. Go for 128 GB variant as the 4K videos will occupy lots of space and the storage can get over very quickly. Try to buy it with...\\nREAD MORE',\n",
       " 'The Best Phone for the Money\\n\\nThe iPhone 11 offers superb cameras, a more durable design and excellent battery life for an affordable price.\\n\\nCompelling ultra-wide camera\\nNew Night mode is excellent\\nLong battery life',\n",
       " 'Value for money❤️❤️\\nIts awesome mobile phone in the world ...\\nDisplay was very good and bright ..\\nTrust me freinds you r never regret after Buying..\\nJust go for it....\\nI love this phone and i switch to iphone x to 11',\n",
       " 'Best budget Iphone till date ❤️ go for it guys without second thought. Let me explain you guys about Camera, Display, battery, and performance.\\n\\nCamera: at this price range there is no comparison of camera, you’ll love the picture quality as well as video quality. I am a Vlogger I wanted an iPhone with 4k video by front camera and I got this phone and I am more than happy 😃\\n\\nBattery: I use this phone roughly as I am active social media person and I have a youtube channel. so the battery ba...\\nREAD MORE',\n",
       " 'It’s been almost a month since I have been using this phone. I upgraded from an iPhone 8. The main issue with my 8 was battery and this phone is just awesome when it comes to battery. It lasts a day and a half for me with my regular use , internet connected always with 4g\\nCan’t move forward without saying this. Battery of this phone is a life saver when I am traveling or at work when I don’t get the option to charge\\nCamera is superb. Front cam selfies and back cam photos are just awesome.\\n...\\nREAD MORE',\n",
       " '*Review after 10 months of usage*\\nDoesn\\'t seem bulky with decent touch and camera. The \"standard maintained\" quality of IPhone. Go for it, if your budget is not more enough for pro models. It\\'s a value for money among the 11 series Stereo speakers are so good, you will love the stereo sound. Battery backup is not decent but still better than Iphone 7 and 8.Processor is fast, the phone doesn\\'t lag at all even with heavy games, waterproof, faster face id and with no fingerprint scanners. The ca...\\nREAD MORE',\n",
       " 'Awesome Phone. Slightly high price but worth. Better than iPhone XR.\\nCamera is superb and wide angle camera is very clear.\\n12MP selfie camera is also very good.\\nA13 Chip gives a very good and smooth performance.']"
      ]
     },
     "execution_count": 82,
     "metadata": {},
     "output_type": "execute_result"
    }
   ],
   "source": [
    "for page in range(0,10):\n",
    "    f = driver.find_elements_by_xpath(\"//div[@class='t-ZTKy']\")\n",
    "\n",
    "    for i in f:\n",
    "        title=i.text\n",
    "        Full_review.append(title)\n",
    "    driver.find_element_by_xpath(\"//nav[@class='yFHi8N']/a\").click()\n",
    "Full_review[0:100]"
   ]
  },
  {
   "cell_type": "code",
   "execution_count": 88,
   "metadata": {},
   "outputs": [
    {
     "data": {
      "text/html": [
       "<div>\n",
       "<style scoped>\n",
       "    .dataframe tbody tr th:only-of-type {\n",
       "        vertical-align: middle;\n",
       "    }\n",
       "\n",
       "    .dataframe tbody tr th {\n",
       "        vertical-align: top;\n",
       "    }\n",
       "\n",
       "    .dataframe thead th {\n",
       "        text-align: right;\n",
       "    }\n",
       "</style>\n",
       "<table border=\"1\" class=\"dataframe\">\n",
       "  <thead>\n",
       "    <tr style=\"text-align: right;\">\n",
       "      <th></th>\n",
       "      <th>Rating</th>\n",
       "      <th>Review Summary</th>\n",
       "      <th>Full Review</th>\n",
       "    </tr>\n",
       "  </thead>\n",
       "  <tbody>\n",
       "    <tr>\n",
       "      <th>0</th>\n",
       "      <td>5</td>\n",
       "      <td>Perfect product!</td>\n",
       "      <td>Amazing phone with great cameras and better ba...</td>\n",
       "    </tr>\n",
       "    <tr>\n",
       "      <th>1</th>\n",
       "      <td>5</td>\n",
       "      <td>Great product</td>\n",
       "      <td>Amazing Powerful and Durable Gadget.\\n\\nI’m am...</td>\n",
       "    </tr>\n",
       "    <tr>\n",
       "      <th>2</th>\n",
       "      <td>5</td>\n",
       "      <td>Highly recommended</td>\n",
       "      <td>iphone 11 is a very good phone to buy only if ...</td>\n",
       "    </tr>\n",
       "    <tr>\n",
       "      <th>3</th>\n",
       "      <td>5</td>\n",
       "      <td>Perfect product!</td>\n",
       "      <td>It’s a must buy who is looking for an upgrade ...</td>\n",
       "    </tr>\n",
       "    <tr>\n",
       "      <th>4</th>\n",
       "      <td>5</td>\n",
       "      <td>Brilliant</td>\n",
       "      <td>The Best Phone for the Money\\n\\nThe iPhone 11 ...</td>\n",
       "    </tr>\n",
       "    <tr>\n",
       "      <th>...</th>\n",
       "      <td>...</td>\n",
       "      <td>...</td>\n",
       "      <td>...</td>\n",
       "    </tr>\n",
       "    <tr>\n",
       "      <th>95</th>\n",
       "      <td>5</td>\n",
       "      <td>Perfect product!</td>\n",
       "      <td>Value for money❤️❤️\\nIts awesome mobile phone ...</td>\n",
       "    </tr>\n",
       "    <tr>\n",
       "      <th>96</th>\n",
       "      <td>5</td>\n",
       "      <td>Worth every penny</td>\n",
       "      <td>Best budget Iphone till date ❤️ go for it guys...</td>\n",
       "    </tr>\n",
       "    <tr>\n",
       "      <th>97</th>\n",
       "      <td>5</td>\n",
       "      <td>Worth every penny</td>\n",
       "      <td>It’s been almost a month since I have been usi...</td>\n",
       "    </tr>\n",
       "    <tr>\n",
       "      <th>98</th>\n",
       "      <td>5</td>\n",
       "      <td>Wonderful</td>\n",
       "      <td>*Review after 10 months of usage*\\nDoesn't see...</td>\n",
       "    </tr>\n",
       "    <tr>\n",
       "      <th>99</th>\n",
       "      <td>4</td>\n",
       "      <td>Nice product</td>\n",
       "      <td>Awesome Phone. Slightly high price but worth. ...</td>\n",
       "    </tr>\n",
       "  </tbody>\n",
       "</table>\n",
       "<p>100 rows × 3 columns</p>\n",
       "</div>"
      ],
      "text/plain": [
       "   Rating      Review Summary  \\\n",
       "0       5    Perfect product!   \n",
       "1       5       Great product   \n",
       "2       5  Highly recommended   \n",
       "3       5    Perfect product!   \n",
       "4       5           Brilliant   \n",
       "..    ...                 ...   \n",
       "95      5    Perfect product!   \n",
       "96      5   Worth every penny   \n",
       "97      5   Worth every penny   \n",
       "98      5           Wonderful   \n",
       "99      4        Nice product   \n",
       "\n",
       "                                          Full Review  \n",
       "0   Amazing phone with great cameras and better ba...  \n",
       "1   Amazing Powerful and Durable Gadget.\\n\\nI’m am...  \n",
       "2   iphone 11 is a very good phone to buy only if ...  \n",
       "3   It’s a must buy who is looking for an upgrade ...  \n",
       "4   The Best Phone for the Money\\n\\nThe iPhone 11 ...  \n",
       "..                                                ...  \n",
       "95  Value for money❤️❤️\\nIts awesome mobile phone ...  \n",
       "96  Best budget Iphone till date ❤️ go for it guys...  \n",
       "97  It’s been almost a month since I have been usi...  \n",
       "98  *Review after 10 months of usage*\\nDoesn't see...  \n",
       "99  Awesome Phone. Slightly high price but worth. ...  \n",
       "\n",
       "[100 rows x 3 columns]"
      ]
     },
     "execution_count": 88,
     "metadata": {},
     "output_type": "execute_result"
    }
   ],
   "source": [
    "import pandas as pd\n",
    "table=pd.DataFrame({})\n",
    "\n",
    "table['Rating']=Rating[:100]\n",
    "table['Review Summary']=Review_summary[:100]\n",
    "table['Full Review']=Full_review[:100]\n",
    "\n",
    "table"
   ]
  },
  {
   "cell_type": "markdown",
   "metadata": {},
   "source": [
    "# Q8"
   ]
  },
  {
   "cell_type": "code",
   "execution_count": 89,
   "metadata": {},
   "outputs": [],
   "source": [
    " driver = webdriver.Chrome(\"C:/Users/CHITRAK/Downloads/chromedriver.exe\")"
   ]
  },
  {
   "cell_type": "code",
   "execution_count": 90,
   "metadata": {},
   "outputs": [],
   "source": [
    " driver.get('https://www.flipkart.com/')"
   ]
  },
  {
   "cell_type": "code",
   "execution_count": 91,
   "metadata": {},
   "outputs": [],
   "source": [
    "s = driver.find_elements_by_xpath(\"//input[@class='_3704LK']\")\n",
    "s[0].send_keys('sneakers')"
   ]
  },
  {
   "cell_type": "code",
   "execution_count": 92,
   "metadata": {},
   "outputs": [],
   "source": [
    "search_btn = driver.find_elements_by_xpath(\"//div[@class='col-12-12 _2oO9oE']/button\")\n",
    "search_btn[0].click()"
   ]
  },
  {
   "cell_type": "code",
   "execution_count": 93,
   "metadata": {},
   "outputs": [],
   "source": [
    "url=\"https://www.flipkart.com/search?q=sneakers&otracker=search&otracker1=search&marketplace=FLIPKART&as-show=on&as=off\""
   ]
  },
  {
   "cell_type": "code",
   "execution_count": 94,
   "metadata": {},
   "outputs": [],
   "source": [
    "driver.get(url)"
   ]
  },
  {
   "cell_type": "code",
   "execution_count": 95,
   "metadata": {},
   "outputs": [],
   "source": [
    "Brand=[]\n",
    "Product_d=[]\n",
    "Price=[]\n",
    "Discount=[]"
   ]
  },
  {
   "cell_type": "code",
   "execution_count": 96,
   "metadata": {},
   "outputs": [
    {
     "data": {
      "text/plain": [
       "['Chevit',\n",
       " 'Robbie jones',\n",
       " 'World Wear Footwear',\n",
       " 'Shoes Bank',\n",
       " 'Oricum',\n",
       " 'Chevit',\n",
       " 'Magnolia',\n",
       " 'LeatherKraft',\n",
       " 'Rockfield',\n",
       " 'Axter',\n",
       " 'BRUTON',\n",
       " 'Chevit',\n",
       " 'Chevit',\n",
       " 'Stefano Rads',\n",
       " 'World Wear Footwear',\n",
       " 'Aura',\n",
       " 'Restinfoot',\n",
       " 'ZOVIM',\n",
       " 'D-SNEAKERZ',\n",
       " 'Red Rose',\n",
       " 'Fzzirok',\n",
       " 'Swiggy',\n",
       " 'Chevit',\n",
       " 'Believe',\n",
       " 'Hotstyle',\n",
       " 'Chevit',\n",
       " 'Echor',\n",
       " 'Sparx',\n",
       " 'T-Rock',\n",
       " 'luxury fashion',\n",
       " 'Echor',\n",
       " 'Chevit',\n",
       " 'Axter',\n",
       " 'Robbie jones',\n",
       " 'Kraasa',\n",
       " 'Rockfield',\n",
       " 'Chevit',\n",
       " 'Black Bottom',\n",
       " 'Zsyto',\n",
       " 'Wika',\n",
       " 'Chevit',\n",
       " 'Robbie jones',\n",
       " 'World Wear Footwear',\n",
       " 'Shoes Bank',\n",
       " 'Oricum',\n",
       " 'Chevit',\n",
       " 'Magnolia',\n",
       " 'LeatherKraft',\n",
       " 'Rockfield',\n",
       " 'Axter',\n",
       " 'BRUTON',\n",
       " 'Chevit',\n",
       " 'Chevit',\n",
       " 'Stefano Rads',\n",
       " 'World Wear Footwear',\n",
       " 'Aura',\n",
       " 'Restinfoot',\n",
       " 'ZOVIM',\n",
       " 'D-SNEAKERZ',\n",
       " 'Red Rose',\n",
       " 'Fzzirok',\n",
       " 'Swiggy',\n",
       " 'Chevit',\n",
       " 'Believe',\n",
       " 'Hotstyle',\n",
       " 'Chevit',\n",
       " 'Echor',\n",
       " 'Sparx',\n",
       " 'T-Rock',\n",
       " 'luxury fashion',\n",
       " 'Echor',\n",
       " 'Chevit',\n",
       " 'Axter',\n",
       " 'Robbie jones',\n",
       " 'Kraasa',\n",
       " 'Rockfield',\n",
       " 'Chevit',\n",
       " 'Black Bottom',\n",
       " 'Zsyto',\n",
       " 'Wika',\n",
       " 'Chevit',\n",
       " 'Robbie jones',\n",
       " 'World Wear Footwear',\n",
       " 'Shoes Bank',\n",
       " 'Oricum',\n",
       " 'Chevit',\n",
       " 'Magnolia',\n",
       " 'LeatherKraft',\n",
       " 'Rockfield',\n",
       " 'Axter',\n",
       " 'BRUTON',\n",
       " 'Chevit',\n",
       " 'Chevit',\n",
       " 'Stefano Rads',\n",
       " 'World Wear Footwear',\n",
       " 'Aura',\n",
       " 'Restinfoot',\n",
       " 'ZOVIM',\n",
       " 'D-SNEAKERZ',\n",
       " 'Red Rose']"
      ]
     },
     "execution_count": 96,
     "metadata": {},
     "output_type": "execute_result"
    }
   ],
   "source": [
    "for page in range(0,3):\n",
    "    b = driver.find_elements_by_xpath(\"//div[@class='_2WkVRV']\")\n",
    "\n",
    "    for i in b:\n",
    "        title=i.text\n",
    "        Brand.append(title)\n",
    "    driver.find_element_by_xpath(\"//nav[@class='yFHi8N']/a\").click()\n",
    "Brand[0:100]"
   ]
  },
  {
   "cell_type": "code",
   "execution_count": 101,
   "metadata": {},
   "outputs": [
    {
     "data": {
      "text/plain": [
       "['Combo Pack of 4 Casual Sneakers With Sneakers For Men',\n",
       " 'Combo Pack of 4 Latest Collection Stylish Casual Loafer...',\n",
       " \"White Sneaker For Men's/Boy's Sneakers For Men\",\n",
       " 'Combo pack of 2 casual sneaker shoes for men Sneakers F...',\n",
       " 'Chevit Trendy Fashion Sports Combo Pack of 3 Pairs Outd...',\n",
       " 'White Sneakers Sneakers For Men',\n",
       " 'Sneakers For Men',\n",
       " 'Sneakers For Men',\n",
       " 'Combo Pack of 2 Latest Collection Stylish Casual Loafer...',\n",
       " 'Combo Pack Of 4 Canvas Sneakers For Men',\n",
       " 'Smart Casuals Canvas Shoes Combo pack of 2 Sneakers For...',\n",
       " '171 Smart Tan Lace-Ups Casuals for Men Sneakers For Men',\n",
       " '5011-Latest Collection Stylish Casual Loafer Sneakers S...',\n",
       " 'Trendy and Stylish Combo Pack of 3 Casual Shoes Sneaker...',\n",
       " \"Casual shoes,Sneakers for men's,shoes for men's Sneaker...\",\n",
       " \"casual , Partywear Sneakers Shoes For Men's and Boys bl...\",\n",
       " \"Casual , Partywear Sneakers Shoes For Men's And Boys Wh...\",\n",
       " 'Sneakers For Men',\n",
       " 'Casual Loafers, Sneakers Shoes for Men Pack of 5 Combo(...',\n",
       " 'Speed Set of 5 Pairs Sneakers Outdoors Casuals for Men ...',\n",
       " 'Sneakers for men(black_7) Sneakers For Men',\n",
       " '170 Smart Grey Lace-Ups Casuals for Men Sneakers For Me...',\n",
       " 'HHM Sneakers For Men',\n",
       " 'Synthetic Leather Casual Partywear Wedding Sneakers Sho...',\n",
       " 'shoes for boys | sports shoes for men | Latest Stylish ...',\n",
       " 'Trendy Fashion Sports Combo Pack of 3 Pairs Outdoor Run...',\n",
       " 'Combo Pack of 2 Casual Loafer Sneakers Shoes Sneakers F...',\n",
       " 'Casuals, Canvas, Partywear Sneakers For Men',\n",
       " 'Sneakers For Men',\n",
       " '168 Smart Red Lace-Ups Casuals for Men Sneakers For Men',\n",
       " 'Fashion Outdoor Canvas Casual Light Weight Partywear Sn...',\n",
       " 'Sneakers For Men',\n",
       " 'Sneakers For Men',\n",
       " 'Combo Pack of 4 Casual Sneakers With Sneakers For Men',\n",
       " 'Combo Pack of 4 Latest Collection Stylish Casual Loafer...',\n",
       " \"White Sneaker For Men's/Boy's Sneakers For Men\",\n",
       " 'Combo pack of 2 casual sneaker shoes for men Sneakers F...',\n",
       " 'Chevit Trendy Fashion Sports Combo Pack of 3 Pairs Outd...',\n",
       " 'White Sneakers Sneakers For Men',\n",
       " 'Sneakers For Men',\n",
       " 'Sneakers For Men',\n",
       " 'Combo Pack of 2 Latest Collection Stylish Casual Loafer...',\n",
       " 'Combo Pack Of 4 Canvas Sneakers For Men',\n",
       " 'Smart Casuals Canvas Shoes Combo pack of 2 Sneakers For...',\n",
       " '171 Smart Tan Lace-Ups Casuals for Men Sneakers For Men',\n",
       " '5011-Latest Collection Stylish Casual Loafer Sneakers S...',\n",
       " 'Trendy and Stylish Combo Pack of 3 Casual Shoes Sneaker...',\n",
       " \"Casual shoes,Sneakers for men's,shoes for men's Sneaker...\",\n",
       " \"casual , Partywear Sneakers Shoes For Men's and Boys bl...\",\n",
       " \"Casual , Partywear Sneakers Shoes For Men's And Boys Wh...\",\n",
       " 'Sneakers For Men',\n",
       " 'Casual Loafers, Sneakers Shoes for Men Pack of 5 Combo(...',\n",
       " 'Speed Set of 5 Pairs Sneakers Outdoors Casuals for Men ...',\n",
       " 'Sneakers for men(black_7) Sneakers For Men',\n",
       " '170 Smart Grey Lace-Ups Casuals for Men Sneakers For Me...',\n",
       " 'HHM Sneakers For Men',\n",
       " 'Synthetic Leather Casual Partywear Wedding Sneakers Sho...',\n",
       " 'shoes for boys | sports shoes for men | Latest Stylish ...',\n",
       " 'Trendy Fashion Sports Combo Pack of 3 Pairs Outdoor Run...',\n",
       " 'Combo Pack of 2 Casual Loafer Sneakers Shoes Sneakers F...',\n",
       " 'Casuals, Canvas, Partywear Sneakers For Men',\n",
       " 'Sneakers For Men',\n",
       " '168 Smart Red Lace-Ups Casuals for Men Sneakers For Men',\n",
       " 'Fashion Outdoor Canvas Casual Light Weight Partywear Sn...',\n",
       " 'Sneakers For Men',\n",
       " 'Sneakers For Men',\n",
       " 'Combo Pack of 4 Casual Sneakers With Sneakers For Men',\n",
       " 'Combo Pack of 4 Latest Collection Stylish Casual Loafer...',\n",
       " \"White Sneaker For Men's/Boy's Sneakers For Men\",\n",
       " 'Combo pack of 2 casual sneaker shoes for men Sneakers F...',\n",
       " 'Chevit Trendy Fashion Sports Combo Pack of 3 Pairs Outd...',\n",
       " 'White Sneakers Sneakers For Men',\n",
       " 'Sneakers For Men',\n",
       " 'Sneakers For Men',\n",
       " 'Combo Pack of 2 Latest Collection Stylish Casual Loafer...',\n",
       " 'Combo Pack Of 4 Canvas Sneakers For Men',\n",
       " 'Smart Casuals Canvas Shoes Combo pack of 2 Sneakers For...',\n",
       " '171 Smart Tan Lace-Ups Casuals for Men Sneakers For Men',\n",
       " '5011-Latest Collection Stylish Casual Loafer Sneakers S...',\n",
       " 'Trendy and Stylish Combo Pack of 3 Casual Shoes Sneaker...',\n",
       " \"Casual shoes,Sneakers for men's,shoes for men's Sneaker...\",\n",
       " \"casual , Partywear Sneakers Shoes For Men's and Boys bl...\",\n",
       " \"Casual , Partywear Sneakers Shoes For Men's And Boys Wh...\",\n",
       " 'Sneakers For Men',\n",
       " 'Casual Loafers, Sneakers Shoes for Men Pack of 5 Combo(...',\n",
       " 'Speed Set of 5 Pairs Sneakers Outdoors Casuals for Men ...',\n",
       " 'Sneakers for men(black_7) Sneakers For Men',\n",
       " '170 Smart Grey Lace-Ups Casuals for Men Sneakers For Me...',\n",
       " 'HHM Sneakers For Men',\n",
       " 'Synthetic Leather Casual Partywear Wedding Sneakers Sho...',\n",
       " 'shoes for boys | sports shoes for men | Latest Stylish ...',\n",
       " 'Trendy Fashion Sports Combo Pack of 3 Pairs Outdoor Run...',\n",
       " 'Combo Pack of 2 Casual Loafer Sneakers Shoes Sneakers F...',\n",
       " 'Casuals, Canvas, Partywear Sneakers For Men',\n",
       " 'Sneakers For Men',\n",
       " '168 Smart Red Lace-Ups Casuals for Men Sneakers For Men',\n",
       " 'Fashion Outdoor Canvas Casual Light Weight Partywear Sn...',\n",
       " 'Sneakers For Men',\n",
       " 'Sneakers For Men',\n",
       " 'Combo Pack of 4 Casual Sneakers With Sneakers For Men']"
      ]
     },
     "execution_count": 101,
     "metadata": {},
     "output_type": "execute_result"
    }
   ],
   "source": [
    "for page in range(0,3):\n",
    "    p = driver.find_elements_by_xpath(\"//a[@class='IRpwTa']\")\n",
    "\n",
    "    for i in p:\n",
    "        title=i.text\n",
    "        Product_d.append(title)\n",
    "    driver.find_element_by_xpath(\"//nav[@class='yFHi8N']/a\").click()\n",
    "Product_d[0:100]"
   ]
  },
  {
   "cell_type": "code",
   "execution_count": 98,
   "metadata": {},
   "outputs": [
    {
     "data": {
      "text/plain": [
       "['₹449',\n",
       " '₹379',\n",
       " '₹474',\n",
       " '₹349',\n",
       " '₹398',\n",
       " '₹597',\n",
       " '₹348',\n",
       " '₹299',\n",
       " '₹379',\n",
       " '₹284',\n",
       " '₹499',\n",
       " '₹299',\n",
       " '₹249',\n",
       " '₹242',\n",
       " '₹228',\n",
       " '₹699',\n",
       " '₹369',\n",
       " '₹378',\n",
       " '₹368',\n",
       " '₹378',\n",
       " '₹420',\n",
       " '₹759',\n",
       " '₹799',\n",
       " '₹446',\n",
       " '₹203',\n",
       " '₹236',\n",
       " '₹601',\n",
       " '₹699',\n",
       " '₹379',\n",
       " '₹444',\n",
       " '₹601',\n",
       " '₹624',\n",
       " '₹299',\n",
       " '₹499',\n",
       " '₹474',\n",
       " '₹379',\n",
       " '₹236',\n",
       " '₹399',\n",
       " '₹345',\n",
       " '₹395',\n",
       " '₹449',\n",
       " '₹379',\n",
       " '₹474',\n",
       " '₹349',\n",
       " '₹398',\n",
       " '₹597',\n",
       " '₹348',\n",
       " '₹299',\n",
       " '₹379',\n",
       " '₹284',\n",
       " '₹499',\n",
       " '₹299',\n",
       " '₹249',\n",
       " '₹242',\n",
       " '₹228',\n",
       " '₹699',\n",
       " '₹369',\n",
       " '₹378',\n",
       " '₹368',\n",
       " '₹378',\n",
       " '₹420',\n",
       " '₹759',\n",
       " '₹799',\n",
       " '₹446',\n",
       " '₹203',\n",
       " '₹236',\n",
       " '₹601',\n",
       " '₹699',\n",
       " '₹379',\n",
       " '₹444',\n",
       " '₹601',\n",
       " '₹624',\n",
       " '₹299',\n",
       " '₹499',\n",
       " '₹474',\n",
       " '₹379',\n",
       " '₹236',\n",
       " '₹399',\n",
       " '₹345',\n",
       " '₹395',\n",
       " '₹449',\n",
       " '₹379',\n",
       " '₹474',\n",
       " '₹349',\n",
       " '₹398',\n",
       " '₹597',\n",
       " '₹348',\n",
       " '₹299',\n",
       " '₹379',\n",
       " '₹284',\n",
       " '₹499',\n",
       " '₹299',\n",
       " '₹249',\n",
       " '₹242',\n",
       " '₹228',\n",
       " '₹699',\n",
       " '₹369',\n",
       " '₹378',\n",
       " '₹368',\n",
       " '₹378']"
      ]
     },
     "execution_count": 98,
     "metadata": {},
     "output_type": "execute_result"
    }
   ],
   "source": [
    "for page in range(0,3):\n",
    "    pr = driver.find_elements_by_xpath(\"//div[@class='_30jeq3']\")\n",
    "\n",
    "    for i in pr:\n",
    "        title=i.text\n",
    "        Price.append(title)\n",
    "    driver.find_element_by_xpath(\"//nav[@class='yFHi8N']/a\").click()\n",
    "Price[0:100]"
   ]
  },
  {
   "cell_type": "code",
   "execution_count": 99,
   "metadata": {},
   "outputs": [
    {
     "data": {
      "text/plain": [
       "['77% off',\n",
       " '62% off',\n",
       " '76% off',\n",
       " '65% off',\n",
       " '60% off',\n",
       " '66% off',\n",
       " '65% off',\n",
       " '70% off',\n",
       " '62% off',\n",
       " '71% off',\n",
       " '85% off',\n",
       " '70% off',\n",
       " '50% off',\n",
       " '65% off',\n",
       " '54% off',\n",
       " '53% off',\n",
       " '63% off',\n",
       " '62% off',\n",
       " '44% off',\n",
       " '62% off',\n",
       " '57% off',\n",
       " '69% off',\n",
       " '67% off',\n",
       " '55% off',\n",
       " '59% off',\n",
       " '52% off',\n",
       " '39% off',\n",
       " '62% off',\n",
       " '85% off',\n",
       " '39% off',\n",
       " '65% off',\n",
       " '70% off',\n",
       " '50% off',\n",
       " '52% off',\n",
       " '62% off',\n",
       " '52% off',\n",
       " '60% off',\n",
       " '73% off',\n",
       " '60% off',\n",
       " '77% off',\n",
       " '62% off',\n",
       " '76% off',\n",
       " '65% off',\n",
       " '60% off',\n",
       " '66% off',\n",
       " '65% off',\n",
       " '70% off',\n",
       " '62% off',\n",
       " '71% off',\n",
       " '85% off',\n",
       " '70% off',\n",
       " '50% off',\n",
       " '65% off',\n",
       " '54% off',\n",
       " '53% off',\n",
       " '63% off',\n",
       " '62% off',\n",
       " '44% off',\n",
       " '62% off',\n",
       " '57% off',\n",
       " '69% off',\n",
       " '67% off',\n",
       " '55% off',\n",
       " '59% off',\n",
       " '52% off',\n",
       " '39% off',\n",
       " '62% off',\n",
       " '85% off',\n",
       " '39% off',\n",
       " '65% off',\n",
       " '70% off',\n",
       " '50% off',\n",
       " '52% off',\n",
       " '62% off',\n",
       " '52% off',\n",
       " '60% off',\n",
       " '73% off',\n",
       " '60% off',\n",
       " '77% off',\n",
       " '62% off',\n",
       " '76% off',\n",
       " '65% off',\n",
       " '60% off',\n",
       " '66% off',\n",
       " '65% off',\n",
       " '70% off',\n",
       " '62% off',\n",
       " '71% off',\n",
       " '85% off',\n",
       " '70% off',\n",
       " '50% off',\n",
       " '65% off',\n",
       " '54% off',\n",
       " '53% off',\n",
       " '63% off',\n",
       " '62% off',\n",
       " '44% off',\n",
       " '62% off',\n",
       " '57% off',\n",
       " '69% off']"
      ]
     },
     "execution_count": 99,
     "metadata": {},
     "output_type": "execute_result"
    }
   ],
   "source": [
    "for page in range(0,3):\n",
    "    d = driver.find_elements_by_xpath(\"//div[@class='_3Ay6Sb']\")\n",
    "\n",
    "    for i in d:\n",
    "        title=i.text\n",
    "        Discount.append(title)\n",
    "    driver.find_element_by_xpath(\"//nav[@class='yFHi8N']/a\").click()\n",
    "Discount[0:100]"
   ]
  },
  {
   "cell_type": "code",
   "execution_count": 102,
   "metadata": {},
   "outputs": [
    {
     "data": {
      "text/html": [
       "<div>\n",
       "<style scoped>\n",
       "    .dataframe tbody tr th:only-of-type {\n",
       "        vertical-align: middle;\n",
       "    }\n",
       "\n",
       "    .dataframe tbody tr th {\n",
       "        vertical-align: top;\n",
       "    }\n",
       "\n",
       "    .dataframe thead th {\n",
       "        text-align: right;\n",
       "    }\n",
       "</style>\n",
       "<table border=\"1\" class=\"dataframe\">\n",
       "  <thead>\n",
       "    <tr style=\"text-align: right;\">\n",
       "      <th></th>\n",
       "      <th>Brand</th>\n",
       "      <th>Product Description</th>\n",
       "      <th>Price</th>\n",
       "      <th>Discount</th>\n",
       "    </tr>\n",
       "  </thead>\n",
       "  <tbody>\n",
       "    <tr>\n",
       "      <th>0</th>\n",
       "      <td>Chevit</td>\n",
       "      <td>Combo Pack of 4 Casual Sneakers With Sneakers ...</td>\n",
       "      <td>₹449</td>\n",
       "      <td>77% off</td>\n",
       "    </tr>\n",
       "    <tr>\n",
       "      <th>1</th>\n",
       "      <td>Robbie jones</td>\n",
       "      <td>Combo Pack of 4 Latest Collection Stylish Casu...</td>\n",
       "      <td>₹379</td>\n",
       "      <td>62% off</td>\n",
       "    </tr>\n",
       "    <tr>\n",
       "      <th>2</th>\n",
       "      <td>World Wear Footwear</td>\n",
       "      <td>White Sneaker For Men's/Boy's Sneakers For Men</td>\n",
       "      <td>₹474</td>\n",
       "      <td>76% off</td>\n",
       "    </tr>\n",
       "    <tr>\n",
       "      <th>3</th>\n",
       "      <td>Shoes Bank</td>\n",
       "      <td>Combo pack of 2 casual sneaker shoes for men S...</td>\n",
       "      <td>₹349</td>\n",
       "      <td>65% off</td>\n",
       "    </tr>\n",
       "    <tr>\n",
       "      <th>4</th>\n",
       "      <td>Oricum</td>\n",
       "      <td>Chevit Trendy Fashion Sports Combo Pack of 3 P...</td>\n",
       "      <td>₹398</td>\n",
       "      <td>60% off</td>\n",
       "    </tr>\n",
       "    <tr>\n",
       "      <th>...</th>\n",
       "      <td>...</td>\n",
       "      <td>...</td>\n",
       "      <td>...</td>\n",
       "      <td>...</td>\n",
       "    </tr>\n",
       "    <tr>\n",
       "      <th>95</th>\n",
       "      <td>Aura</td>\n",
       "      <td>168 Smart Red Lace-Ups Casuals for Men Sneaker...</td>\n",
       "      <td>₹699</td>\n",
       "      <td>62% off</td>\n",
       "    </tr>\n",
       "    <tr>\n",
       "      <th>96</th>\n",
       "      <td>Restinfoot</td>\n",
       "      <td>Fashion Outdoor Canvas Casual Light Weight Par...</td>\n",
       "      <td>₹369</td>\n",
       "      <td>44% off</td>\n",
       "    </tr>\n",
       "    <tr>\n",
       "      <th>97</th>\n",
       "      <td>ZOVIM</td>\n",
       "      <td>Sneakers For Men</td>\n",
       "      <td>₹378</td>\n",
       "      <td>62% off</td>\n",
       "    </tr>\n",
       "    <tr>\n",
       "      <th>98</th>\n",
       "      <td>D-SNEAKERZ</td>\n",
       "      <td>Sneakers For Men</td>\n",
       "      <td>₹368</td>\n",
       "      <td>57% off</td>\n",
       "    </tr>\n",
       "    <tr>\n",
       "      <th>99</th>\n",
       "      <td>Red Rose</td>\n",
       "      <td>Combo Pack of 4 Casual Sneakers With Sneakers ...</td>\n",
       "      <td>₹378</td>\n",
       "      <td>69% off</td>\n",
       "    </tr>\n",
       "  </tbody>\n",
       "</table>\n",
       "<p>100 rows × 4 columns</p>\n",
       "</div>"
      ],
      "text/plain": [
       "                  Brand                                Product Description  \\\n",
       "0                Chevit  Combo Pack of 4 Casual Sneakers With Sneakers ...   \n",
       "1          Robbie jones  Combo Pack of 4 Latest Collection Stylish Casu...   \n",
       "2   World Wear Footwear     White Sneaker For Men's/Boy's Sneakers For Men   \n",
       "3            Shoes Bank  Combo pack of 2 casual sneaker shoes for men S...   \n",
       "4                Oricum  Chevit Trendy Fashion Sports Combo Pack of 3 P...   \n",
       "..                  ...                                                ...   \n",
       "95                 Aura  168 Smart Red Lace-Ups Casuals for Men Sneaker...   \n",
       "96           Restinfoot  Fashion Outdoor Canvas Casual Light Weight Par...   \n",
       "97                ZOVIM                                   Sneakers For Men   \n",
       "98           D-SNEAKERZ                                   Sneakers For Men   \n",
       "99             Red Rose  Combo Pack of 4 Casual Sneakers With Sneakers ...   \n",
       "\n",
       "   Price Discount  \n",
       "0   ₹449  77% off  \n",
       "1   ₹379  62% off  \n",
       "2   ₹474  76% off  \n",
       "3   ₹349  65% off  \n",
       "4   ₹398  60% off  \n",
       "..   ...      ...  \n",
       "95  ₹699  62% off  \n",
       "96  ₹369  44% off  \n",
       "97  ₹378  62% off  \n",
       "98  ₹368  57% off  \n",
       "99  ₹378  69% off  \n",
       "\n",
       "[100 rows x 4 columns]"
      ]
     },
     "execution_count": 102,
     "metadata": {},
     "output_type": "execute_result"
    }
   ],
   "source": [
    "import pandas as pd\n",
    "table=pd.DataFrame({})\n",
    "\n",
    "table['Brand']=Brand[:100]\n",
    "table['Product Description']=Product_d[:100]\n",
    "table['Price']=Price[:100]\n",
    "table['Discount']=Discount[0:100]\n",
    "\n",
    "table"
   ]
  },
  {
   "cell_type": "markdown",
   "metadata": {},
   "source": [
    "# Q9"
   ]
  },
  {
   "cell_type": "code",
   "execution_count": 168,
   "metadata": {},
   "outputs": [],
   "source": [
    " driver = webdriver.Chrome(\"C:/Users/CHITRAK/Downloads/chromedriver.exe\")"
   ]
  },
  {
   "cell_type": "code",
   "execution_count": 169,
   "metadata": {},
   "outputs": [],
   "source": [
    " driver.get('https://www.myntra.com/shoes')"
   ]
  },
  {
   "cell_type": "code",
   "execution_count": 170,
   "metadata": {},
   "outputs": [],
   "source": [
    "driver.find_element_by_xpath(\"//input[@value='6589.0 TO 13059.0']\").click()"
   ]
  },
  {
   "cell_type": "code",
   "execution_count": 171,
   "metadata": {},
   "outputs": [],
   "source": [
    "driver.find_element_by_xpath(\"//span[@data-colorhex='black']\").click()"
   ]
  },
  {
   "cell_type": "code",
   "execution_count": 172,
   "metadata": {},
   "outputs": [],
   "source": [
    "Brand=[]\n",
    "Product_d=[]\n",
    "Price=[]"
   ]
  },
  {
   "cell_type": "code",
   "execution_count": 175,
   "metadata": {},
   "outputs": [
    {
     "data": {
      "text/plain": [
       "['Puma',\n",
       " 'Nike',\n",
       " 'ADIDAS Originals',\n",
       " 'Nike',\n",
       " 'Cole Haan',\n",
       " 'ADIDAS',\n",
       " 'Nike',\n",
       " 'Nike',\n",
       " 'Nike',\n",
       " 'Nike',\n",
       " 'Nike',\n",
       " 'ADIDAS Originals',\n",
       " 'ADIDAS Originals',\n",
       " 'Geox',\n",
       " 'Geox',\n",
       " 'Nike',\n",
       " 'ADIDAS Originals',\n",
       " 'Hush Puppies',\n",
       " 'Nike',\n",
       " 'Puma',\n",
       " 'UNDER ARMOUR',\n",
       " 'Hush Puppies',\n",
       " 'ADIDAS Originals',\n",
       " 'Hush Puppies',\n",
       " 'ADIDAS Originals',\n",
       " 'Cole Haan',\n",
       " 'Nike',\n",
       " 'Nike',\n",
       " 'Geox',\n",
       " 'Geox',\n",
       " 'ADIDAS Originals',\n",
       " 'Geox',\n",
       " 'Hush Puppies',\n",
       " 'ADIDAS',\n",
       " 'Geox',\n",
       " 'Geox',\n",
       " 'Nike',\n",
       " 'Kenneth Cole',\n",
       " 'Cole Haan',\n",
       " 'Cole Haan',\n",
       " 'Cole Haan',\n",
       " 'Heel & Buckle London',\n",
       " 'Geox',\n",
       " 'UNDER ARMOUR',\n",
       " 'Cole Haan',\n",
       " 'Nike',\n",
       " 'Nike',\n",
       " 'Geox',\n",
       " 'Puma',\n",
       " 'ADIDAS Originals',\n",
       " 'Puma',\n",
       " 'Nike',\n",
       " 'ADIDAS Originals',\n",
       " 'Nike',\n",
       " 'Cole Haan',\n",
       " 'ADIDAS',\n",
       " 'Cole Haan',\n",
       " 'ADIDAS Originals',\n",
       " 'Geox',\n",
       " 'Hush Puppies',\n",
       " 'ADIDAS Originals',\n",
       " 'Cole Haan',\n",
       " 'Hush Puppies',\n",
       " 'Hush Puppies',\n",
       " 'Geox',\n",
       " 'UNDER ARMOUR',\n",
       " 'Saint G',\n",
       " 'Puma',\n",
       " 'Heel & Buckle London',\n",
       " 'Geox',\n",
       " 'Cole Haan',\n",
       " 'Kenneth Cole',\n",
       " 'Puma',\n",
       " 'ADIDAS',\n",
       " 'Ruosh',\n",
       " 'Puma',\n",
       " 'Reebok',\n",
       " 'Reebok',\n",
       " 'Hush Puppies',\n",
       " 'Saint G',\n",
       " 'UNDER ARMOUR',\n",
       " 'Cole Haan',\n",
       " 'UNDER ARMOUR',\n",
       " 'Reebok',\n",
       " 'Ruosh',\n",
       " 'Geox',\n",
       " 'UNDER ARMOUR',\n",
       " 'UNDER ARMOUR',\n",
       " 'UNDER ARMOUR',\n",
       " 'UNDER ARMOUR',\n",
       " 'UNDER ARMOUR',\n",
       " 'UNDER ARMOUR',\n",
       " 'Ruosh',\n",
       " 'FILA',\n",
       " 'UNDER ARMOUR',\n",
       " 'Geox',\n",
       " 'Hush Puppies',\n",
       " 'Geox',\n",
       " 'Ruosh',\n",
       " 'Heel & Buckle London']"
      ]
     },
     "execution_count": 175,
     "metadata": {},
     "output_type": "execute_result"
    }
   ],
   "source": [
    "for page in range(0,3):\n",
    "    b = driver.find_elements_by_xpath(\"//div[@class='product-productMetaInfo']\")\n",
    "\n",
    "    for i in b:\n",
    "        title=i.text\n",
    "        Brand.append(title)\n",
    "    driver.find_element_by_xpath(\"//li[@class='pagination-number']/a\").click()\n",
    "Brand[0:100]"
   ]
  },
  {
   "cell_type": "code",
   "execution_count": 177,
   "metadata": {},
   "outputs": [
    {
     "data": {
      "text/plain": [
       "['Men HYBRID NETFIT Running Shoe',\n",
       " 'PEGASUS FLYEASE Running Shoes',\n",
       " 'Men NITE JOGGER Sneakers',\n",
       " 'Men Formal Leather Brogues',\n",
       " 'Men Superstar Sneakers',\n",
       " 'Men JORDAN DELTA Basketball',\n",
       " 'Men SOLAR DRIVE 19 M Running',\n",
       " 'Men React Infinity Running',\n",
       " 'Men DANNY LC Sneakers',\n",
       " 'Men AIR ZOOM VOMERO Running',\n",
       " 'Men JOYRIDE Running Shoes',\n",
       " 'AIR ZOOM PEGASUS Running Shoes',\n",
       " 'Men Solid Leather Sneakers',\n",
       " 'Women PEGASUS 37 Running Shoes',\n",
       " 'Men Nite Jogger Fluid Sneakers',\n",
       " 'Men AIR MAX 90 Sneakers',\n",
       " 'Men Solid Leather Formal Slip-Ons',\n",
       " 'Women AIR ZOOM Running Shoes',\n",
       " 'Men SPEED 500 2 Running Shoes',\n",
       " 'HOVR Guardian 2 Sports Shoes',\n",
       " 'Women Leather Sneakers',\n",
       " 'Men Colourblocked Driving Shoes',\n",
       " 'Men Leather Slip-On Sneakers',\n",
       " 'Men YUNG-1 Sneakers',\n",
       " 'Women REACT Running Shoes',\n",
       " 'Men Superstar Vegan Sneakers',\n",
       " 'Men Leather Driving Shoes',\n",
       " 'Men AIR ZOOM Running Shoes',\n",
       " 'Men Solid NMD_R1 Sneakers',\n",
       " 'Men Solid Slip-On Sneakers',\n",
       " 'Men ALPHATORSION Running Shoes',\n",
       " 'Men KD13 EP Basketball Shoes',\n",
       " 'Men Leather Formal Derbys',\n",
       " 'Men GENERATION ZEROGRAND STITCHLITE',\n",
       " 'Men Leather Sneakers',\n",
       " 'Men Leather Driving Shoes',\n",
       " 'Men Solid Leather Sneakers',\n",
       " 'Men Leather Formal Oxfords',\n",
       " 'Men Leather Formal Oxfords',\n",
       " 'Men Leather Formal Oxfords',\n",
       " 'Women DEERUPT Runner Sneakers',\n",
       " 'Men HOVR Strt Walking Shoes',\n",
       " 'Women AIR MAX VERONA Sneakers',\n",
       " 'Men JORDAN DELTA Sneakers',\n",
       " 'Leather Sneakers',\n",
       " 'SPEED Orbiter Running Shoes',\n",
       " 'Men Traveller Leather Penny Loafers',\n",
       " 'Women Solid Flat Boots',\n",
       " 'Men Wingtip Oxford Sneakers',\n",
       " 'Men Solid Leather Formal Slip-Ons',\n",
       " '',\n",
       " 'PEGASUS FLYEASE Running Shoes',\n",
       " 'PEGASUS FLYEASE Running Shoes',\n",
       " 'PEGASUS FLYEASE Running Shoes',\n",
       " 'PEGASUS FLYEASE Running Shoes',\n",
       " 'PEGASUS FLYEASE Running Shoes',\n",
       " 'PEGASUS FLYEASE Running Shoes',\n",
       " 'PEGASUS FLYEASE Running Shoes',\n",
       " 'PEGASUS FLYEASE Running Shoes',\n",
       " 'PEGASUS FLYEASE Running Shoes',\n",
       " 'PEGASUS FLYEASE Running Shoes',\n",
       " 'PEGASUS FLYEASE Running Shoes',\n",
       " 'PEGASUS FLYEASE Running Shoes',\n",
       " 'PEGASUS FLYEASE Running Shoes',\n",
       " 'PEGASUS FLYEASE Running Shoes',\n",
       " 'PEGASUS FLYEASE Running Shoes',\n",
       " 'PEGASUS FLYEASE Running Shoes',\n",
       " 'PEGASUS FLYEASE Running Shoes',\n",
       " 'PEGASUS FLYEASE Running Shoes',\n",
       " 'PEGASUS FLYEASE Running Shoes',\n",
       " 'PEGASUS FLYEASE Running Shoes',\n",
       " 'PEGASUS FLYEASE Running Shoes',\n",
       " 'PEGASUS FLYEASE Running Shoes',\n",
       " 'PEGASUS FLYEASE Running Shoes',\n",
       " 'PEGASUS FLYEASE Running Shoes',\n",
       " 'PEGASUS FLYEASE Running Shoes',\n",
       " 'PEGASUS FLYEASE Running Shoes',\n",
       " 'PEGASUS FLYEASE Running Shoes',\n",
       " 'PEGASUS FLYEASE Running Shoes',\n",
       " 'PEGASUS FLYEASE Running Shoes',\n",
       " 'PEGASUS FLYEASE Running Shoes',\n",
       " 'PEGASUS FLYEASE Running Shoes',\n",
       " 'PEGASUS FLYEASE Running Shoes',\n",
       " 'PEGASUS FLYEASE Running Shoes',\n",
       " 'PEGASUS FLYEASE Running Shoes',\n",
       " 'PEGASUS FLYEASE Running Shoes',\n",
       " 'PEGASUS FLYEASE Running Shoes',\n",
       " 'PEGASUS FLYEASE Running Shoes',\n",
       " 'PEGASUS FLYEASE Running Shoes',\n",
       " 'PEGASUS FLYEASE Running Shoes',\n",
       " 'PEGASUS FLYEASE Running Shoes',\n",
       " 'PEGASUS FLYEASE Running Shoes',\n",
       " 'PEGASUS FLYEASE Running Shoes',\n",
       " 'PEGASUS FLYEASE Running Shoes',\n",
       " 'PEGASUS FLYEASE Running Shoes',\n",
       " 'PEGASUS FLYEASE Running Shoes',\n",
       " 'PEGASUS FLYEASE Running Shoes',\n",
       " 'PEGASUS FLYEASE Running Shoes',\n",
       " 'PEGASUS FLYEASE Running Shoes',\n",
       " 'PEGASUS FLYEASE Running Shoes']"
      ]
     },
     "execution_count": 177,
     "metadata": {},
     "output_type": "execute_result"
    }
   ],
   "source": [
    "for page in range(0,3):\n",
    "    p = driver.find_elements_by_xpath(\"//h4[@class='product-product']\")\n",
    "\n",
    "    for i in p:\n",
    "        Product_d.append(title)\n",
    "    driver.find_element_by_xpath(\"//li[@class='pagination-number']/a\").click()\n",
    "Product_d[0:100]"
   ]
  },
  {
   "cell_type": "code",
   "execution_count": 186,
   "metadata": {},
   "outputs": [
    {
     "data": {
      "text/plain": [
       "['Rs. 6599',\n",
       " 'Rs. 10399',\n",
       " 'Rs. 7496',\n",
       " 'Rs. 8399',\n",
       " 'Rs. 11931',\n",
       " 'Rs. 6819',\n",
       " 'Rs. 10796',\n",
       " 'Rs. 11996',\n",
       " 'Rs. 6799',\n",
       " 'Rs. 8621',\n",
       " 'Rs. 7996',\n",
       " 'Rs. 9099',\n",
       " 'Rs. 7927',\n",
       " 'Rs. 7496',\n",
       " 'Rs. 7999',\n",
       " 'Rs. 7199',\n",
       " 'Rs. 11199',\n",
       " 'Rs. 8799',\n",
       " 'Rs. 8636',\n",
       " 'Rs. 7721',\n",
       " 'Rs. 7499',\n",
       " 'Rs. 9513',\n",
       " 'Rs. 9746',\n",
       " 'Rs. 9999',\n",
       " 'Rs. 8499',\n",
       " 'Rs. 7693',\n",
       " 'Rs. 7496',\n",
       " 'Rs. 8796',\n",
       " 'Rs. 9749',\n",
       " 'Rs. 8499',\n",
       " 'Rs. 7199',\n",
       " 'Rs. 10399',\n",
       " 'Rs. 7192',\n",
       " 'Rs. 7499',\n",
       " 'Rs. 7499',\n",
       " 'Rs. 6749',\n",
       " 'Rs. 6999',\n",
       " 'Rs. 7413',\n",
       " 'Rs. 8499',\n",
       " 'Rs. 7400',\n",
       " 'Rs. 9349',\n",
       " 'Rs. 9349',\n",
       " 'Rs. 6599',\n",
       " 'Rs. 10399',\n",
       " 'Rs. 7496',\n",
       " 'Rs. 8399',\n",
       " 'Rs. 11931',\n",
       " 'Rs. 6819',\n",
       " 'Rs. 10796',\n",
       " 'Rs. 11996',\n",
       " 'Rs. 6799',\n",
       " 'Rs. 8621',\n",
       " 'Rs. 7996',\n",
       " 'Rs. 9099',\n",
       " 'Rs. 7927',\n",
       " 'Rs. 7496',\n",
       " 'Rs. 7999',\n",
       " 'Rs. 7199',\n",
       " 'Rs. 11199',\n",
       " 'Rs. 8799',\n",
       " 'Rs. 8636',\n",
       " 'Rs. 7721',\n",
       " 'Rs. 7499',\n",
       " 'Rs. 9513',\n",
       " 'Rs. 9746',\n",
       " 'Rs. 9999',\n",
       " 'Rs. 8499',\n",
       " 'Rs. 7693',\n",
       " 'Rs. 7496',\n",
       " 'Rs. 8796',\n",
       " 'Rs. 9749',\n",
       " 'Rs. 8499',\n",
       " 'Rs. 7199',\n",
       " 'Rs. 10399',\n",
       " 'Rs. 7192',\n",
       " 'Rs. 7499',\n",
       " 'Rs. 7499',\n",
       " 'Rs. 6749',\n",
       " 'Rs. 6999',\n",
       " 'Rs. 7413',\n",
       " 'Rs. 8499',\n",
       " 'Rs. 7400',\n",
       " 'Rs. 9349',\n",
       " 'Rs. 9349',\n",
       " 'Rs. 6599',\n",
       " 'Rs. 10399',\n",
       " 'Rs. 7496',\n",
       " 'Rs. 8399',\n",
       " 'Rs. 11931',\n",
       " 'Rs. 6819',\n",
       " 'Rs. 10796',\n",
       " 'Rs. 11996',\n",
       " 'Rs. 6799',\n",
       " 'Rs. 8621',\n",
       " 'Rs. 7996',\n",
       " 'Rs. 9099',\n",
       " 'Rs. 7927',\n",
       " 'Rs. 7496',\n",
       " 'Rs. 7999',\n",
       " 'Rs. 7199']"
      ]
     },
     "execution_count": 186,
     "metadata": {},
     "output_type": "execute_result"
    }
   ],
   "source": [
    "for page in range(0,3):\n",
    "    pr = driver.find_elements_by_xpath(\"//span[@class='product-discountedPrice']\")\n",
    "\n",
    "    for i in pr:\n",
    "        title=i.text\n",
    "        Price.append(title)\n",
    "    driver.find_element_by_xpath(\"//li[@class='pagination-number']/a\").click()\n",
    "Price[0:100]"
   ]
  },
  {
   "cell_type": "code",
   "execution_count": 187,
   "metadata": {},
   "outputs": [
    {
     "data": {
      "text/html": [
       "<div>\n",
       "<style scoped>\n",
       "    .dataframe tbody tr th:only-of-type {\n",
       "        vertical-align: middle;\n",
       "    }\n",
       "\n",
       "    .dataframe tbody tr th {\n",
       "        vertical-align: top;\n",
       "    }\n",
       "\n",
       "    .dataframe thead th {\n",
       "        text-align: right;\n",
       "    }\n",
       "</style>\n",
       "<table border=\"1\" class=\"dataframe\">\n",
       "  <thead>\n",
       "    <tr style=\"text-align: right;\">\n",
       "      <th></th>\n",
       "      <th>Brand</th>\n",
       "      <th>Product Description</th>\n",
       "      <th>Price</th>\n",
       "    </tr>\n",
       "  </thead>\n",
       "  <tbody>\n",
       "    <tr>\n",
       "      <th>0</th>\n",
       "      <td>Puma</td>\n",
       "      <td>Men HYBRID NETFIT Running Shoe</td>\n",
       "      <td>Rs. 6599</td>\n",
       "    </tr>\n",
       "    <tr>\n",
       "      <th>1</th>\n",
       "      <td>Nike</td>\n",
       "      <td>PEGASUS FLYEASE Running Shoes</td>\n",
       "      <td>Rs. 10399</td>\n",
       "    </tr>\n",
       "    <tr>\n",
       "      <th>2</th>\n",
       "      <td>ADIDAS Originals</td>\n",
       "      <td>Men NITE JOGGER Sneakers</td>\n",
       "      <td>Rs. 7496</td>\n",
       "    </tr>\n",
       "    <tr>\n",
       "      <th>3</th>\n",
       "      <td>Nike</td>\n",
       "      <td>Men Formal Leather Brogues</td>\n",
       "      <td>Rs. 8399</td>\n",
       "    </tr>\n",
       "    <tr>\n",
       "      <th>4</th>\n",
       "      <td>Cole Haan</td>\n",
       "      <td>Men Superstar Sneakers</td>\n",
       "      <td>Rs. 11931</td>\n",
       "    </tr>\n",
       "    <tr>\n",
       "      <th>...</th>\n",
       "      <td>...</td>\n",
       "      <td>...</td>\n",
       "      <td>...</td>\n",
       "    </tr>\n",
       "    <tr>\n",
       "      <th>95</th>\n",
       "      <td>Geox</td>\n",
       "      <td>PEGASUS FLYEASE Running Shoes</td>\n",
       "      <td>Rs. 9099</td>\n",
       "    </tr>\n",
       "    <tr>\n",
       "      <th>96</th>\n",
       "      <td>Hush Puppies</td>\n",
       "      <td>PEGASUS FLYEASE Running Shoes</td>\n",
       "      <td>Rs. 7927</td>\n",
       "    </tr>\n",
       "    <tr>\n",
       "      <th>97</th>\n",
       "      <td>Geox</td>\n",
       "      <td>PEGASUS FLYEASE Running Shoes</td>\n",
       "      <td>Rs. 7496</td>\n",
       "    </tr>\n",
       "    <tr>\n",
       "      <th>98</th>\n",
       "      <td>Ruosh</td>\n",
       "      <td>PEGASUS FLYEASE Running Shoes</td>\n",
       "      <td>Rs. 7999</td>\n",
       "    </tr>\n",
       "    <tr>\n",
       "      <th>99</th>\n",
       "      <td>Heel &amp; Buckle London</td>\n",
       "      <td>PEGASUS FLYEASE Running Shoes</td>\n",
       "      <td>Rs. 7199</td>\n",
       "    </tr>\n",
       "  </tbody>\n",
       "</table>\n",
       "<p>100 rows × 3 columns</p>\n",
       "</div>"
      ],
      "text/plain": [
       "                   Brand             Product Description      Price\n",
       "0                   Puma  Men HYBRID NETFIT Running Shoe   Rs. 6599\n",
       "1                   Nike   PEGASUS FLYEASE Running Shoes  Rs. 10399\n",
       "2       ADIDAS Originals        Men NITE JOGGER Sneakers   Rs. 7496\n",
       "3                   Nike      Men Formal Leather Brogues   Rs. 8399\n",
       "4              Cole Haan          Men Superstar Sneakers  Rs. 11931\n",
       "..                   ...                             ...        ...\n",
       "95                  Geox   PEGASUS FLYEASE Running Shoes   Rs. 9099\n",
       "96          Hush Puppies   PEGASUS FLYEASE Running Shoes   Rs. 7927\n",
       "97                  Geox   PEGASUS FLYEASE Running Shoes   Rs. 7496\n",
       "98                 Ruosh   PEGASUS FLYEASE Running Shoes   Rs. 7999\n",
       "99  Heel & Buckle London   PEGASUS FLYEASE Running Shoes   Rs. 7199\n",
       "\n",
       "[100 rows x 3 columns]"
      ]
     },
     "execution_count": 187,
     "metadata": {},
     "output_type": "execute_result"
    }
   ],
   "source": [
    "import pandas as pd\n",
    "table=pd.DataFrame({})\n",
    "\n",
    "table['Brand']=Brand[:100]\n",
    "table['Product Description']=Product_d[:100]\n",
    "table['Price']=Price[:100]\n",
    "\n",
    "table"
   ]
  },
  {
   "cell_type": "markdown",
   "metadata": {},
   "source": [
    "# Q10"
   ]
  },
  {
   "cell_type": "code",
   "execution_count": 271,
   "metadata": {},
   "outputs": [],
   "source": [
    " driver = webdriver.Chrome(\"C:/Users/CHITRAK/Downloads/chromedriver.exe\")"
   ]
  },
  {
   "cell_type": "code",
   "execution_count": 272,
   "metadata": {},
   "outputs": [],
   "source": [
    " driver.get('https://www.amazon.in/')"
   ]
  },
  {
   "cell_type": "code",
   "execution_count": 273,
   "metadata": {},
   "outputs": [],
   "source": [
    "s = driver.find_element_by_id('twotabsearchtextbox')\n",
    "s.send_keys(\"Laptop\")"
   ]
  },
  {
   "cell_type": "code",
   "execution_count": 274,
   "metadata": {},
   "outputs": [],
   "source": [
    "search_btn = driver.find_elements_by_xpath(\"//div[@class='nav-search-submit nav-sprite']/span\")\n",
    "search_btn[0].click()"
   ]
  },
  {
   "cell_type": "code",
   "execution_count": 275,
   "metadata": {},
   "outputs": [],
   "source": [
    "driver.find_element_by_xpath(\"//a[@href='/s?k=Laptop&rh=n%3A1375424031%2Cp_n_feature_thirteen_browse-bin%3A12598163031&dc&qid=1613477960&rnid=12598141031&ref=sr_nr_p_n_feature_thirteen_browse-bin_16']/div\").click()"
   ]
  },
  {
   "cell_type": "code",
   "execution_count": 277,
   "metadata": {},
   "outputs": [],
   "source": [
    "driver.find_element_by_xpath(\"//a[@href='/s?k=Laptop&i=computers&rh=n%3A1375424031%2Cp_n_feature_thirteen_browse-bin%3A12598163031%7C16757432031&dc&qid=1613478003&rnid=12598141031&ref=sr_nr_p_n_feature_thirteen_browse-bin_17']/div\").click()"
   ]
  },
  {
   "cell_type": "code",
   "execution_count": 278,
   "metadata": {},
   "outputs": [],
   "source": [
    "url=\"https://www.amazon.in/s?k=Laptop&i=computers&rh=n%3A1375424031%2Cp_n_feature_thirteen_browse-bin%3A12598163031%7C16757432031&dc&qid=1613478003&rnid=12598141031&ref=sr_nr_p_n_feature_thirteen_browse-bin_17\""
   ]
  },
  {
   "cell_type": "code",
   "execution_count": 279,
   "metadata": {},
   "outputs": [],
   "source": [
    "driver.get(url)"
   ]
  },
  {
   "cell_type": "code",
   "execution_count": 280,
   "metadata": {},
   "outputs": [],
   "source": [
    "Title=[]\n",
    "Ratings=[]\n",
    "Price=[]"
   ]
  },
  {
   "cell_type": "code",
   "execution_count": 281,
   "metadata": {},
   "outputs": [
    {
     "data": {
      "text/plain": [
       "[<selenium.webdriver.remote.webelement.WebElement (session=\"3ca6b81d0b5a7e3b6fbb091d04e530db\", element=\"6b7bd118-558a-4789-9355-b64548e3a59e\")>,\n",
       " <selenium.webdriver.remote.webelement.WebElement (session=\"3ca6b81d0b5a7e3b6fbb091d04e530db\", element=\"d1cc107b-2efb-4df0-a109-f4d3680eab80\")>,\n",
       " <selenium.webdriver.remote.webelement.WebElement (session=\"3ca6b81d0b5a7e3b6fbb091d04e530db\", element=\"c5b52455-6665-4b55-959d-e2367a219b4d\")>,\n",
       " <selenium.webdriver.remote.webelement.WebElement (session=\"3ca6b81d0b5a7e3b6fbb091d04e530db\", element=\"0e879430-b8e5-4174-a17a-d2552a8028e6\")>,\n",
       " <selenium.webdriver.remote.webelement.WebElement (session=\"3ca6b81d0b5a7e3b6fbb091d04e530db\", element=\"9fa4fe09-e626-4258-b888-05d0854c867f\")>,\n",
       " <selenium.webdriver.remote.webelement.WebElement (session=\"3ca6b81d0b5a7e3b6fbb091d04e530db\", element=\"e7ffc85a-87cf-43ff-8e9e-a090bf2e5ea9\")>,\n",
       " <selenium.webdriver.remote.webelement.WebElement (session=\"3ca6b81d0b5a7e3b6fbb091d04e530db\", element=\"c49f2ec0-7472-4a42-81cd-1c1bda0a1796\")>,\n",
       " <selenium.webdriver.remote.webelement.WebElement (session=\"3ca6b81d0b5a7e3b6fbb091d04e530db\", element=\"5a869d3e-7c51-4a77-9884-62cd01c253d1\")>,\n",
       " <selenium.webdriver.remote.webelement.WebElement (session=\"3ca6b81d0b5a7e3b6fbb091d04e530db\", element=\"226f2c64-7aa9-4727-8f5a-35b1242b89f7\")>,\n",
       " <selenium.webdriver.remote.webelement.WebElement (session=\"3ca6b81d0b5a7e3b6fbb091d04e530db\", element=\"9cc6a88c-dc8d-44a0-8ed2-6bad12063136\")>]"
      ]
     },
     "execution_count": 281,
     "metadata": {},
     "output_type": "execute_result"
    }
   ],
   "source": [
    "t = driver.find_elements_by_xpath(\"//a[@class='a-link-normal a-text-normal']\")\n",
    "t[0:10]"
   ]
  },
  {
   "cell_type": "code",
   "execution_count": 282,
   "metadata": {},
   "outputs": [
    {
     "data": {
      "text/plain": [
       "['Mi Notebook Horizon Edition 14 Intel Core i5-10210U 10th Gen Thin and Light Laptop(8GB/512GB SSD/Windows 10/Nvidia MX350 2GB Graphics/Grey/1.35Kg), XMA1904-AR+Webcam',\n",
       " 'Dell Alienware m15(R3) 15.6-inch FHD Gaming Laptop (10th Gen Core i7-10750H/16GB/512GB SSD/Windows 10 Home & MS Office/6GB NVIDIA GTX 1660 Ti Graphics), Lunar Light',\n",
       " 'Lenovo Yoga S740 Intel Core i7 10th Gen 14 inch UHD Ultra Thin and Light Laptop (16GB/1TB SSD/Windows/Office/NVIDIA MX250 2GB/Iron Grey/1.4Kg), 81RS00B0IN',\n",
       " 'HP Pavilion x360 Core i7 8th Gen 14-inch Touchscreen 2-in-1 FHD Thin and Light Laptop (16GB/512GB SSD/Windows 10/MS Office/2GB Graphics/Mineral Silver/1.59 kg), 14- dh0045TX and Bag Combo',\n",
       " 'HP 14 Thin & Light 14-inch FHD Laptop (11th Gen Intel i7-1165G7/8GB/512GB SSD/Windows 10/MS Office 2019/Alexa Built-in/Pale Gold/1.47 kg), 14s-dr2007TU',\n",
       " 'HP Pavilion x360 Touchscreen 2-in-1 FHD 14-inch Laptop (10th Gen Core i7-10510U/8GB/512GB SSD/Windows 10 Home/MS Office/Mineral Silver/1.58 kg), 14-dh1180tu',\n",
       " 'Lenovo IdeaPad Gaming 3i 10th Gen Intel Core i7 15.6-inch FHD IPS Gaming Laptop (8GB/1TB HDD + 256 GB SSD/Windows 10/NVIDIA GTX 1650 4GB GDDR6/with M100 RGB Gaming Mouse/Onyx Black/2.2Kg), 81Y400VAIN',\n",
       " 'ASUS ROG Zephyrus M15 (2020), 15.6\" 4K UHD, Intel Core i7-10750H 10th Gen, RTX 2060 GDDR6 6GB Graphics, Gaming Laptop (16GB RAM/1TB NVMe SSD/Windows 10/Prism Black/1.9 Kg), GU502LV-HC140T',\n",
       " 'Acer Nitro 5 Intel i7 - 9th Gen 17.3-inch Display 1920 x 1080 Thin and Light Laptop (8GB Ram/1TB HDD/Window 10 Home/4GB NVIDIA GeForce GTX 1650 Graphics/Obsidian Black/ 2.7 kgs),AN517-51',\n",
       " 'ASUS VivoBook Ultra 15 (2020) Intel Core i7-1165G7 11th Gen 15.6-inch FHD Thin and Light Laptop (8GB/512GB NVMe SSD/Integrated Graphics/Windows 10/MS Office 2019/Dreamy White/1.8 kg), X513EA-EJ733TS']"
      ]
     },
     "execution_count": 282,
     "metadata": {},
     "output_type": "execute_result"
    }
   ],
   "source": [
    "for i in t:\n",
    "    title=i.text\n",
    "    Title.append(title)\n",
    "Title[0:10]"
   ]
  },
  {
   "cell_type": "code",
   "execution_count": 283,
   "metadata": {},
   "outputs": [
    {
     "data": {
      "text/plain": [
       "[<selenium.webdriver.remote.webelement.WebElement (session=\"3ca6b81d0b5a7e3b6fbb091d04e530db\", element=\"040f0304-660c-472b-b862-0c06ca5d5509\")>,\n",
       " <selenium.webdriver.remote.webelement.WebElement (session=\"3ca6b81d0b5a7e3b6fbb091d04e530db\", element=\"0ed20a52-01c3-4641-86b2-e3a3d7520e38\")>,\n",
       " <selenium.webdriver.remote.webelement.WebElement (session=\"3ca6b81d0b5a7e3b6fbb091d04e530db\", element=\"86ddea5c-fdfe-46ac-9bfb-d883d67dceb4\")>,\n",
       " <selenium.webdriver.remote.webelement.WebElement (session=\"3ca6b81d0b5a7e3b6fbb091d04e530db\", element=\"03c20a5e-b9c5-4505-8462-3d1c55c06836\")>,\n",
       " <selenium.webdriver.remote.webelement.WebElement (session=\"3ca6b81d0b5a7e3b6fbb091d04e530db\", element=\"a10f8b54-ee63-45ae-894f-fbd328bde0b6\")>,\n",
       " <selenium.webdriver.remote.webelement.WebElement (session=\"3ca6b81d0b5a7e3b6fbb091d04e530db\", element=\"c6500306-19bc-4749-ad72-ddcf651cc39f\")>,\n",
       " <selenium.webdriver.remote.webelement.WebElement (session=\"3ca6b81d0b5a7e3b6fbb091d04e530db\", element=\"0885690a-c18a-4645-a995-0cc821597095\")>,\n",
       " <selenium.webdriver.remote.webelement.WebElement (session=\"3ca6b81d0b5a7e3b6fbb091d04e530db\", element=\"c30b461e-a255-4d33-bf45-d7b8337310ca\")>,\n",
       " <selenium.webdriver.remote.webelement.WebElement (session=\"3ca6b81d0b5a7e3b6fbb091d04e530db\", element=\"0365168c-c835-48ee-af11-a3a1ff99d8e6\")>,\n",
       " <selenium.webdriver.remote.webelement.WebElement (session=\"3ca6b81d0b5a7e3b6fbb091d04e530db\", element=\"9677182b-8a10-44b6-a71b-78c824503205\")>]"
      ]
     },
     "execution_count": 283,
     "metadata": {},
     "output_type": "execute_result"
    }
   ],
   "source": [
    "r = driver.find_elements_by_xpath(\"//span[@class='a-size-base']\")\n",
    "r[0:10]"
   ]
  },
  {
   "cell_type": "code",
   "execution_count": 284,
   "metadata": {},
   "outputs": [
    {
     "data": {
      "text/plain": [
       "['407', '14', '9', '177', '1', '62', '8', '3', '49', '79']"
      ]
     },
     "execution_count": 284,
     "metadata": {},
     "output_type": "execute_result"
    }
   ],
   "source": [
    "for i in r:\n",
    "    title=i.text\n",
    "    Ratings.append(title)\n",
    "Ratings[0:10]"
   ]
  },
  {
   "cell_type": "code",
   "execution_count": 285,
   "metadata": {},
   "outputs": [
    {
     "data": {
      "text/plain": [
       "[<selenium.webdriver.remote.webelement.WebElement (session=\"3ca6b81d0b5a7e3b6fbb091d04e530db\", element=\"fcba994a-712b-492f-aaaf-28dbb8410032\")>,\n",
       " <selenium.webdriver.remote.webelement.WebElement (session=\"3ca6b81d0b5a7e3b6fbb091d04e530db\", element=\"5e2ab0de-fc03-4bea-85ad-51c752f3187d\")>,\n",
       " <selenium.webdriver.remote.webelement.WebElement (session=\"3ca6b81d0b5a7e3b6fbb091d04e530db\", element=\"8da17588-e2d5-4eb3-bb90-1e9a189f137a\")>,\n",
       " <selenium.webdriver.remote.webelement.WebElement (session=\"3ca6b81d0b5a7e3b6fbb091d04e530db\", element=\"351d8c2b-c75a-41c7-8654-06d2d78e4c72\")>,\n",
       " <selenium.webdriver.remote.webelement.WebElement (session=\"3ca6b81d0b5a7e3b6fbb091d04e530db\", element=\"eae0fbce-05d8-4651-88eb-9fd3a3d546b5\")>,\n",
       " <selenium.webdriver.remote.webelement.WebElement (session=\"3ca6b81d0b5a7e3b6fbb091d04e530db\", element=\"09e8f0df-b36d-4ab7-a9e3-9c3db91deb19\")>,\n",
       " <selenium.webdriver.remote.webelement.WebElement (session=\"3ca6b81d0b5a7e3b6fbb091d04e530db\", element=\"d4d7d30e-65e7-4d96-a054-23ebc6ca8c92\")>,\n",
       " <selenium.webdriver.remote.webelement.WebElement (session=\"3ca6b81d0b5a7e3b6fbb091d04e530db\", element=\"61201c17-9bd0-43d6-837d-1e91ca545c84\")>,\n",
       " <selenium.webdriver.remote.webelement.WebElement (session=\"3ca6b81d0b5a7e3b6fbb091d04e530db\", element=\"700c4796-0560-408e-8bb4-8b6d2997b9c2\")>,\n",
       " <selenium.webdriver.remote.webelement.WebElement (session=\"3ca6b81d0b5a7e3b6fbb091d04e530db\", element=\"1250ef65-e3d6-4482-8143-558e38793509\")>]"
      ]
     },
     "execution_count": 285,
     "metadata": {},
     "output_type": "execute_result"
    }
   ],
   "source": [
    "p = driver.find_elements_by_xpath(\"//span[@class='a-price-whole']\")\n",
    "p[0:10]"
   ]
  },
  {
   "cell_type": "code",
   "execution_count": 286,
   "metadata": {},
   "outputs": [
    {
     "data": {
      "text/plain": [
       "['50,999',\n",
       " '1,97,200',\n",
       " '1,09,990',\n",
       " '87,029',\n",
       " '75,482',\n",
       " '74,990',\n",
       " '77,990',\n",
       " '1,49,099',\n",
       " '74,980',\n",
       " '72,815']"
      ]
     },
     "execution_count": 286,
     "metadata": {},
     "output_type": "execute_result"
    }
   ],
   "source": [
    "for i in p:\n",
    "    title=i.text\n",
    "    Price.append(title)\n",
    "Price[0:10]"
   ]
  },
  {
   "cell_type": "code",
   "execution_count": 287,
   "metadata": {},
   "outputs": [
    {
     "data": {
      "text/html": [
       "<div>\n",
       "<style scoped>\n",
       "    .dataframe tbody tr th:only-of-type {\n",
       "        vertical-align: middle;\n",
       "    }\n",
       "\n",
       "    .dataframe tbody tr th {\n",
       "        vertical-align: top;\n",
       "    }\n",
       "\n",
       "    .dataframe thead th {\n",
       "        text-align: right;\n",
       "    }\n",
       "</style>\n",
       "<table border=\"1\" class=\"dataframe\">\n",
       "  <thead>\n",
       "    <tr style=\"text-align: right;\">\n",
       "      <th></th>\n",
       "      <th>Title</th>\n",
       "      <th>Ratings</th>\n",
       "      <th>Price</th>\n",
       "    </tr>\n",
       "  </thead>\n",
       "  <tbody>\n",
       "    <tr>\n",
       "      <th>0</th>\n",
       "      <td>Mi Notebook Horizon Edition 14 Intel Core i5-1...</td>\n",
       "      <td>407</td>\n",
       "      <td>50,999</td>\n",
       "    </tr>\n",
       "    <tr>\n",
       "      <th>1</th>\n",
       "      <td>Dell Alienware m15(R3) 15.6-inch FHD Gaming La...</td>\n",
       "      <td>14</td>\n",
       "      <td>1,97,200</td>\n",
       "    </tr>\n",
       "    <tr>\n",
       "      <th>2</th>\n",
       "      <td>Lenovo Yoga S740 Intel Core i7 10th Gen 14 inc...</td>\n",
       "      <td>9</td>\n",
       "      <td>1,09,990</td>\n",
       "    </tr>\n",
       "    <tr>\n",
       "      <th>3</th>\n",
       "      <td>HP Pavilion x360 Core i7 8th Gen 14-inch Touch...</td>\n",
       "      <td>177</td>\n",
       "      <td>87,029</td>\n",
       "    </tr>\n",
       "    <tr>\n",
       "      <th>4</th>\n",
       "      <td>HP 14 Thin &amp; Light 14-inch FHD Laptop (11th Ge...</td>\n",
       "      <td>1</td>\n",
       "      <td>75,482</td>\n",
       "    </tr>\n",
       "    <tr>\n",
       "      <th>5</th>\n",
       "      <td>HP Pavilion x360 Touchscreen 2-in-1 FHD 14-inc...</td>\n",
       "      <td>62</td>\n",
       "      <td>74,990</td>\n",
       "    </tr>\n",
       "    <tr>\n",
       "      <th>6</th>\n",
       "      <td>Lenovo IdeaPad Gaming 3i 10th Gen Intel Core i...</td>\n",
       "      <td>8</td>\n",
       "      <td>77,990</td>\n",
       "    </tr>\n",
       "    <tr>\n",
       "      <th>7</th>\n",
       "      <td>ASUS ROG Zephyrus M15 (2020), 15.6\" 4K UHD, In...</td>\n",
       "      <td>3</td>\n",
       "      <td>1,49,099</td>\n",
       "    </tr>\n",
       "    <tr>\n",
       "      <th>8</th>\n",
       "      <td>Acer Nitro 5 Intel i7 - 9th Gen 17.3-inch Disp...</td>\n",
       "      <td>49</td>\n",
       "      <td>74,980</td>\n",
       "    </tr>\n",
       "    <tr>\n",
       "      <th>9</th>\n",
       "      <td>ASUS VivoBook Ultra 15 (2020) Intel Core i7-11...</td>\n",
       "      <td>79</td>\n",
       "      <td>72,815</td>\n",
       "    </tr>\n",
       "  </tbody>\n",
       "</table>\n",
       "</div>"
      ],
      "text/plain": [
       "                                               Title Ratings     Price\n",
       "0  Mi Notebook Horizon Edition 14 Intel Core i5-1...     407    50,999\n",
       "1  Dell Alienware m15(R3) 15.6-inch FHD Gaming La...      14  1,97,200\n",
       "2  Lenovo Yoga S740 Intel Core i7 10th Gen 14 inc...       9  1,09,990\n",
       "3  HP Pavilion x360 Core i7 8th Gen 14-inch Touch...     177    87,029\n",
       "4  HP 14 Thin & Light 14-inch FHD Laptop (11th Ge...       1    75,482\n",
       "5  HP Pavilion x360 Touchscreen 2-in-1 FHD 14-inc...      62    74,990\n",
       "6  Lenovo IdeaPad Gaming 3i 10th Gen Intel Core i...       8    77,990\n",
       "7  ASUS ROG Zephyrus M15 (2020), 15.6\" 4K UHD, In...       3  1,49,099\n",
       "8  Acer Nitro 5 Intel i7 - 9th Gen 17.3-inch Disp...      49    74,980\n",
       "9  ASUS VivoBook Ultra 15 (2020) Intel Core i7-11...      79    72,815"
      ]
     },
     "execution_count": 287,
     "metadata": {},
     "output_type": "execute_result"
    }
   ],
   "source": [
    "import pandas as pd\n",
    "table=pd.DataFrame({})\n",
    "\n",
    "table['Title']=Title[:10]\n",
    "table['Ratings']=Ratings[:10]\n",
    "table['Price']=Price[0:10]\n",
    "\n",
    "table"
   ]
  },
  {
   "cell_type": "code",
   "execution_count": null,
   "metadata": {},
   "outputs": [],
   "source": []
  }
 ],
 "metadata": {
  "kernelspec": {
   "display_name": "Python 3",
   "language": "python",
   "name": "python3"
  },
  "language_info": {
   "codemirror_mode": {
    "name": "ipython",
    "version": 3
   },
   "file_extension": ".py",
   "mimetype": "text/x-python",
   "name": "python",
   "nbconvert_exporter": "python",
   "pygments_lexer": "ipython3",
   "version": "3.9.0"
  }
 },
 "nbformat": 4,
 "nbformat_minor": 4
}
